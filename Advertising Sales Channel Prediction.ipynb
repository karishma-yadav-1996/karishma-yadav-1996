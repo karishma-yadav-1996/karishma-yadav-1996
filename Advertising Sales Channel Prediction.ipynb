{
 "cells": [
  {
   "cell_type": "code",
   "execution_count": 1,
   "metadata": {},
   "outputs": [],
   "source": [
    "import pandas as pd\n",
    "import numpy as np\n",
    "import matplotlib.pyplot as plt\n",
    "import seaborn as sns\n",
    "import warnings\n",
    "warnings.filterwarnings('ignore')"
   ]
  },
  {
   "cell_type": "code",
   "execution_count": 2,
   "metadata": {},
   "outputs": [
    {
     "data": {
      "text/html": [
       "<div>\n",
       "<style scoped>\n",
       "    .dataframe tbody tr th:only-of-type {\n",
       "        vertical-align: middle;\n",
       "    }\n",
       "\n",
       "    .dataframe tbody tr th {\n",
       "        vertical-align: top;\n",
       "    }\n",
       "\n",
       "    .dataframe thead th {\n",
       "        text-align: right;\n",
       "    }\n",
       "</style>\n",
       "<table border=\"1\" class=\"dataframe\">\n",
       "  <thead>\n",
       "    <tr style=\"text-align: right;\">\n",
       "      <th></th>\n",
       "      <th>TV</th>\n",
       "      <th>radio</th>\n",
       "      <th>newspaper</th>\n",
       "      <th>sales</th>\n",
       "    </tr>\n",
       "  </thead>\n",
       "  <tbody>\n",
       "    <tr>\n",
       "      <th>1</th>\n",
       "      <td>230.1</td>\n",
       "      <td>37.8</td>\n",
       "      <td>69.2</td>\n",
       "      <td>22.1</td>\n",
       "    </tr>\n",
       "    <tr>\n",
       "      <th>2</th>\n",
       "      <td>44.5</td>\n",
       "      <td>39.3</td>\n",
       "      <td>45.1</td>\n",
       "      <td>10.4</td>\n",
       "    </tr>\n",
       "    <tr>\n",
       "      <th>3</th>\n",
       "      <td>17.2</td>\n",
       "      <td>45.9</td>\n",
       "      <td>69.3</td>\n",
       "      <td>9.3</td>\n",
       "    </tr>\n",
       "    <tr>\n",
       "      <th>4</th>\n",
       "      <td>151.5</td>\n",
       "      <td>41.3</td>\n",
       "      <td>58.5</td>\n",
       "      <td>18.5</td>\n",
       "    </tr>\n",
       "    <tr>\n",
       "      <th>5</th>\n",
       "      <td>180.8</td>\n",
       "      <td>10.8</td>\n",
       "      <td>58.4</td>\n",
       "      <td>12.9</td>\n",
       "    </tr>\n",
       "    <tr>\n",
       "      <th>...</th>\n",
       "      <td>...</td>\n",
       "      <td>...</td>\n",
       "      <td>...</td>\n",
       "      <td>...</td>\n",
       "    </tr>\n",
       "    <tr>\n",
       "      <th>196</th>\n",
       "      <td>38.2</td>\n",
       "      <td>3.7</td>\n",
       "      <td>13.8</td>\n",
       "      <td>7.6</td>\n",
       "    </tr>\n",
       "    <tr>\n",
       "      <th>197</th>\n",
       "      <td>94.2</td>\n",
       "      <td>4.9</td>\n",
       "      <td>8.1</td>\n",
       "      <td>9.7</td>\n",
       "    </tr>\n",
       "    <tr>\n",
       "      <th>198</th>\n",
       "      <td>177.0</td>\n",
       "      <td>9.3</td>\n",
       "      <td>6.4</td>\n",
       "      <td>12.8</td>\n",
       "    </tr>\n",
       "    <tr>\n",
       "      <th>199</th>\n",
       "      <td>283.6</td>\n",
       "      <td>42.0</td>\n",
       "      <td>66.2</td>\n",
       "      <td>25.5</td>\n",
       "    </tr>\n",
       "    <tr>\n",
       "      <th>200</th>\n",
       "      <td>232.1</td>\n",
       "      <td>8.6</td>\n",
       "      <td>8.7</td>\n",
       "      <td>13.4</td>\n",
       "    </tr>\n",
       "  </tbody>\n",
       "</table>\n",
       "<p>200 rows × 4 columns</p>\n",
       "</div>"
      ],
      "text/plain": [
       "        TV  radio  newspaper  sales\n",
       "1    230.1   37.8       69.2   22.1\n",
       "2     44.5   39.3       45.1   10.4\n",
       "3     17.2   45.9       69.3    9.3\n",
       "4    151.5   41.3       58.5   18.5\n",
       "5    180.8   10.8       58.4   12.9\n",
       "..     ...    ...        ...    ...\n",
       "196   38.2    3.7       13.8    7.6\n",
       "197   94.2    4.9        8.1    9.7\n",
       "198  177.0    9.3        6.4   12.8\n",
       "199  283.6   42.0       66.2   25.5\n",
       "200  232.1    8.6        8.7   13.4\n",
       "\n",
       "[200 rows x 4 columns]"
      ]
     },
     "execution_count": 2,
     "metadata": {},
     "output_type": "execute_result"
    }
   ],
   "source": [
    "df=pd.read_csv('Advertising.csv')\n",
    "df"
   ]
  },
  {
   "cell_type": "code",
   "execution_count": 3,
   "metadata": {},
   "outputs": [
    {
     "data": {
      "text/plain": [
       "(200, 4)"
      ]
     },
     "execution_count": 3,
     "metadata": {},
     "output_type": "execute_result"
    }
   ],
   "source": [
    "df.shape"
   ]
  },
  {
   "cell_type": "markdown",
   "metadata": {},
   "source": [
    "we have 200 rows and 4 columns in this dataset."
   ]
  },
  {
   "cell_type": "code",
   "execution_count": 4,
   "metadata": {},
   "outputs": [
    {
     "name": "stdout",
     "output_type": "stream",
     "text": [
      "<class 'pandas.core.frame.DataFrame'>\n",
      "Int64Index: 200 entries, 1 to 200\n",
      "Data columns (total 4 columns):\n",
      " #   Column     Non-Null Count  Dtype  \n",
      "---  ------     --------------  -----  \n",
      " 0   TV         200 non-null    float64\n",
      " 1   radio      200 non-null    float64\n",
      " 2   newspaper  200 non-null    float64\n",
      " 3   sales      200 non-null    float64\n",
      "dtypes: float64(4)\n",
      "memory usage: 7.8 KB\n"
     ]
    }
   ],
   "source": [
    "df.info()"
   ]
  },
  {
   "cell_type": "markdown",
   "metadata": {},
   "source": [
    "all features are float in this dataset."
   ]
  },
  {
   "cell_type": "code",
   "execution_count": 5,
   "metadata": {},
   "outputs": [
    {
     "data": {
      "text/plain": [
       "Index(['TV', 'radio', 'newspaper', 'sales'], dtype='object')"
      ]
     },
     "execution_count": 5,
     "metadata": {},
     "output_type": "execute_result"
    }
   ],
   "source": [
    "df.columns"
   ]
  },
  {
   "cell_type": "code",
   "execution_count": 6,
   "metadata": {},
   "outputs": [
    {
     "data": {
      "text/plain": [
       "TV           float64\n",
       "radio        float64\n",
       "newspaper    float64\n",
       "sales        float64\n",
       "dtype: object"
      ]
     },
     "execution_count": 6,
     "metadata": {},
     "output_type": "execute_result"
    }
   ],
   "source": [
    "df.dtypes"
   ]
  },
  {
   "cell_type": "code",
   "execution_count": 7,
   "metadata": {},
   "outputs": [
    {
     "data": {
      "text/plain": [
       "TV           0\n",
       "radio        0\n",
       "newspaper    0\n",
       "sales        0\n",
       "dtype: int64"
      ]
     },
     "execution_count": 7,
     "metadata": {},
     "output_type": "execute_result"
    }
   ],
   "source": [
    "df.isnull().sum()"
   ]
  },
  {
   "cell_type": "markdown",
   "metadata": {},
   "source": [
    "There is no null values in this dataset."
   ]
  },
  {
   "cell_type": "code",
   "execution_count": 8,
   "metadata": {},
   "outputs": [
    {
     "data": {
      "text/plain": [
       "array([22.1, 10.4,  9.3, 18.5, 12.9,  7.2, 11.8, 13.2,  4.8, 10.6,  8.6,\n",
       "       17.4,  9.2,  9.7, 19. , 22.4, 12.5, 24.4, 11.3, 14.6, 18. ,  5.6,\n",
       "       15.5, 12. , 15. , 15.9, 18.9, 10.5, 21.4, 11.9,  9.6,  9.5, 12.8,\n",
       "       25.4, 14.7, 10.1, 21.5, 16.6, 17.1, 20.7,  8.5, 14.9, 23.2, 14.8,\n",
       "       11.4, 10.7, 22.6, 21.2, 20.2, 23.7,  5.5, 23.8, 18.4,  8.1, 24.2,\n",
       "       15.7, 14. , 13.4, 22.3, 18.3, 12.4,  8.8, 11. , 17. ,  8.7,  6.9,\n",
       "       14.2,  5.3, 12.3, 13.6, 21.7, 15.2, 16. , 16.7, 11.2,  7.3, 19.4,\n",
       "       22.2, 11.5, 16.9, 11.7, 17.2, 19.2, 19.8, 21.8, 14.1, 12.6, 12.2,\n",
       "        9.4,  6.6,  7. , 11.6, 19.7, 24.7,  1.6, 12.7,  5.7, 19.6, 10.8,\n",
       "       20.8, 10.9, 20.1, 10.3, 16.1, 15.6,  3.2, 15.3, 14.4, 13.3,  8. ,\n",
       "        8.4, 14.5,  7.6, 27. , 26.2, 17.6, 17.3,  6.7,  9.9,  5.9, 25.5])"
      ]
     },
     "execution_count": 8,
     "metadata": {},
     "output_type": "execute_result"
    }
   ],
   "source": [
    "df[\"sales\"].unique()"
   ]
  },
  {
   "cell_type": "markdown",
   "metadata": {},
   "source": [
    "sales ranges from 3.2 to 25.5."
   ]
  },
  {
   "cell_type": "code",
   "execution_count": 9,
   "metadata": {},
   "outputs": [
    {
     "data": {
      "text/plain": [
       "9.7     5\n",
       "12.9    4\n",
       "11.7    4\n",
       "15.9    4\n",
       "25.4    3\n",
       "       ..\n",
       "15.7    1\n",
       "14.2    1\n",
       "11.2    1\n",
       "19.4    1\n",
       "18.5    1\n",
       "Name: sales, Length: 121, dtype: int64"
      ]
     },
     "execution_count": 9,
     "metadata": {},
     "output_type": "execute_result"
    }
   ],
   "source": [
    "df.sales.value_counts()"
   ]
  },
  {
   "cell_type": "code",
   "execution_count": 10,
   "metadata": {},
   "outputs": [
    {
     "data": {
      "text/html": [
       "<div>\n",
       "<style scoped>\n",
       "    .dataframe tbody tr th:only-of-type {\n",
       "        vertical-align: middle;\n",
       "    }\n",
       "\n",
       "    .dataframe tbody tr th {\n",
       "        vertical-align: top;\n",
       "    }\n",
       "\n",
       "    .dataframe thead th {\n",
       "        text-align: right;\n",
       "    }\n",
       "</style>\n",
       "<table border=\"1\" class=\"dataframe\">\n",
       "  <thead>\n",
       "    <tr style=\"text-align: right;\">\n",
       "      <th></th>\n",
       "      <th>TV</th>\n",
       "      <th>radio</th>\n",
       "      <th>newspaper</th>\n",
       "      <th>sales</th>\n",
       "    </tr>\n",
       "  </thead>\n",
       "  <tbody>\n",
       "    <tr>\n",
       "      <th>count</th>\n",
       "      <td>200.000000</td>\n",
       "      <td>200.000000</td>\n",
       "      <td>200.000000</td>\n",
       "      <td>200.000000</td>\n",
       "    </tr>\n",
       "    <tr>\n",
       "      <th>mean</th>\n",
       "      <td>147.042500</td>\n",
       "      <td>23.264000</td>\n",
       "      <td>30.554000</td>\n",
       "      <td>14.022500</td>\n",
       "    </tr>\n",
       "    <tr>\n",
       "      <th>std</th>\n",
       "      <td>85.854236</td>\n",
       "      <td>14.846809</td>\n",
       "      <td>21.778621</td>\n",
       "      <td>5.217457</td>\n",
       "    </tr>\n",
       "    <tr>\n",
       "      <th>min</th>\n",
       "      <td>0.700000</td>\n",
       "      <td>0.000000</td>\n",
       "      <td>0.300000</td>\n",
       "      <td>1.600000</td>\n",
       "    </tr>\n",
       "    <tr>\n",
       "      <th>25%</th>\n",
       "      <td>74.375000</td>\n",
       "      <td>9.975000</td>\n",
       "      <td>12.750000</td>\n",
       "      <td>10.375000</td>\n",
       "    </tr>\n",
       "    <tr>\n",
       "      <th>50%</th>\n",
       "      <td>149.750000</td>\n",
       "      <td>22.900000</td>\n",
       "      <td>25.750000</td>\n",
       "      <td>12.900000</td>\n",
       "    </tr>\n",
       "    <tr>\n",
       "      <th>75%</th>\n",
       "      <td>218.825000</td>\n",
       "      <td>36.525000</td>\n",
       "      <td>45.100000</td>\n",
       "      <td>17.400000</td>\n",
       "    </tr>\n",
       "    <tr>\n",
       "      <th>max</th>\n",
       "      <td>296.400000</td>\n",
       "      <td>49.600000</td>\n",
       "      <td>114.000000</td>\n",
       "      <td>27.000000</td>\n",
       "    </tr>\n",
       "  </tbody>\n",
       "</table>\n",
       "</div>"
      ],
      "text/plain": [
       "               TV       radio   newspaper       sales\n",
       "count  200.000000  200.000000  200.000000  200.000000\n",
       "mean   147.042500   23.264000   30.554000   14.022500\n",
       "std     85.854236   14.846809   21.778621    5.217457\n",
       "min      0.700000    0.000000    0.300000    1.600000\n",
       "25%     74.375000    9.975000   12.750000   10.375000\n",
       "50%    149.750000   22.900000   25.750000   12.900000\n",
       "75%    218.825000   36.525000   45.100000   17.400000\n",
       "max    296.400000   49.600000  114.000000   27.000000"
      ]
     },
     "execution_count": 10,
     "metadata": {},
     "output_type": "execute_result"
    }
   ],
   "source": [
    "df.describe()"
   ]
  },
  {
   "cell_type": "code",
   "execution_count": 11,
   "metadata": {},
   "outputs": [
    {
     "data": {
      "text/html": [
       "<div>\n",
       "<style scoped>\n",
       "    .dataframe tbody tr th:only-of-type {\n",
       "        vertical-align: middle;\n",
       "    }\n",
       "\n",
       "    .dataframe tbody tr th {\n",
       "        vertical-align: top;\n",
       "    }\n",
       "\n",
       "    .dataframe thead th {\n",
       "        text-align: right;\n",
       "    }\n",
       "</style>\n",
       "<table border=\"1\" class=\"dataframe\">\n",
       "  <thead>\n",
       "    <tr style=\"text-align: right;\">\n",
       "      <th></th>\n",
       "      <th>TV</th>\n",
       "      <th>radio</th>\n",
       "      <th>newspaper</th>\n",
       "      <th>sales</th>\n",
       "    </tr>\n",
       "  </thead>\n",
       "  <tbody>\n",
       "    <tr>\n",
       "      <th>1</th>\n",
       "      <td>False</td>\n",
       "      <td>False</td>\n",
       "      <td>False</td>\n",
       "      <td>False</td>\n",
       "    </tr>\n",
       "    <tr>\n",
       "      <th>2</th>\n",
       "      <td>False</td>\n",
       "      <td>False</td>\n",
       "      <td>False</td>\n",
       "      <td>False</td>\n",
       "    </tr>\n",
       "    <tr>\n",
       "      <th>3</th>\n",
       "      <td>False</td>\n",
       "      <td>False</td>\n",
       "      <td>False</td>\n",
       "      <td>False</td>\n",
       "    </tr>\n",
       "    <tr>\n",
       "      <th>4</th>\n",
       "      <td>False</td>\n",
       "      <td>False</td>\n",
       "      <td>False</td>\n",
       "      <td>False</td>\n",
       "    </tr>\n",
       "    <tr>\n",
       "      <th>5</th>\n",
       "      <td>False</td>\n",
       "      <td>False</td>\n",
       "      <td>False</td>\n",
       "      <td>False</td>\n",
       "    </tr>\n",
       "    <tr>\n",
       "      <th>...</th>\n",
       "      <td>...</td>\n",
       "      <td>...</td>\n",
       "      <td>...</td>\n",
       "      <td>...</td>\n",
       "    </tr>\n",
       "    <tr>\n",
       "      <th>196</th>\n",
       "      <td>False</td>\n",
       "      <td>False</td>\n",
       "      <td>False</td>\n",
       "      <td>False</td>\n",
       "    </tr>\n",
       "    <tr>\n",
       "      <th>197</th>\n",
       "      <td>False</td>\n",
       "      <td>False</td>\n",
       "      <td>False</td>\n",
       "      <td>False</td>\n",
       "    </tr>\n",
       "    <tr>\n",
       "      <th>198</th>\n",
       "      <td>False</td>\n",
       "      <td>False</td>\n",
       "      <td>False</td>\n",
       "      <td>False</td>\n",
       "    </tr>\n",
       "    <tr>\n",
       "      <th>199</th>\n",
       "      <td>False</td>\n",
       "      <td>False</td>\n",
       "      <td>False</td>\n",
       "      <td>False</td>\n",
       "    </tr>\n",
       "    <tr>\n",
       "      <th>200</th>\n",
       "      <td>False</td>\n",
       "      <td>False</td>\n",
       "      <td>False</td>\n",
       "      <td>False</td>\n",
       "    </tr>\n",
       "  </tbody>\n",
       "</table>\n",
       "<p>200 rows × 4 columns</p>\n",
       "</div>"
      ],
      "text/plain": [
       "        TV  radio  newspaper  sales\n",
       "1    False  False      False  False\n",
       "2    False  False      False  False\n",
       "3    False  False      False  False\n",
       "4    False  False      False  False\n",
       "5    False  False      False  False\n",
       "..     ...    ...        ...    ...\n",
       "196  False  False      False  False\n",
       "197  False  False      False  False\n",
       "198  False  False      False  False\n",
       "199  False  False      False  False\n",
       "200  False  False      False  False\n",
       "\n",
       "[200 rows x 4 columns]"
      ]
     },
     "execution_count": 11,
     "metadata": {},
     "output_type": "execute_result"
    }
   ],
   "source": [
    "df.isna()"
   ]
  },
  {
   "cell_type": "code",
   "execution_count": 12,
   "metadata": {},
   "outputs": [
    {
     "data": {
      "image/png": "[encoded data removed]",
      "text/plain": [
       "<Figure size 1152x432 with 2 Axes>"
      ]
     },
     "metadata": {
      "needs_background": "light"
     },
     "output_type": "display_data"
    }
   ],
   "source": [
    "plt.figure(figsize=[16,6])\n",
    "sns.heatmap(df.isnull())\n",
    "plt.title(\"Null Values\")\n",
    "plt.show()"
   ]
  },
  {
   "cell_type": "markdown",
   "metadata": {},
   "source": [
    "No missing values in this dataset."
   ]
  },
  {
   "cell_type": "markdown",
   "metadata": {},
   "source": [
    "# EDA"
   ]
  },
  {
   "cell_type": "markdown",
   "metadata": {},
   "source": [
    "univariate analysis"
   ]
  },
  {
   "cell_type": "code",
   "execution_count": 13,
   "metadata": {},
   "outputs": [
    {
     "data": {
      "image/png": "[encoded data removed]",
      "text/plain": [
       "<Figure size 432x288 with 1 Axes>"
      ]
     },
     "metadata": {
      "needs_background": "light"
     },
     "output_type": "display_data"
    }
   ],
   "source": [
    "sns.countplot(df[\"sales\"]);"
   ]
  },
  {
   "cell_type": "markdown",
   "metadata": {},
   "source": [
    "Their is class imbalance issue exits."
   ]
  },
  {
   "cell_type": "code",
   "execution_count": 14,
   "metadata": {},
   "outputs": [
    {
     "data": {
      "text/plain": [
       "<AxesSubplot:xlabel='TV'>"
      ]
     },
     "execution_count": 14,
     "metadata": {},
     "output_type": "execute_result"
    },
    {
     "data": {
      "image/png": "[encoded data removed]",
      "text/plain": [
       "<Figure size 432x288 with 1 Axes>"
      ]
     },
     "metadata": {
      "needs_background": "light"
     },
     "output_type": "display_data"
    }
   ],
   "source": [
    "sns.boxplot(df['TV'])"
   ]
  },
  {
   "cell_type": "markdown",
   "metadata": {},
   "source": [
    "Their are no outliers present."
   ]
  },
  {
   "cell_type": "code",
   "execution_count": 15,
   "metadata": {},
   "outputs": [
    {
     "data": {
      "text/plain": [
       "<AxesSubplot:xlabel='radio'>"
      ]
     },
     "execution_count": 15,
     "metadata": {},
     "output_type": "execute_result"
    },
    {
     "data": {
      "image/png": "[encoded data removed]",
      "text/plain": [
       "<Figure size 432x288 with 1 Axes>"
      ]
     },
     "metadata": {
      "needs_background": "light"
     },
     "output_type": "display_data"
    }
   ],
   "source": [
    "sns.boxplot(df['radio'])"
   ]
  },
  {
   "cell_type": "markdown",
   "metadata": {},
   "source": [
    "Their are no outliers present in this column."
   ]
  },
  {
   "cell_type": "code",
   "execution_count": 16,
   "metadata": {},
   "outputs": [
    {
     "data": {
      "text/plain": [
       "<AxesSubplot:xlabel='newspaper'>"
      ]
     },
     "execution_count": 16,
     "metadata": {},
     "output_type": "execute_result"
    },
    {
     "data": {
      "image/png": "[encoded data removed]",
      "text/plain": [
       "<Figure size 432x288 with 1 Axes>"
      ]
     },
     "metadata": {
      "needs_background": "light"
     },
     "output_type": "display_data"
    }
   ],
   "source": [
    "sns.boxplot(df['newspaper'])"
   ]
  },
  {
   "cell_type": "markdown",
   "metadata": {},
   "source": [
    "In this column outliers are present."
   ]
  },
  {
   "cell_type": "code",
   "execution_count": 17,
   "metadata": {},
   "outputs": [
    {
     "data": {
      "text/plain": [
       "<AxesSubplot:xlabel='sales'>"
      ]
     },
     "execution_count": 17,
     "metadata": {},
     "output_type": "execute_result"
    },
    {
     "data": {
      "image/png": "[encoded data removed]",
      "text/plain": [
       "<Figure size 432x288 with 1 Axes>"
      ]
     },
     "metadata": {
      "needs_background": "light"
     },
     "output_type": "display_data"
    }
   ],
   "source": [
    "sns.boxplot(df['sales'])"
   ]
  },
  {
   "cell_type": "markdown",
   "metadata": {},
   "source": [
    "In this column no outliers present."
   ]
  },
  {
   "cell_type": "code",
   "execution_count": 18,
   "metadata": {},
   "outputs": [
    {
     "data": {
      "text/plain": [
       "<AxesSubplot:xlabel='TV', ylabel='Density'>"
      ]
     },
     "execution_count": 18,
     "metadata": {},
     "output_type": "execute_result"
    },
    {
     "data": {
      "image/png": "[encoded data removed]",
      "text/plain": [
       "<Figure size 432x288 with 1 Axes>"
      ]
     },
     "metadata": {
      "needs_background": "light"
     },
     "output_type": "display_data"
    }
   ],
   "source": [
    "sns.distplot(df['TV'])"
   ]
  },
  {
   "cell_type": "markdown",
   "metadata": {},
   "source": [
    "Data is not normaly distributed in this column."
   ]
  },
  {
   "cell_type": "code",
   "execution_count": 19,
   "metadata": {},
   "outputs": [
    {
     "data": {
      "text/plain": [
       "<AxesSubplot:xlabel='radio', ylabel='Density'>"
      ]
     },
     "execution_count": 19,
     "metadata": {},
     "output_type": "execute_result"
    },
    {
     "data": {
      "image/png": "[encoded data removed]",
      "text/plain": [
       "<Figure size 432x288 with 1 Axes>"
      ]
     },
     "metadata": {
      "needs_background": "light"
     },
     "output_type": "display_data"
    }
   ],
   "source": [
    "sns.distplot(df['radio'])"
   ]
  },
  {
   "cell_type": "markdown",
   "metadata": {},
   "source": [
    "Data is not normaly distributed."
   ]
  },
  {
   "cell_type": "code",
   "execution_count": 20,
   "metadata": {},
   "outputs": [
    {
     "data": {
      "text/plain": [
       "<AxesSubplot:xlabel='newspaper', ylabel='Density'>"
      ]
     },
     "execution_count": 20,
     "metadata": {},
     "output_type": "execute_result"
    },
    {
     "data": {
      "image/png": "[encoded data removed]",
      "text/plain": [
       "<Figure size 432x288 with 1 Axes>"
      ]
     },
     "metadata": {
      "needs_background": "light"
     },
     "output_type": "display_data"
    }
   ],
   "source": [
    "sns.distplot(df['newspaper'])"
   ]
  },
  {
   "cell_type": "markdown",
   "metadata": {},
   "source": [
    "Data is not normaly distributed."
   ]
  },
  {
   "cell_type": "code",
   "execution_count": 21,
   "metadata": {},
   "outputs": [
    {
     "data": {
      "text/plain": [
       "<AxesSubplot:xlabel='sales', ylabel='Density'>"
      ]
     },
     "execution_count": 21,
     "metadata": {},
     "output_type": "execute_result"
    },
    {
     "data": {
      "image/png": "[encoded data removed]",
      "text/plain": [
       "<Figure size 432x288 with 1 Axes>"
      ]
     },
     "metadata": {
      "needs_background": "light"
     },
     "output_type": "display_data"
    }
   ],
   "source": [
    "sns.distplot(df['sales'])"
   ]
  },
  {
   "cell_type": "markdown",
   "metadata": {},
   "source": [
    "Data is normaly distributed in this column."
   ]
  },
  {
   "cell_type": "markdown",
   "metadata": {},
   "source": [
    "# Bivariate analysis"
   ]
  },
  {
   "cell_type": "code",
   "execution_count": 22,
   "metadata": {},
   "outputs": [
    {
     "name": "stderr",
     "output_type": "stream",
     "text": [
      "*c* argument looks like a single numeric RGB or RGBA sequence, which should be avoided as value-mapping will have precedence in case its length matches with *x* & *y*.  Please use the *color* keyword-argument or provide a 2-D array with a single row if you intend to specify the same RGB or RGBA value for all points.\n"
     ]
    },
    {
     "data": {
      "image/png": "[encoded data removed]",
      "text/plain": [
       "<Figure size 432x288 with 1 Axes>"
      ]
     },
     "metadata": {
      "needs_background": "light"
     },
     "output_type": "display_data"
    }
   ],
   "source": [
    "plt.scatter(df[\"TV\"],df[\"radio\"],alpha=0.8,c=(0,0,0),edgecolors='g')\n",
    "plt.title(\"comparision between TV and radio\")\n",
    "plt.show()"
   ]
  },
  {
   "cell_type": "markdown",
   "metadata": {},
   "source": [
    "outliers are present in this column."
   ]
  },
  {
   "cell_type": "code",
   "execution_count": 23,
   "metadata": {},
   "outputs": [
    {
     "name": "stderr",
     "output_type": "stream",
     "text": [
      "*c* argument looks like a single numeric RGB or RGBA sequence, which should be avoided as value-mapping will have precedence in case its length matches with *x* & *y*.  Please use the *color* keyword-argument or provide a 2-D array with a single row if you intend to specify the same RGB or RGBA value for all points.\n"
     ]
    },
    {
     "data": {
      "image/png": "[encoded data removed]",
      "text/plain": [
       "<Figure size 432x288 with 1 Axes>"
      ]
     },
     "metadata": {
      "needs_background": "light"
     },
     "output_type": "display_data"
    }
   ],
   "source": [
    "plt.scatter(df[\"radio\"],df[\"newspaper\"],alpha=0.8,c=(0,0,0),edgecolors='g')\n",
    "plt.title(\"radio vs newspaper\")\n",
    "plt.show()"
   ]
  },
  {
   "cell_type": "markdown",
   "metadata": {},
   "source": [
    "outliers are present."
   ]
  },
  {
   "cell_type": "code",
   "execution_count": 24,
   "metadata": {},
   "outputs": [
    {
     "name": "stderr",
     "output_type": "stream",
     "text": [
      "*c* argument looks like a single numeric RGB or RGBA sequence, which should be avoided as value-mapping will have precedence in case its length matches with *x* & *y*.  Please use the *color* keyword-argument or provide a 2-D array with a single row if you intend to specify the same RGB or RGBA value for all points.\n"
     ]
    },
    {
     "data": {
      "image/png": "[encoded data removed]",
      "text/plain": [
       "<Figure size 432x288 with 1 Axes>"
      ]
     },
     "metadata": {
      "needs_background": "light"
     },
     "output_type": "display_data"
    }
   ],
   "source": [
    "plt.scatter(df[\"TV\"],df[\"newspaper\"],alpha=0.8,c=(0,0,0),edgecolors='g')\n",
    "plt.title(\"TV vs newspaper\")\n",
    "plt.show()"
   ]
  },
  {
   "cell_type": "markdown",
   "metadata": {},
   "source": [
    "outliers are present."
   ]
  },
  {
   "cell_type": "code",
   "execution_count": 25,
   "metadata": {},
   "outputs": [
    {
     "name": "stderr",
     "output_type": "stream",
     "text": [
      "*c* argument looks like a single numeric RGB or RGBA sequence, which should be avoided as value-mapping will have precedence in case its length matches with *x* & *y*.  Please use the *color* keyword-argument or provide a 2-D array with a single row if you intend to specify the same RGB or RGBA value for all points.\n"
     ]
    },
    {
     "data": {
      "image/png": "[encoded data removed]",
      "text/plain": [
       "<Figure size 432x288 with 1 Axes>"
      ]
     },
     "metadata": {
      "needs_background": "light"
     },
     "output_type": "display_data"
    }
   ],
   "source": [
    "plt.scatter(df[\"TV\"],df[\"sales\"],alpha=0.8,c=(0,0,0),edgecolors='g')\n",
    "plt.title(\"comparision between TV and sales\")\n",
    "plt.show()"
   ]
  },
  {
   "cell_type": "markdown",
   "metadata": {},
   "source": [
    "outliers are present."
   ]
  },
  {
   "cell_type": "code",
   "execution_count": 26,
   "metadata": {},
   "outputs": [
    {
     "name": "stderr",
     "output_type": "stream",
     "text": [
      "*c* argument looks like a single numeric RGB or RGBA sequence, which should be avoided as value-mapping will have precedence in case its length matches with *x* & *y*.  Please use the *color* keyword-argument or provide a 2-D array with a single row if you intend to specify the same RGB or RGBA value for all points.\n"
     ]
    },
    {
     "data": {
      "image/png": "[encoded data removed]",
      "text/plain": [
       "<Figure size 432x288 with 1 Axes>"
      ]
     },
     "metadata": {
      "needs_background": "light"
     },
     "output_type": "display_data"
    }
   ],
   "source": [
    "plt.scatter(df[\"radio\"],df[\"sales\"],alpha=0.8,c=(0,0,0),edgecolors='g')\n",
    "plt.title(\"radio vs sales\")\n",
    "plt.show()"
   ]
  },
  {
   "cell_type": "markdown",
   "metadata": {},
   "source": [
    "outliers are present."
   ]
  },
  {
   "cell_type": "code",
   "execution_count": 27,
   "metadata": {},
   "outputs": [
    {
     "name": "stderr",
     "output_type": "stream",
     "text": [
      "*c* argument looks like a single numeric RGB or RGBA sequence, which should be avoided as value-mapping will have precedence in case its length matches with *x* & *y*.  Please use the *color* keyword-argument or provide a 2-D array with a single row if you intend to specify the same RGB or RGBA value for all points.\n"
     ]
    },
    {
     "data": {
      "image/png": "[encoded data removed]",
      "text/plain": [
       "<Figure size 432x288 with 1 Axes>"
      ]
     },
     "metadata": {
      "needs_background": "light"
     },
     "output_type": "display_data"
    }
   ],
   "source": [
    "plt.scatter(df[\"newspaper\"],df[\"sales\"],alpha=0.8,c=(0,0,0),edgecolors='g')\n",
    "plt.title(\"newspaper vs sales\")\n",
    "plt.show()"
   ]
  },
  {
   "cell_type": "markdown",
   "metadata": {},
   "source": [
    "outliers are present."
   ]
  },
  {
   "cell_type": "code",
   "execution_count": 28,
   "metadata": {},
   "outputs": [
    {
     "data": {
      "text/plain": [
       "<seaborn.axisgrid.PairGrid at 0x245fba76460>"
      ]
     },
     "execution_count": 28,
     "metadata": {},
     "output_type": "execute_result"
    },
    {
     "data": {
      "image/png": "[encoded data removed]",
      "text/plain": [
       "<Figure size 588.75x540 with 12 Axes>"
      ]
     },
     "metadata": {
      "needs_background": "light"
     },
     "output_type": "display_data"
    }
   ],
   "source": [
    "sns.pairplot(df,hue=\"sales\")"
   ]
  },
  {
   "cell_type": "markdown",
   "metadata": {},
   "source": [
    "We can also check the corelation between dependent and independent features using dataframe.corr() function."
   ]
  },
  {
   "cell_type": "markdown",
   "metadata": {},
   "source": [
    "# checking correlation"
   ]
  },
  {
   "cell_type": "code",
   "execution_count": 29,
   "metadata": {},
   "outputs": [],
   "source": [
    "cor=df.corr()"
   ]
  },
  {
   "cell_type": "code",
   "execution_count": 30,
   "metadata": {},
   "outputs": [
    {
     "data": {
      "text/html": [
       "<div>\n",
       "<style scoped>\n",
       "    .dataframe tbody tr th:only-of-type {\n",
       "        vertical-align: middle;\n",
       "    }\n",
       "\n",
       "    .dataframe tbody tr th {\n",
       "        vertical-align: top;\n",
       "    }\n",
       "\n",
       "    .dataframe thead th {\n",
       "        text-align: right;\n",
       "    }\n",
       "</style>\n",
       "<table border=\"1\" class=\"dataframe\">\n",
       "  <thead>\n",
       "    <tr style=\"text-align: right;\">\n",
       "      <th></th>\n",
       "      <th>TV</th>\n",
       "      <th>radio</th>\n",
       "      <th>newspaper</th>\n",
       "      <th>sales</th>\n",
       "    </tr>\n",
       "  </thead>\n",
       "  <tbody>\n",
       "    <tr>\n",
       "      <th>TV</th>\n",
       "      <td>1.000000</td>\n",
       "      <td>0.054809</td>\n",
       "      <td>0.056648</td>\n",
       "      <td>0.782224</td>\n",
       "    </tr>\n",
       "    <tr>\n",
       "      <th>radio</th>\n",
       "      <td>0.054809</td>\n",
       "      <td>1.000000</td>\n",
       "      <td>0.354104</td>\n",
       "      <td>0.576223</td>\n",
       "    </tr>\n",
       "    <tr>\n",
       "      <th>newspaper</th>\n",
       "      <td>0.056648</td>\n",
       "      <td>0.354104</td>\n",
       "      <td>1.000000</td>\n",
       "      <td>0.228299</td>\n",
       "    </tr>\n",
       "    <tr>\n",
       "      <th>sales</th>\n",
       "      <td>0.782224</td>\n",
       "      <td>0.576223</td>\n",
       "      <td>0.228299</td>\n",
       "      <td>1.000000</td>\n",
       "    </tr>\n",
       "  </tbody>\n",
       "</table>\n",
       "</div>"
      ],
      "text/plain": [
       "                 TV     radio  newspaper     sales\n",
       "TV         1.000000  0.054809   0.056648  0.782224\n",
       "radio      0.054809  1.000000   0.354104  0.576223\n",
       "newspaper  0.056648  0.354104   1.000000  0.228299\n",
       "sales      0.782224  0.576223   0.228299  1.000000"
      ]
     },
     "execution_count": 30,
     "metadata": {},
     "output_type": "execute_result"
    }
   ],
   "source": [
    "cor"
   ]
  },
  {
   "cell_type": "code",
   "execution_count": 31,
   "metadata": {
    "scrolled": true
   },
   "outputs": [
    {
     "data": {
      "image/png": "[encoded data removed]",
      "text/plain": [
       "<Figure size 720x432 with 2 Axes>"
      ]
     },
     "metadata": {
      "needs_background": "light"
     },
     "output_type": "display_data"
    }
   ],
   "source": [
    "plt.figure(figsize=[10,6])\n",
    "sns.heatmap(cor,annot=True)\n",
    "plt.title(\"Correlation Matrix\")\n",
    "plt.show()"
   ]
  },
  {
   "cell_type": "markdown",
   "metadata": {},
   "source": [
    "As is visible from the pairplot and the heatmap, the variable TV seems to be most correlated\n",
    "with Sales. So let's go ahead and perform simple linear regression using TV as our feature variable.\n",
    " we have done only feature engineering."
   ]
  },
  {
   "cell_type": "code",
   "execution_count": 32,
   "metadata": {},
   "outputs": [
    {
     "data": {
      "text/plain": [
       "sales        1.000000\n",
       "TV           0.782224\n",
       "radio        0.576223\n",
       "newspaper    0.228299\n",
       "Name: sales, dtype: float64"
      ]
     },
     "execution_count": 32,
     "metadata": {},
     "output_type": "execute_result"
    }
   ],
   "source": [
    "corr_matrix=df.corr()\n",
    "corr_matrix[\"sales\"].sort_values(ascending=False)"
   ]
  },
  {
   "cell_type": "markdown",
   "metadata": {},
   "source": [
    "Their are identify the corrlation of independent variable with target variable \"sales\"."
   ]
  },
  {
   "cell_type": "markdown",
   "metadata": {},
   "source": [
    "# outlier removal"
   ]
  },
  {
   "cell_type": "code",
   "execution_count": 33,
   "metadata": {},
   "outputs": [],
   "source": [
    "from scipy.stats import zscore\n",
    "z=np.abs(zscore(df))\n",
    "\n",
    "new_df=df[(z<5).all(axis=1)]"
   ]
  },
  {
   "cell_type": "code",
   "execution_count": 34,
   "metadata": {},
   "outputs": [
    {
     "data": {
      "text/html": [
       "<div>\n",
       "<style scoped>\n",
       "    .dataframe tbody tr th:only-of-type {\n",
       "        vertical-align: middle;\n",
       "    }\n",
       "\n",
       "    .dataframe tbody tr th {\n",
       "        vertical-align: top;\n",
       "    }\n",
       "\n",
       "    .dataframe thead th {\n",
       "        text-align: right;\n",
       "    }\n",
       "</style>\n",
       "<table border=\"1\" class=\"dataframe\">\n",
       "  <thead>\n",
       "    <tr style=\"text-align: right;\">\n",
       "      <th></th>\n",
       "      <th>TV</th>\n",
       "      <th>radio</th>\n",
       "      <th>newspaper</th>\n",
       "      <th>sales</th>\n",
       "    </tr>\n",
       "  </thead>\n",
       "  <tbody>\n",
       "    <tr>\n",
       "      <th>1</th>\n",
       "      <td>230.1</td>\n",
       "      <td>37.8</td>\n",
       "      <td>69.2</td>\n",
       "      <td>22.1</td>\n",
       "    </tr>\n",
       "    <tr>\n",
       "      <th>2</th>\n",
       "      <td>44.5</td>\n",
       "      <td>39.3</td>\n",
       "      <td>45.1</td>\n",
       "      <td>10.4</td>\n",
       "    </tr>\n",
       "    <tr>\n",
       "      <th>3</th>\n",
       "      <td>17.2</td>\n",
       "      <td>45.9</td>\n",
       "      <td>69.3</td>\n",
       "      <td>9.3</td>\n",
       "    </tr>\n",
       "    <tr>\n",
       "      <th>4</th>\n",
       "      <td>151.5</td>\n",
       "      <td>41.3</td>\n",
       "      <td>58.5</td>\n",
       "      <td>18.5</td>\n",
       "    </tr>\n",
       "    <tr>\n",
       "      <th>5</th>\n",
       "      <td>180.8</td>\n",
       "      <td>10.8</td>\n",
       "      <td>58.4</td>\n",
       "      <td>12.9</td>\n",
       "    </tr>\n",
       "    <tr>\n",
       "      <th>...</th>\n",
       "      <td>...</td>\n",
       "      <td>...</td>\n",
       "      <td>...</td>\n",
       "      <td>...</td>\n",
       "    </tr>\n",
       "    <tr>\n",
       "      <th>196</th>\n",
       "      <td>38.2</td>\n",
       "      <td>3.7</td>\n",
       "      <td>13.8</td>\n",
       "      <td>7.6</td>\n",
       "    </tr>\n",
       "    <tr>\n",
       "      <th>197</th>\n",
       "      <td>94.2</td>\n",
       "      <td>4.9</td>\n",
       "      <td>8.1</td>\n",
       "      <td>9.7</td>\n",
       "    </tr>\n",
       "    <tr>\n",
       "      <th>198</th>\n",
       "      <td>177.0</td>\n",
       "      <td>9.3</td>\n",
       "      <td>6.4</td>\n",
       "      <td>12.8</td>\n",
       "    </tr>\n",
       "    <tr>\n",
       "      <th>199</th>\n",
       "      <td>283.6</td>\n",
       "      <td>42.0</td>\n",
       "      <td>66.2</td>\n",
       "      <td>25.5</td>\n",
       "    </tr>\n",
       "    <tr>\n",
       "      <th>200</th>\n",
       "      <td>232.1</td>\n",
       "      <td>8.6</td>\n",
       "      <td>8.7</td>\n",
       "      <td>13.4</td>\n",
       "    </tr>\n",
       "  </tbody>\n",
       "</table>\n",
       "<p>200 rows × 4 columns</p>\n",
       "</div>"
      ],
      "text/plain": [
       "        TV  radio  newspaper  sales\n",
       "1    230.1   37.8       69.2   22.1\n",
       "2     44.5   39.3       45.1   10.4\n",
       "3     17.2   45.9       69.3    9.3\n",
       "4    151.5   41.3       58.5   18.5\n",
       "5    180.8   10.8       58.4   12.9\n",
       "..     ...    ...        ...    ...\n",
       "196   38.2    3.7       13.8    7.6\n",
       "197   94.2    4.9        8.1    9.7\n",
       "198  177.0    9.3        6.4   12.8\n",
       "199  283.6   42.0       66.2   25.5\n",
       "200  232.1    8.6        8.7   13.4\n",
       "\n",
       "[200 rows x 4 columns]"
      ]
     },
     "execution_count": 34,
     "metadata": {},
     "output_type": "execute_result"
    }
   ],
   "source": [
    "new_df"
   ]
  },
  {
   "cell_type": "code",
   "execution_count": 35,
   "metadata": {},
   "outputs": [
    {
     "data": {
      "text/plain": [
       "(200, 4)"
      ]
     },
     "execution_count": 35,
     "metadata": {},
     "output_type": "execute_result"
    }
   ],
   "source": [
    "new_df.shape"
   ]
  },
  {
   "cell_type": "code",
   "execution_count": 36,
   "metadata": {},
   "outputs": [
    {
     "data": {
      "text/plain": [
       "(200, 4)"
      ]
     },
     "execution_count": 36,
     "metadata": {},
     "output_type": "execute_result"
    }
   ],
   "source": [
    "df.shape"
   ]
  },
  {
   "cell_type": "markdown",
   "metadata": {},
   "source": [
    "outliers has been removed."
   ]
  },
  {
   "cell_type": "markdown",
   "metadata": {},
   "source": [
    "# skewnes"
   ]
  },
  {
   "cell_type": "code",
   "execution_count": 37,
   "metadata": {},
   "outputs": [],
   "source": [
    "x=df.drop(\"sales\",axis=1)\n",
    "y=df[\"sales\"]"
   ]
  },
  {
   "cell_type": "code",
   "execution_count": 38,
   "metadata": {},
   "outputs": [
    {
     "data": {
      "text/plain": [
       "TV          -0.069853\n",
       "radio        0.094175\n",
       "newspaper    0.894720\n",
       "dtype: float64"
      ]
     },
     "execution_count": 38,
     "metadata": {},
     "output_type": "execute_result"
    }
   ],
   "source": [
    "x.skew()"
   ]
  },
  {
   "cell_type": "code",
   "execution_count": 39,
   "metadata": {},
   "outputs": [],
   "source": [
    "from sklearn.preprocessing import power_transform\n",
    "new_df=power_transform(x)\n",
    "\n",
    "new_df=pd.DataFrame(new_df,columns=x.columns)"
   ]
  },
  {
   "cell_type": "code",
   "execution_count": 40,
   "metadata": {},
   "outputs": [
    {
     "data": {
      "text/plain": [
       "TV          -0.315199\n",
       "radio       -0.242968\n",
       "newspaper   -0.077942\n",
       "dtype: float64"
      ]
     },
     "execution_count": 40,
     "metadata": {},
     "output_type": "execute_result"
    }
   ],
   "source": [
    "new_df.skew()"
   ]
  },
  {
   "cell_type": "markdown",
   "metadata": {},
   "source": [
    "skewness has been removed."
   ]
  },
  {
   "cell_type": "code",
   "execution_count": 41,
   "metadata": {},
   "outputs": [
    {
     "data": {
      "image/png": "[encoded data removed]",
      "text/plain": [
       "<Figure size 1440x576 with 1 Axes>"
      ]
     },
     "metadata": {
      "needs_background": "light"
     },
     "output_type": "display_data"
    }
   ],
   "source": [
    "x.boxplot(figsize=[20,8])\n",
    "plt.subplots_adjust(bottom=0.25)\n",
    "plt.show()"
   ]
  },
  {
   "cell_type": "markdown",
   "metadata": {},
   "source": [
    "above this plot there is no outliers present in this dataset."
   ]
  },
  {
   "cell_type": "markdown",
   "metadata": {},
   "source": [
    "# scaling the data using Min-Max scaler:"
   ]
  },
  {
   "cell_type": "code",
   "execution_count": 42,
   "metadata": {},
   "outputs": [],
   "source": [
    "from sklearn.preprocessing import MinMaxScaler\n",
    "mns=MinMaxScaler()\n",
    "from sklearn.linear_model import LinearRegression\n",
    "lr=LinearRegression()\n",
    "from sklearn.metrics import r2_score\n",
    "from sklearn.model_selection import train_test_split\n",
    "from sklearn.metrics import mean_squared_error,mean_absolute_error\n"
   ]
  },
  {
   "cell_type": "code",
   "execution_count": 43,
   "metadata": {},
   "outputs": [
    {
     "name": "stdout",
     "output_type": "stream",
     "text": [
      "At random state 0,the traning accuracy is:- 0.9067114990146383\n",
      "At random state 0,the testing accuracy is:- 0.8601145185017867\n",
      "\n",
      "\n",
      "At random state 1,the traning accuracy is:- 0.8959372632325174\n",
      "At random state 1,the testing accuracy is:- 0.8927605914615385\n",
      "\n",
      "\n",
      "At random state 2,the traning accuracy is:- 0.9151707412454462\n",
      "At random state 2,the testing accuracy is:- 0.7575894500772719\n",
      "\n",
      "\n",
      "At random state 3,the traning accuracy is:- 0.8930288385772915\n",
      "At random state 3,the testing accuracy is:- 0.9138375011080567\n",
      "\n",
      "\n",
      "At random state 4,the traning accuracy is:- 0.8911672911176578\n",
      "At random state 4,the testing accuracy is:- 0.9085774752313166\n",
      "\n",
      "\n",
      "At random state 5,the traning accuracy is:- 0.8956962280033928\n",
      "At random state 5,the testing accuracy is:- 0.8984204533332627\n",
      "\n",
      "\n",
      "At random state 6,the traning accuracy is:- 0.8915418760966582\n",
      "At random state 6,the testing accuracy is:- 0.9224333473922028\n",
      "\n",
      "\n",
      "At random state 7,the traning accuracy is:- 0.8929164670647455\n",
      "At random state 7,the testing accuracy is:- 0.9095550600904052\n",
      "\n",
      "\n",
      "At random state 8,the traning accuracy is:- 0.9088025724048052\n",
      "At random state 8,the testing accuracy is:- 0.8460595754263388\n",
      "\n",
      "\n",
      "At random state 9,the traning accuracy is:- 0.8897851719766416\n",
      "At random state 9,the testing accuracy is:- 0.9256258465335008\n",
      "\n",
      "\n",
      "At random state 10,the traning accuracy is:- 0.9209087553499528\n",
      "At random state 10,the testing accuracy is:- 0.8353672324670594\n",
      "\n",
      "\n",
      "At random state 11,the traning accuracy is:- 0.9111583949248847\n",
      "At random state 11,the testing accuracy is:- 0.8449174816183895\n",
      "\n",
      "\n",
      "At random state 12,the traning accuracy is:- 0.891451009902517\n",
      "At random state 12,the testing accuracy is:- 0.9125583321991082\n",
      "\n",
      "\n",
      "At random state 13,the traning accuracy is:- 0.8869244310370576\n",
      "At random state 13,the testing accuracy is:- 0.9308589334107374\n",
      "\n",
      "\n",
      "At random state 14,the traning accuracy is:- 0.908635420499295\n",
      "At random state 14,the testing accuracy is:- 0.8549663199763198\n",
      "\n",
      "\n",
      "At random state 15,the traning accuracy is:- 0.8935846767022744\n",
      "At random state 15,the testing accuracy is:- 0.9064939179490465\n",
      "\n",
      "\n",
      "At random state 16,the traning accuracy is:- 0.892634156753275\n",
      "At random state 16,the testing accuracy is:- 0.91864253803112\n",
      "\n",
      "\n",
      "At random state 17,the traning accuracy is:- 0.911643850109681\n",
      "At random state 17,the testing accuracy is:- 0.8266375240641093\n",
      "\n",
      "\n",
      "At random state 18,the traning accuracy is:- 0.9058350355666276\n",
      "At random state 18,the testing accuracy is:- 0.8691428348137913\n",
      "\n",
      "\n",
      "At random state 19,the traning accuracy is:- 0.8936653113157833\n",
      "At random state 19,the testing accuracy is:- 0.903410880167606\n",
      "\n",
      "\n",
      "At random state 20,the traning accuracy is:- 0.8939415029759354\n",
      "At random state 20,the testing accuracy is:- 0.9032049399335232\n",
      "\n",
      "\n",
      "At random state 21,the traning accuracy is:- 0.8876272528162706\n",
      "At random state 21,the testing accuracy is:- 0.9220737408493859\n",
      "\n",
      "\n",
      "At random state 22,the traning accuracy is:- 0.8899965075887379\n",
      "At random state 22,the testing accuracy is:- 0.9182667532378175\n",
      "\n",
      "\n",
      "At random state 23,the traning accuracy is:- 0.8921659364123988\n",
      "At random state 23,the testing accuracy is:- 0.910204221189731\n",
      "\n",
      "\n",
      "At random state 24,the traning accuracy is:- 0.8946529864968562\n",
      "At random state 24,the testing accuracy is:- 0.9043170168345028\n",
      "\n",
      "\n",
      "At random state 25,the traning accuracy is:- 0.9007883778149751\n",
      "At random state 25,the testing accuracy is:- 0.8738569641880864\n",
      "\n",
      "\n",
      "At random state 26,the traning accuracy is:- 0.8998325917728893\n",
      "At random state 26,the testing accuracy is:- 0.8756915597547018\n",
      "\n",
      "\n",
      "At random state 27,the traning accuracy is:- 0.8947281937728894\n",
      "At random state 27,the testing accuracy is:- 0.9064360707520687\n",
      "\n",
      "\n",
      "At random state 28,the traning accuracy is:- 0.899682102176431\n",
      "At random state 28,the testing accuracy is:- 0.884139581646469\n",
      "\n",
      "\n",
      "At random state 29,the traning accuracy is:- 0.8896422572594604\n",
      "At random state 29,the testing accuracy is:- 0.9124795091328944\n",
      "\n",
      "\n",
      "At random state 30,the traning accuracy is:- 0.8933633451302291\n",
      "At random state 30,the testing accuracy is:- 0.9080112550671722\n",
      "\n",
      "\n",
      "At random state 31,the traning accuracy is:- 0.8859036462267695\n",
      "At random state 31,the testing accuracy is:- 0.9284346926567391\n",
      "\n",
      "\n",
      "At random state 32,the traning accuracy is:- 0.9172972779129942\n",
      "At random state 32,the testing accuracy is:- 0.7768844650932812\n",
      "\n",
      "\n",
      "At random state 33,the traning accuracy is:- 0.8962848476126537\n",
      "At random state 33,the testing accuracy is:- 0.8937288845297463\n",
      "\n",
      "\n",
      "At random state 34,the traning accuracy is:- 0.8970495535067476\n",
      "At random state 34,the testing accuracy is:- 0.8925087896627704\n",
      "\n",
      "\n",
      "At random state 35,the traning accuracy is:- 0.9149802728230204\n",
      "At random state 35,the testing accuracy is:- 0.7864906125568901\n",
      "\n",
      "\n",
      "At random state 36,the traning accuracy is:- 0.8887387365244299\n",
      "At random state 36,the testing accuracy is:- 0.9265307491686011\n",
      "\n",
      "\n",
      "At random state 37,the traning accuracy is:- 0.8997277119781726\n",
      "At random state 37,the testing accuracy is:- 0.8837033479022515\n",
      "\n",
      "\n",
      "At random state 38,the traning accuracy is:- 0.8972213778715169\n",
      "At random state 38,the testing accuracy is:- 0.8927131887797296\n",
      "\n",
      "\n",
      "At random state 39,the traning accuracy is:- 0.8989586369412048\n",
      "At random state 39,the testing accuracy is:- 0.8789549979127554\n",
      "\n",
      "\n",
      "At random state 40,the traning accuracy is:- 0.920068668721091\n",
      "At random state 40,the testing accuracy is:- 0.7982652261831079\n",
      "\n",
      "\n",
      "At random state 41,the traning accuracy is:- 0.9006901704189824\n",
      "At random state 41,the testing accuracy is:- 0.8819813651740449\n",
      "\n",
      "\n",
      "At random state 42,the traning accuracy is:- 0.8957008271017818\n",
      "At random state 42,the testing accuracy is:- 0.899438024100912\n",
      "\n",
      "\n",
      "At random state 43,the traning accuracy is:- 0.888477223981934\n",
      "At random state 43,the testing accuracy is:- 0.9286102071081018\n",
      "\n",
      "\n",
      "At random state 44,the traning accuracy is:- 0.9065895163213828\n",
      "At random state 44,the testing accuracy is:- 0.8310290458396922\n",
      "\n",
      "\n",
      "At random state 45,the traning accuracy is:- 0.895947647524022\n",
      "At random state 45,the testing accuracy is:- 0.8955882331233611\n",
      "\n",
      "\n",
      "At random state 46,the traning accuracy is:- 0.9035142166671978\n",
      "At random state 46,the testing accuracy is:- 0.8508891379360346\n",
      "\n",
      "\n",
      "At random state 47,the traning accuracy is:- 0.8986105026216175\n",
      "At random state 47,the testing accuracy is:- 0.8861176124930538\n",
      "\n",
      "\n",
      "At random state 48,the traning accuracy is:- 0.8905303930227864\n",
      "At random state 48,the testing accuracy is:- 0.9192264895105908\n",
      "\n",
      "\n",
      "At random state 49,the traning accuracy is:- 0.9138424680320801\n",
      "At random state 49,the testing accuracy is:- 0.8236013350803586\n",
      "\n",
      "\n",
      "At random state 50,the traning accuracy is:- 0.9013713199191987\n",
      "At random state 50,the testing accuracy is:- 0.847551325142633\n",
      "\n",
      "\n",
      "At random state 51,the traning accuracy is:- 0.8935562677321687\n",
      "At random state 51,the testing accuracy is:- 0.9079126096145104\n",
      "\n",
      "\n",
      "At random state 52,the traning accuracy is:- 0.9018280272898134\n",
      "At random state 52,the testing accuracy is:- 0.8811159773607996\n",
      "\n",
      "\n",
      "At random state 53,the traning accuracy is:- 0.8887382038237429\n",
      "At random state 53,the testing accuracy is:- 0.9255679198924356\n",
      "\n",
      "\n",
      "At random state 54,the traning accuracy is:- 0.8919832932654931\n",
      "At random state 54,the testing accuracy is:- 0.9175053931302267\n",
      "\n",
      "\n",
      "At random state 55,the traning accuracy is:- 0.8946672493883487\n",
      "At random state 55,the testing accuracy is:- 0.9017603460127576\n",
      "\n",
      "\n",
      "At random state 56,the traning accuracy is:- 0.8989109930720287\n",
      "At random state 56,the testing accuracy is:- 0.8881081877827507\n",
      "\n",
      "\n",
      "At random state 57,the traning accuracy is:- 0.8825580314985149\n",
      "At random state 57,the testing accuracy is:- 0.9407051178510067\n",
      "\n",
      "\n",
      "At random state 58,the traning accuracy is:- 0.912712289434702\n",
      "At random state 58,the testing accuracy is:- 0.8406715244241626\n",
      "\n",
      "\n",
      "At random state 59,the traning accuracy is:- 0.8893082812955636\n",
      "At random state 59,the testing accuracy is:- 0.9251177591187607\n",
      "\n",
      "\n",
      "At random state 60,the traning accuracy is:- 0.8924386252509565\n",
      "At random state 60,the testing accuracy is:- 0.9099045150327532\n",
      "\n",
      "\n",
      "At random state 61,the traning accuracy is:- 0.8993442759744172\n",
      "At random state 61,the testing accuracy is:- 0.8801295028531632\n",
      "\n",
      "\n",
      "At random state 62,the traning accuracy is:- 0.9119756650926771\n",
      "At random state 62,the testing accuracy is:- 0.8417719904234857\n",
      "\n",
      "\n",
      "At random state 63,the traning accuracy is:- 0.8947112911514465\n",
      "At random state 63,the testing accuracy is:- 0.9039175428258767\n",
      "\n",
      "\n",
      "At random state 64,the traning accuracy is:- 0.8977794992748884\n",
      "At random state 64,the testing accuracy is:- 0.8818211467861733\n",
      "\n",
      "\n",
      "At random state 65,the traning accuracy is:- 0.8969574133232423\n",
      "At random state 65,the testing accuracy is:- 0.8941749859375303\n",
      "\n",
      "\n",
      "At random state 66,the traning accuracy is:- 0.8985647494060172\n",
      "At random state 66,the testing accuracy is:- 0.8898022957140044\n",
      "\n",
      "\n",
      "At random state 67,the traning accuracy is:- 0.899436698387886\n",
      "At random state 67,the testing accuracy is:- 0.8820468786272049\n",
      "\n",
      "\n",
      "At random state 68,the traning accuracy is:- 0.9001781108442838\n",
      "At random state 68,the testing accuracy is:- 0.869032140309382\n",
      "\n",
      "\n",
      "At random state 69,the traning accuracy is:- 0.8870175330531669\n",
      "At random state 69,the testing accuracy is:- 0.9239270341483129\n",
      "\n",
      "\n",
      "At random state 70,the traning accuracy is:- 0.886231243596853\n",
      "At random state 70,the testing accuracy is:- 0.9260798727325859\n",
      "\n",
      "\n",
      "At random state 71,the traning accuracy is:- 0.9163886175032457\n",
      "At random state 71,the testing accuracy is:- 0.8246989403826483\n",
      "\n",
      "\n",
      "At random state 72,the traning accuracy is:- 0.8937422087162026\n",
      "At random state 72,the testing accuracy is:- 0.9072541868212965\n",
      "\n",
      "\n",
      "At random state 73,the traning accuracy is:- 0.9077573496620701\n",
      "At random state 73,the testing accuracy is:- 0.8412998907053817\n",
      "\n",
      "\n",
      "At random state 74,the traning accuracy is:- 0.8979415340515895\n",
      "At random state 74,the testing accuracy is:- 0.8806020302645325\n",
      "\n",
      "\n",
      "At random state 75,the traning accuracy is:- 0.8943141208860873\n",
      "At random state 75,the testing accuracy is:- 0.9077086876495712\n",
      "\n",
      "\n",
      "At random state 76,the traning accuracy is:- 0.9092025789360757\n",
      "At random state 76,the testing accuracy is:- 0.7535174994730749\n",
      "\n",
      "\n",
      "At random state 77,the traning accuracy is:- 0.8859758983122314\n",
      "At random state 77,the testing accuracy is:- 0.9378801632493181\n",
      "\n",
      "\n",
      "At random state 78,the traning accuracy is:- 0.8957285947454089\n",
      "At random state 78,the testing accuracy is:- 0.9026908232907813\n",
      "\n",
      "\n",
      "At random state 79,the traning accuracy is:- 0.8917194183285055\n",
      "At random state 79,the testing accuracy is:- 0.9047106228248689\n",
      "\n",
      "\n",
      "At random state 80,the traning accuracy is:- 0.9161683973913906\n",
      "At random state 80,the testing accuracy is:- 0.8070473986760944\n",
      "\n",
      "\n",
      "At random state 81,the traning accuracy is:- 0.9033802332142854\n",
      "At random state 81,the testing accuracy is:- 0.862042389496714\n",
      "\n",
      "\n",
      "At random state 82,the traning accuracy is:- 0.9154244887223795\n",
      "At random state 82,the testing accuracy is:- 0.8014727140935161\n",
      "\n",
      "\n",
      "At random state 83,the traning accuracy is:- 0.8840310976077721\n",
      "At random state 83,the testing accuracy is:- 0.9373350368424965\n",
      "\n",
      "\n",
      "At random state 84,the traning accuracy is:- 0.8951392078054552\n",
      "At random state 84,the testing accuracy is:- 0.9007597814614811\n",
      "\n",
      "\n",
      "At random state 85,the traning accuracy is:- 0.9086027174680293\n",
      "At random state 85,the testing accuracy is:- 0.8439638394828848\n",
      "\n",
      "\n",
      "At random state 86,the traning accuracy is:- 0.8941525565676501\n",
      "At random state 86,the testing accuracy is:- 0.9100622221201642\n",
      "\n",
      "\n",
      "At random state 87,the traning accuracy is:- 0.9118983221676124\n",
      "At random state 87,the testing accuracy is:- 0.7626125810244506\n",
      "\n",
      "\n",
      "At random state 88,the traning accuracy is:- 0.9095202869396248\n",
      "At random state 88,the testing accuracy is:- 0.8402068643199276\n",
      "\n",
      "\n",
      "At random state 89,the traning accuracy is:- 0.900006853668257\n",
      "At random state 89,the testing accuracy is:- 0.8763063367531692\n",
      "\n",
      "\n",
      "At random state 90,the traning accuracy is:- 0.9031056838494878\n",
      "At random state 90,the testing accuracy is:- 0.8515399308497917\n",
      "\n",
      "\n",
      "At random state 91,the traning accuracy is:- 0.8873766899072165\n",
      "At random state 91,the testing accuracy is:- 0.9042137225502286\n",
      "\n",
      "\n",
      "At random state 92,the traning accuracy is:- 0.8791722270470883\n",
      "At random state 92,the testing accuracy is:- 0.9519707195109461\n",
      "\n",
      "\n",
      "At random state 93,the traning accuracy is:- 0.8929605913041913\n",
      "At random state 93,the testing accuracy is:- 0.9117655020936757\n",
      "\n",
      "\n",
      "At random state 94,the traning accuracy is:- 0.9084398174091196\n",
      "At random state 94,the testing accuracy is:- 0.8559316851679385\n",
      "\n",
      "\n",
      "At random state 95,the traning accuracy is:- 0.8935659928494455\n",
      "At random state 95,the testing accuracy is:- 0.8951810793790583\n",
      "\n",
      "\n",
      "At random state 96,the traning accuracy is:- 0.9035998291188063\n",
      "At random state 96,the testing accuracy is:- 0.8595641556662492\n",
      "\n",
      "\n",
      "At random state 97,the traning accuracy is:- 0.8900751965631104\n",
      "At random state 97,the testing accuracy is:- 0.9118128867084085\n",
      "\n",
      "\n",
      "At random state 98,the traning accuracy is:- 0.8819661469883454\n",
      "At random state 98,the testing accuracy is:- 0.9400331814664702\n",
      "\n",
      "\n",
      "At random state 99,the traning accuracy is:- 0.8906288862925659\n",
      "At random state 99,the testing accuracy is:- 0.9200846680148507\n",
      "\n",
      "\n"
     ]
    }
   ],
   "source": [
    "for i in range(0,100):\n",
    "    x_train,x_test,y_train,y_test=train_test_split(x,y,test_size=0.2,random_state=i)\n",
    "    lr.fit(x_train,y_train)\n",
    "    pred_train=lr.predict(x_train)\n",
    "    pred_test=lr.predict(x_test)\n",
    "    print(f\"At random state {i},the traning accuracy is:- {r2_score(y_train,pred_train)}\")\n",
    "    print(f\"At random state {i},the testing accuracy is:- {r2_score(y_test,pred_test)}\")\n",
    "    print(\"\\n\")"
   ]
  },
  {
   "cell_type": "code",
   "execution_count": 44,
   "metadata": {},
   "outputs": [],
   "source": [
    "x_train,x_test,y_train,y_test=train_test_split(x,y,test_size=0.2,random_state=12)"
   ]
  },
  {
   "cell_type": "code",
   "execution_count": 45,
   "metadata": {},
   "outputs": [
    {
     "name": "stdout",
     "output_type": "stream",
     "text": [
      "99.67\n",
      "At random state 99,the traning accuracy is:- -1.0998635836807007\n",
      "At random state 99,the testing accuracy is:- -0.2131256546897946\n"
     ]
    }
   ],
   "source": [
    "from sklearn.ensemble import RandomForestRegressor\n",
    "random_forest = RandomForestRegressor(n_estimators=100)\n",
    "random_forest.fit(x_train, y_train)\n",
    "\n",
    "y_prediction = random_forest.predict(x_test)\n",
    "\n",
    "random_forest.score(x_train, y_train)\n",
    "acc_random_forest = round(random_forest.score(x_train, y_train) * 100, 2)\n",
    "\n",
    "print(acc_random_forest)\n",
    "print(f\"At random state {i},the traning accuracy is:- {r2_score(y_train,pred_train)}\")\n",
    "print(f\"At random state {i},the testing accuracy is:- {r2_score(y_test,pred_test)}\")"
   ]
  },
  {
   "cell_type": "code",
   "execution_count": 46,
   "metadata": {},
   "outputs": [
    {
     "name": "stdout",
     "output_type": "stream",
     "text": [
      "95.62\n",
      "At random state 99,the traning accuracy is:- -1.0998635836807007\n",
      "At random state 99,the testing accuracy is:- -0.2131256546897946\n"
     ]
    }
   ],
   "source": [
    "from sklearn.neighbors import KNeighborsRegressor\n",
    "knn = KNeighborsRegressor(n_neighbors = 3)\n",
    "knn.fit(x_train, y_train)\n",
    "y_pred = knn.predict(x_test) \n",
    "acc_knn = round(knn.score(x_train, y_train) * 100, 2)\n",
    "print(acc_knn)\n",
    "print(f\"At random state {i},the traning accuracy is:- {r2_score(y_train,pred_train)}\")\n",
    "print(f\"At random state {i},the testing accuracy is:- {r2_score(y_test,pred_test)}\")"
   ]
  },
  {
   "cell_type": "code",
   "execution_count": 47,
   "metadata": {},
   "outputs": [
    {
     "name": "stdout",
     "output_type": "stream",
     "text": [
      "100.0\n",
      "At random state 99,the traning accuracy is:- -1.0998635836807007\n",
      "At random state 99,the testing accuracy is:- -0.2131256546897946\n"
     ]
    }
   ],
   "source": [
    "from sklearn.tree import DecisionTreeRegressor\n",
    "dtc=DecisionTreeRegressor()\n",
    "dtc.fit(x_train,y_train)\n",
    "dtc.score(x_train,y_train)\n",
    "preddtc=dtc.predict(x_test)\n",
    "acc_dtc= round(dtc.score(x_train, y_train) * 100, 2)\n",
    "print(acc_dtc)\n",
    "print(f\"At random state {i},the traning accuracy is:- {r2_score(y_train,pred_train)}\")\n",
    "print(f\"At random state {i},the testing accuracy is:- {r2_score(y_test,pred_test)}\")"
   ]
  },
  {
   "cell_type": "code",
   "execution_count": 48,
   "metadata": {},
   "outputs": [
    {
     "name": "stdout",
     "output_type": "stream",
     "text": [
      "84.66\n",
      "At random state 99,the traning accuracy is:- -1.0998635836807007\n",
      "At random state 99,the testing accuracy is:- -0.2131256546897946\n"
     ]
    }
   ],
   "source": [
    "from sklearn.svm import SVR\n",
    "svr=SVR()\n",
    "svr.fit(x_train,y_train)\n",
    "svr.score(x_train,y_train)\n",
    "predsvc=svr.predict(x_test)\n",
    "acc_svr= round(svr.score(x_train, y_train) * 100, 2)\n",
    "print(acc_svr)\n",
    "print(f\"At random state {i},the traning accuracy is:- {r2_score(y_train,pred_train)}\")\n",
    "print(f\"At random state {i},the testing accuracy is:- {r2_score(y_test,pred_test)}\")"
   ]
  },
  {
   "cell_type": "code",
   "execution_count": 49,
   "metadata": {},
   "outputs": [
    {
     "data": {
      "text/html": [
       "<div>\n",
       "<style scoped>\n",
       "    .dataframe tbody tr th:only-of-type {\n",
       "        vertical-align: middle;\n",
       "    }\n",
       "\n",
       "    .dataframe tbody tr th {\n",
       "        vertical-align: top;\n",
       "    }\n",
       "\n",
       "    .dataframe thead th {\n",
       "        text-align: right;\n",
       "    }\n",
       "</style>\n",
       "<table border=\"1\" class=\"dataframe\">\n",
       "  <thead>\n",
       "    <tr style=\"text-align: right;\">\n",
       "      <th></th>\n",
       "      <th>Model</th>\n",
       "    </tr>\n",
       "    <tr>\n",
       "      <th>Score</th>\n",
       "      <th></th>\n",
       "    </tr>\n",
       "  </thead>\n",
       "  <tbody>\n",
       "    <tr>\n",
       "      <th>100.00</th>\n",
       "      <td>Decision Tree</td>\n",
       "    </tr>\n",
       "    <tr>\n",
       "      <th>99.67</th>\n",
       "      <td>Random Forest</td>\n",
       "    </tr>\n",
       "    <tr>\n",
       "      <th>95.62</th>\n",
       "      <td>KNN</td>\n",
       "    </tr>\n",
       "    <tr>\n",
       "      <th>84.66</th>\n",
       "      <td>Support Vector Machines</td>\n",
       "    </tr>\n",
       "  </tbody>\n",
       "</table>\n",
       "</div>"
      ],
      "text/plain": [
       "                          Model\n",
       "Score                          \n",
       "100.00            Decision Tree\n",
       "99.67             Random Forest\n",
       "95.62                       KNN\n",
       "84.66   Support Vector Machines"
      ]
     },
     "execution_count": 49,
     "metadata": {},
     "output_type": "execute_result"
    }
   ],
   "source": [
    "results = pd.DataFrame({\n",
    "    'Model': ['Support Vector Machines', 'KNN',  \n",
    "              'Random Forest',  'Decision Tree'],\n",
    "              \n",
    "    'Score': [acc_svr, acc_knn, \n",
    "              acc_random_forest,  acc_dtc]})\n",
    "\n",
    "result_df = results.sort_values(by='Score', ascending=False)\n",
    "result_df = result_df.set_index('Score')\n",
    "result_df.head(5)"
   ]
  },
  {
   "cell_type": "code",
   "execution_count": 50,
   "metadata": {},
   "outputs": [
    {
     "name": "stdout",
     "output_type": "stream",
     "text": [
      "error:\n",
      "Mean absolute error: 0.9200000000000003\n",
      "Mean squared error: 1.5350555555555556\n",
      "Root Mean Squared Error: 1.2389735895310907\n"
     ]
    }
   ],
   "source": [
    "print('error:')\n",
    "\n",
    "print('Mean absolute error:',mean_absolute_error(y_test,y_pred))\n",
    "print('Mean squared error:',mean_squared_error(y_test,y_pred))\n",
    "\n",
    "print('Root Mean Squared Error:',np.sqrt(mean_squared_error(y_test,y_pred)))\n"
   ]
  },
  {
   "cell_type": "code",
   "execution_count": 51,
   "metadata": {},
   "outputs": [
    {
     "data": {
      "text/plain": [
       "0.9522871261320929"
      ]
     },
     "execution_count": 51,
     "metadata": {},
     "output_type": "execute_result"
    }
   ],
   "source": [
    "r_squared = r2_score(y_test, y_pred)\n",
    "r_squared"
   ]
  },
  {
   "cell_type": "code",
   "execution_count": 52,
   "metadata": {},
   "outputs": [
    {
     "name": "stdout",
     "output_type": "stream",
     "text": [
      "0.9125583321991082\n"
     ]
    }
   ],
   "source": [
    "lr.fit(x_train,y_train)\n",
    "pred_test=lr.predict(x_test)\n",
    "print(r2_score(y_test,pred_test))"
   ]
  },
  {
   "cell_type": "markdown",
   "metadata": {},
   "source": [
    "# cross validation of the model"
   ]
  },
  {
   "cell_type": "code",
   "execution_count": 53,
   "metadata": {
    "scrolled": true
   },
   "outputs": [
    {
     "name": "stdout",
     "output_type": "stream",
     "text": [
      "At cross fold 2 the cv_score is 0.8908473589845056 and accuracy score for training is -1.0998635836807007 and accuracy for the testing is 0.9125583321991082\n",
      "At cross fold 3 the cv_score is 0.8916464591145559 and accuracy score for training is -1.0998635836807007 and accuracy for the testing is 0.9125583321991082\n",
      "At cross fold 4 the cv_score is 0.8900070660549506 and accuracy score for training is -1.0998635836807007 and accuracy for the testing is 0.9125583321991082\n",
      "At cross fold 5 the cv_score is 0.8871063495438435 and accuracy score for training is -1.0998635836807007 and accuracy for the testing is 0.9125583321991082\n",
      "At cross fold 6 the cv_score is 0.8899208882186671 and accuracy score for training is -1.0998635836807007 and accuracy for the testing is 0.9125583321991082\n",
      "At cross fold 7 the cv_score is 0.8859930219823539 and accuracy score for training is -1.0998635836807007 and accuracy for the testing is 0.9125583321991082\n",
      "At cross fold 8 the cv_score is 0.8826686689919152 and accuracy score for training is -1.0998635836807007 and accuracy for the testing is 0.9125583321991082\n",
      "At cross fold 9 the cv_score is 0.8822728227103587 and accuracy score for training is -1.0998635836807007 and accuracy for the testing is 0.9125583321991082\n"
     ]
    }
   ],
   "source": [
    "Train_accuracy=r2_score(y_train,pred_train)\n",
    "Test_accuracy=r2_score(y_test,pred_test)\n",
    "\n",
    "from sklearn.model_selection import cross_val_score\n",
    "for j in range(2,10):\n",
    "    cv_score=cross_val_score(lr,x,y,cv=j)\n",
    "    cv_mean=cv_score.mean()\n",
    "    print(f\"At cross fold {j} the cv_score is {cv_mean} and accuracy score for training is {Train_accuracy} and accuracy for the testing is {Test_accuracy}\")\n",
    "    "
   ]
  },
  {
   "cell_type": "code",
   "execution_count": 54,
   "metadata": {},
   "outputs": [
    {
     "data": {
      "image/png": "[encoded data removed]",
      "text/plain": [
       "<Figure size 576x432 with 1 Axes>"
      ]
     },
     "metadata": {
      "needs_background": "light"
     },
     "output_type": "display_data"
    }
   ],
   "source": [
    "import matplotlib.pyplot as plt\n",
    "plt.figure(figsize=(8,6))\n",
    "plt.scatter(x=y_test,y=pred_test,color='r')\n",
    "plt.plot(y_test,y_test,color='b')\n",
    "plt.xlabel('Actual charges',fontsize=14)\n",
    "plt.ylabel('Predict charges',fontsize=14)\n",
    "plt.title('Linear Regression',fontsize=18)\n",
    "plt.show()"
   ]
  },
  {
   "cell_type": "markdown",
   "metadata": {},
   "source": [
    "Best fit line is covering most of the datapoints which shows good fit of our model."
   ]
  },
  {
   "cell_type": "markdown",
   "metadata": {},
   "source": [
    "# hyper parameter tuning"
   ]
  },
  {
   "cell_type": "code",
   "execution_count": 55,
   "metadata": {},
   "outputs": [
    {
     "name": "stdout",
     "output_type": "stream",
     "text": [
      "{'criterion': 'mae', 'max_features': 'auto'}\n"
     ]
    }
   ],
   "source": [
    "from sklearn.model_selection import GridSearchCV\n",
    "from sklearn.ensemble import RandomForestRegressor\n",
    "\n",
    "parameters={'criterion':['mse','mae'],'max_features':[\"auto\",\"sqrt\",\"log2\"]}\n",
    "rf=RandomForestRegressor()\n",
    "clf= GridSearchCV(rf,parameters)\n",
    "clf.fit(x_train,y_train)\n",
    "\n",
    "print(clf.best_params_)"
   ]
  },
  {
   "cell_type": "code",
   "execution_count": 56,
   "metadata": {},
   "outputs": [
    {
     "name": "stdout",
     "output_type": "stream",
     "text": [
      "R2 score: 92.05347665844805\n",
      "cross_val_score: 91.41240613999727\n"
     ]
    }
   ],
   "source": [
    "rf=RandomForestRegressor(criterion=\"mae\",max_features=\"log2\")\n",
    "rf.fit(x_train,y_train)\n",
    "rf.score(x_train,y_train)\n",
    "pred_decision=rf.predict(x_test)\n",
    "\n",
    "rfs=r2_score(y_test,pred_decision)\n",
    "print(\"R2 score:\",rfs*100)\n",
    "\n",
    "rfscore=cross_val_score(rf,x,y,cv=5)\n",
    "rfc=rfscore.mean()\n",
    "print(\"cross_val_score:\",rfc*100)"
   ]
  },
  {
   "cell_type": "code",
   "execution_count": 57,
   "metadata": {},
   "outputs": [
    {
     "data": {
      "text/plain": [
       "{'criterion': 'friedman_mse', 'max_depth': 6}"
      ]
     },
     "execution_count": 57,
     "metadata": {},
     "output_type": "execute_result"
    }
   ],
   "source": [
    "parameter={'max_depth' : np.arange(2,10),\n",
    "           'criterion' : ['mse', 'friedman_mse', 'mae', 'poisson']}\n",
    "GCV=GridSearchCV(DecisionTreeRegressor(),parameter,cv=5)\n",
    "GCV.fit(x_train,y_train)\n",
    "GCV.best_params_"
   ]
  },
  {
   "cell_type": "code",
   "execution_count": 58,
   "metadata": {},
   "outputs": [
    {
     "name": "stdout",
     "output_type": "stream",
     "text": [
      "R2 score: 88.96155211976586\n",
      "cross_val_score: 91.20925259076904\n"
     ]
    }
   ],
   "source": [
    "dt=DecisionTreeRegressor(criterion=\"mae\",max_depth=4)\n",
    "dt.fit(x_train,y_train)\n",
    "dt.score(x_train,y_train)\n",
    "pred_decision=dt.predict(x_test)\n",
    "\n",
    "dts=r2_score(y_test,pred_decision)\n",
    "print(\"R2 score:\",dts*100)\n",
    "\n",
    "dtscore=cross_val_score(rf,x,y,cv=5)\n",
    "dtc=dtscore.mean()\n",
    "print(\"cross_val_score:\",dtc*100)"
   ]
  },
  {
   "cell_type": "code",
   "execution_count": 59,
   "metadata": {},
   "outputs": [
    {
     "name": "stdout",
     "output_type": "stream",
     "text": [
      "6.2286446147259955\n"
     ]
    }
   ],
   "source": [
    "Final_mod=DecisionTreeRegressor(criterion='mse', max_depth=2)\n",
    "Final_mod.fit(x_train,y_train)\n",
    "pred=Final_mod.predict(x_test)\n",
    "msr=mean_squared_error(y_test,pred)\n",
    "print(msr)"
   ]
  },
  {
   "cell_type": "markdown",
   "metadata": {},
   "source": [
    "# saving the model"
   ]
  },
  {
   "cell_type": "code",
   "execution_count": 60,
   "metadata": {},
   "outputs": [
    {
     "data": {
      "text/plain": [
       "['FinalModel.pkl']"
      ]
     },
     "execution_count": 60,
     "metadata": {},
     "output_type": "execute_result"
    }
   ],
   "source": [
    "import joblib\n",
    "joblib.dump(Final_mod, \"FinalModel.pkl\")"
   ]
  }
 ],
 "metadata": {
  "kernelspec": {
   "display_name": "Python 3",
   "language": "python",
   "name": "python3"
  },
  "language_info": {
   "codemirror_mode": {
    "name": "ipython",
    "version": 3
   },
   "file_extension": ".py",
   "mimetype": "text/x-python",
   "name": "python",
   "nbconvert_exporter": "python",
   "pygments_lexer": "ipython3",
   "version": "3.8.5"
  }
 },
 "nbformat": 4,
 "nbformat_minor": 4
}
