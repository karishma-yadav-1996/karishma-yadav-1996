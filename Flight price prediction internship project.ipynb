{
 "cells": [
  {
   "cell_type": "code",
   "execution_count": 1,
   "id": "9cc09caf",
   "metadata": {},
   "outputs": [],
   "source": [
    "#importing  required libraries\n",
    "\n",
    "import pandas as pd\n",
    "import numpy as np\n",
    "import seaborn as sns\n",
    "import matplotlib.pyplot as plt\n",
    "import warnings\n",
    "warnings.filterwarnings('ignore')"
   ]
  },
  {
   "cell_type": "code",
   "execution_count": 2,
   "id": "95d80e87",
   "metadata": {},
   "outputs": [],
   "source": [
    "df=pd.read_csv(\"flight price prediction internship project.csv\")"
   ]
  },
  {
   "cell_type": "code",
   "execution_count": 3,
   "id": "7229628c",
   "metadata": {},
   "outputs": [
    {
     "data": {
      "text/html": [
       "<div>\n",
       "<style scoped>\n",
       "    .dataframe tbody tr th:only-of-type {\n",
       "        vertical-align: middle;\n",
       "    }\n",
       "\n",
       "    .dataframe tbody tr th {\n",
       "        vertical-align: top;\n",
       "    }\n",
       "\n",
       "    .dataframe thead th {\n",
       "        text-align: right;\n",
       "    }\n",
       "</style>\n",
       "<table border=\"1\" class=\"dataframe\">\n",
       "  <thead>\n",
       "    <tr style=\"text-align: right;\">\n",
       "      <th></th>\n",
       "      <th>Unnamed: 0</th>\n",
       "      <th>AirlineName</th>\n",
       "      <th>Arrival Time</th>\n",
       "      <th>Duration</th>\n",
       "      <th>Price</th>\n",
       "      <th>Total Stops</th>\n",
       "      <th>Destination</th>\n",
       "      <th>Route</th>\n",
       "      <th>Departure Time</th>\n",
       "    </tr>\n",
       "  </thead>\n",
       "  <tbody>\n",
       "    <tr>\n",
       "      <th>0</th>\n",
       "      <td>1</td>\n",
       "      <td>Emirates</td>\n",
       "      <td>12:30HKT\\n+1 Day</td>\n",
       "      <td>24h 00m</td>\n",
       "      <td>65,657</td>\n",
       "      <td>1 Stop</td>\n",
       "      <td>New Delhi</td>\n",
       "      <td>Not Available</td>\n",
       "      <td>[[...]]</td>\n",
       "    </tr>\n",
       "    <tr>\n",
       "      <th>1</th>\n",
       "      <td>2</td>\n",
       "      <td>Air India</td>\n",
       "      <td>12:40</td>\n",
       "      <td>2h 55m</td>\n",
       "      <td>6,122</td>\n",
       "      <td>1 Stop</td>\n",
       "      <td>New Delhi</td>\n",
       "      <td>AI-429</td>\n",
       "      <td>[[...]]</td>\n",
       "    </tr>\n",
       "    <tr>\n",
       "      <th>2</th>\n",
       "      <td>3</td>\n",
       "      <td>Air India</td>\n",
       "      <td>10:30</td>\n",
       "      <td>2h 20m</td>\n",
       "      <td>2,098</td>\n",
       "      <td>Non Stop</td>\n",
       "      <td>New Delhi</td>\n",
       "      <td>AI-560</td>\n",
       "      <td>[[...]]</td>\n",
       "    </tr>\n",
       "    <tr>\n",
       "      <th>3</th>\n",
       "      <td>4</td>\n",
       "      <td>Air India</td>\n",
       "      <td>00:35\\n+ 1 day</td>\n",
       "      <td>2h 35m</td>\n",
       "      <td>3,563</td>\n",
       "      <td>2 Stop(s)</td>\n",
       "      <td>New Delhi</td>\n",
       "      <td>AI-883</td>\n",
       "      <td>[[...]]</td>\n",
       "    </tr>\n",
       "    <tr>\n",
       "      <th>4</th>\n",
       "      <td>5</td>\n",
       "      <td>IndiGo</td>\n",
       "      <td>13:20</td>\n",
       "      <td>5h 25m</td>\n",
       "      <td>3,170</td>\n",
       "      <td>1 Stop</td>\n",
       "      <td>6E-552/827</td>\n",
       "      <td>6E-552/827</td>\n",
       "      <td>[[...]]</td>\n",
       "    </tr>\n",
       "    <tr>\n",
       "      <th>...</th>\n",
       "      <td>...</td>\n",
       "      <td>...</td>\n",
       "      <td>...</td>\n",
       "      <td>...</td>\n",
       "      <td>...</td>\n",
       "      <td>...</td>\n",
       "      <td>...</td>\n",
       "      <td>...</td>\n",
       "      <td>...</td>\n",
       "    </tr>\n",
       "    <tr>\n",
       "      <th>902</th>\n",
       "      <td>904</td>\n",
       "      <td>Go First</td>\n",
       "      <td>22:20</td>\n",
       "      <td>2h 20m</td>\n",
       "      <td>3,597</td>\n",
       "      <td>Non Stop</td>\n",
       "      <td>Kolkata</td>\n",
       "      <td>G8-791</td>\n",
       "      <td>[[...]]</td>\n",
       "    </tr>\n",
       "    <tr>\n",
       "      <th>903</th>\n",
       "      <td>905</td>\n",
       "      <td>Go First</td>\n",
       "      <td>22:20</td>\n",
       "      <td>2h 20m</td>\n",
       "      <td>3,597</td>\n",
       "      <td>1 Stop</td>\n",
       "      <td>Kolkata</td>\n",
       "      <td>G8-791</td>\n",
       "      <td>[[...]]</td>\n",
       "    </tr>\n",
       "    <tr>\n",
       "      <th>904</th>\n",
       "      <td>906</td>\n",
       "      <td>Air Asia</td>\n",
       "      <td>12:00</td>\n",
       "      <td>7h 00m</td>\n",
       "      <td>5,176</td>\n",
       "      <td>1 Stop</td>\n",
       "      <td>Kolkata</td>\n",
       "      <td>I5-925/583</td>\n",
       "      <td>[[...]]</td>\n",
       "    </tr>\n",
       "    <tr>\n",
       "      <th>905</th>\n",
       "      <td>907</td>\n",
       "      <td>IndiGo</td>\n",
       "      <td>00:20\\n+ 1 day</td>\n",
       "      <td>2h 35m</td>\n",
       "      <td>7,803</td>\n",
       "      <td>1 Stop</td>\n",
       "      <td>Kolkata</td>\n",
       "      <td>6E-952</td>\n",
       "      <td>[[...]]</td>\n",
       "    </tr>\n",
       "    <tr>\n",
       "      <th>906</th>\n",
       "      <td>908</td>\n",
       "      <td>IndiGo</td>\n",
       "      <td>00:10\\n+ 1 day</td>\n",
       "      <td>2h 25m</td>\n",
       "      <td>5,630</td>\n",
       "      <td>1 Stop</td>\n",
       "      <td>Kolkata</td>\n",
       "      <td>6E-975</td>\n",
       "      <td>[[...]]</td>\n",
       "    </tr>\n",
       "  </tbody>\n",
       "</table>\n",
       "<p>907 rows × 9 columns</p>\n",
       "</div>"
      ],
      "text/plain": [
       "     Unnamed: 0 AirlineName      Arrival Time Duration   Price Total Stops  \\\n",
       "0             1    Emirates  12:30HKT\\n+1 Day  24h 00m  65,657      1 Stop   \n",
       "1             2   Air India             12:40   2h 55m   6,122      1 Stop   \n",
       "2             3   Air India             10:30   2h 20m   2,098    Non Stop   \n",
       "3             4   Air India    00:35\\n+ 1 day   2h 35m   3,563   2 Stop(s)   \n",
       "4             5      IndiGo             13:20   5h 25m   3,170      1 Stop   \n",
       "..          ...         ...               ...      ...     ...         ...   \n",
       "902         904    Go First             22:20   2h 20m   3,597    Non Stop   \n",
       "903         905    Go First             22:20   2h 20m   3,597      1 Stop   \n",
       "904         906    Air Asia             12:00   7h 00m   5,176      1 Stop   \n",
       "905         907      IndiGo    00:20\\n+ 1 day   2h 35m   7,803      1 Stop   \n",
       "906         908      IndiGo    00:10\\n+ 1 day   2h 25m   5,630      1 Stop   \n",
       "\n",
       "    Destination          Route Departure Time  \n",
       "0     New Delhi  Not Available        [[...]]  \n",
       "1     New Delhi         AI-429        [[...]]  \n",
       "2     New Delhi         AI-560        [[...]]  \n",
       "3     New Delhi         AI-883        [[...]]  \n",
       "4    6E-552/827     6E-552/827        [[...]]  \n",
       "..          ...            ...            ...  \n",
       "902     Kolkata         G8-791        [[...]]  \n",
       "903     Kolkata         G8-791        [[...]]  \n",
       "904     Kolkata     I5-925/583        [[...]]  \n",
       "905     Kolkata         6E-952        [[...]]  \n",
       "906     Kolkata         6E-975        [[...]]  \n",
       "\n",
       "[907 rows x 9 columns]"
      ]
     },
     "execution_count": 3,
     "metadata": {},
     "output_type": "execute_result"
    }
   ],
   "source": [
    "df"
   ]
  },
  {
   "cell_type": "code",
   "execution_count": 4,
   "id": "73fef581",
   "metadata": {},
   "outputs": [
    {
     "data": {
      "text/plain": [
       "(907, 9)"
      ]
     },
     "execution_count": 4,
     "metadata": {},
     "output_type": "execute_result"
    }
   ],
   "source": [
    "df.shape"
   ]
  },
  {
   "cell_type": "markdown",
   "id": "dadef5c9",
   "metadata": {},
   "source": [
    "In this dataset has 907 rows and 9 columns."
   ]
  },
  {
   "cell_type": "code",
   "execution_count": 5,
   "id": "14cd306f",
   "metadata": {},
   "outputs": [
    {
     "data": {
      "text/html": [
       "<div>\n",
       "<style scoped>\n",
       "    .dataframe tbody tr th:only-of-type {\n",
       "        vertical-align: middle;\n",
       "    }\n",
       "\n",
       "    .dataframe tbody tr th {\n",
       "        vertical-align: top;\n",
       "    }\n",
       "\n",
       "    .dataframe thead th {\n",
       "        text-align: right;\n",
       "    }\n",
       "</style>\n",
       "<table border=\"1\" class=\"dataframe\">\n",
       "  <thead>\n",
       "    <tr style=\"text-align: right;\">\n",
       "      <th></th>\n",
       "      <th>Unnamed: 0</th>\n",
       "      <th>AirlineName</th>\n",
       "      <th>Arrival Time</th>\n",
       "      <th>Duration</th>\n",
       "      <th>Price</th>\n",
       "      <th>Total Stops</th>\n",
       "      <th>Destination</th>\n",
       "      <th>Route</th>\n",
       "      <th>Departure Time</th>\n",
       "    </tr>\n",
       "  </thead>\n",
       "  <tbody>\n",
       "    <tr>\n",
       "      <th>0</th>\n",
       "      <td>1</td>\n",
       "      <td>Emirates</td>\n",
       "      <td>12:30HKT\\n+1 Day</td>\n",
       "      <td>24h 00m</td>\n",
       "      <td>65,657</td>\n",
       "      <td>1 Stop</td>\n",
       "      <td>New Delhi</td>\n",
       "      <td>Not Available</td>\n",
       "      <td>[[...]]</td>\n",
       "    </tr>\n",
       "    <tr>\n",
       "      <th>1</th>\n",
       "      <td>2</td>\n",
       "      <td>Air India</td>\n",
       "      <td>12:40</td>\n",
       "      <td>2h 55m</td>\n",
       "      <td>6,122</td>\n",
       "      <td>1 Stop</td>\n",
       "      <td>New Delhi</td>\n",
       "      <td>AI-429</td>\n",
       "      <td>[[...]]</td>\n",
       "    </tr>\n",
       "    <tr>\n",
       "      <th>2</th>\n",
       "      <td>3</td>\n",
       "      <td>Air India</td>\n",
       "      <td>10:30</td>\n",
       "      <td>2h 20m</td>\n",
       "      <td>2,098</td>\n",
       "      <td>Non Stop</td>\n",
       "      <td>New Delhi</td>\n",
       "      <td>AI-560</td>\n",
       "      <td>[[...]]</td>\n",
       "    </tr>\n",
       "    <tr>\n",
       "      <th>3</th>\n",
       "      <td>4</td>\n",
       "      <td>Air India</td>\n",
       "      <td>00:35\\n+ 1 day</td>\n",
       "      <td>2h 35m</td>\n",
       "      <td>3,563</td>\n",
       "      <td>2 Stop(s)</td>\n",
       "      <td>New Delhi</td>\n",
       "      <td>AI-883</td>\n",
       "      <td>[[...]]</td>\n",
       "    </tr>\n",
       "    <tr>\n",
       "      <th>4</th>\n",
       "      <td>5</td>\n",
       "      <td>IndiGo</td>\n",
       "      <td>13:20</td>\n",
       "      <td>5h 25m</td>\n",
       "      <td>3,170</td>\n",
       "      <td>1 Stop</td>\n",
       "      <td>6E-552/827</td>\n",
       "      <td>6E-552/827</td>\n",
       "      <td>[[...]]</td>\n",
       "    </tr>\n",
       "  </tbody>\n",
       "</table>\n",
       "</div>"
      ],
      "text/plain": [
       "   Unnamed: 0 AirlineName      Arrival Time Duration   Price Total Stops  \\\n",
       "0           1    Emirates  12:30HKT\\n+1 Day  24h 00m  65,657      1 Stop   \n",
       "1           2   Air India             12:40   2h 55m   6,122      1 Stop   \n",
       "2           3   Air India             10:30   2h 20m   2,098    Non Stop   \n",
       "3           4   Air India    00:35\\n+ 1 day   2h 35m   3,563   2 Stop(s)   \n",
       "4           5      IndiGo             13:20   5h 25m   3,170      1 Stop   \n",
       "\n",
       "  Destination          Route Departure Time  \n",
       "0   New Delhi  Not Available        [[...]]  \n",
       "1   New Delhi         AI-429        [[...]]  \n",
       "2   New Delhi         AI-560        [[...]]  \n",
       "3   New Delhi         AI-883        [[...]]  \n",
       "4  6E-552/827     6E-552/827        [[...]]  "
      ]
     },
     "execution_count": 5,
     "metadata": {},
     "output_type": "execute_result"
    }
   ],
   "source": [
    "df.head()"
   ]
  },
  {
   "cell_type": "markdown",
   "id": "38d96569",
   "metadata": {},
   "source": [
    "There is showing first 5 rows."
   ]
  },
  {
   "cell_type": "code",
   "execution_count": 6,
   "id": "474e81d0",
   "metadata": {},
   "outputs": [
    {
     "data": {
      "text/plain": [
       "RangeIndex(start=0, stop=907, step=1)"
      ]
     },
     "execution_count": 6,
     "metadata": {},
     "output_type": "execute_result"
    }
   ],
   "source": [
    "df.index"
   ]
  },
  {
   "cell_type": "markdown",
   "id": "dfb1b39f",
   "metadata": {},
   "source": [
    "This attribute provides the index of the dataframe."
   ]
  },
  {
   "cell_type": "code",
   "execution_count": 7,
   "id": "d702e3cd",
   "metadata": {},
   "outputs": [
    {
     "data": {
      "text/plain": [
       "Index(['Unnamed: 0', 'AirlineName', 'Arrival Time', 'Duration', 'Price',\n",
       "       'Total Stops', 'Destination', 'Route', 'Departure Time'],\n",
       "      dtype='object')"
      ]
     },
     "execution_count": 7,
     "metadata": {},
     "output_type": "execute_result"
    }
   ],
   "source": [
    "df.columns"
   ]
  },
  {
   "cell_type": "markdown",
   "id": "9d057511",
   "metadata": {},
   "source": [
    "In this dataset have 8 columns."
   ]
  },
  {
   "cell_type": "code",
   "execution_count": 8,
   "id": "4e7ff8c0",
   "metadata": {},
   "outputs": [
    {
     "data": {
      "text/plain": [
       "Unnamed: 0         int64\n",
       "AirlineName       object\n",
       "Arrival Time      object\n",
       "Duration          object\n",
       "Price             object\n",
       "Total Stops       object\n",
       "Destination       object\n",
       "Route             object\n",
       "Departure Time    object\n",
       "dtype: object"
      ]
     },
     "execution_count": 8,
     "metadata": {},
     "output_type": "execute_result"
    }
   ],
   "source": [
    "df.dtypes"
   ]
  },
  {
   "cell_type": "markdown",
   "id": "2b621b5a",
   "metadata": {},
   "source": [
    "In this dataset we have int types and object types variables are present."
   ]
  },
  {
   "cell_type": "code",
   "execution_count": 9,
   "id": "8f0aeaea",
   "metadata": {},
   "outputs": [
    {
     "data": {
      "text/plain": [
       "Unnamed: 0        907\n",
       "AirlineName       907\n",
       "Arrival Time      907\n",
       "Duration          907\n",
       "Price             907\n",
       "Total Stops       907\n",
       "Destination       907\n",
       "Route             907\n",
       "Departure Time    907\n",
       "dtype: int64"
      ]
     },
     "execution_count": 9,
     "metadata": {},
     "output_type": "execute_result"
    }
   ],
   "source": [
    "df.count()"
   ]
  },
  {
   "cell_type": "code",
   "execution_count": 10,
   "id": "d4bbc4ab",
   "metadata": {},
   "outputs": [
    {
     "data": {
      "text/plain": [
       "Unnamed: 0        907\n",
       "AirlineName        70\n",
       "Arrival Time      153\n",
       "Duration          139\n",
       "Price             171\n",
       "Total Stops         7\n",
       "Destination        26\n",
       "Route             146\n",
       "Departure Time      2\n",
       "dtype: int64"
      ]
     },
     "execution_count": 10,
     "metadata": {},
     "output_type": "execute_result"
    }
   ],
   "source": [
    "df.nunique()"
   ]
  },
  {
   "cell_type": "markdown",
   "id": "f838dad9",
   "metadata": {},
   "source": [
    "ununique shows the find ununique elements of an array."
   ]
  },
  {
   "cell_type": "code",
   "execution_count": 11,
   "id": "28431d77",
   "metadata": {},
   "outputs": [
    {
     "name": "stdout",
     "output_type": "stream",
     "text": [
      "<class 'pandas.core.frame.DataFrame'>\n",
      "RangeIndex: 907 entries, 0 to 906\n",
      "Data columns (total 9 columns):\n",
      " #   Column          Non-Null Count  Dtype \n",
      "---  ------          --------------  ----- \n",
      " 0   Unnamed: 0      907 non-null    int64 \n",
      " 1   AirlineName     907 non-null    object\n",
      " 2   Arrival Time    907 non-null    object\n",
      " 3   Duration        907 non-null    object\n",
      " 4   Price           907 non-null    object\n",
      " 5   Total Stops     907 non-null    object\n",
      " 6   Destination     907 non-null    object\n",
      " 7   Route           907 non-null    object\n",
      " 8   Departure Time  907 non-null    object\n",
      "dtypes: int64(1), object(8)\n",
      "memory usage: 63.9+ KB\n"
     ]
    }
   ],
   "source": [
    "df.info()"
   ]
  },
  {
   "cell_type": "markdown",
   "id": "e707e331",
   "metadata": {},
   "source": [
    "info() provides the basic information about the dataframe."
   ]
  },
  {
   "cell_type": "code",
   "execution_count": 12,
   "id": "5a7f97a5",
   "metadata": {},
   "outputs": [
    {
     "data": {
      "text/plain": [
       "Unnamed: 0        0\n",
       "AirlineName       0\n",
       "Arrival Time      0\n",
       "Duration          0\n",
       "Price             0\n",
       "Total Stops       0\n",
       "Destination       0\n",
       "Route             0\n",
       "Departure Time    0\n",
       "dtype: int64"
      ]
     },
     "execution_count": 12,
     "metadata": {},
     "output_type": "execute_result"
    }
   ],
   "source": [
    "df.isnull().sum()"
   ]
  },
  {
   "cell_type": "markdown",
   "id": "d3471ade",
   "metadata": {},
   "source": [
    "There is no null values present in this dataset."
   ]
  },
  {
   "cell_type": "code",
   "execution_count": 13,
   "id": "b958a812",
   "metadata": {},
   "outputs": [
    {
     "data": {
      "text/plain": [
       "array(['65,657', '6,122', '2,098', '3,563', '3,170', '3,402', '3,301',\n",
       "       '3,310', '5,942', '6,431', '6,920', 'Rs. 15,771', 'Rs. 6,441',\n",
       "       'Rs. 6,530', 'Rs. 7,959', 'Rs. 6,930', '5,943', 'Rs. 6,006',\n",
       "       'Rs. 6,478', 'Rs. 6,741', 'Rs. 7,418', 'Rs. 5,952', 'Rs. 6,216',\n",
       "       'Rs. 17,399', 'Rs. 16,531', 'Rs. 16,349', 'Rs. 9,366',\n",
       "       'Rs. 11,229', 'Rs. 7,108', '9,356', '7,408', 'Rs. 8,789',\n",
       "       'Rs. 8,730', 'Rs. 9,265', 'Rs. 9,371', 'Rs. 9,859', '7,728',\n",
       "       'Rs. 7,004', 'Rs. 7,266', 'Rs. 7,738', 'Rs. 7,906', 'Rs. 8,001',\n",
       "       'Rs. 8,283', '7,584', '3,303', '3,354', 'Rs. 3,651', 'Rs. 3,873',\n",
       "       'Rs. 3,986', 'Rs. 4,083', 'Rs. 4,133', 'Rs. 4,398', 'Rs. 4,533',\n",
       "       'Rs. 4,588', 'Rs. 5,269', 'Rs. 3,364', 'Rs. 3,599', 'Rs. 3,621',\n",
       "       'Rs. 3,891', 'Rs. 4,311', 'Rs. 4,337', 'Rs. 5,057', '3,641',\n",
       "       '7,423', '5,903', '6,638', 'Rs. 6,648', 'Rs. 6,749', 'Rs. 7,435',\n",
       "       'Rs. 9,850', 'Rs. 9,968', 'Rs. 10,270', 'Rs. 10,506', 'Rs. 10,991',\n",
       "       'Rs. 12,484', 'Rs. 17,606', 'Rs. 22,646', 'Rs. 7,855', 'Rs. 8,800',\n",
       "       'Rs. 12,370', '7,845', 'Rs. 6,132', 'Rs. 6,361', 'Rs. 7,433',\n",
       "       'Rs. 7,436', '5,378', '6,351', '6,739', '2,343', '2,621', '2,341',\n",
       "       '4,901', '5,426', '4,586', '3,710', '5,427', '5,216',\n",
       "       'Not Available', '3,015', '5,954', '7,422', '10,050', '7,425',\n",
       "       '7,938', '6,572', '4,919', '9,777', '4,458', '6,153', '8,778',\n",
       "       '9,361', '6,783', '4,520', '9,277', '6,363', '4,487', '4,526',\n",
       "       '4,325', '5,200', '14,238', '5,103', '5,102', '6,048', '5,560',\n",
       "       '4,648', '4,239', '2,600', '2,762', '3,210', '5,176', '5,179',\n",
       "       '5,634', '4,959', '3,596', '3,431', '6,091', '3,597', '4,434',\n",
       "       '6,017', '6,473', '5,628', '4,106', '3,788', '6,836', '3,177',\n",
       "       '7,412', '7,409', '7,360', '5,994', '3,707', '3,938', '4,326',\n",
       "       '7,413', '4,183', '3,623', '3,989', '5,618', '2,835', '6,139',\n",
       "       '3,894', '2,165', '5,065', '5,941', '5,404', '3,234', '5,177',\n",
       "       '4,995', '3,393', '3,555', '7,803', '5,630'], dtype=object)"
      ]
     },
     "execution_count": 13,
     "metadata": {},
     "output_type": "execute_result"
    }
   ],
   "source": [
    "df[\"Price\"].unique()"
   ]
  },
  {
   "cell_type": "markdown",
   "id": "9ae643f3",
   "metadata": {},
   "source": [
    "There are lots of unique values in df[\"Price\"]."
   ]
  },
  {
   "cell_type": "code",
   "execution_count": 14,
   "id": "bbffb162",
   "metadata": {},
   "outputs": [
    {
     "data": {
      "text/plain": [
       "5,176         52\n",
       "3,707         40\n",
       "7,409         40\n",
       "5,943         32\n",
       "5,942         31\n",
       "              ..\n",
       "Rs. 3,891      1\n",
       "Rs. 10,506     1\n",
       "Rs. 9,366      1\n",
       "Rs. 7,855      1\n",
       "Rs. 4,311      1\n",
       "Name: Price, Length: 171, dtype: int64"
      ]
     },
     "execution_count": 14,
     "metadata": {},
     "output_type": "execute_result"
    }
   ],
   "source": [
    "df[\"Price\"].value_counts()"
   ]
  },
  {
   "cell_type": "markdown",
   "id": "2669a8db",
   "metadata": {},
   "source": [
    "Most values present in first column."
   ]
  },
  {
   "cell_type": "code",
   "execution_count": 15,
   "id": "9f60942a",
   "metadata": {},
   "outputs": [
    {
     "data": {
      "text/html": [
       "<div>\n",
       "<style scoped>\n",
       "    .dataframe tbody tr th:only-of-type {\n",
       "        vertical-align: middle;\n",
       "    }\n",
       "\n",
       "    .dataframe tbody tr th {\n",
       "        vertical-align: top;\n",
       "    }\n",
       "\n",
       "    .dataframe thead th {\n",
       "        text-align: right;\n",
       "    }\n",
       "</style>\n",
       "<table border=\"1\" class=\"dataframe\">\n",
       "  <thead>\n",
       "    <tr style=\"text-align: right;\">\n",
       "      <th></th>\n",
       "      <th>Unnamed: 0</th>\n",
       "    </tr>\n",
       "  </thead>\n",
       "  <tbody>\n",
       "    <tr>\n",
       "      <th>count</th>\n",
       "      <td>907.00000</td>\n",
       "    </tr>\n",
       "    <tr>\n",
       "      <th>mean</th>\n",
       "      <td>454.09151</td>\n",
       "    </tr>\n",
       "    <tr>\n",
       "      <th>std</th>\n",
       "      <td>262.11684</td>\n",
       "    </tr>\n",
       "    <tr>\n",
       "      <th>min</th>\n",
       "      <td>1.00000</td>\n",
       "    </tr>\n",
       "    <tr>\n",
       "      <th>25%</th>\n",
       "      <td>227.50000</td>\n",
       "    </tr>\n",
       "    <tr>\n",
       "      <th>50%</th>\n",
       "      <td>454.00000</td>\n",
       "    </tr>\n",
       "    <tr>\n",
       "      <th>75%</th>\n",
       "      <td>680.50000</td>\n",
       "    </tr>\n",
       "    <tr>\n",
       "      <th>max</th>\n",
       "      <td>908.00000</td>\n",
       "    </tr>\n",
       "  </tbody>\n",
       "</table>\n",
       "</div>"
      ],
      "text/plain": [
       "       Unnamed: 0\n",
       "count   907.00000\n",
       "mean    454.09151\n",
       "std     262.11684\n",
       "min       1.00000\n",
       "25%     227.50000\n",
       "50%     454.00000\n",
       "75%     680.50000\n",
       "max     908.00000"
      ]
     },
     "execution_count": 15,
     "metadata": {},
     "output_type": "execute_result"
    }
   ],
   "source": [
    "df.describe()"
   ]
  },
  {
   "cell_type": "markdown",
   "id": "49ad31a6",
   "metadata": {},
   "source": [
    "# EDA"
   ]
  },
  {
   "cell_type": "code",
   "execution_count": 16,
   "id": "c0808035",
   "metadata": {},
   "outputs": [
    {
     "data": {
      "text/plain": [
       "<AxesSubplot:xlabel='Price', ylabel='count'>"
      ]
     },
     "execution_count": 16,
     "metadata": {},
     "output_type": "execute_result"
    },
    {
     "data": {
      "image/png": "[encoded data removed]",
      "text/plain": [
       "<Figure size 432x288 with 1 Axes>"
      ]
     },
     "metadata": {
      "needs_background": "light"
     },
     "output_type": "display_data"
    }
   ],
   "source": [
    "sns.countplot(df[\"Price\"])"
   ]
  },
  {
   "cell_type": "markdown",
   "id": "a38a67e1",
   "metadata": {},
   "source": [
    "In Price countplot shows what value is high in this column."
   ]
  },
  {
   "cell_type": "code",
   "execution_count": 17,
   "id": "7e955bf3",
   "metadata": {},
   "outputs": [
    {
     "data": {
      "image/png": "[encoded data removed]",
      "text/plain": [
       "<Figure size 1152x432 with 2 Axes>"
      ]
     },
     "metadata": {
      "needs_background": "light"
     },
     "output_type": "display_data"
    }
   ],
   "source": [
    "# example of univariate analysis\n",
    "plt.figure(figsize=[16,6])\n",
    "sns.heatmap(df.isnull())\n",
    "plt.title(\"null values\")\n",
    "plt.show()"
   ]
  },
  {
   "cell_type": "markdown",
   "id": "26dd3bcd",
   "metadata": {},
   "source": [
    "In this plot there is no null values are present."
   ]
  },
  {
   "cell_type": "markdown",
   "id": "ae0067e5",
   "metadata": {},
   "source": [
    "# Label Encoder"
   ]
  },
  {
   "cell_type": "code",
   "execution_count": 18,
   "id": "f261f610",
   "metadata": {},
   "outputs": [],
   "source": [
    "from sklearn import preprocessing\n",
    "from sklearn.preprocessing import LabelEncoder"
   ]
  },
  {
   "cell_type": "code",
   "execution_count": 19,
   "id": "be3a6cc4",
   "metadata": {},
   "outputs": [],
   "source": [
    "# printing all categorical columns\n",
    "\n",
    "obj_list = df.select_dtypes(include = \"object\").columns\n",
    "\n",
    "obj_list\n",
    "\n",
    "\n",
    "\n",
    "# converting all categorical columns into numerical data\n",
    "\n",
    "from sklearn.preprocessing import LabelEncoder\n",
    "\n",
    "le = LabelEncoder()\n",
    "\n",
    "\n",
    "\n",
    "for feature in obj_list:\n",
    "\n",
    "    df[feature] = le.fit_transform(df[feature].astype(str))"
   ]
  },
  {
   "cell_type": "code",
   "execution_count": 20,
   "id": "6eb80804",
   "metadata": {},
   "outputs": [
    {
     "data": {
      "text/plain": [
       "Unnamed: 0        int64\n",
       "AirlineName       int32\n",
       "Arrival Time      int32\n",
       "Duration          int32\n",
       "Price             int32\n",
       "Total Stops       int32\n",
       "Destination       int32\n",
       "Route             int32\n",
       "Departure Time    int32\n",
       "dtype: object"
      ]
     },
     "execution_count": 20,
     "metadata": {},
     "output_type": "execute_result"
    }
   ],
   "source": [
    "df.dtypes"
   ]
  },
  {
   "cell_type": "code",
   "execution_count": 21,
   "id": "a4c2d072",
   "metadata": {},
   "outputs": [
    {
     "data": {
      "image/png": "[encoded data removed]",
      "text/plain": [
       "<Figure size 432x288 with 1 Axes>"
      ]
     },
     "metadata": {
      "needs_background": "light"
     },
     "output_type": "display_data"
    },
    {
     "data": {
      "image/png": "[encoded data removed]",
      "text/plain": [
       "<Figure size 432x288 with 1 Axes>"
      ]
     },
     "metadata": {
      "needs_background": "light"
     },
     "output_type": "display_data"
    },
    {
     "data": {
      "image/png": "[encoded data removed]",
      "text/plain": [
       "<Figure size 432x288 with 1 Axes>"
      ]
     },
     "metadata": {
      "needs_background": "light"
     },
     "output_type": "display_data"
    },
    {
     "data": {
      "image/png": "[encoded data removed]",
      "text/plain": [
       "<Figure size 432x288 with 1 Axes>"
      ]
     },
     "metadata": {
      "needs_background": "light"
     },
     "output_type": "display_data"
    },
    {
     "data": {
      "image/png": "[encoded data removed]",
      "text/plain": [
       "<Figure size 432x288 with 1 Axes>"
      ]
     },
     "metadata": {
      "needs_background": "light"
     },
     "output_type": "display_data"
    },
    {
     "data": {
      "image/png": "[encoded data removed]",
      "text/plain": [
       "<Figure size 432x288 with 1 Axes>"
      ]
     },
     "metadata": {
      "needs_background": "light"
     },
     "output_type": "display_data"
    },
    {
     "data": {
      "image/png": "[encoded data removed]",
      "text/plain": [
       "<Figure size 432x288 with 1 Axes>"
      ]
     },
     "metadata": {
      "needs_background": "light"
     },
     "output_type": "display_data"
    },
    {
     "data": {
      "image/png": "[encoded data removed]",
      "text/plain": [
       "<Figure size 432x288 with 1 Axes>"
      ]
     },
     "metadata": {
      "needs_background": "light"
     },
     "output_type": "display_data"
    }
   ],
   "source": [
    "for col in ['AirlineName', 'Arrival Time', 'Duration', 'Price',\n",
    "       'Total Stops', 'Destination', 'Route', 'Departure Time']:\n",
    "    sns.countplot(df[col].dropna(),orient='v')\n",
    "    plt.title(col)\n",
    "    plt.show()"
   ]
  },
  {
   "cell_type": "markdown",
   "id": "f4b52d72",
   "metadata": {},
   "source": [
    "countplot is used to represent the counts of the observation present in the categorical variable."
   ]
  },
  {
   "cell_type": "code",
   "execution_count": 23,
   "id": "3bcd7b63",
   "metadata": {},
   "outputs": [
    {
     "data": {
      "image/png": "[encoded data removed]",
      "text/plain": [
       "<Figure size 432x288 with 1 Axes>"
      ]
     },
     "metadata": {
      "needs_background": "light"
     },
     "output_type": "display_data"
    },
    {
     "data": {
      "image/png": "[encoded data removed]",
      "text/plain": [
       "<Figure size 432x288 with 1 Axes>"
      ]
     },
     "metadata": {
      "needs_background": "light"
     },
     "output_type": "display_data"
    },
    {
     "data": {
      "image/png": "[encoded data removed]",
      "text/plain": [
       "<Figure size 432x288 with 1 Axes>"
      ]
     },
     "metadata": {
      "needs_background": "light"
     },
     "output_type": "display_data"
    },
    {
     "data": {
      "image/png": "[encoded data removed]",
      "text/plain": [
       "<Figure size 432x288 with 1 Axes>"
      ]
     },
     "metadata": {
      "needs_background": "light"
     },
     "output_type": "display_data"
    },
    {
     "data": {
      "image/png": "[encoded data removed]",
      "text/plain": [
       "<Figure size 432x288 with 1 Axes>"
      ]
     },
     "metadata": {
      "needs_background": "light"
     },
     "output_type": "display_data"
    },
    {
     "data": {
      "image/png": "[encoded data removed]",
      "text/plain": [
       "<Figure size 432x288 with 1 Axes>"
      ]
     },
     "metadata": {
      "needs_background": "light"
     },
     "output_type": "display_data"
    },
    {
     "data": {
      "image/png": "[encoded data removed]",
      "text/plain": [
       "<Figure size 432x288 with 1 Axes>"
      ]
     },
     "metadata": {
      "needs_background": "light"
     },
     "output_type": "display_data"
    },
    {
     "data": {
      "image/png": "[encoded data removed]",
      "text/plain": [
       "<Figure size 432x288 with 1 Axes>"
      ]
     },
     "metadata": {
      "needs_background": "light"
     },
     "output_type": "display_data"
    }
   ],
   "source": [
    "for col in ['AirlineName', 'Arrival Time', 'Duration', 'Price',\n",
    "       'Total Stops', 'Destination', 'Route', 'Departure Time']:\n",
    "    sns.boxplot(df[col].dropna(),orient='v')\n",
    "    plt.title(col)\n",
    "    plt.show()"
   ]
  },
  {
   "cell_type": "markdown",
   "id": "e7f7db1f",
   "metadata": {},
   "source": [
    "Duration and Departure Time this two columns has outliers are present."
   ]
  },
  {
   "cell_type": "code",
   "execution_count": 24,
   "id": "dbaeb60e",
   "metadata": {},
   "outputs": [
    {
     "data": {
      "image/png": "[encoded data removed]",
      "text/plain": [
       "<Figure size 432x288 with 1 Axes>"
      ]
     },
     "metadata": {
      "needs_background": "light"
     },
     "output_type": "display_data"
    },
    {
     "data": {
      "image/png": "[encoded data removed]",
      "text/plain": [
       "<Figure size 432x288 with 1 Axes>"
      ]
     },
     "metadata": {
      "needs_background": "light"
     },
     "output_type": "display_data"
    },
    {
     "data": {
      "image/png": "[encoded data removed]",
      "text/plain": [
       "<Figure size 432x288 with 1 Axes>"
      ]
     },
     "metadata": {
      "needs_background": "light"
     },
     "output_type": "display_data"
    },
    {
     "data": {
      "image/png": "[encoded data removed]",
      "text/plain": [
       "<Figure size 432x288 with 1 Axes>"
      ]
     },
     "metadata": {
      "needs_background": "light"
     },
     "output_type": "display_data"
    },
    {
     "data": {
      "image/png": "[encoded data removed]",
      "text/plain": [
       "<Figure size 432x288 with 1 Axes>"
      ]
     },
     "metadata": {
      "needs_background": "light"
     },
     "output_type": "display_data"
    },
    {
     "data": {
      "image/png": "[encoded data removed]",
      "text/plain": [
       "<Figure size 432x288 with 1 Axes>"
      ]
     },
     "metadata": {
      "needs_background": "light"
     },
     "output_type": "display_data"
    },
    {
     "data": {
      "image/png": "[encoded data removed]",
      "text/plain": [
       "<Figure size 432x288 with 1 Axes>"
      ]
     },
     "metadata": {
      "needs_background": "light"
     },
     "output_type": "display_data"
    },
    {
     "data": {
      "image/png": "[encoded data removed]",
      "text/plain": [
       "<Figure size 432x288 with 1 Axes>"
      ]
     },
     "metadata": {
      "needs_background": "light"
     },
     "output_type": "display_data"
    }
   ],
   "source": [
    "for col in ['AirlineName', 'Arrival Time', 'Duration', 'Price',\n",
    "       'Total Stops', 'Destination', 'Route', 'Departure Time']:\n",
    "    sns.distplot(df[col])\n",
    "    plt.title(col)\n",
    "    plt.show()"
   ]
  },
  {
   "cell_type": "markdown",
   "id": "75b48ea5",
   "metadata": {},
   "source": [
    "In given plots shows the data is normally distributed or not."
   ]
  },
  {
   "cell_type": "code",
   "execution_count": 26,
   "id": "15eb0678",
   "metadata": {},
   "outputs": [
    {
     "name": "stderr",
     "output_type": "stream",
     "text": [
      "*c* argument looks like a single numeric RGB or RGBA sequence, which should be avoided as value-mapping will have precedence in case its length matches with *x* & *y*.  Please use the *color* keyword-argument or provide a 2-D array with a single row if you intend to specify the same RGB or RGBA value for all points.\n"
     ]
    },
    {
     "data": {
      "image/png": "[encoded data removed]",
      "text/plain": [
       "<Figure size 432x288 with 1 Axes>"
      ]
     },
     "metadata": {
      "needs_background": "light"
     },
     "output_type": "display_data"
    }
   ],
   "source": [
    "# example of Bivariate analysis\n",
    "plt.scatter(df[\"AirlineName\"],df[\"Arrival Time\"],alpha=0.3,c=(0,0,0),edgecolors='r')   \n",
    "plt.title(\"AirlineName vs Arrival Time\")\n",
    "plt.show()"
   ]
  },
  {
   "cell_type": "markdown",
   "id": "673c666a",
   "metadata": {},
   "source": [
    "In this plot outliers are present."
   ]
  },
  {
   "cell_type": "code",
   "execution_count": 28,
   "id": "ff137b63",
   "metadata": {},
   "outputs": [
    {
     "name": "stderr",
     "output_type": "stream",
     "text": [
      "*c* argument looks like a single numeric RGB or RGBA sequence, which should be avoided as value-mapping will have precedence in case its length matches with *x* & *y*.  Please use the *color* keyword-argument or provide a 2-D array with a single row if you intend to specify the same RGB or RGBA value for all points.\n"
     ]
    },
    {
     "data": {
      "image/png": "[encoded data removed]",
      "text/plain": [
       "<Figure size 432x288 with 1 Axes>"
      ]
     },
     "metadata": {
      "needs_background": "light"
     },
     "output_type": "display_data"
    }
   ],
   "source": [
    "plt.scatter(df[\"AirlineName\"],df[\"Duration\"],alpha=0.3,c=(0,0,0),edgecolors='r')   \n",
    "plt.title(\"AirlineName vs Duration\")\n",
    "plt.show()"
   ]
  },
  {
   "cell_type": "markdown",
   "id": "b49acf04",
   "metadata": {},
   "source": [
    "In this plot outliers are present."
   ]
  },
  {
   "cell_type": "code",
   "execution_count": 29,
   "id": "c5a04644",
   "metadata": {},
   "outputs": [
    {
     "name": "stderr",
     "output_type": "stream",
     "text": [
      "*c* argument looks like a single numeric RGB or RGBA sequence, which should be avoided as value-mapping will have precedence in case its length matches with *x* & *y*.  Please use the *color* keyword-argument or provide a 2-D array with a single row if you intend to specify the same RGB or RGBA value for all points.\n"
     ]
    },
    {
     "data": {
      "image/png": "[encoded data removed]",
      "text/plain": [
       "<Figure size 432x288 with 1 Axes>"
      ]
     },
     "metadata": {
      "needs_background": "light"
     },
     "output_type": "display_data"
    }
   ],
   "source": [
    "plt.scatter(df[\"AirlineName\"],df[\"Price\"],alpha=0.3,c=(0,0,0),edgecolors='r')   \n",
    "plt.title(\"AirlineName vs Price\")\n",
    "plt.show()"
   ]
  },
  {
   "cell_type": "markdown",
   "id": "0bddc4cc",
   "metadata": {},
   "source": [
    "In this plot outliers are present."
   ]
  },
  {
   "cell_type": "code",
   "execution_count": 30,
   "id": "4a7c0821",
   "metadata": {},
   "outputs": [
    {
     "name": "stderr",
     "output_type": "stream",
     "text": [
      "*c* argument looks like a single numeric RGB or RGBA sequence, which should be avoided as value-mapping will have precedence in case its length matches with *x* & *y*.  Please use the *color* keyword-argument or provide a 2-D array with a single row if you intend to specify the same RGB or RGBA value for all points.\n"
     ]
    },
    {
     "data": {
      "image/png": "[encoded data removed]",
      "text/plain": [
       "<Figure size 432x288 with 1 Axes>"
      ]
     },
     "metadata": {
      "needs_background": "light"
     },
     "output_type": "display_data"
    }
   ],
   "source": [
    "plt.scatter(df[\"AirlineName\"],df[\"Destination\"],alpha=0.3,c=(0,0,0),edgecolors='r')   \n",
    "plt.title(\"AirlineName vs Destination\")\n",
    "plt.show()"
   ]
  },
  {
   "cell_type": "markdown",
   "id": "8dd93a0a",
   "metadata": {},
   "source": [
    "In this plot outliers are present."
   ]
  },
  {
   "cell_type": "code",
   "execution_count": 32,
   "id": "10ba5f7b",
   "metadata": {},
   "outputs": [
    {
     "name": "stderr",
     "output_type": "stream",
     "text": [
      "*c* argument looks like a single numeric RGB or RGBA sequence, which should be avoided as value-mapping will have precedence in case its length matches with *x* & *y*.  Please use the *color* keyword-argument or provide a 2-D array with a single row if you intend to specify the same RGB or RGBA value for all points.\n"
     ]
    },
    {
     "data": {
      "image/png": "[encoded data removed]",
      "text/plain": [
       "<Figure size 432x288 with 1 Axes>"
      ]
     },
     "metadata": {
      "needs_background": "light"
     },
     "output_type": "display_data"
    }
   ],
   "source": [
    "plt.scatter(df[\"Arrival Time\"],df[\"Duration\"],alpha=0.3,c=(0,0,0),edgecolors='r')   \n",
    "plt.title(\"Arrival Time vs Duration\")\n",
    "plt.show()"
   ]
  },
  {
   "cell_type": "markdown",
   "id": "1b7b93e3",
   "metadata": {},
   "source": [
    "In this plot outliers are present."
   ]
  },
  {
   "cell_type": "code",
   "execution_count": 34,
   "id": "c2e51107",
   "metadata": {},
   "outputs": [
    {
     "name": "stderr",
     "output_type": "stream",
     "text": [
      "*c* argument looks like a single numeric RGB or RGBA sequence, which should be avoided as value-mapping will have precedence in case its length matches with *x* & *y*.  Please use the *color* keyword-argument or provide a 2-D array with a single row if you intend to specify the same RGB or RGBA value for all points.\n"
     ]
    },
    {
     "data": {
      "image/png": "[encoded data removed]",
      "text/plain": [
       "<Figure size 432x288 with 1 Axes>"
      ]
     },
     "metadata": {
      "needs_background": "light"
     },
     "output_type": "display_data"
    }
   ],
   "source": [
    "plt.scatter(df[\"AirlineName\"],df[\"Price\"],alpha=0.3,c=(0,0,0),edgecolors='r')   \n",
    "plt.title(\"AirlineName vs Price\")\n",
    "plt.show()"
   ]
  },
  {
   "cell_type": "markdown",
   "id": "e84ae986",
   "metadata": {},
   "source": [
    "In this plot outliers are present."
   ]
  },
  {
   "cell_type": "code",
   "execution_count": 36,
   "id": "f4085886",
   "metadata": {},
   "outputs": [
    {
     "name": "stderr",
     "output_type": "stream",
     "text": [
      "*c* argument looks like a single numeric RGB or RGBA sequence, which should be avoided as value-mapping will have precedence in case its length matches with *x* & *y*.  Please use the *color* keyword-argument or provide a 2-D array with a single row if you intend to specify the same RGB or RGBA value for all points.\n"
     ]
    },
    {
     "data": {
      "image/png": "[encoded data removed]",
      "text/plain": [
       "<Figure size 432x288 with 1 Axes>"
      ]
     },
     "metadata": {
      "needs_background": "light"
     },
     "output_type": "display_data"
    }
   ],
   "source": [
    "plt.scatter(df[\"AirlineName\"],df[\"Total Stops\"],alpha=0.3,c=(0,0,0),edgecolors='r')   \n",
    "plt.title(\"AirlineName vs Total Stops\")\n",
    "plt.show()"
   ]
  },
  {
   "cell_type": "markdown",
   "id": "848ac0f0",
   "metadata": {},
   "source": [
    "In this plot outliers are present."
   ]
  },
  {
   "cell_type": "markdown",
   "id": "2c90516c",
   "metadata": {},
   "source": [
    "# checking correlation"
   ]
  },
  {
   "cell_type": "code",
   "execution_count": 37,
   "id": "11d94b63",
   "metadata": {},
   "outputs": [
    {
     "data": {
      "text/html": [
       "<div>\n",
       "<style scoped>\n",
       "    .dataframe tbody tr th:only-of-type {\n",
       "        vertical-align: middle;\n",
       "    }\n",
       "\n",
       "    .dataframe tbody tr th {\n",
       "        vertical-align: top;\n",
       "    }\n",
       "\n",
       "    .dataframe thead th {\n",
       "        text-align: right;\n",
       "    }\n",
       "</style>\n",
       "<table border=\"1\" class=\"dataframe\">\n",
       "  <thead>\n",
       "    <tr style=\"text-align: right;\">\n",
       "      <th></th>\n",
       "      <th>Unnamed: 0</th>\n",
       "      <th>AirlineName</th>\n",
       "      <th>Arrival Time</th>\n",
       "      <th>Duration</th>\n",
       "      <th>Price</th>\n",
       "      <th>Total Stops</th>\n",
       "      <th>Destination</th>\n",
       "      <th>Route</th>\n",
       "      <th>Departure Time</th>\n",
       "    </tr>\n",
       "  </thead>\n",
       "  <tbody>\n",
       "    <tr>\n",
       "      <th>Unnamed: 0</th>\n",
       "      <td>1.000000</td>\n",
       "      <td>-0.227323</td>\n",
       "      <td>-0.094573</td>\n",
       "      <td>-0.375713</td>\n",
       "      <td>-0.473478</td>\n",
       "      <td>-0.169338</td>\n",
       "      <td>0.127001</td>\n",
       "      <td>0.054316</td>\n",
       "      <td>0.034073</td>\n",
       "    </tr>\n",
       "    <tr>\n",
       "      <th>AirlineName</th>\n",
       "      <td>-0.227323</td>\n",
       "      <td>1.000000</td>\n",
       "      <td>0.214461</td>\n",
       "      <td>0.083868</td>\n",
       "      <td>0.178305</td>\n",
       "      <td>0.098290</td>\n",
       "      <td>0.129101</td>\n",
       "      <td>-0.188815</td>\n",
       "      <td>-0.109779</td>\n",
       "    </tr>\n",
       "    <tr>\n",
       "      <th>Arrival Time</th>\n",
       "      <td>-0.094573</td>\n",
       "      <td>0.214461</td>\n",
       "      <td>1.000000</td>\n",
       "      <td>-0.082295</td>\n",
       "      <td>-0.070074</td>\n",
       "      <td>0.024473</td>\n",
       "      <td>-0.173792</td>\n",
       "      <td>-0.095301</td>\n",
       "      <td>-0.085651</td>\n",
       "    </tr>\n",
       "    <tr>\n",
       "      <th>Duration</th>\n",
       "      <td>-0.375713</td>\n",
       "      <td>0.083868</td>\n",
       "      <td>-0.082295</td>\n",
       "      <td>1.000000</td>\n",
       "      <td>0.616919</td>\n",
       "      <td>0.311256</td>\n",
       "      <td>0.067491</td>\n",
       "      <td>0.181031</td>\n",
       "      <td>-0.022725</td>\n",
       "    </tr>\n",
       "    <tr>\n",
       "      <th>Price</th>\n",
       "      <td>-0.473478</td>\n",
       "      <td>0.178305</td>\n",
       "      <td>-0.070074</td>\n",
       "      <td>0.616919</td>\n",
       "      <td>1.000000</td>\n",
       "      <td>0.296095</td>\n",
       "      <td>0.056840</td>\n",
       "      <td>0.154641</td>\n",
       "      <td>-0.066255</td>\n",
       "    </tr>\n",
       "    <tr>\n",
       "      <th>Total Stops</th>\n",
       "      <td>-0.169338</td>\n",
       "      <td>0.098290</td>\n",
       "      <td>0.024473</td>\n",
       "      <td>0.311256</td>\n",
       "      <td>0.296095</td>\n",
       "      <td>1.000000</td>\n",
       "      <td>0.014986</td>\n",
       "      <td>0.120414</td>\n",
       "      <td>-0.038856</td>\n",
       "    </tr>\n",
       "    <tr>\n",
       "      <th>Destination</th>\n",
       "      <td>0.127001</td>\n",
       "      <td>0.129101</td>\n",
       "      <td>-0.173792</td>\n",
       "      <td>0.067491</td>\n",
       "      <td>0.056840</td>\n",
       "      <td>0.014986</td>\n",
       "      <td>1.000000</td>\n",
       "      <td>0.090136</td>\n",
       "      <td>-0.119768</td>\n",
       "    </tr>\n",
       "    <tr>\n",
       "      <th>Route</th>\n",
       "      <td>0.054316</td>\n",
       "      <td>-0.188815</td>\n",
       "      <td>-0.095301</td>\n",
       "      <td>0.181031</td>\n",
       "      <td>0.154641</td>\n",
       "      <td>0.120414</td>\n",
       "      <td>0.090136</td>\n",
       "      <td>1.000000</td>\n",
       "      <td>-0.084124</td>\n",
       "    </tr>\n",
       "    <tr>\n",
       "      <th>Departure Time</th>\n",
       "      <td>0.034073</td>\n",
       "      <td>-0.109779</td>\n",
       "      <td>-0.085651</td>\n",
       "      <td>-0.022725</td>\n",
       "      <td>-0.066255</td>\n",
       "      <td>-0.038856</td>\n",
       "      <td>-0.119768</td>\n",
       "      <td>-0.084124</td>\n",
       "      <td>1.000000</td>\n",
       "    </tr>\n",
       "  </tbody>\n",
       "</table>\n",
       "</div>"
      ],
      "text/plain": [
       "                Unnamed: 0  AirlineName  Arrival Time  Duration     Price  \\\n",
       "Unnamed: 0        1.000000    -0.227323     -0.094573 -0.375713 -0.473478   \n",
       "AirlineName      -0.227323     1.000000      0.214461  0.083868  0.178305   \n",
       "Arrival Time     -0.094573     0.214461      1.000000 -0.082295 -0.070074   \n",
       "Duration         -0.375713     0.083868     -0.082295  1.000000  0.616919   \n",
       "Price            -0.473478     0.178305     -0.070074  0.616919  1.000000   \n",
       "Total Stops      -0.169338     0.098290      0.024473  0.311256  0.296095   \n",
       "Destination       0.127001     0.129101     -0.173792  0.067491  0.056840   \n",
       "Route             0.054316    -0.188815     -0.095301  0.181031  0.154641   \n",
       "Departure Time    0.034073    -0.109779     -0.085651 -0.022725 -0.066255   \n",
       "\n",
       "                Total Stops  Destination     Route  Departure Time  \n",
       "Unnamed: 0        -0.169338     0.127001  0.054316        0.034073  \n",
       "AirlineName        0.098290     0.129101 -0.188815       -0.109779  \n",
       "Arrival Time       0.024473    -0.173792 -0.095301       -0.085651  \n",
       "Duration           0.311256     0.067491  0.181031       -0.022725  \n",
       "Price              0.296095     0.056840  0.154641       -0.066255  \n",
       "Total Stops        1.000000     0.014986  0.120414       -0.038856  \n",
       "Destination        0.014986     1.000000  0.090136       -0.119768  \n",
       "Route              0.120414     0.090136  1.000000       -0.084124  \n",
       "Departure Time    -0.038856    -0.119768 -0.084124        1.000000  "
      ]
     },
     "execution_count": 37,
     "metadata": {},
     "output_type": "execute_result"
    }
   ],
   "source": [
    " # example of multi variate analysis    \n",
    "cor=df.corr() \n",
    "cor"
   ]
  },
  {
   "cell_type": "markdown",
   "id": "db1ce9b3",
   "metadata": {},
   "source": [
    "This column is checking correlation between different different columns."
   ]
  },
  {
   "cell_type": "code",
   "execution_count": 38,
   "id": "9433d736",
   "metadata": {},
   "outputs": [
    {
     "data": {
      "image/png": "[encoded data removed]",
      "text/plain": [
       "<Figure size 1584x1440 with 2 Axes>"
      ]
     },
     "metadata": {
      "needs_background": "light"
     },
     "output_type": "display_data"
    }
   ],
   "source": [
    "# example of Multivariate  analysis\n",
    "\n",
    "plt.figure(figsize=[22,20])\n",
    "sns.heatmap(cor,annot=True)\n",
    "plt.title(\"Correlation Matrix\")\n",
    "plt.show()"
   ]
  },
  {
   "cell_type": "markdown",
   "id": "e4ce6052",
   "metadata": {},
   "source": [
    "I am using seaborn heatmap to plot the correlated matrix and plot the corr value in the heatmap graph. In this graph is bad correlation bewteen all columns."
   ]
  },
  {
   "cell_type": "markdown",
   "id": "807d54b7",
   "metadata": {},
   "source": [
    "# correlation matrix"
   ]
  },
  {
   "cell_type": "code",
   "execution_count": 39,
   "id": "c7a3eba5",
   "metadata": {},
   "outputs": [
    {
     "data": {
      "text/plain": [
       "Price             1.000000\n",
       "Duration          0.616919\n",
       "Total Stops       0.296095\n",
       "AirlineName       0.178305\n",
       "Route             0.154641\n",
       "Destination       0.056840\n",
       "Departure Time   -0.066255\n",
       "Arrival Time     -0.070074\n",
       "Unnamed: 0       -0.473478\n",
       "Name: Price, dtype: float64"
      ]
     },
     "execution_count": 39,
     "metadata": {},
     "output_type": "execute_result"
    }
   ],
   "source": [
    "corr_matrix=df.corr()\n",
    "corr_matrix[\"Price\"].sort_values(ascending=False)"
   ]
  },
  {
   "cell_type": "markdown",
   "id": "be555adb",
   "metadata": {},
   "source": [
    "I am finding the correlation value of each column. Their are identify the corrlation of independent variable with target variable \"Price\"."
   ]
  },
  {
   "cell_type": "markdown",
   "id": "c4264a09",
   "metadata": {},
   "source": [
    "# outlier removal"
   ]
  },
  {
   "cell_type": "code",
   "execution_count": 40,
   "id": "2a9feffc",
   "metadata": {},
   "outputs": [],
   "source": [
    "from scipy.stats import zscore\n",
    "z=np.abs(zscore(df))\n",
    "\n",
    "new_df=df[(z<4).all(axis=1)]"
   ]
  },
  {
   "cell_type": "code",
   "execution_count": 41,
   "id": "e634c440",
   "metadata": {},
   "outputs": [
    {
     "data": {
      "text/html": [
       "<div>\n",
       "<style scoped>\n",
       "    .dataframe tbody tr th:only-of-type {\n",
       "        vertical-align: middle;\n",
       "    }\n",
       "\n",
       "    .dataframe tbody tr th {\n",
       "        vertical-align: top;\n",
       "    }\n",
       "\n",
       "    .dataframe thead th {\n",
       "        text-align: right;\n",
       "    }\n",
       "</style>\n",
       "<table border=\"1\" class=\"dataframe\">\n",
       "  <thead>\n",
       "    <tr style=\"text-align: right;\">\n",
       "      <th></th>\n",
       "      <th>Unnamed: 0</th>\n",
       "      <th>AirlineName</th>\n",
       "      <th>Arrival Time</th>\n",
       "      <th>Duration</th>\n",
       "      <th>Price</th>\n",
       "      <th>Total Stops</th>\n",
       "      <th>Destination</th>\n",
       "      <th>Route</th>\n",
       "      <th>Departure Time</th>\n",
       "    </tr>\n",
       "  </thead>\n",
       "  <tbody>\n",
       "    <tr>\n",
       "      <th>0</th>\n",
       "      <td>1</td>\n",
       "      <td>17</td>\n",
       "      <td>70</td>\n",
       "      <td>23</td>\n",
       "      <td>89</td>\n",
       "      <td>3</td>\n",
       "      <td>21</td>\n",
       "      <td>127</td>\n",
       "      <td>1</td>\n",
       "    </tr>\n",
       "    <tr>\n",
       "      <th>1</th>\n",
       "      <td>2</td>\n",
       "      <td>3</td>\n",
       "      <td>72</td>\n",
       "      <td>36</td>\n",
       "      <td>76</td>\n",
       "      <td>3</td>\n",
       "      <td>21</td>\n",
       "      <td>65</td>\n",
       "      <td>1</td>\n",
       "    </tr>\n",
       "    <tr>\n",
       "      <th>2</th>\n",
       "      <td>3</td>\n",
       "      <td>3</td>\n",
       "      <td>53</td>\n",
       "      <td>29</td>\n",
       "      <td>2</td>\n",
       "      <td>5</td>\n",
       "      <td>21</td>\n",
       "      <td>69</td>\n",
       "      <td>1</td>\n",
       "    </tr>\n",
       "    <tr>\n",
       "      <th>3</th>\n",
       "      <td>4</td>\n",
       "      <td>3</td>\n",
       "      <td>5</td>\n",
       "      <td>32</td>\n",
       "      <td>23</td>\n",
       "      <td>4</td>\n",
       "      <td>21</td>\n",
       "      <td>83</td>\n",
       "      <td>1</td>\n",
       "    </tr>\n",
       "    <tr>\n",
       "      <th>4</th>\n",
       "      <td>5</td>\n",
       "      <td>31</td>\n",
       "      <td>75</td>\n",
       "      <td>50</td>\n",
       "      <td>11</td>\n",
       "      <td>3</td>\n",
       "      <td>1</td>\n",
       "      <td>40</td>\n",
       "      <td>1</td>\n",
       "    </tr>\n",
       "    <tr>\n",
       "      <th>...</th>\n",
       "      <td>...</td>\n",
       "      <td>...</td>\n",
       "      <td>...</td>\n",
       "      <td>...</td>\n",
       "      <td>...</td>\n",
       "      <td>...</td>\n",
       "      <td>...</td>\n",
       "      <td>...</td>\n",
       "      <td>...</td>\n",
       "    </tr>\n",
       "    <tr>\n",
       "      <th>902</th>\n",
       "      <td>904</td>\n",
       "      <td>18</td>\n",
       "      <td>141</td>\n",
       "      <td>29</td>\n",
       "      <td>25</td>\n",
       "      <td>5</td>\n",
       "      <td>15</td>\n",
       "      <td>97</td>\n",
       "      <td>1</td>\n",
       "    </tr>\n",
       "    <tr>\n",
       "      <th>903</th>\n",
       "      <td>905</td>\n",
       "      <td>18</td>\n",
       "      <td>141</td>\n",
       "      <td>29</td>\n",
       "      <td>25</td>\n",
       "      <td>3</td>\n",
       "      <td>15</td>\n",
       "      <td>97</td>\n",
       "      <td>1</td>\n",
       "    </tr>\n",
       "    <tr>\n",
       "      <th>904</th>\n",
       "      <td>906</td>\n",
       "      <td>0</td>\n",
       "      <td>62</td>\n",
       "      <td>63</td>\n",
       "      <td>53</td>\n",
       "      <td>3</td>\n",
       "      <td>15</td>\n",
       "      <td>120</td>\n",
       "      <td>1</td>\n",
       "    </tr>\n",
       "    <tr>\n",
       "      <th>905</th>\n",
       "      <td>907</td>\n",
       "      <td>31</td>\n",
       "      <td>3</td>\n",
       "      <td>32</td>\n",
       "      <td>100</td>\n",
       "      <td>3</td>\n",
       "      <td>15</td>\n",
       "      <td>60</td>\n",
       "      <td>1</td>\n",
       "    </tr>\n",
       "    <tr>\n",
       "      <th>906</th>\n",
       "      <td>908</td>\n",
       "      <td>31</td>\n",
       "      <td>2</td>\n",
       "      <td>30</td>\n",
       "      <td>65</td>\n",
       "      <td>3</td>\n",
       "      <td>15</td>\n",
       "      <td>62</td>\n",
       "      <td>1</td>\n",
       "    </tr>\n",
       "  </tbody>\n",
       "</table>\n",
       "<p>902 rows × 9 columns</p>\n",
       "</div>"
      ],
      "text/plain": [
       "     Unnamed: 0  AirlineName  Arrival Time  Duration  Price  Total Stops  \\\n",
       "0             1           17            70        23     89            3   \n",
       "1             2            3            72        36     76            3   \n",
       "2             3            3            53        29      2            5   \n",
       "3             4            3             5        32     23            4   \n",
       "4             5           31            75        50     11            3   \n",
       "..          ...          ...           ...       ...    ...          ...   \n",
       "902         904           18           141        29     25            5   \n",
       "903         905           18           141        29     25            3   \n",
       "904         906            0            62        63     53            3   \n",
       "905         907           31             3        32    100            3   \n",
       "906         908           31             2        30     65            3   \n",
       "\n",
       "     Destination  Route  Departure Time  \n",
       "0             21    127               1  \n",
       "1             21     65               1  \n",
       "2             21     69               1  \n",
       "3             21     83               1  \n",
       "4              1     40               1  \n",
       "..           ...    ...             ...  \n",
       "902           15     97               1  \n",
       "903           15     97               1  \n",
       "904           15    120               1  \n",
       "905           15     60               1  \n",
       "906           15     62               1  \n",
       "\n",
       "[902 rows x 9 columns]"
      ]
     },
     "execution_count": 41,
     "metadata": {},
     "output_type": "execute_result"
    }
   ],
   "source": [
    "new_df"
   ]
  },
  {
   "cell_type": "code",
   "execution_count": 42,
   "id": "25a480a2",
   "metadata": {},
   "outputs": [
    {
     "data": {
      "text/plain": [
       "(902, 9)"
      ]
     },
     "execution_count": 42,
     "metadata": {},
     "output_type": "execute_result"
    }
   ],
   "source": [
    "new_df.shape"
   ]
  },
  {
   "cell_type": "code",
   "execution_count": 43,
   "id": "45d5ca30",
   "metadata": {},
   "outputs": [
    {
     "data": {
      "text/plain": [
       "(907, 9)"
      ]
     },
     "execution_count": 43,
     "metadata": {},
     "output_type": "execute_result"
    }
   ],
   "source": [
    "df.shape"
   ]
  },
  {
   "cell_type": "code",
   "execution_count": 44,
   "id": "04ec7197",
   "metadata": {},
   "outputs": [
    {
     "data": {
      "text/plain": [
       "0.5512679162072767"
      ]
     },
     "execution_count": 44,
     "metadata": {},
     "output_type": "execute_result"
    }
   ],
   "source": [
    "(5/907)*100"
   ]
  },
  {
   "cell_type": "markdown",
   "id": "890c8feb",
   "metadata": {},
   "source": [
    "outliers has been removed."
   ]
  },
  {
   "cell_type": "markdown",
   "id": "0f6d1099",
   "metadata": {},
   "source": [
    "# Skewness"
   ]
  },
  {
   "cell_type": "code",
   "execution_count": 45,
   "id": "89f25698",
   "metadata": {},
   "outputs": [],
   "source": [
    "x=df.drop(\"Price\",axis=1)\n",
    "y=df[\"Price\"]"
   ]
  },
  {
   "cell_type": "code",
   "execution_count": 46,
   "id": "1df06358",
   "metadata": {},
   "outputs": [
    {
     "data": {
      "text/plain": [
       "Unnamed: 0         0.001562\n",
       "AirlineName        0.456771\n",
       "Arrival Time       0.108150\n",
       "Duration           1.023928\n",
       "Total Stops       -0.073232\n",
       "Destination        0.115380\n",
       "Route             -0.347697\n",
       "Departure Time   -13.378990\n",
       "dtype: float64"
      ]
     },
     "execution_count": 46,
     "metadata": {},
     "output_type": "execute_result"
    }
   ],
   "source": [
    "x.skew()"
   ]
  },
  {
   "cell_type": "code",
   "execution_count": 47,
   "id": "aed16404",
   "metadata": {},
   "outputs": [],
   "source": [
    "from sklearn.preprocessing import power_transform\n",
    "new_df=power_transform(x)\n",
    "\n",
    "new_df=pd.DataFrame(new_df,columns=x.columns)"
   ]
  },
  {
   "cell_type": "code",
   "execution_count": 48,
   "id": "c01be18c",
   "metadata": {},
   "outputs": [
    {
     "data": {
      "text/plain": [
       "Unnamed: 0        -0.282800\n",
       "AirlineName       -0.280926\n",
       "Arrival Time      -0.220113\n",
       "Duration           0.011269\n",
       "Total Stops       -0.076922\n",
       "Destination       -0.111638\n",
       "Route             -0.343745\n",
       "Departure Time   -13.378990\n",
       "dtype: float64"
      ]
     },
     "execution_count": 48,
     "metadata": {},
     "output_type": "execute_result"
    }
   ],
   "source": [
    "new_df.skew()"
   ]
  },
  {
   "cell_type": "markdown",
   "id": "f0f7311d",
   "metadata": {},
   "source": [
    "skewness has been removed."
   ]
  },
  {
   "cell_type": "code",
   "execution_count": 49,
   "id": "ea00b58a",
   "metadata": {},
   "outputs": [
    {
     "data": {
      "image/png": "[encoded data removed]",
      "text/plain": [
       "<Figure size 1440x576 with 1 Axes>"
      ]
     },
     "metadata": {
      "needs_background": "light"
     },
     "output_type": "display_data"
    }
   ],
   "source": [
    "x.boxplot(figsize=[20,8])\n",
    "plt.subplots_adjust(bottom=0.25)\n",
    "plt.show()"
   ]
  },
  {
   "cell_type": "markdown",
   "id": "a5076c0c",
   "metadata": {},
   "source": [
    "All outliers are removed in this plot."
   ]
  },
  {
   "cell_type": "markdown",
   "id": "30ca2438",
   "metadata": {},
   "source": [
    "# standard scaler"
   ]
  },
  {
   "cell_type": "code",
   "execution_count": 50,
   "id": "17e37e23",
   "metadata": {},
   "outputs": [],
   "source": [
    "from sklearn.preprocessing import StandardScaler\n",
    "\n",
    "scaling=StandardScaler()\n",
    "scaledX=scaling.fit_transform(df)"
   ]
  },
  {
   "cell_type": "code",
   "execution_count": 51,
   "id": "e64c1162",
   "metadata": {},
   "outputs": [
    {
     "data": {
      "text/plain": [
       "array([[-1.72953974, -0.21325643, -0.11188034, ...,  1.50293941,\n",
       "         1.34496766,  0.07445292],\n",
       "       [-1.72572255, -0.99050391, -0.06495527, ...,  1.50293941,\n",
       "        -0.32187336,  0.07445292],\n",
       "       [-1.72190535, -0.99050391, -0.51074343, ...,  1.50293941,\n",
       "        -0.21433523,  0.07445292],\n",
       "       ...,\n",
       "       [ 1.72502392, -1.15705694, -0.29958062, ...,  0.44594842,\n",
       "         1.15677593,  0.07445292],\n",
       "       [ 1.72884112,  0.56399104, -1.68387018, ...,  0.44594842,\n",
       "        -0.45629603,  0.07445292],\n",
       "       [ 1.73265831,  0.56399104, -1.70733272, ...,  0.44594842,\n",
       "        -0.40252696,  0.07445292]])"
      ]
     },
     "execution_count": 51,
     "metadata": {},
     "output_type": "execute_result"
    }
   ],
   "source": [
    "scaledX"
   ]
  },
  {
   "cell_type": "markdown",
   "id": "abd97d53",
   "metadata": {},
   "source": [
    "# PCA"
   ]
  },
  {
   "cell_type": "code",
   "execution_count": 52,
   "id": "8857ec7b",
   "metadata": {},
   "outputs": [],
   "source": [
    "from sklearn.decomposition import PCA\n",
    "\n",
    "testpca=PCA()\n",
    "Y=testpca.fit(scaledX)"
   ]
  },
  {
   "cell_type": "code",
   "execution_count": 53,
   "id": "fe3b145f",
   "metadata": {},
   "outputs": [
    {
     "data": {
      "text/plain": [
       "array([0.25187467, 0.16072698, 0.1336085 , 0.113781  , 0.09461494,\n",
       "       0.08276381, 0.06494448, 0.0574573 , 0.04022831])"
      ]
     },
     "execution_count": 53,
     "metadata": {},
     "output_type": "execute_result"
    }
   ],
   "source": [
    "Y.explained_variance_ratio_"
   ]
  },
  {
   "cell_type": "code",
   "execution_count": 54,
   "id": "4d7be73a",
   "metadata": {},
   "outputs": [
    {
     "data": {
      "text/plain": [
       "array([ 25.18746652,  41.2601643 ,  54.6210146 ,  65.99911504,\n",
       "        75.46060941,  83.73699081,  90.23143855,  95.97716905,\n",
       "       100.        ])"
      ]
     },
     "execution_count": 54,
     "metadata": {},
     "output_type": "execute_result"
    }
   ],
   "source": [
    "var_cumu=np.cumsum(Y.explained_variance_ratio_)*100\n",
    "var_cumu"
   ]
  },
  {
   "cell_type": "code",
   "execution_count": 55,
   "id": "99c22027",
   "metadata": {},
   "outputs": [],
   "source": [
    "FinalPCA=PCA(n_components=6)\n",
    "FinalData=FinalPCA.fit_transform(scaledX)"
   ]
  },
  {
   "cell_type": "code",
   "execution_count": 56,
   "id": "a6b4d00a",
   "metadata": {},
   "outputs": [
    {
     "data": {
      "text/html": [
       "<div>\n",
       "<style scoped>\n",
       "    .dataframe tbody tr th:only-of-type {\n",
       "        vertical-align: middle;\n",
       "    }\n",
       "\n",
       "    .dataframe tbody tr th {\n",
       "        vertical-align: top;\n",
       "    }\n",
       "\n",
       "    .dataframe thead th {\n",
       "        text-align: right;\n",
       "    }\n",
       "</style>\n",
       "<table border=\"1\" class=\"dataframe\">\n",
       "  <thead>\n",
       "    <tr style=\"text-align: right;\">\n",
       "      <th></th>\n",
       "      <th>0</th>\n",
       "      <th>1</th>\n",
       "      <th>2</th>\n",
       "      <th>3</th>\n",
       "      <th>4</th>\n",
       "      <th>5</th>\n",
       "    </tr>\n",
       "  </thead>\n",
       "  <tbody>\n",
       "    <tr>\n",
       "      <th>0</th>\n",
       "      <td>0.539274</td>\n",
       "      <td>0.648563</td>\n",
       "      <td>0.649656</td>\n",
       "      <td>-0.260644</td>\n",
       "      <td>1.082788</td>\n",
       "      <td>-1.510545</td>\n",
       "    </tr>\n",
       "    <tr>\n",
       "      <th>1</th>\n",
       "      <td>0.192163</td>\n",
       "      <td>0.198604</td>\n",
       "      <td>0.227769</td>\n",
       "      <td>-0.900443</td>\n",
       "      <td>1.255486</td>\n",
       "      <td>-0.542525</td>\n",
       "    </tr>\n",
       "    <tr>\n",
       "      <th>2</th>\n",
       "      <td>-0.381121</td>\n",
       "      <td>0.434341</td>\n",
       "      <td>0.316436</td>\n",
       "      <td>-0.535834</td>\n",
       "      <td>-0.196311</td>\n",
       "      <td>0.611794</td>\n",
       "    </tr>\n",
       "    <tr>\n",
       "      <th>3</th>\n",
       "      <td>-0.275402</td>\n",
       "      <td>1.258682</td>\n",
       "      <td>0.266885</td>\n",
       "      <td>-1.122680</td>\n",
       "      <td>0.745585</td>\n",
       "      <td>0.415659</td>\n",
       "    </tr>\n",
       "    <tr>\n",
       "      <th>4</th>\n",
       "      <td>-0.436500</td>\n",
       "      <td>-1.958828</td>\n",
       "      <td>-1.471856</td>\n",
       "      <td>-0.166505</td>\n",
       "      <td>1.354385</td>\n",
       "      <td>0.360145</td>\n",
       "    </tr>\n",
       "    <tr>\n",
       "      <th>...</th>\n",
       "      <td>...</td>\n",
       "      <td>...</td>\n",
       "      <td>...</td>\n",
       "      <td>...</td>\n",
       "      <td>...</td>\n",
       "      <td>...</td>\n",
       "    </tr>\n",
       "    <tr>\n",
       "      <th>902</th>\n",
       "      <td>-1.358281</td>\n",
       "      <td>-0.037962</td>\n",
       "      <td>0.736467</td>\n",
       "      <td>1.284912</td>\n",
       "      <td>-1.734748</td>\n",
       "      <td>-0.504823</td>\n",
       "    </tr>\n",
       "    <tr>\n",
       "      <th>903</th>\n",
       "      <td>-1.960292</td>\n",
       "      <td>-0.138212</td>\n",
       "      <td>0.770510</td>\n",
       "      <td>0.933487</td>\n",
       "      <td>-0.500351</td>\n",
       "      <td>-1.362324</td>\n",
       "    </tr>\n",
       "    <tr>\n",
       "      <th>904</th>\n",
       "      <td>-1.070728</td>\n",
       "      <td>1.936047</td>\n",
       "      <td>0.168444</td>\n",
       "      <td>0.461024</td>\n",
       "      <td>0.242601</td>\n",
       "      <td>-0.855099</td>\n",
       "    </tr>\n",
       "    <tr>\n",
       "      <th>905</th>\n",
       "      <td>-0.815250</td>\n",
       "      <td>0.959941</td>\n",
       "      <td>0.759625</td>\n",
       "      <td>-1.519185</td>\n",
       "      <td>0.440666</td>\n",
       "      <td>0.212967</td>\n",
       "    </tr>\n",
       "    <tr>\n",
       "      <th>906</th>\n",
       "      <td>-1.347047</td>\n",
       "      <td>0.928435</td>\n",
       "      <td>0.820804</td>\n",
       "      <td>-1.422028</td>\n",
       "      <td>0.298268</td>\n",
       "      <td>0.269414</td>\n",
       "    </tr>\n",
       "  </tbody>\n",
       "</table>\n",
       "<p>907 rows × 6 columns</p>\n",
       "</div>"
      ],
      "text/plain": [
       "            0         1         2         3         4         5\n",
       "0    0.539274  0.648563  0.649656 -0.260644  1.082788 -1.510545\n",
       "1    0.192163  0.198604  0.227769 -0.900443  1.255486 -0.542525\n",
       "2   -0.381121  0.434341  0.316436 -0.535834 -0.196311  0.611794\n",
       "3   -0.275402  1.258682  0.266885 -1.122680  0.745585  0.415659\n",
       "4   -0.436500 -1.958828 -1.471856 -0.166505  1.354385  0.360145\n",
       "..        ...       ...       ...       ...       ...       ...\n",
       "902 -1.358281 -0.037962  0.736467  1.284912 -1.734748 -0.504823\n",
       "903 -1.960292 -0.138212  0.770510  0.933487 -0.500351 -1.362324\n",
       "904 -1.070728  1.936047  0.168444  0.461024  0.242601 -0.855099\n",
       "905 -0.815250  0.959941  0.759625 -1.519185  0.440666  0.212967\n",
       "906 -1.347047  0.928435  0.820804 -1.422028  0.298268  0.269414\n",
       "\n",
       "[907 rows x 6 columns]"
      ]
     },
     "execution_count": 56,
     "metadata": {},
     "output_type": "execute_result"
    }
   ],
   "source": [
    "FinalData2=pd.DataFrame(FinalData)\n",
    "FinalData2"
   ]
  },
  {
   "cell_type": "code",
   "execution_count": 57,
   "id": "3ea543e0",
   "metadata": {},
   "outputs": [
    {
     "name": "stdout",
     "output_type": "stream",
     "text": [
      "Number of components explaining 90% variance:  6\n"
     ]
    }
   ],
   "source": [
    "k=np.argmax(var_cumu>90)\n",
    "print(\"Number of components explaining 90% variance: \",k)"
   ]
  },
  {
   "cell_type": "code",
   "execution_count": 58,
   "id": "387cc65d",
   "metadata": {},
   "outputs": [
    {
     "data": {
      "image/png": "[encoded data removed]",
      "text/plain": [
       "<Figure size 432x288 with 1 Axes>"
      ]
     },
     "metadata": {
      "needs_background": "light"
     },
     "output_type": "display_data"
    }
   ],
   "source": [
    "plt.ylabel('Cumulative Explained variance')\n",
    "plt.xlabel('Principal components')\n",
    "plt.axvline(x=k, color=\"k\", linestyle=\"--\")\n",
    "plt.axhline(y=9, color=\"r\",  linestyle=\"--\")\n",
    "\n",
    "plt.plot(var_cumu)\n",
    "plt.show()"
   ]
  },
  {
   "cell_type": "markdown",
   "id": "8e041bf6",
   "metadata": {},
   "source": [
    "PCA gives new indicators which are linear combinations of the original ones, thus the new indicators combines similar old indicators through their shared properties, you are going to redefine these new indicators according to your understanding of the potential shared properties."
   ]
  },
  {
   "cell_type": "markdown",
   "id": "d8b58307",
   "metadata": {},
   "source": [
    "# Building Machine Learning Models"
   ]
  },
  {
   "cell_type": "code",
   "execution_count": 59,
   "id": "77d51117",
   "metadata": {},
   "outputs": [],
   "source": [
    "from sklearn.model_selection import train_test_split\n",
    "from sklearn.metrics import mean_squared_error as mse\n",
    "from sklearn.metrics import r2_score\n",
    "from sklearn.linear_model import LogisticRegression\n",
    "from sklearn.neighbors import KNeighborsRegressor\n",
    "from sklearn.linear_model import Ridge\n",
    "from sklearn.linear_model import Lasso\n",
    "from sklearn.tree import DecisionTreeRegressor\n",
    "from sklearn.ensemble import RandomForestRegressor\n",
    "from math import sqrt\n",
    "from sklearn import metrics\n",
    "from sklearn.metrics import mean_squared_error,mean_absolute_error"
   ]
  },
  {
   "cell_type": "code",
   "execution_count": 60,
   "id": "f66ab92e",
   "metadata": {},
   "outputs": [],
   "source": [
    "# training testing and splitting the dataset\n",
    "from sklearn.model_selection import train_test_split\n",
    "x_train, x_test, y_train, y_test = train_test_split(x, y, test_size = 0.3, random_state = 42)"
   ]
  },
  {
   "cell_type": "code",
   "execution_count": 61,
   "id": "aa4b0065",
   "metadata": {},
   "outputs": [
    {
     "name": "stdout",
     "output_type": "stream",
     "text": [
      "The size of training input is (634, 8)\n",
      "The size of training output is (634,)\n",
      "**************************************************\n",
      "The size of testing input is (273, 8)\n",
      "The size of testing output is (273,)\n"
     ]
    }
   ],
   "source": [
    "print(\"The size of training input is\", x_train.shape)\n",
    "print(\"The size of training output is\", y_train.shape)\n",
    "\n",
    "print(50 *'*')\n",
    "print(\"The size of testing input is\", x_test.shape)\n",
    "print(\"The size of testing output is\", y_test.shape)"
   ]
  },
  {
   "cell_type": "markdown",
   "id": "6ef67239",
   "metadata": {},
   "source": [
    "# RandomForestRegressor"
   ]
  },
  {
   "cell_type": "code",
   "execution_count": 62,
   "id": "d2d97874",
   "metadata": {},
   "outputs": [],
   "source": [
    "rdr = RandomForestRegressor()\n",
    "rdr.fit(x_train,y_train)\n",
    "y_train_pred = rdr.predict(x_train)\n",
    "y_test_pred = rdr.predict(x_test)"
   ]
  },
  {
   "cell_type": "code",
   "execution_count": 63,
   "id": "a8a74cb6",
   "metadata": {},
   "outputs": [
    {
     "name": "stdout",
     "output_type": "stream",
     "text": [
      "Train Results for Random Forest Regressor Model:\n",
      "--------------------------------------------------\n",
      "Mean_absolute_error 2.7788801261829654\n",
      "Mean_squared_error 23.431633280757104\n",
      "R-squared: 4.840623232679559\n"
     ]
    }
   ],
   "source": [
    "print(\"Train Results for Random Forest Regressor Model:\")\n",
    "print(50 * '-')\n",
    "print('Mean_absolute_error', metrics.mean_absolute_error(y_train.values, y_train_pred))\n",
    "print('Mean_squared_error', metrics.mean_squared_error(y_train.values, y_train_pred))\n",
    "print('R-squared:', np.sqrt(metrics.mean_squared_error(y_train.values, y_train_pred)))"
   ]
  },
  {
   "cell_type": "code",
   "execution_count": 64,
   "id": "8af93f48",
   "metadata": {},
   "outputs": [
    {
     "name": "stdout",
     "output_type": "stream",
     "text": [
      "Test Results for Random Forest Regressor Model:\n",
      "--------------------------------------------------\n",
      "Mean_absolute_error 7.06904761904762\n",
      "Mean_squared_error 146.50943553113555\n",
      "R-squared: 12.104108208832882\n"
     ]
    }
   ],
   "source": [
    "print(\"Test Results for Random Forest Regressor Model:\")\n",
    "print(50 * '-')\n",
    "print('Mean_absolute_error', metrics.mean_absolute_error(y_test, y_test_pred))\n",
    "print('Mean_squared_error', metrics.mean_squared_error(y_test, y_test_pred))\n",
    "print('R-squared:', np.sqrt(metrics.mean_squared_error(y_test, y_test_pred)))"
   ]
  },
  {
   "cell_type": "markdown",
   "id": "06c4f192",
   "metadata": {},
   "source": [
    "# Logistic Regressor"
   ]
  },
  {
   "cell_type": "code",
   "execution_count": 66,
   "id": "6d061d6b",
   "metadata": {},
   "outputs": [],
   "source": [
    "logreg = LogisticRegression()\n",
    "logreg.fit(x_train, y_train)\n",
    "y_train_pred = logreg.predict(x_train)\n",
    "y_test_pred = logreg.predict(x_test)"
   ]
  },
  {
   "cell_type": "code",
   "execution_count": 67,
   "id": "84b26135",
   "metadata": {},
   "outputs": [
    {
     "name": "stdout",
     "output_type": "stream",
     "text": [
      "Train Results for LogisticRegression Model:\n",
      "--------------------------------------------------\n",
      "Mean_absolute_error 14.392744479495269\n",
      "Mean_squared_error 685.3170347003155\n",
      "R-squared: 26.17856059259782\n"
     ]
    }
   ],
   "source": [
    "print(\"Train Results for LogisticRegression Model:\")\n",
    "print(50 * '-')\n",
    "print('Mean_absolute_error', metrics.mean_absolute_error(y_train.values, y_train_pred))\n",
    "print('Mean_squared_error', metrics.mean_squared_error(y_train.values, y_train_pred))\n",
    "print('R-squared:', np.sqrt(metrics.mean_squared_error(y_train.values, y_train_pred)))"
   ]
  },
  {
   "cell_type": "code",
   "execution_count": 68,
   "id": "454953e5",
   "metadata": {},
   "outputs": [
    {
     "name": "stdout",
     "output_type": "stream",
     "text": [
      "Test Results for LogisticRegression Model:\n",
      "--------------------------------------------------\n",
      "Mean_absolute_error 14.392744479495269\n",
      "Mean_squared_error 685.3170347003155\n",
      "R-squared: 26.17856059259782\n"
     ]
    }
   ],
   "source": [
    "print(\"Test Results for LogisticRegression Model:\")\n",
    "print(50 * '-')\n",
    "print('Mean_absolute_error', metrics.mean_absolute_error(y_train.values, y_train_pred))\n",
    "print('Mean_squared_error', metrics.mean_squared_error(y_train.values, y_train_pred))\n",
    "print('R-squared:', np.sqrt(metrics.mean_squared_error(y_train.values, y_train_pred)))"
   ]
  },
  {
   "cell_type": "markdown",
   "id": "8b8f3f9d",
   "metadata": {},
   "source": [
    "# Ridge"
   ]
  },
  {
   "cell_type": "code",
   "execution_count": 69,
   "id": "915d9207",
   "metadata": {},
   "outputs": [],
   "source": [
    "rd = Ridge()\n",
    "rd.fit(x_train,y_train)\n",
    "y_train_pred = rd.predict(x_train)\n",
    "y_test_pred = rd.predict(x_test)"
   ]
  },
  {
   "cell_type": "code",
   "execution_count": 70,
   "id": "1d940bc8",
   "metadata": {},
   "outputs": [
    {
     "name": "stdout",
     "output_type": "stream",
     "text": [
      "Train Results for Ridge Model:\n",
      "--------------------------------------------------\n",
      "Mean_absolute_error 23.23947383556145\n",
      "Mean_squared_error 806.262982760407\n",
      "R-squared: 28.394770341744394\n"
     ]
    }
   ],
   "source": [
    "print(\"Train Results for Ridge Model:\")\n",
    "print(50 * '-')\n",
    "print('Mean_absolute_error', metrics.mean_absolute_error(y_train.values, y_train_pred))\n",
    "print('Mean_squared_error', metrics.mean_squared_error(y_train.values, y_train_pred))\n",
    "print('R-squared:', np.sqrt(metrics.mean_squared_error(y_train.values, y_train_pred)))"
   ]
  },
  {
   "cell_type": "code",
   "execution_count": 71,
   "id": "6c183c23",
   "metadata": {},
   "outputs": [
    {
     "name": "stdout",
     "output_type": "stream",
     "text": [
      "Test Results for Ridge Model:\n",
      "--------------------------------------------------\n",
      "Mean_absolute_error 23.23947383556145\n",
      "Mean_squared_error 806.262982760407\n",
      "R-squared: 28.394770341744394\n"
     ]
    }
   ],
   "source": [
    "print(\"Test Results for Ridge Model:\")\n",
    "print(50 * '-')\n",
    "print('Mean_absolute_error', metrics.mean_absolute_error(y_train.values, y_train_pred))\n",
    "print('Mean_squared_error', metrics.mean_squared_error(y_train.values, y_train_pred))\n",
    "print('R-squared:', np.sqrt(metrics.mean_squared_error(y_train.values, y_train_pred)))"
   ]
  },
  {
   "cell_type": "markdown",
   "id": "6dd775d5",
   "metadata": {},
   "source": [
    "# Lasso"
   ]
  },
  {
   "cell_type": "code",
   "execution_count": 72,
   "id": "8d07a342",
   "metadata": {},
   "outputs": [],
   "source": [
    "lss = Lasso()\n",
    "lss.fit(x_train,y_train)\n",
    "y_train_pred = lss.predict(x_train)\n",
    "y_test_pred = lss.predict(x_test)"
   ]
  },
  {
   "cell_type": "code",
   "execution_count": 73,
   "id": "a7fd4cd2",
   "metadata": {},
   "outputs": [
    {
     "name": "stdout",
     "output_type": "stream",
     "text": [
      "Train Results for Lasso Model:\n",
      "--------------------------------------------------\n",
      "Mean_absolute_error 23.260223320119565\n",
      "Mean_squared_error 808.3898642877767\n",
      "R-squared: 28.432197668976922\n"
     ]
    }
   ],
   "source": [
    "print(\"Train Results for Lasso Model:\")\n",
    "print(50 * '-')\n",
    "print('Mean_absolute_error', metrics.mean_absolute_error(y_train.values, y_train_pred))\n",
    "print('Mean_squared_error', metrics.mean_squared_error(y_train.values, y_train_pred))\n",
    "print('R-squared:', np.sqrt(metrics.mean_squared_error(y_train.values, y_train_pred)))"
   ]
  },
  {
   "cell_type": "code",
   "execution_count": 74,
   "id": "880e1570",
   "metadata": {},
   "outputs": [
    {
     "name": "stdout",
     "output_type": "stream",
     "text": [
      "Test Results for Lasso Model:\n",
      "--------------------------------------------------\n",
      "Mean_absolute_error 23.155256128690844\n",
      "Mean_squared_error 821.7937228702859\n",
      "R-squared: 28.666944777396246\n"
     ]
    }
   ],
   "source": [
    "print(\"Test Results for Lasso Model:\")\n",
    "print(50 * '-')\n",
    "print('Mean_absolute_error', metrics.mean_absolute_error(y_test, y_test_pred))\n",
    "print('Mean_squared_error', metrics.mean_squared_error(y_test, y_test_pred))\n",
    "print('R-squared:', np.sqrt(metrics.mean_squared_error(y_test, y_test_pred)))"
   ]
  },
  {
   "cell_type": "markdown",
   "id": "5ea752bc",
   "metadata": {},
   "source": [
    "# Decision Tree Regressor"
   ]
  },
  {
   "cell_type": "code",
   "execution_count": 75,
   "id": "4a24df1f",
   "metadata": {},
   "outputs": [],
   "source": [
    "dtc = DecisionTreeRegressor()\n",
    "dtc.fit(x_train,y_train)\n",
    "y_train_pred = dtc.predict(x_train)\n",
    "y_test_pred = dtc.predict(x_test)"
   ]
  },
  {
   "cell_type": "code",
   "execution_count": 76,
   "id": "705cd4e1",
   "metadata": {},
   "outputs": [
    {
     "name": "stdout",
     "output_type": "stream",
     "text": [
      "Train Results for Decision Tree Regressor Model:\n",
      "--------------------------------------------------\n",
      "Mean_absolute_error 0.0\n",
      "Mean_squared_error 0.0\n",
      "R-squared: 0.0\n"
     ]
    }
   ],
   "source": [
    "print(\"Train Results for Decision Tree Regressor Model:\")\n",
    "print(50 * '-')\n",
    "print('Mean_absolute_error', metrics.mean_absolute_error(y_train.values, y_train_pred))\n",
    "print('Mean_squared_error', metrics.mean_squared_error(y_train.values, y_train_pred))\n",
    "print('R-squared:', np.sqrt(metrics.mean_squared_error(y_train.values, y_train_pred)))"
   ]
  },
  {
   "cell_type": "code",
   "execution_count": 77,
   "id": "901c1b1b",
   "metadata": {},
   "outputs": [
    {
     "name": "stdout",
     "output_type": "stream",
     "text": [
      "Test Results for Decision Tree Regressor Model:\n",
      "--------------------------------------------------\n",
      "Mean_absolute_error 4.641025641025641\n",
      "Mean_squared_error 162.3040293040293\n",
      "R-squared: 12.739859862024751\n"
     ]
    }
   ],
   "source": [
    "print(\"Test Results for Decision Tree Regressor Model:\")\n",
    "print(50 * '-')\n",
    "print('Mean_absolute_error', metrics.mean_absolute_error(y_test, y_test_pred))\n",
    "print('Mean_squared_error', metrics.mean_squared_error(y_test, y_test_pred))\n",
    "print('R-squared:', np.sqrt(metrics.mean_squared_error(y_test, y_test_pred)))"
   ]
  },
  {
   "cell_type": "markdown",
   "id": "0be4404b",
   "metadata": {},
   "source": [
    "# K Neighbors Regressor"
   ]
  },
  {
   "cell_type": "code",
   "execution_count": 78,
   "id": "b083a1a9",
   "metadata": {},
   "outputs": [],
   "source": [
    "knn = KNeighborsRegressor()\n",
    "knn.fit(x_train,y_train)\n",
    "y_train_pred = knn.predict(x_train)\n",
    "y_test_pred = knn.predict(x_test)"
   ]
  },
  {
   "cell_type": "code",
   "execution_count": 79,
   "id": "53a55260",
   "metadata": {},
   "outputs": [
    {
     "name": "stdout",
     "output_type": "stream",
     "text": [
      "Train Results for K Neighbors Regressor Model:\n",
      "--------------------------------------------------\n",
      "Mean_absolute_error 8.902523659305995\n",
      "Mean_squared_error 208.2780441640379\n",
      "R-squared: 14.431841329644596\n"
     ]
    }
   ],
   "source": [
    "print(\"Train Results for K Neighbors Regressor Model:\")\n",
    "print(50 * '-')\n",
    "print('Mean_absolute_error', metrics.mean_absolute_error(y_train.values, y_train_pred))\n",
    "print('Mean_squared_error', metrics.mean_squared_error(y_train.values, y_train_pred))\n",
    "print('R-squared:', np.sqrt(metrics.mean_squared_error(y_train.values, y_train_pred)))"
   ]
  },
  {
   "cell_type": "code",
   "execution_count": 80,
   "id": "0366373e",
   "metadata": {},
   "outputs": [
    {
     "name": "stdout",
     "output_type": "stream",
     "text": [
      "Test Results for K Neighbors Regressor Model:\n",
      "--------------------------------------------------\n",
      "Mean_absolute_error 11.927472527472526\n",
      "Mean_squared_error 367.09318681318683\n",
      "R-squared: 19.159676062323882\n"
     ]
    }
   ],
   "source": [
    "print(\"Test Results for K Neighbors Regressor Model:\")\n",
    "print(50 * '-')\n",
    "print('Mean_absolute_error', metrics.mean_absolute_error(y_test, y_test_pred))\n",
    "print('Mean_squared_error', metrics.mean_squared_error(y_test, y_test_pred))\n",
    "print('R-squared:', np.sqrt(metrics.mean_squared_error(y_test, y_test_pred)))"
   ]
  },
  {
   "cell_type": "markdown",
   "id": "502faaab",
   "metadata": {},
   "source": [
    "# cross validation of the model"
   ]
  },
  {
   "cell_type": "code",
   "execution_count": 81,
   "id": "3001266d",
   "metadata": {},
   "outputs": [],
   "source": [
    "from sklearn.model_selection import cross_val_score"
   ]
  },
  {
   "cell_type": "code",
   "execution_count": 82,
   "id": "c40286a5",
   "metadata": {},
   "outputs": [
    {
     "name": "stdout",
     "output_type": "stream",
     "text": [
      "-0.37031186924299775\n"
     ]
    }
   ],
   "source": [
    "print(cross_val_score(dtc,x,y,cv=5,scoring=\"r2\").mean())"
   ]
  },
  {
   "cell_type": "code",
   "execution_count": 83,
   "id": "4b4da51a",
   "metadata": {},
   "outputs": [
    {
     "name": "stdout",
     "output_type": "stream",
     "text": [
      "-0.4801230239908742\n"
     ]
    }
   ],
   "source": [
    "print(cross_val_score(knn,x,y,cv=5,scoring=\"r2\").mean())"
   ]
  },
  {
   "cell_type": "code",
   "execution_count": 84,
   "id": "c81f3406",
   "metadata": {},
   "outputs": [
    {
     "name": "stdout",
     "output_type": "stream",
     "text": [
      "0.30679020348894515\n"
     ]
    }
   ],
   "source": [
    "print(cross_val_score(rdr,x,y,cv=5,scoring=\"r2\").mean())"
   ]
  },
  {
   "cell_type": "code",
   "execution_count": 85,
   "id": "31b9d922",
   "metadata": {},
   "outputs": [
    {
     "name": "stdout",
     "output_type": "stream",
     "text": [
      "-0.06175294896289583\n"
     ]
    }
   ],
   "source": [
    "print(cross_val_score(rd,x,y,cv=5,scoring=\"r2\").mean())"
   ]
  },
  {
   "cell_type": "code",
   "execution_count": 86,
   "id": "f4bda412",
   "metadata": {},
   "outputs": [
    {
     "name": "stdout",
     "output_type": "stream",
     "text": [
      "-0.059708146696241804\n"
     ]
    }
   ],
   "source": [
    "print(cross_val_score(lss,x,y,cv=5,scoring=\"r2\").mean())"
   ]
  },
  {
   "cell_type": "code",
   "execution_count": 87,
   "id": "d58ce9b0",
   "metadata": {},
   "outputs": [
    {
     "name": "stdout",
     "output_type": "stream",
     "text": [
      "0.4653131696034823\n"
     ]
    }
   ],
   "source": [
    "print(cross_val_score(logreg,x,y,cv=5,scoring=\"r2\").mean())"
   ]
  },
  {
   "cell_type": "markdown",
   "id": "dfffd8e2",
   "metadata": {},
   "source": [
    "# Hyper parameter tuning"
   ]
  },
  {
   "cell_type": "code",
   "execution_count": 89,
   "id": "bbdeda28",
   "metadata": {},
   "outputs": [
    {
     "data": {
      "text/plain": [
       "{'criterion': 'mse', 'max_depth': 9}"
      ]
     },
     "execution_count": 89,
     "metadata": {},
     "output_type": "execute_result"
    }
   ],
   "source": [
    "from sklearn.model_selection import GridSearchCV\n",
    "parameter={'max_depth' : np.arange(2,10),\n",
    "           'criterion' : ['mse', 'friedman_mse', 'mae', 'poisson']}\n",
    "GCV=GridSearchCV(DecisionTreeRegressor(),parameter,cv=5)\n",
    "GCV.fit(x_train,y_train)\n",
    "GCV.best_params_"
   ]
  },
  {
   "cell_type": "code",
   "execution_count": 96,
   "id": "23908d5a",
   "metadata": {},
   "outputs": [
    {
     "name": "stdout",
     "output_type": "stream",
     "text": [
      "R2 score: 82.78379325915604\n",
      "cross_val_score: -1.9113346712164156\n"
     ]
    }
   ],
   "source": [
    "dtr=DecisionTreeRegressor(criterion=\"mae\",max_depth=9)\n",
    "dtr.fit(x_train,y_train)\n",
    "dtr.score(x_train,y_train)\n",
    "pred_decision=dtr.predict(x_test)\n",
    "\n",
    "dts=r2_score(y_test,pred_decision)\n",
    "print(\"R2 score:\",dts*100)\n",
    "\n",
    "dtrscore=cross_val_score(dtr,x,y,cv=5)\n",
    "dtc=dtrscore.mean()\n",
    "print(\"cross_val_score:\",dtc*100)"
   ]
  },
  {
   "cell_type": "code",
   "execution_count": 97,
   "id": "4a67b63f",
   "metadata": {},
   "outputs": [
    {
     "name": "stdout",
     "output_type": "stream",
     "text": [
      "{'criterion': 'mse', 'max_features': 'auto'}\n"
     ]
    }
   ],
   "source": [
    "parameters={'criterion':['mse','mae'],'max_features':[\"auto\",\"sqrt\",\"log2\"]}\n",
    "rf=RandomForestRegressor()\n",
    "clf= GridSearchCV(rf,parameters)\n",
    "clf.fit(x_train,y_train)\n",
    "\n",
    "print(clf.best_params_)"
   ]
  },
  {
   "cell_type": "code",
   "execution_count": 101,
   "id": "b37efe40",
   "metadata": {},
   "outputs": [
    {
     "name": "stdout",
     "output_type": "stream",
     "text": [
      "R2 score: 90.37383041382508\n",
      "cross_val_score: 29.437562096457555\n"
     ]
    }
   ],
   "source": [
    "rf=RandomForestRegressor(criterion=\"mse\",max_features=\"auto\")\n",
    "rf.fit(x_train,y_train)\n",
    "rf.score(x_train,y_train)\n",
    "pred_decision=rf.predict(x_test)\n",
    "\n",
    "rfs=r2_score(y_test,pred_decision)\n",
    "print(\"R2 score:\",rfs*100)\n",
    "\n",
    "rfscore=cross_val_score(rf,x,y,cv=5)\n",
    "rfc=rfscore.mean()\n",
    "print(\"cross_val_score:\",rfc*100)"
   ]
  },
  {
   "cell_type": "code",
   "execution_count": 102,
   "id": "24389e93",
   "metadata": {},
   "outputs": [
    {
     "data": {
      "text/plain": [
       "{'n_neighbors': 1}"
      ]
     },
     "execution_count": 102,
     "metadata": {},
     "output_type": "execute_result"
    }
   ],
   "source": [
    "parameters={'n_neighbors' : range(1,30)}\n",
    "gridsearch=GridSearchCV(knn,parameters)\n",
    "gridsearch.fit(x_train,y_train)\n",
    "gridsearch.best_params_"
   ]
  },
  {
   "cell_type": "code",
   "execution_count": 103,
   "id": "333633cb",
   "metadata": {},
   "outputs": [
    {
     "name": "stdout",
     "output_type": "stream",
     "text": [
      "R2 score: 84.1620097889184\n",
      "cross_val_score: -48.816258694626434\n"
     ]
    }
   ],
   "source": [
    "KNN= KNeighborsRegressor(n_neighbors=1)\n",
    "KNN.fit(x_train,y_train)\n",
    "pred=KNN.predict(x_test)\n",
    "r2_sc=r2_score(y_test,pred)\n",
    "print(\"R2 score:\",r2_sc*100)\n",
    "\n",
    "KNNscore=cross_val_score(KNN,x,y,cv=5)\n",
    "KNNc=KNNscore.mean()\n",
    "print(\"cross_val_score:\",KNNc*100)"
   ]
  },
  {
   "cell_type": "code",
   "execution_count": 104,
   "id": "da9fd9b1",
   "metadata": {},
   "outputs": [
    {
     "data": {
      "text/plain": [
       "{'alpha': 10}"
      ]
     },
     "execution_count": 104,
     "metadata": {},
     "output_type": "execute_result"
    }
   ],
   "source": [
    "params ={'alpha' :[0.0001, 0.001, 0.01, 0.1, 1, 10, 100, 1000, 10000, 100000]}\n",
    "ridge_regressor =GridSearchCV(Ridge(), params ,cv =5,scoring = 'neg_mean_absolute_error', n_jobs =-1)\n",
    "ridge_regressor.fit(x_train ,y_train)\n",
    "ridge_regressor.best_params_"
   ]
  },
  {
   "cell_type": "code",
   "execution_count": 106,
   "id": "5fa874e2",
   "metadata": {},
   "outputs": [
    {
     "name": "stdout",
     "output_type": "stream",
     "text": [
      "R2 score: 45.215006279563596\n",
      "cross_val_score: -5.851752831433283\n"
     ]
    }
   ],
   "source": [
    "rd = Ridge(alpha=\"10\")\n",
    "rd.fit(x_train,y_train)\n",
    "pred=rd.predict(x_test)\n",
    "r2_sc=r2_score(y_test,pred)\n",
    "print(\"R2 score:\",r2_sc*100)\n",
    "\n",
    "rdscore=cross_val_score(rd,x,y,cv=5)\n",
    "rdc=rdscore.mean()\n",
    "print(\"cross_val_score:\",rdc*100)"
   ]
  },
  {
   "cell_type": "code",
   "execution_count": 107,
   "id": "ea9ff25e",
   "metadata": {},
   "outputs": [
    {
     "data": {
      "text/plain": [
       "{'alpha': 10}"
      ]
     },
     "execution_count": 107,
     "metadata": {},
     "output_type": "execute_result"
    }
   ],
   "source": [
    "params ={'alpha' :[0.0001, 0.001, 0.01, 0.1, 1, 10, 100, 1000, 10000, 100000]}\n",
    "lasso_regressor =GridSearchCV(Lasso(), params ,cv =15,scoring = 'neg_mean_absolute_error', n_jobs =-1)\n",
    "lasso_regressor.fit(x_train ,y_train)\n",
    "lasso_regressor.best_params_"
   ]
  },
  {
   "cell_type": "code",
   "execution_count": 109,
   "id": "90848771",
   "metadata": {},
   "outputs": [
    {
     "name": "stdout",
     "output_type": "stream",
     "text": [
      "R2 score: 44.977429755567556\n",
      "cross_val_score: -6.453556368846283\n"
     ]
    }
   ],
   "source": [
    "ls = Lasso(alpha=10)\n",
    "ls.fit(x_train,y_train)\n",
    "pred=ls.predict(x_test)\n",
    "r2_sc=r2_score(y_test,pred)\n",
    "print(\"R2 score:\",r2_sc*100)\n",
    "\n",
    "lsscore=cross_val_score(ls,x,y,cv=5)\n",
    "lsc=lsscore.mean()\n",
    "print(\"cross_val_score:\",lsc*100)"
   ]
  },
  {
   "cell_type": "markdown",
   "id": "ef20928f",
   "metadata": {},
   "source": [
    "We are getting best model(RandomForestRegressor) R2 score  is 90% and cross validation score is 29% which shows our model is performing is good than other models,Hence Random ForestRegressor is performing is good. Random ForestRegressor is best model for this dataset.."
   ]
  },
  {
   "cell_type": "markdown",
   "id": "f18d5aca",
   "metadata": {},
   "source": [
    "# saving the model"
   ]
  },
  {
   "cell_type": "code",
   "execution_count": 110,
   "id": "eeea17bf",
   "metadata": {},
   "outputs": [],
   "source": [
    "import pickle\n",
    "filename='flight price prediction.pkl'\n",
    "pickle.dump(rf,open(filename,'wb'))"
   ]
  },
  {
   "cell_type": "markdown",
   "id": "f3d88bb4",
   "metadata": {},
   "source": [
    "# conclusion"
   ]
  },
  {
   "cell_type": "code",
   "execution_count": 112,
   "id": "cac75ced",
   "metadata": {},
   "outputs": [
    {
     "name": "stdout",
     "output_type": "stream",
     "text": [
      "0.9037383041382507\n"
     ]
    }
   ],
   "source": [
    "loaded_model=pickle.load(open('flight price prediction.pkl','rb'))\n",
    "result=loaded_model.score(x_test,y_test)\n",
    "print(result)"
   ]
  },
  {
   "cell_type": "code",
   "execution_count": 113,
   "id": "56c29318",
   "metadata": {},
   "outputs": [],
   "source": [
    "conclusion=pd.DataFrame([loaded_model.predict(x_test)[:],y_test_pred[:]],index=[\"predicted\",\"original\"])"
   ]
  },
  {
   "cell_type": "code",
   "execution_count": 114,
   "id": "917daf58",
   "metadata": {},
   "outputs": [
    {
     "data": {
      "text/html": [
       "<div>\n",
       "<style scoped>\n",
       "    .dataframe tbody tr th:only-of-type {\n",
       "        vertical-align: middle;\n",
       "    }\n",
       "\n",
       "    .dataframe tbody tr th {\n",
       "        vertical-align: top;\n",
       "    }\n",
       "\n",
       "    .dataframe thead th {\n",
       "        text-align: right;\n",
       "    }\n",
       "</style>\n",
       "<table border=\"1\" class=\"dataframe\">\n",
       "  <thead>\n",
       "    <tr style=\"text-align: right;\">\n",
       "      <th></th>\n",
       "      <th>0</th>\n",
       "      <th>1</th>\n",
       "      <th>2</th>\n",
       "      <th>3</th>\n",
       "      <th>4</th>\n",
       "      <th>5</th>\n",
       "      <th>6</th>\n",
       "      <th>7</th>\n",
       "      <th>8</th>\n",
       "      <th>9</th>\n",
       "      <th>...</th>\n",
       "      <th>263</th>\n",
       "      <th>264</th>\n",
       "      <th>265</th>\n",
       "      <th>266</th>\n",
       "      <th>267</th>\n",
       "      <th>268</th>\n",
       "      <th>269</th>\n",
       "      <th>270</th>\n",
       "      <th>271</th>\n",
       "      <th>272</th>\n",
       "    </tr>\n",
       "  </thead>\n",
       "  <tbody>\n",
       "    <tr>\n",
       "      <th>predicted</th>\n",
       "      <td>51.36</td>\n",
       "      <td>64.56</td>\n",
       "      <td>94.12</td>\n",
       "      <td>28.0</td>\n",
       "      <td>52.81</td>\n",
       "      <td>92.0</td>\n",
       "      <td>21.37</td>\n",
       "      <td>48.71</td>\n",
       "      <td>28.09</td>\n",
       "      <td>53.0</td>\n",
       "      <td>...</td>\n",
       "      <td>69.95</td>\n",
       "      <td>55.8</td>\n",
       "      <td>77.36</td>\n",
       "      <td>28.13</td>\n",
       "      <td>130.01</td>\n",
       "      <td>13.88</td>\n",
       "      <td>21.42</td>\n",
       "      <td>84.46</td>\n",
       "      <td>22.08</td>\n",
       "      <td>42.73</td>\n",
       "    </tr>\n",
       "    <tr>\n",
       "      <th>original</th>\n",
       "      <td>50.20</td>\n",
       "      <td>72.40</td>\n",
       "      <td>76.20</td>\n",
       "      <td>28.0</td>\n",
       "      <td>91.80</td>\n",
       "      <td>92.0</td>\n",
       "      <td>22.80</td>\n",
       "      <td>38.80</td>\n",
       "      <td>40.60</td>\n",
       "      <td>53.0</td>\n",
       "      <td>...</td>\n",
       "      <td>73.20</td>\n",
       "      <td>47.6</td>\n",
       "      <td>73.20</td>\n",
       "      <td>33.60</td>\n",
       "      <td>125.00</td>\n",
       "      <td>26.60</td>\n",
       "      <td>24.60</td>\n",
       "      <td>70.40</td>\n",
       "      <td>51.60</td>\n",
       "      <td>54.40</td>\n",
       "    </tr>\n",
       "  </tbody>\n",
       "</table>\n",
       "<p>2 rows × 273 columns</p>\n",
       "</div>"
      ],
      "text/plain": [
       "             0      1      2     3      4     5      6      7      8     9    \\\n",
       "predicted  51.36  64.56  94.12  28.0  52.81  92.0  21.37  48.71  28.09  53.0   \n",
       "original   50.20  72.40  76.20  28.0  91.80  92.0  22.80  38.80  40.60  53.0   \n",
       "\n",
       "           ...    263   264    265    266     267    268    269    270    271  \\\n",
       "predicted  ...  69.95  55.8  77.36  28.13  130.01  13.88  21.42  84.46  22.08   \n",
       "original   ...  73.20  47.6  73.20  33.60  125.00  26.60  24.60  70.40  51.60   \n",
       "\n",
       "             272  \n",
       "predicted  42.73  \n",
       "original   54.40  \n",
       "\n",
       "[2 rows x 273 columns]"
      ]
     },
     "execution_count": 114,
     "metadata": {},
     "output_type": "execute_result"
    }
   ],
   "source": [
    "conclusion"
   ]
  },
  {
   "cell_type": "code",
   "execution_count": null,
   "id": "94bec987",
   "metadata": {},
   "outputs": [],
   "source": []
  }
 ],
 "metadata": {
  "kernelspec": {
   "display_name": "Python 3",
   "language": "python",
   "name": "python3"
  },
  "language_info": {
   "codemirror_mode": {
    "name": "ipython",
    "version": 3
   },
   "file_extension": ".py",
   "mimetype": "text/x-python",
   "name": "python",
   "nbconvert_exporter": "python",
   "pygments_lexer": "ipython3",
   "version": "3.8.8"
  }
 },
 "nbformat": 4,
 "nbformat_minor": 5
}
