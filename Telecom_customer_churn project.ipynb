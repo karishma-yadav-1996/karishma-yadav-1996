{
 "cells": [
  {
   "cell_type": "code",
   "execution_count": 1,
   "metadata": {},
   "outputs": [],
   "source": [
    "import pandas as pd\n",
    "import numpy as np\n",
    "import seaborn as sns\n",
    "import matplotlib.pyplot as plt\n",
    "import warnings\n",
    "warnings.filterwarnings('ignore')"
   ]
  },
  {
   "cell_type": "code",
   "execution_count": 2,
   "metadata": {},
   "outputs": [],
   "source": [
    "df=pd.read_csv(\"Telecom_customer_churn.csv\")"
   ]
  },
  {
   "cell_type": "code",
   "execution_count": 3,
   "metadata": {},
   "outputs": [
    {
     "data": {
      "text/html": [
       "<div>\n",
       "<style scoped>\n",
       "    .dataframe tbody tr th:only-of-type {\n",
       "        vertical-align: middle;\n",
       "    }\n",
       "\n",
       "    .dataframe tbody tr th {\n",
       "        vertical-align: top;\n",
       "    }\n",
       "\n",
       "    .dataframe thead th {\n",
       "        text-align: right;\n",
       "    }\n",
       "</style>\n",
       "<table border=\"1\" class=\"dataframe\">\n",
       "  <thead>\n",
       "    <tr style=\"text-align: right;\">\n",
       "      <th></th>\n",
       "      <th>customerID</th>\n",
       "      <th>gender</th>\n",
       "      <th>SeniorCitizen</th>\n",
       "      <th>Partner</th>\n",
       "      <th>Dependents</th>\n",
       "      <th>tenure</th>\n",
       "      <th>PhoneService</th>\n",
       "      <th>MultipleLines</th>\n",
       "      <th>InternetService</th>\n",
       "      <th>OnlineSecurity</th>\n",
       "      <th>...</th>\n",
       "      <th>DeviceProtection</th>\n",
       "      <th>TechSupport</th>\n",
       "      <th>StreamingTV</th>\n",
       "      <th>StreamingMovies</th>\n",
       "      <th>Contract</th>\n",
       "      <th>PaperlessBilling</th>\n",
       "      <th>PaymentMethod</th>\n",
       "      <th>MonthlyCharges</th>\n",
       "      <th>TotalCharges</th>\n",
       "      <th>Churn</th>\n",
       "    </tr>\n",
       "  </thead>\n",
       "  <tbody>\n",
       "    <tr>\n",
       "      <th>0</th>\n",
       "      <td>7590-VHVEG</td>\n",
       "      <td>Female</td>\n",
       "      <td>0</td>\n",
       "      <td>Yes</td>\n",
       "      <td>No</td>\n",
       "      <td>1</td>\n",
       "      <td>No</td>\n",
       "      <td>No phone service</td>\n",
       "      <td>DSL</td>\n",
       "      <td>No</td>\n",
       "      <td>...</td>\n",
       "      <td>No</td>\n",
       "      <td>No</td>\n",
       "      <td>No</td>\n",
       "      <td>No</td>\n",
       "      <td>Month-to-month</td>\n",
       "      <td>Yes</td>\n",
       "      <td>Electronic check</td>\n",
       "      <td>29.85</td>\n",
       "      <td>29.85</td>\n",
       "      <td>No</td>\n",
       "    </tr>\n",
       "    <tr>\n",
       "      <th>1</th>\n",
       "      <td>5575-GNVDE</td>\n",
       "      <td>Male</td>\n",
       "      <td>0</td>\n",
       "      <td>No</td>\n",
       "      <td>No</td>\n",
       "      <td>34</td>\n",
       "      <td>Yes</td>\n",
       "      <td>No</td>\n",
       "      <td>DSL</td>\n",
       "      <td>Yes</td>\n",
       "      <td>...</td>\n",
       "      <td>Yes</td>\n",
       "      <td>No</td>\n",
       "      <td>No</td>\n",
       "      <td>No</td>\n",
       "      <td>One year</td>\n",
       "      <td>No</td>\n",
       "      <td>Mailed check</td>\n",
       "      <td>56.95</td>\n",
       "      <td>1889.5</td>\n",
       "      <td>No</td>\n",
       "    </tr>\n",
       "    <tr>\n",
       "      <th>2</th>\n",
       "      <td>3668-QPYBK</td>\n",
       "      <td>Male</td>\n",
       "      <td>0</td>\n",
       "      <td>No</td>\n",
       "      <td>No</td>\n",
       "      <td>2</td>\n",
       "      <td>Yes</td>\n",
       "      <td>No</td>\n",
       "      <td>DSL</td>\n",
       "      <td>Yes</td>\n",
       "      <td>...</td>\n",
       "      <td>No</td>\n",
       "      <td>No</td>\n",
       "      <td>No</td>\n",
       "      <td>No</td>\n",
       "      <td>Month-to-month</td>\n",
       "      <td>Yes</td>\n",
       "      <td>Mailed check</td>\n",
       "      <td>53.85</td>\n",
       "      <td>108.15</td>\n",
       "      <td>Yes</td>\n",
       "    </tr>\n",
       "    <tr>\n",
       "      <th>3</th>\n",
       "      <td>7795-CFOCW</td>\n",
       "      <td>Male</td>\n",
       "      <td>0</td>\n",
       "      <td>No</td>\n",
       "      <td>No</td>\n",
       "      <td>45</td>\n",
       "      <td>No</td>\n",
       "      <td>No phone service</td>\n",
       "      <td>DSL</td>\n",
       "      <td>Yes</td>\n",
       "      <td>...</td>\n",
       "      <td>Yes</td>\n",
       "      <td>Yes</td>\n",
       "      <td>No</td>\n",
       "      <td>No</td>\n",
       "      <td>One year</td>\n",
       "      <td>No</td>\n",
       "      <td>Bank transfer (automatic)</td>\n",
       "      <td>42.30</td>\n",
       "      <td>1840.75</td>\n",
       "      <td>No</td>\n",
       "    </tr>\n",
       "    <tr>\n",
       "      <th>4</th>\n",
       "      <td>9237-HQITU</td>\n",
       "      <td>Female</td>\n",
       "      <td>0</td>\n",
       "      <td>No</td>\n",
       "      <td>No</td>\n",
       "      <td>2</td>\n",
       "      <td>Yes</td>\n",
       "      <td>No</td>\n",
       "      <td>Fiber optic</td>\n",
       "      <td>No</td>\n",
       "      <td>...</td>\n",
       "      <td>No</td>\n",
       "      <td>No</td>\n",
       "      <td>No</td>\n",
       "      <td>No</td>\n",
       "      <td>Month-to-month</td>\n",
       "      <td>Yes</td>\n",
       "      <td>Electronic check</td>\n",
       "      <td>70.70</td>\n",
       "      <td>151.65</td>\n",
       "      <td>Yes</td>\n",
       "    </tr>\n",
       "    <tr>\n",
       "      <th>...</th>\n",
       "      <td>...</td>\n",
       "      <td>...</td>\n",
       "      <td>...</td>\n",
       "      <td>...</td>\n",
       "      <td>...</td>\n",
       "      <td>...</td>\n",
       "      <td>...</td>\n",
       "      <td>...</td>\n",
       "      <td>...</td>\n",
       "      <td>...</td>\n",
       "      <td>...</td>\n",
       "      <td>...</td>\n",
       "      <td>...</td>\n",
       "      <td>...</td>\n",
       "      <td>...</td>\n",
       "      <td>...</td>\n",
       "      <td>...</td>\n",
       "      <td>...</td>\n",
       "      <td>...</td>\n",
       "      <td>...</td>\n",
       "      <td>...</td>\n",
       "    </tr>\n",
       "    <tr>\n",
       "      <th>7038</th>\n",
       "      <td>6840-RESVB</td>\n",
       "      <td>Male</td>\n",
       "      <td>0</td>\n",
       "      <td>Yes</td>\n",
       "      <td>Yes</td>\n",
       "      <td>24</td>\n",
       "      <td>Yes</td>\n",
       "      <td>Yes</td>\n",
       "      <td>DSL</td>\n",
       "      <td>Yes</td>\n",
       "      <td>...</td>\n",
       "      <td>Yes</td>\n",
       "      <td>Yes</td>\n",
       "      <td>Yes</td>\n",
       "      <td>Yes</td>\n",
       "      <td>One year</td>\n",
       "      <td>Yes</td>\n",
       "      <td>Mailed check</td>\n",
       "      <td>84.80</td>\n",
       "      <td>1990.5</td>\n",
       "      <td>No</td>\n",
       "    </tr>\n",
       "    <tr>\n",
       "      <th>7039</th>\n",
       "      <td>2234-XADUH</td>\n",
       "      <td>Female</td>\n",
       "      <td>0</td>\n",
       "      <td>Yes</td>\n",
       "      <td>Yes</td>\n",
       "      <td>72</td>\n",
       "      <td>Yes</td>\n",
       "      <td>Yes</td>\n",
       "      <td>Fiber optic</td>\n",
       "      <td>No</td>\n",
       "      <td>...</td>\n",
       "      <td>Yes</td>\n",
       "      <td>No</td>\n",
       "      <td>Yes</td>\n",
       "      <td>Yes</td>\n",
       "      <td>One year</td>\n",
       "      <td>Yes</td>\n",
       "      <td>Credit card (automatic)</td>\n",
       "      <td>103.20</td>\n",
       "      <td>7362.9</td>\n",
       "      <td>No</td>\n",
       "    </tr>\n",
       "    <tr>\n",
       "      <th>7040</th>\n",
       "      <td>4801-JZAZL</td>\n",
       "      <td>Female</td>\n",
       "      <td>0</td>\n",
       "      <td>Yes</td>\n",
       "      <td>Yes</td>\n",
       "      <td>11</td>\n",
       "      <td>No</td>\n",
       "      <td>No phone service</td>\n",
       "      <td>DSL</td>\n",
       "      <td>Yes</td>\n",
       "      <td>...</td>\n",
       "      <td>No</td>\n",
       "      <td>No</td>\n",
       "      <td>No</td>\n",
       "      <td>No</td>\n",
       "      <td>Month-to-month</td>\n",
       "      <td>Yes</td>\n",
       "      <td>Electronic check</td>\n",
       "      <td>29.60</td>\n",
       "      <td>346.45</td>\n",
       "      <td>No</td>\n",
       "    </tr>\n",
       "    <tr>\n",
       "      <th>7041</th>\n",
       "      <td>8361-LTMKD</td>\n",
       "      <td>Male</td>\n",
       "      <td>1</td>\n",
       "      <td>Yes</td>\n",
       "      <td>No</td>\n",
       "      <td>4</td>\n",
       "      <td>Yes</td>\n",
       "      <td>Yes</td>\n",
       "      <td>Fiber optic</td>\n",
       "      <td>No</td>\n",
       "      <td>...</td>\n",
       "      <td>No</td>\n",
       "      <td>No</td>\n",
       "      <td>No</td>\n",
       "      <td>No</td>\n",
       "      <td>Month-to-month</td>\n",
       "      <td>Yes</td>\n",
       "      <td>Mailed check</td>\n",
       "      <td>74.40</td>\n",
       "      <td>306.6</td>\n",
       "      <td>Yes</td>\n",
       "    </tr>\n",
       "    <tr>\n",
       "      <th>7042</th>\n",
       "      <td>3186-AJIEK</td>\n",
       "      <td>Male</td>\n",
       "      <td>0</td>\n",
       "      <td>No</td>\n",
       "      <td>No</td>\n",
       "      <td>66</td>\n",
       "      <td>Yes</td>\n",
       "      <td>No</td>\n",
       "      <td>Fiber optic</td>\n",
       "      <td>Yes</td>\n",
       "      <td>...</td>\n",
       "      <td>Yes</td>\n",
       "      <td>Yes</td>\n",
       "      <td>Yes</td>\n",
       "      <td>Yes</td>\n",
       "      <td>Two year</td>\n",
       "      <td>Yes</td>\n",
       "      <td>Bank transfer (automatic)</td>\n",
       "      <td>105.65</td>\n",
       "      <td>6844.5</td>\n",
       "      <td>No</td>\n",
       "    </tr>\n",
       "  </tbody>\n",
       "</table>\n",
       "<p>7043 rows × 21 columns</p>\n",
       "</div>"
      ],
      "text/plain": [
       "      customerID  gender  SeniorCitizen Partner Dependents  tenure  \\\n",
       "0     7590-VHVEG  Female              0     Yes         No       1   \n",
       "1     5575-GNVDE    Male              0      No         No      34   \n",
       "2     3668-QPYBK    Male              0      No         No       2   \n",
       "3     7795-CFOCW    Male              0      No         No      45   \n",
       "4     9237-HQITU  Female              0      No         No       2   \n",
       "...          ...     ...            ...     ...        ...     ...   \n",
       "7038  6840-RESVB    Male              0     Yes        Yes      24   \n",
       "7039  2234-XADUH  Female              0     Yes        Yes      72   \n",
       "7040  4801-JZAZL  Female              0     Yes        Yes      11   \n",
       "7041  8361-LTMKD    Male              1     Yes         No       4   \n",
       "7042  3186-AJIEK    Male              0      No         No      66   \n",
       "\n",
       "     PhoneService     MultipleLines InternetService OnlineSecurity  ...  \\\n",
       "0              No  No phone service             DSL             No  ...   \n",
       "1             Yes                No             DSL            Yes  ...   \n",
       "2             Yes                No             DSL            Yes  ...   \n",
       "3              No  No phone service             DSL            Yes  ...   \n",
       "4             Yes                No     Fiber optic             No  ...   \n",
       "...           ...               ...             ...            ...  ...   \n",
       "7038          Yes               Yes             DSL            Yes  ...   \n",
       "7039          Yes               Yes     Fiber optic             No  ...   \n",
       "7040           No  No phone service             DSL            Yes  ...   \n",
       "7041          Yes               Yes     Fiber optic             No  ...   \n",
       "7042          Yes                No     Fiber optic            Yes  ...   \n",
       "\n",
       "     DeviceProtection TechSupport StreamingTV StreamingMovies        Contract  \\\n",
       "0                  No          No          No              No  Month-to-month   \n",
       "1                 Yes          No          No              No        One year   \n",
       "2                  No          No          No              No  Month-to-month   \n",
       "3                 Yes         Yes          No              No        One year   \n",
       "4                  No          No          No              No  Month-to-month   \n",
       "...               ...         ...         ...             ...             ...   \n",
       "7038              Yes         Yes         Yes             Yes        One year   \n",
       "7039              Yes          No         Yes             Yes        One year   \n",
       "7040               No          No          No              No  Month-to-month   \n",
       "7041               No          No          No              No  Month-to-month   \n",
       "7042              Yes         Yes         Yes             Yes        Two year   \n",
       "\n",
       "     PaperlessBilling              PaymentMethod MonthlyCharges  TotalCharges  \\\n",
       "0                 Yes           Electronic check          29.85         29.85   \n",
       "1                  No               Mailed check          56.95        1889.5   \n",
       "2                 Yes               Mailed check          53.85        108.15   \n",
       "3                  No  Bank transfer (automatic)          42.30       1840.75   \n",
       "4                 Yes           Electronic check          70.70        151.65   \n",
       "...               ...                        ...            ...           ...   \n",
       "7038              Yes               Mailed check          84.80        1990.5   \n",
       "7039              Yes    Credit card (automatic)         103.20        7362.9   \n",
       "7040              Yes           Electronic check          29.60        346.45   \n",
       "7041              Yes               Mailed check          74.40         306.6   \n",
       "7042              Yes  Bank transfer (automatic)         105.65        6844.5   \n",
       "\n",
       "     Churn  \n",
       "0       No  \n",
       "1       No  \n",
       "2      Yes  \n",
       "3       No  \n",
       "4      Yes  \n",
       "...    ...  \n",
       "7038    No  \n",
       "7039    No  \n",
       "7040    No  \n",
       "7041   Yes  \n",
       "7042    No  \n",
       "\n",
       "[7043 rows x 21 columns]"
      ]
     },
     "execution_count": 3,
     "metadata": {},
     "output_type": "execute_result"
    }
   ],
   "source": [
    "df"
   ]
  },
  {
   "cell_type": "code",
   "execution_count": 4,
   "metadata": {},
   "outputs": [
    {
     "data": {
      "text/plain": [
       "(7043, 21)"
      ]
     },
     "execution_count": 4,
     "metadata": {},
     "output_type": "execute_result"
    }
   ],
   "source": [
    "df.shape"
   ]
  },
  {
   "cell_type": "markdown",
   "metadata": {},
   "source": [
    "we have 7043 rows and 21 columns in this dataset."
   ]
  },
  {
   "cell_type": "code",
   "execution_count": 5,
   "metadata": {},
   "outputs": [
    {
     "data": {
      "text/plain": [
       "Index(['customerID', 'gender', 'SeniorCitizen', 'Partner', 'Dependents',\n",
       "       'tenure', 'PhoneService', 'MultipleLines', 'InternetService',\n",
       "       'OnlineSecurity', 'OnlineBackup', 'DeviceProtection', 'TechSupport',\n",
       "       'StreamingTV', 'StreamingMovies', 'Contract', 'PaperlessBilling',\n",
       "       'PaymentMethod', 'MonthlyCharges', 'TotalCharges', 'Churn'],\n",
       "      dtype='object')"
      ]
     },
     "execution_count": 5,
     "metadata": {},
     "output_type": "execute_result"
    }
   ],
   "source": [
    "df.columns"
   ]
  },
  {
   "cell_type": "markdown",
   "metadata": {},
   "source": [
    "we have 20 features and 1 target variable in this dataset."
   ]
  },
  {
   "cell_type": "code",
   "execution_count": 6,
   "metadata": {},
   "outputs": [
    {
     "data": {
      "text/plain": [
       "customerID           object\n",
       "gender               object\n",
       "SeniorCitizen         int64\n",
       "Partner              object\n",
       "Dependents           object\n",
       "tenure                int64\n",
       "PhoneService         object\n",
       "MultipleLines        object\n",
       "InternetService      object\n",
       "OnlineSecurity       object\n",
       "OnlineBackup         object\n",
       "DeviceProtection     object\n",
       "TechSupport          object\n",
       "StreamingTV          object\n",
       "StreamingMovies      object\n",
       "Contract             object\n",
       "PaperlessBilling     object\n",
       "PaymentMethod        object\n",
       "MonthlyCharges      float64\n",
       "TotalCharges         object\n",
       "Churn                object\n",
       "dtype: object"
      ]
     },
     "execution_count": 6,
     "metadata": {},
     "output_type": "execute_result"
    }
   ],
   "source": [
    "df.dtypes"
   ]
  },
  {
   "cell_type": "markdown",
   "metadata": {},
   "source": [
    "We have int types,object types and float types of values which are independent variable and the Churn is our target variable in this dataset."
   ]
  },
  {
   "cell_type": "code",
   "execution_count": 7,
   "metadata": {},
   "outputs": [
    {
     "name": "stdout",
     "output_type": "stream",
     "text": [
      "<class 'pandas.core.frame.DataFrame'>\n",
      "RangeIndex: 7043 entries, 0 to 7042\n",
      "Data columns (total 21 columns):\n",
      " #   Column            Non-Null Count  Dtype  \n",
      "---  ------            --------------  -----  \n",
      " 0   customerID        7043 non-null   object \n",
      " 1   gender            7043 non-null   object \n",
      " 2   SeniorCitizen     7043 non-null   int64  \n",
      " 3   Partner           7043 non-null   object \n",
      " 4   Dependents        7043 non-null   object \n",
      " 5   tenure            7043 non-null   int64  \n",
      " 6   PhoneService      7043 non-null   object \n",
      " 7   MultipleLines     7043 non-null   object \n",
      " 8   InternetService   7043 non-null   object \n",
      " 9   OnlineSecurity    7043 non-null   object \n",
      " 10  OnlineBackup      7043 non-null   object \n",
      " 11  DeviceProtection  7043 non-null   object \n",
      " 12  TechSupport       7043 non-null   object \n",
      " 13  StreamingTV       7043 non-null   object \n",
      " 14  StreamingMovies   7043 non-null   object \n",
      " 15  Contract          7043 non-null   object \n",
      " 16  PaperlessBilling  7043 non-null   object \n",
      " 17  PaymentMethod     7043 non-null   object \n",
      " 18  MonthlyCharges    7043 non-null   float64\n",
      " 19  TotalCharges      7043 non-null   object \n",
      " 20  Churn             7043 non-null   object \n",
      "dtypes: float64(1), int64(2), object(18)\n",
      "memory usage: 1.1+ MB\n"
     ]
    }
   ],
   "source": [
    "df.info()"
   ]
  },
  {
   "cell_type": "code",
   "execution_count": 9,
   "metadata": {},
   "outputs": [
    {
     "data": {
      "text/html": [
       "<div>\n",
       "<style scoped>\n",
       "    .dataframe tbody tr th:only-of-type {\n",
       "        vertical-align: middle;\n",
       "    }\n",
       "\n",
       "    .dataframe tbody tr th {\n",
       "        vertical-align: top;\n",
       "    }\n",
       "\n",
       "    .dataframe thead th {\n",
       "        text-align: right;\n",
       "    }\n",
       "</style>\n",
       "<table border=\"1\" class=\"dataframe\">\n",
       "  <thead>\n",
       "    <tr style=\"text-align: right;\">\n",
       "      <th></th>\n",
       "      <th>SeniorCitizen</th>\n",
       "      <th>tenure</th>\n",
       "      <th>MonthlyCharges</th>\n",
       "    </tr>\n",
       "  </thead>\n",
       "  <tbody>\n",
       "    <tr>\n",
       "      <th>count</th>\n",
       "      <td>7043.000000</td>\n",
       "      <td>7043.000000</td>\n",
       "      <td>7043.000000</td>\n",
       "    </tr>\n",
       "    <tr>\n",
       "      <th>mean</th>\n",
       "      <td>0.162147</td>\n",
       "      <td>32.371149</td>\n",
       "      <td>64.761692</td>\n",
       "    </tr>\n",
       "    <tr>\n",
       "      <th>std</th>\n",
       "      <td>0.368612</td>\n",
       "      <td>24.559481</td>\n",
       "      <td>30.090047</td>\n",
       "    </tr>\n",
       "    <tr>\n",
       "      <th>min</th>\n",
       "      <td>0.000000</td>\n",
       "      <td>0.000000</td>\n",
       "      <td>18.250000</td>\n",
       "    </tr>\n",
       "    <tr>\n",
       "      <th>25%</th>\n",
       "      <td>0.000000</td>\n",
       "      <td>9.000000</td>\n",
       "      <td>35.500000</td>\n",
       "    </tr>\n",
       "    <tr>\n",
       "      <th>50%</th>\n",
       "      <td>0.000000</td>\n",
       "      <td>29.000000</td>\n",
       "      <td>70.350000</td>\n",
       "    </tr>\n",
       "    <tr>\n",
       "      <th>75%</th>\n",
       "      <td>0.000000</td>\n",
       "      <td>55.000000</td>\n",
       "      <td>89.850000</td>\n",
       "    </tr>\n",
       "    <tr>\n",
       "      <th>max</th>\n",
       "      <td>1.000000</td>\n",
       "      <td>72.000000</td>\n",
       "      <td>118.750000</td>\n",
       "    </tr>\n",
       "  </tbody>\n",
       "</table>\n",
       "</div>"
      ],
      "text/plain": [
       "       SeniorCitizen       tenure  MonthlyCharges\n",
       "count    7043.000000  7043.000000     7043.000000\n",
       "mean        0.162147    32.371149       64.761692\n",
       "std         0.368612    24.559481       30.090047\n",
       "min         0.000000     0.000000       18.250000\n",
       "25%         0.000000     9.000000       35.500000\n",
       "50%         0.000000    29.000000       70.350000\n",
       "75%         0.000000    55.000000       89.850000\n",
       "max         1.000000    72.000000      118.750000"
      ]
     },
     "execution_count": 9,
     "metadata": {},
     "output_type": "execute_result"
    }
   ],
   "source": [
    "df.describe()"
   ]
  },
  {
   "cell_type": "markdown",
   "metadata": {},
   "source": [
    "only 3 columns has present in describe function."
   ]
  },
  {
   "cell_type": "code",
   "execution_count": 10,
   "metadata": {},
   "outputs": [
    {
     "data": {
      "text/plain": [
       "customerID          0\n",
       "gender              0\n",
       "SeniorCitizen       0\n",
       "Partner             0\n",
       "Dependents          0\n",
       "tenure              0\n",
       "PhoneService        0\n",
       "MultipleLines       0\n",
       "InternetService     0\n",
       "OnlineSecurity      0\n",
       "OnlineBackup        0\n",
       "DeviceProtection    0\n",
       "TechSupport         0\n",
       "StreamingTV         0\n",
       "StreamingMovies     0\n",
       "Contract            0\n",
       "PaperlessBilling    0\n",
       "PaymentMethod       0\n",
       "MonthlyCharges      0\n",
       "TotalCharges        0\n",
       "Churn               0\n",
       "dtype: int64"
      ]
     },
     "execution_count": 10,
     "metadata": {},
     "output_type": "execute_result"
    }
   ],
   "source": [
    "df.isnull().sum()"
   ]
  },
  {
   "cell_type": "markdown",
   "metadata": {},
   "source": [
    "There is no missing values in this dataset."
   ]
  },
  {
   "cell_type": "code",
   "execution_count": 12,
   "metadata": {},
   "outputs": [
    {
     "data": {
      "image/png": "[encoded data removed]",
      "text/plain": [
       "<Figure size 1152x432 with 2 Axes>"
      ]
     },
     "metadata": {
      "needs_background": "light"
     },
     "output_type": "display_data"
    }
   ],
   "source": [
    "plt.figure(figsize=[16,6])\n",
    "sns.heatmap(df.isnull())\n",
    "plt.title(\"Null Values\")\n",
    "plt.show()"
   ]
  },
  {
   "cell_type": "markdown",
   "metadata": {},
   "source": [
    "no missing values in this plot."
   ]
  },
  {
   "cell_type": "code",
   "execution_count": 11,
   "metadata": {},
   "outputs": [
    {
     "data": {
      "text/plain": [
       "array(['No', 'Yes'], dtype=object)"
      ]
     },
     "execution_count": 11,
     "metadata": {},
     "output_type": "execute_result"
    }
   ],
   "source": [
    "df[\"Churn\"].unique()"
   ]
  },
  {
   "cell_type": "markdown",
   "metadata": {},
   "source": [
    "There are two unique values in df[\"Churn\"]."
   ]
  },
  {
   "cell_type": "code",
   "execution_count": 14,
   "metadata": {},
   "outputs": [
    {
     "data": {
      "text/plain": [
       "No     5174\n",
       "Yes    1869\n",
       "Name: Churn, dtype: int64"
      ]
     },
     "execution_count": 14,
     "metadata": {},
     "output_type": "execute_result"
    }
   ],
   "source": [
    "df.Churn.value_counts()"
   ]
  },
  {
   "cell_type": "markdown",
   "metadata": {},
   "source": [
    "No column has most values as compared to Yes column.\n",
    "No column has 5174 values and Yes column has 1869 values in this dataset."
   ]
  },
  {
   "cell_type": "markdown",
   "metadata": {},
   "source": [
    "# EDA"
   ]
  },
  {
   "cell_type": "markdown",
   "metadata": {},
   "source": [
    "univariate analysis"
   ]
  },
  {
   "cell_type": "code",
   "execution_count": 15,
   "metadata": {},
   "outputs": [
    {
     "data": {
      "image/png": "[encoded data removed]",
      "text/plain": [
       "<Figure size 432x288 with 1 Axes>"
      ]
     },
     "metadata": {
      "needs_background": "light"
     },
     "output_type": "display_data"
    }
   ],
   "source": [
    "sns.countplot(df[\"Churn\"]);"
   ]
  },
  {
   "cell_type": "markdown",
   "metadata": {},
   "source": [
    "There is class imbalance issue exists."
   ]
  },
  {
   "cell_type": "code",
   "execution_count": 19,
   "metadata": {},
   "outputs": [
    {
     "data": {
      "image/png": "[encoded data removed]",
      "text/plain": [
       "<Figure size 432x288 with 1 Axes>"
      ]
     },
     "metadata": {
      "needs_background": "light"
     },
     "output_type": "display_data"
    },
    {
     "data": {
      "image/png": "[encoded data removed]",
      "text/plain": [
       "<Figure size 432x288 with 1 Axes>"
      ]
     },
     "metadata": {
      "needs_background": "light"
     },
     "output_type": "display_data"
    }
   ],
   "source": [
    "for col in ['tenure' ,'SeniorCitizen']:\n",
    "    sns.boxplot(df[col].dropna(),orient='v')\n",
    "    plt.title(col)\n",
    "    plt.show()"
   ]
  },
  {
   "cell_type": "markdown",
   "metadata": {},
   "source": [
    "In this dataset SeniorCitizen column has outliers are present. In tenure column has no outliers are present."
   ]
  },
  {
   "cell_type": "markdown",
   "metadata": {},
   "source": [
    "# Bivariate analysis"
   ]
  },
  {
   "cell_type": "code",
   "execution_count": 26,
   "metadata": {},
   "outputs": [
    {
     "name": "stderr",
     "output_type": "stream",
     "text": [
      "*c* argument looks like a single numeric RGB or RGBA sequence, which should be avoided as value-mapping will have precedence in case its length matches with *x* & *y*.  Please use the *color* keyword-argument or provide a 2-D array with a single row if you intend to specify the same RGB or RGBA value for all points.\n"
     ]
    },
    {
     "data": {
      "image/png": "[encoded data removed]",
      "text/plain": [
       "<Figure size 432x288 with 1 Axes>"
      ]
     },
     "metadata": {
      "needs_background": "light"
     },
     "output_type": "display_data"
    }
   ],
   "source": [
    "plt.scatter(df[\"tenure\"],df[\"SeniorCitizen\"],alpha=0.8,c=(0,0,0),edgecolors='g')\n",
    "plt.title(\"Comparision between tenure and SeniorCitizen\")\n",
    "plt.show()"
   ]
  },
  {
   "cell_type": "markdown",
   "metadata": {},
   "source": [
    "no outliers are present in this plot."
   ]
  },
  {
   "cell_type": "code",
   "execution_count": 31,
   "metadata": {},
   "outputs": [
    {
     "name": "stderr",
     "output_type": "stream",
     "text": [
      "*c* argument looks like a single numeric RGB or RGBA sequence, which should be avoided as value-mapping will have precedence in case its length matches with *x* & *y*.  Please use the *color* keyword-argument or provide a 2-D array with a single row if you intend to specify the same RGB or RGBA value for all points.\n"
     ]
    },
    {
     "data": {
      "image/png": "[encoded data removed]",
      "text/plain": [
       "<Figure size 432x288 with 1 Axes>"
      ]
     },
     "metadata": {
      "needs_background": "light"
     },
     "output_type": "display_data"
    }
   ],
   "source": [
    "plt.scatter(df[\"tenure\"],df[\"Dependents\"],alpha=0.8,c=(0,0,0),edgecolors='g')\n",
    "plt.title(\"Comparision between tenure and Dependents\")\n",
    "plt.show()"
   ]
  },
  {
   "cell_type": "markdown",
   "metadata": {},
   "source": [
    "No outliers are present."
   ]
  },
  {
   "cell_type": "code",
   "execution_count": 30,
   "metadata": {},
   "outputs": [
    {
     "name": "stderr",
     "output_type": "stream",
     "text": [
      "*c* argument looks like a single numeric RGB or RGBA sequence, which should be avoided as value-mapping will have precedence in case its length matches with *x* & *y*.  Please use the *color* keyword-argument or provide a 2-D array with a single row if you intend to specify the same RGB or RGBA value for all points.\n"
     ]
    },
    {
     "data": {
      "image/png": "[encoded data removed]",
      "text/plain": [
       "<Figure size 432x288 with 1 Axes>"
      ]
     },
     "metadata": {
      "needs_background": "light"
     },
     "output_type": "display_data"
    }
   ],
   "source": [
    "plt.scatter(df[\"tenure\"],df[\"Partner\"],alpha=0.8,c=(0,0,0),edgecolors='g')\n",
    "plt.title(\"Comparision between tenure and Partner\")\n",
    "plt.show()"
   ]
  },
  {
   "cell_type": "markdown",
   "metadata": {},
   "source": [
    "No outliers are present."
   ]
  },
  {
   "cell_type": "code",
   "execution_count": 32,
   "metadata": {},
   "outputs": [
    {
     "name": "stderr",
     "output_type": "stream",
     "text": [
      "*c* argument looks like a single numeric RGB or RGBA sequence, which should be avoided as value-mapping will have precedence in case its length matches with *x* & *y*.  Please use the *color* keyword-argument or provide a 2-D array with a single row if you intend to specify the same RGB or RGBA value for all points.\n"
     ]
    },
    {
     "data": {
      "image/png": "[encoded data removed]",
      "text/plain": [
       "<Figure size 432x288 with 1 Axes>"
      ]
     },
     "metadata": {
      "needs_background": "light"
     },
     "output_type": "display_data"
    }
   ],
   "source": [
    "plt.scatter(df[\"tenure\"],df[\"MultipleLines\"],alpha=0.8,c=(0,0,0),edgecolors='g')\n",
    "plt.title(\"Comparision between tenure and MultipleLines\")\n",
    "plt.show()"
   ]
  },
  {
   "cell_type": "markdown",
   "metadata": {},
   "source": [
    "Outliers are present in this plot."
   ]
  },
  {
   "cell_type": "code",
   "execution_count": 33,
   "metadata": {},
   "outputs": [
    {
     "name": "stderr",
     "output_type": "stream",
     "text": [
      "*c* argument looks like a single numeric RGB or RGBA sequence, which should be avoided as value-mapping will have precedence in case its length matches with *x* & *y*.  Please use the *color* keyword-argument or provide a 2-D array with a single row if you intend to specify the same RGB or RGBA value for all points.\n"
     ]
    },
    {
     "data": {
      "image/png": "[encoded data removed]",
      "text/plain": [
       "<Figure size 432x288 with 1 Axes>"
      ]
     },
     "metadata": {
      "needs_background": "light"
     },
     "output_type": "display_data"
    }
   ],
   "source": [
    "plt.scatter(df[\"tenure\"],df[\"InternetService\"],alpha=0.8,c=(0,0,0),edgecolors='g')\n",
    "plt.title(\"Comparision between tenure and InternetService\")\n",
    "plt.show()"
   ]
  },
  {
   "cell_type": "markdown",
   "metadata": {},
   "source": [
    "outliers are present in this plot."
   ]
  },
  {
   "cell_type": "code",
   "execution_count": 34,
   "metadata": {},
   "outputs": [
    {
     "data": {
      "text/plain": [
       "<seaborn.axisgrid.PairGrid at 0x167bd18b250>"
      ]
     },
     "execution_count": 34,
     "metadata": {},
     "output_type": "execute_result"
    },
    {
     "data": {
      "image/png": "[encoded data removed]",
      "text/plain": [
       "<Figure size 592x540 with 12 Axes>"
      ]
     },
     "metadata": {
      "needs_background": "light"
     },
     "output_type": "display_data"
    }
   ],
   "source": [
    "sns.pairplot(df,hue=\"Churn\")"
   ]
  },
  {
   "cell_type": "markdown",
   "metadata": {},
   "source": [
    "We can check the corelation between dependent and independent features using dataframe.corr() function. This plot pairwise relationships in a dataset."
   ]
  },
  {
   "cell_type": "markdown",
   "metadata": {},
   "source": [
    "# checking correlation"
   ]
  },
  {
   "cell_type": "code",
   "execution_count": 35,
   "metadata": {},
   "outputs": [
    {
     "data": {
      "text/html": [
       "<div>\n",
       "<style scoped>\n",
       "    .dataframe tbody tr th:only-of-type {\n",
       "        vertical-align: middle;\n",
       "    }\n",
       "\n",
       "    .dataframe tbody tr th {\n",
       "        vertical-align: top;\n",
       "    }\n",
       "\n",
       "    .dataframe thead th {\n",
       "        text-align: right;\n",
       "    }\n",
       "</style>\n",
       "<table border=\"1\" class=\"dataframe\">\n",
       "  <thead>\n",
       "    <tr style=\"text-align: right;\">\n",
       "      <th></th>\n",
       "      <th>SeniorCitizen</th>\n",
       "      <th>tenure</th>\n",
       "      <th>MonthlyCharges</th>\n",
       "    </tr>\n",
       "  </thead>\n",
       "  <tbody>\n",
       "    <tr>\n",
       "      <th>SeniorCitizen</th>\n",
       "      <td>1.000000</td>\n",
       "      <td>0.016567</td>\n",
       "      <td>0.220173</td>\n",
       "    </tr>\n",
       "    <tr>\n",
       "      <th>tenure</th>\n",
       "      <td>0.016567</td>\n",
       "      <td>1.000000</td>\n",
       "      <td>0.247900</td>\n",
       "    </tr>\n",
       "    <tr>\n",
       "      <th>MonthlyCharges</th>\n",
       "      <td>0.220173</td>\n",
       "      <td>0.247900</td>\n",
       "      <td>1.000000</td>\n",
       "    </tr>\n",
       "  </tbody>\n",
       "</table>\n",
       "</div>"
      ],
      "text/plain": [
       "                SeniorCitizen    tenure  MonthlyCharges\n",
       "SeniorCitizen        1.000000  0.016567        0.220173\n",
       "tenure               0.016567  1.000000        0.247900\n",
       "MonthlyCharges       0.220173  0.247900        1.000000"
      ]
     },
     "execution_count": 35,
     "metadata": {},
     "output_type": "execute_result"
    }
   ],
   "source": [
    "cor=df.corr()\n",
    "cor"
   ]
  },
  {
   "cell_type": "markdown",
   "metadata": {},
   "source": [
    "This column is checking correlation between different different columns."
   ]
  },
  {
   "cell_type": "code",
   "execution_count": 36,
   "metadata": {},
   "outputs": [
    {
     "data": {
      "image/png": "[encoded data removed]",
      "text/plain": [
       "<Figure size 1440x864 with 2 Axes>"
      ]
     },
     "metadata": {
      "needs_background": "light"
     },
     "output_type": "display_data"
    }
   ],
   "source": [
    "plt.figure(figsize=[20,12])\n",
    "sns.heatmap(cor,annot=True)\n",
    "plt.title(\"Correlation Matrix\")\n",
    "plt.show()"
   ]
  },
  {
   "cell_type": "markdown",
   "metadata": {},
   "source": [
    "# correlation matrix"
   ]
  },
  {
   "cell_type": "code",
   "execution_count": 58,
   "metadata": {},
   "outputs": [
    {
     "data": {
      "text/plain": [
       "Churn               1.000000\n",
       "MonthlyCharges      0.193356\n",
       "PaperlessBilling    0.191825\n",
       "SeniorCitizen       0.150889\n",
       "PaymentMethod       0.107062\n",
       "MultipleLines       0.038037\n",
       "TotalCharges        0.014479\n",
       "PhoneService        0.011942\n",
       "gender             -0.008612\n",
       "customerID         -0.017447\n",
       "StreamingTV        -0.036581\n",
       "StreamingMovies    -0.038492\n",
       "InternetService    -0.047291\n",
       "Partner            -0.150448\n",
       "Dependents         -0.164221\n",
       "DeviceProtection   -0.178134\n",
       "OnlineBackup       -0.195525\n",
       "TechSupport        -0.282492\n",
       "OnlineSecurity     -0.289309\n",
       "tenure             -0.352229\n",
       "Contract           -0.396713\n",
       "Name: Churn, dtype: float64"
      ]
     },
     "execution_count": 58,
     "metadata": {},
     "output_type": "execute_result"
    }
   ],
   "source": [
    "corr_matrix=df.corr()\n",
    "corr_matrix[\"Churn\"].sort_values(ascending=False)"
   ]
  },
  {
   "cell_type": "markdown",
   "metadata": {},
   "source": [
    "I am finding the correlation value of each column. Their are identify the corrlation of independent variable with target variable \"Churn\"."
   ]
  },
  {
   "cell_type": "markdown",
   "metadata": {},
   "source": [
    "# label encoder"
   ]
  },
  {
   "cell_type": "code",
   "execution_count": 38,
   "metadata": {},
   "outputs": [],
   "source": [
    "from sklearn.preprocessing import LabelEncoder\n",
    "LE=LabelEncoder()"
   ]
  },
  {
   "cell_type": "code",
   "execution_count": 39,
   "metadata": {},
   "outputs": [
    {
     "data": {
      "text/plain": [
       "array([5375, 3962, 2564, ..., 3367, 5934, 2226])"
      ]
     },
     "execution_count": 39,
     "metadata": {},
     "output_type": "execute_result"
    }
   ],
   "source": [
    "df[\"customerID\"]=LE.fit_transform(df[\"customerID\"])\n",
    "df[\"customerID\"].unique()"
   ]
  },
  {
   "cell_type": "code",
   "execution_count": 40,
   "metadata": {},
   "outputs": [
    {
     "data": {
      "text/plain": [
       "array([0, 1])"
      ]
     },
     "execution_count": 40,
     "metadata": {},
     "output_type": "execute_result"
    }
   ],
   "source": [
    "df[\"gender\"]=LE.fit_transform(df[\"gender\"])\n",
    "df[\"gender\"].unique()"
   ]
  },
  {
   "cell_type": "code",
   "execution_count": 41,
   "metadata": {},
   "outputs": [
    {
     "data": {
      "text/plain": [
       "array([1, 0])"
      ]
     },
     "execution_count": 41,
     "metadata": {},
     "output_type": "execute_result"
    }
   ],
   "source": [
    "df[\"Partner\"]=LE.fit_transform(df[\"Partner\"])\n",
    "df[\"Partner\"].unique()"
   ]
  },
  {
   "cell_type": "code",
   "execution_count": 43,
   "metadata": {},
   "outputs": [
    {
     "data": {
      "text/plain": [
       "array([0, 1])"
      ]
     },
     "execution_count": 43,
     "metadata": {},
     "output_type": "execute_result"
    }
   ],
   "source": [
    "df[\"Dependents\"]=LE.fit_transform(df[\"Dependents\"])\n",
    "df[\"Dependents\"].unique()"
   ]
  },
  {
   "cell_type": "code",
   "execution_count": 44,
   "metadata": {},
   "outputs": [
    {
     "data": {
      "text/plain": [
       "array([0, 1])"
      ]
     },
     "execution_count": 44,
     "metadata": {},
     "output_type": "execute_result"
    }
   ],
   "source": [
    "df[\"PhoneService\"]=LE.fit_transform(df[\"PhoneService\"])\n",
    "df[\"PhoneService\"].unique()"
   ]
  },
  {
   "cell_type": "code",
   "execution_count": 45,
   "metadata": {},
   "outputs": [
    {
     "data": {
      "text/plain": [
       "array([1, 0, 2])"
      ]
     },
     "execution_count": 45,
     "metadata": {},
     "output_type": "execute_result"
    }
   ],
   "source": [
    "df[\"MultipleLines\"]=LE.fit_transform(df[\"MultipleLines\"])\n",
    "df[\"MultipleLines\"].unique()"
   ]
  },
  {
   "cell_type": "code",
   "execution_count": 46,
   "metadata": {},
   "outputs": [
    {
     "data": {
      "text/plain": [
       "array([0, 1, 2])"
      ]
     },
     "execution_count": 46,
     "metadata": {},
     "output_type": "execute_result"
    }
   ],
   "source": [
    "df[\"InternetService\"]=LE.fit_transform(df[\"InternetService\"])\n",
    "df[\"InternetService\"].unique()"
   ]
  },
  {
   "cell_type": "code",
   "execution_count": 47,
   "metadata": {},
   "outputs": [
    {
     "data": {
      "text/plain": [
       "array([0, 2, 1])"
      ]
     },
     "execution_count": 47,
     "metadata": {},
     "output_type": "execute_result"
    }
   ],
   "source": [
    "df[\"OnlineSecurity\"]=LE.fit_transform(df[\"OnlineSecurity\"])\n",
    "df[\"OnlineSecurity\"].unique()"
   ]
  },
  {
   "cell_type": "code",
   "execution_count": 48,
   "metadata": {},
   "outputs": [
    {
     "data": {
      "text/plain": [
       "array([2, 0, 1])"
      ]
     },
     "execution_count": 48,
     "metadata": {},
     "output_type": "execute_result"
    }
   ],
   "source": [
    "df[\"OnlineBackup\"]=LE.fit_transform(df[\"OnlineBackup\"])\n",
    "df[\"OnlineBackup\"].unique()"
   ]
  },
  {
   "cell_type": "code",
   "execution_count": 49,
   "metadata": {},
   "outputs": [
    {
     "data": {
      "text/plain": [
       "array([0, 2, 1])"
      ]
     },
     "execution_count": 49,
     "metadata": {},
     "output_type": "execute_result"
    }
   ],
   "source": [
    "df[\"DeviceProtection\"]=LE.fit_transform(df[\"DeviceProtection\"])\n",
    "df[\"DeviceProtection\"].unique()"
   ]
  },
  {
   "cell_type": "code",
   "execution_count": 50,
   "metadata": {},
   "outputs": [
    {
     "data": {
      "text/plain": [
       "array([0, 2, 1])"
      ]
     },
     "execution_count": 50,
     "metadata": {},
     "output_type": "execute_result"
    }
   ],
   "source": [
    "df[\"TechSupport\"]=LE.fit_transform(df[\"TechSupport\"])\n",
    "df[\"TechSupport\"].unique()"
   ]
  },
  {
   "cell_type": "code",
   "execution_count": 51,
   "metadata": {},
   "outputs": [
    {
     "data": {
      "text/plain": [
       "array([0, 2, 1])"
      ]
     },
     "execution_count": 51,
     "metadata": {},
     "output_type": "execute_result"
    }
   ],
   "source": [
    "df[\"StreamingTV\"]=LE.fit_transform(df[\"StreamingTV\"])\n",
    "df[\"StreamingTV\"].unique()"
   ]
  },
  {
   "cell_type": "code",
   "execution_count": 52,
   "metadata": {},
   "outputs": [
    {
     "data": {
      "text/plain": [
       "array([0, 2, 1])"
      ]
     },
     "execution_count": 52,
     "metadata": {},
     "output_type": "execute_result"
    }
   ],
   "source": [
    "df[\"StreamingMovies\"]=LE.fit_transform(df[\"StreamingMovies\"])\n",
    "df[\"StreamingMovies\"].unique()"
   ]
  },
  {
   "cell_type": "code",
   "execution_count": 53,
   "metadata": {},
   "outputs": [
    {
     "data": {
      "text/plain": [
       "array([0, 1, 2])"
      ]
     },
     "execution_count": 53,
     "metadata": {},
     "output_type": "execute_result"
    }
   ],
   "source": [
    "df[\"Contract\"]=LE.fit_transform(df[\"Contract\"])\n",
    "df[\"Contract\"].unique()"
   ]
  },
  {
   "cell_type": "code",
   "execution_count": 54,
   "metadata": {},
   "outputs": [
    {
     "data": {
      "text/plain": [
       "array([1, 0])"
      ]
     },
     "execution_count": 54,
     "metadata": {},
     "output_type": "execute_result"
    }
   ],
   "source": [
    "df[\"PaperlessBilling\"]=LE.fit_transform(df[\"PaperlessBilling\"])\n",
    "df[\"PaperlessBilling\"].unique()"
   ]
  },
  {
   "cell_type": "code",
   "execution_count": 55,
   "metadata": {},
   "outputs": [
    {
     "data": {
      "text/plain": [
       "array([2, 3, 0, 1])"
      ]
     },
     "execution_count": 55,
     "metadata": {},
     "output_type": "execute_result"
    }
   ],
   "source": [
    "df[\"PaymentMethod\"]=LE.fit_transform(df[\"PaymentMethod\"])\n",
    "df[\"PaymentMethod\"].unique()"
   ]
  },
  {
   "cell_type": "code",
   "execution_count": 56,
   "metadata": {},
   "outputs": [
    {
     "data": {
      "text/plain": [
       "array([2505, 1466,  157, ..., 2994, 2660, 5407])"
      ]
     },
     "execution_count": 56,
     "metadata": {},
     "output_type": "execute_result"
    }
   ],
   "source": [
    "df[\"TotalCharges\"]=LE.fit_transform(df[\"TotalCharges\"])\n",
    "df[\"TotalCharges\"].unique()"
   ]
  },
  {
   "cell_type": "code",
   "execution_count": 57,
   "metadata": {},
   "outputs": [
    {
     "data": {
      "text/plain": [
       "array([0, 1])"
      ]
     },
     "execution_count": 57,
     "metadata": {},
     "output_type": "execute_result"
    }
   ],
   "source": [
    "df[\"Churn\"]=LE.fit_transform(df[\"Churn\"])\n",
    "df[\"Churn\"].unique()"
   ]
  },
  {
   "cell_type": "markdown",
   "metadata": {},
   "source": [
    "There are 18 columns is object types variable . Using Label encoder these 18 columns is converting into int type."
   ]
  },
  {
   "cell_type": "markdown",
   "metadata": {},
   "source": [
    "# outlier removal"
   ]
  },
  {
   "cell_type": "code",
   "execution_count": 75,
   "metadata": {},
   "outputs": [],
   "source": [
    "from scipy.stats import zscore\n",
    "\n",
    "z=np.abs(zscore(df))\n",
    "new_df=df[(z<4).all(axis=1)]"
   ]
  },
  {
   "cell_type": "code",
   "execution_count": 76,
   "metadata": {
    "scrolled": true
   },
   "outputs": [
    {
     "data": {
      "text/html": [
       "<div>\n",
       "<style scoped>\n",
       "    .dataframe tbody tr th:only-of-type {\n",
       "        vertical-align: middle;\n",
       "    }\n",
       "\n",
       "    .dataframe tbody tr th {\n",
       "        vertical-align: top;\n",
       "    }\n",
       "\n",
       "    .dataframe thead th {\n",
       "        text-align: right;\n",
       "    }\n",
       "</style>\n",
       "<table border=\"1\" class=\"dataframe\">\n",
       "  <thead>\n",
       "    <tr style=\"text-align: right;\">\n",
       "      <th></th>\n",
       "      <th>customerID</th>\n",
       "      <th>gender</th>\n",
       "      <th>SeniorCitizen</th>\n",
       "      <th>Partner</th>\n",
       "      <th>Dependents</th>\n",
       "      <th>tenure</th>\n",
       "      <th>PhoneService</th>\n",
       "      <th>MultipleLines</th>\n",
       "      <th>InternetService</th>\n",
       "      <th>OnlineSecurity</th>\n",
       "      <th>...</th>\n",
       "      <th>DeviceProtection</th>\n",
       "      <th>TechSupport</th>\n",
       "      <th>StreamingTV</th>\n",
       "      <th>StreamingMovies</th>\n",
       "      <th>Contract</th>\n",
       "      <th>PaperlessBilling</th>\n",
       "      <th>PaymentMethod</th>\n",
       "      <th>MonthlyCharges</th>\n",
       "      <th>TotalCharges</th>\n",
       "      <th>Churn</th>\n",
       "    </tr>\n",
       "  </thead>\n",
       "  <tbody>\n",
       "    <tr>\n",
       "      <th>0</th>\n",
       "      <td>5375</td>\n",
       "      <td>0</td>\n",
       "      <td>0</td>\n",
       "      <td>1</td>\n",
       "      <td>0</td>\n",
       "      <td>1</td>\n",
       "      <td>0</td>\n",
       "      <td>1</td>\n",
       "      <td>0</td>\n",
       "      <td>0</td>\n",
       "      <td>...</td>\n",
       "      <td>0</td>\n",
       "      <td>0</td>\n",
       "      <td>0</td>\n",
       "      <td>0</td>\n",
       "      <td>0</td>\n",
       "      <td>1</td>\n",
       "      <td>2</td>\n",
       "      <td>29.85</td>\n",
       "      <td>2505</td>\n",
       "      <td>0</td>\n",
       "    </tr>\n",
       "    <tr>\n",
       "      <th>1</th>\n",
       "      <td>3962</td>\n",
       "      <td>1</td>\n",
       "      <td>0</td>\n",
       "      <td>0</td>\n",
       "      <td>0</td>\n",
       "      <td>34</td>\n",
       "      <td>1</td>\n",
       "      <td>0</td>\n",
       "      <td>0</td>\n",
       "      <td>2</td>\n",
       "      <td>...</td>\n",
       "      <td>2</td>\n",
       "      <td>0</td>\n",
       "      <td>0</td>\n",
       "      <td>0</td>\n",
       "      <td>1</td>\n",
       "      <td>0</td>\n",
       "      <td>3</td>\n",
       "      <td>56.95</td>\n",
       "      <td>1466</td>\n",
       "      <td>0</td>\n",
       "    </tr>\n",
       "    <tr>\n",
       "      <th>2</th>\n",
       "      <td>2564</td>\n",
       "      <td>1</td>\n",
       "      <td>0</td>\n",
       "      <td>0</td>\n",
       "      <td>0</td>\n",
       "      <td>2</td>\n",
       "      <td>1</td>\n",
       "      <td>0</td>\n",
       "      <td>0</td>\n",
       "      <td>2</td>\n",
       "      <td>...</td>\n",
       "      <td>0</td>\n",
       "      <td>0</td>\n",
       "      <td>0</td>\n",
       "      <td>0</td>\n",
       "      <td>0</td>\n",
       "      <td>1</td>\n",
       "      <td>3</td>\n",
       "      <td>53.85</td>\n",
       "      <td>157</td>\n",
       "      <td>1</td>\n",
       "    </tr>\n",
       "    <tr>\n",
       "      <th>3</th>\n",
       "      <td>5535</td>\n",
       "      <td>1</td>\n",
       "      <td>0</td>\n",
       "      <td>0</td>\n",
       "      <td>0</td>\n",
       "      <td>45</td>\n",
       "      <td>0</td>\n",
       "      <td>1</td>\n",
       "      <td>0</td>\n",
       "      <td>2</td>\n",
       "      <td>...</td>\n",
       "      <td>2</td>\n",
       "      <td>2</td>\n",
       "      <td>0</td>\n",
       "      <td>0</td>\n",
       "      <td>1</td>\n",
       "      <td>0</td>\n",
       "      <td>0</td>\n",
       "      <td>42.30</td>\n",
       "      <td>1400</td>\n",
       "      <td>0</td>\n",
       "    </tr>\n",
       "    <tr>\n",
       "      <th>4</th>\n",
       "      <td>6511</td>\n",
       "      <td>0</td>\n",
       "      <td>0</td>\n",
       "      <td>0</td>\n",
       "      <td>0</td>\n",
       "      <td>2</td>\n",
       "      <td>1</td>\n",
       "      <td>0</td>\n",
       "      <td>1</td>\n",
       "      <td>0</td>\n",
       "      <td>...</td>\n",
       "      <td>0</td>\n",
       "      <td>0</td>\n",
       "      <td>0</td>\n",
       "      <td>0</td>\n",
       "      <td>0</td>\n",
       "      <td>1</td>\n",
       "      <td>2</td>\n",
       "      <td>70.70</td>\n",
       "      <td>925</td>\n",
       "      <td>1</td>\n",
       "    </tr>\n",
       "    <tr>\n",
       "      <th>...</th>\n",
       "      <td>...</td>\n",
       "      <td>...</td>\n",
       "      <td>...</td>\n",
       "      <td>...</td>\n",
       "      <td>...</td>\n",
       "      <td>...</td>\n",
       "      <td>...</td>\n",
       "      <td>...</td>\n",
       "      <td>...</td>\n",
       "      <td>...</td>\n",
       "      <td>...</td>\n",
       "      <td>...</td>\n",
       "      <td>...</td>\n",
       "      <td>...</td>\n",
       "      <td>...</td>\n",
       "      <td>...</td>\n",
       "      <td>...</td>\n",
       "      <td>...</td>\n",
       "      <td>...</td>\n",
       "      <td>...</td>\n",
       "      <td>...</td>\n",
       "    </tr>\n",
       "    <tr>\n",
       "      <th>7038</th>\n",
       "      <td>4853</td>\n",
       "      <td>1</td>\n",
       "      <td>0</td>\n",
       "      <td>1</td>\n",
       "      <td>1</td>\n",
       "      <td>24</td>\n",
       "      <td>1</td>\n",
       "      <td>2</td>\n",
       "      <td>0</td>\n",
       "      <td>2</td>\n",
       "      <td>...</td>\n",
       "      <td>2</td>\n",
       "      <td>2</td>\n",
       "      <td>2</td>\n",
       "      <td>2</td>\n",
       "      <td>1</td>\n",
       "      <td>1</td>\n",
       "      <td>3</td>\n",
       "      <td>84.80</td>\n",
       "      <td>1597</td>\n",
       "      <td>0</td>\n",
       "    </tr>\n",
       "    <tr>\n",
       "      <th>7039</th>\n",
       "      <td>1525</td>\n",
       "      <td>0</td>\n",
       "      <td>0</td>\n",
       "      <td>1</td>\n",
       "      <td>1</td>\n",
       "      <td>72</td>\n",
       "      <td>1</td>\n",
       "      <td>2</td>\n",
       "      <td>1</td>\n",
       "      <td>0</td>\n",
       "      <td>...</td>\n",
       "      <td>2</td>\n",
       "      <td>0</td>\n",
       "      <td>2</td>\n",
       "      <td>2</td>\n",
       "      <td>1</td>\n",
       "      <td>1</td>\n",
       "      <td>1</td>\n",
       "      <td>103.20</td>\n",
       "      <td>5698</td>\n",
       "      <td>0</td>\n",
       "    </tr>\n",
       "    <tr>\n",
       "      <th>7040</th>\n",
       "      <td>3367</td>\n",
       "      <td>0</td>\n",
       "      <td>0</td>\n",
       "      <td>1</td>\n",
       "      <td>1</td>\n",
       "      <td>11</td>\n",
       "      <td>0</td>\n",
       "      <td>1</td>\n",
       "      <td>0</td>\n",
       "      <td>2</td>\n",
       "      <td>...</td>\n",
       "      <td>0</td>\n",
       "      <td>0</td>\n",
       "      <td>0</td>\n",
       "      <td>0</td>\n",
       "      <td>0</td>\n",
       "      <td>1</td>\n",
       "      <td>2</td>\n",
       "      <td>29.60</td>\n",
       "      <td>2994</td>\n",
       "      <td>0</td>\n",
       "    </tr>\n",
       "    <tr>\n",
       "      <th>7041</th>\n",
       "      <td>5934</td>\n",
       "      <td>1</td>\n",
       "      <td>1</td>\n",
       "      <td>1</td>\n",
       "      <td>0</td>\n",
       "      <td>4</td>\n",
       "      <td>1</td>\n",
       "      <td>2</td>\n",
       "      <td>1</td>\n",
       "      <td>0</td>\n",
       "      <td>...</td>\n",
       "      <td>0</td>\n",
       "      <td>0</td>\n",
       "      <td>0</td>\n",
       "      <td>0</td>\n",
       "      <td>0</td>\n",
       "      <td>1</td>\n",
       "      <td>3</td>\n",
       "      <td>74.40</td>\n",
       "      <td>2660</td>\n",
       "      <td>1</td>\n",
       "    </tr>\n",
       "    <tr>\n",
       "      <th>7042</th>\n",
       "      <td>2226</td>\n",
       "      <td>1</td>\n",
       "      <td>0</td>\n",
       "      <td>0</td>\n",
       "      <td>0</td>\n",
       "      <td>66</td>\n",
       "      <td>1</td>\n",
       "      <td>0</td>\n",
       "      <td>1</td>\n",
       "      <td>2</td>\n",
       "      <td>...</td>\n",
       "      <td>2</td>\n",
       "      <td>2</td>\n",
       "      <td>2</td>\n",
       "      <td>2</td>\n",
       "      <td>2</td>\n",
       "      <td>1</td>\n",
       "      <td>0</td>\n",
       "      <td>105.65</td>\n",
       "      <td>5407</td>\n",
       "      <td>0</td>\n",
       "    </tr>\n",
       "  </tbody>\n",
       "</table>\n",
       "<p>7043 rows × 21 columns</p>\n",
       "</div>"
      ],
      "text/plain": [
       "      customerID  gender  SeniorCitizen  Partner  Dependents  tenure  \\\n",
       "0           5375       0              0        1           0       1   \n",
       "1           3962       1              0        0           0      34   \n",
       "2           2564       1              0        0           0       2   \n",
       "3           5535       1              0        0           0      45   \n",
       "4           6511       0              0        0           0       2   \n",
       "...          ...     ...            ...      ...         ...     ...   \n",
       "7038        4853       1              0        1           1      24   \n",
       "7039        1525       0              0        1           1      72   \n",
       "7040        3367       0              0        1           1      11   \n",
       "7041        5934       1              1        1           0       4   \n",
       "7042        2226       1              0        0           0      66   \n",
       "\n",
       "      PhoneService  MultipleLines  InternetService  OnlineSecurity  ...  \\\n",
       "0                0              1                0               0  ...   \n",
       "1                1              0                0               2  ...   \n",
       "2                1              0                0               2  ...   \n",
       "3                0              1                0               2  ...   \n",
       "4                1              0                1               0  ...   \n",
       "...            ...            ...              ...             ...  ...   \n",
       "7038             1              2                0               2  ...   \n",
       "7039             1              2                1               0  ...   \n",
       "7040             0              1                0               2  ...   \n",
       "7041             1              2                1               0  ...   \n",
       "7042             1              0                1               2  ...   \n",
       "\n",
       "      DeviceProtection  TechSupport  StreamingTV  StreamingMovies  Contract  \\\n",
       "0                    0            0            0                0         0   \n",
       "1                    2            0            0                0         1   \n",
       "2                    0            0            0                0         0   \n",
       "3                    2            2            0                0         1   \n",
       "4                    0            0            0                0         0   \n",
       "...                ...          ...          ...              ...       ...   \n",
       "7038                 2            2            2                2         1   \n",
       "7039                 2            0            2                2         1   \n",
       "7040                 0            0            0                0         0   \n",
       "7041                 0            0            0                0         0   \n",
       "7042                 2            2            2                2         2   \n",
       "\n",
       "      PaperlessBilling  PaymentMethod  MonthlyCharges  TotalCharges  Churn  \n",
       "0                    1              2           29.85          2505      0  \n",
       "1                    0              3           56.95          1466      0  \n",
       "2                    1              3           53.85           157      1  \n",
       "3                    0              0           42.30          1400      0  \n",
       "4                    1              2           70.70           925      1  \n",
       "...                ...            ...             ...           ...    ...  \n",
       "7038                 1              3           84.80          1597      0  \n",
       "7039                 1              1          103.20          5698      0  \n",
       "7040                 1              2           29.60          2994      0  \n",
       "7041                 1              3           74.40          2660      1  \n",
       "7042                 1              0          105.65          5407      0  \n",
       "\n",
       "[7043 rows x 21 columns]"
      ]
     },
     "execution_count": 76,
     "metadata": {},
     "output_type": "execute_result"
    }
   ],
   "source": [
    "new_df"
   ]
  },
  {
   "cell_type": "code",
   "execution_count": 77,
   "metadata": {},
   "outputs": [
    {
     "data": {
      "text/plain": [
       "(7043, 21)"
      ]
     },
     "execution_count": 77,
     "metadata": {},
     "output_type": "execute_result"
    }
   ],
   "source": [
    "new_df.shape"
   ]
  },
  {
   "cell_type": "code",
   "execution_count": 78,
   "metadata": {},
   "outputs": [
    {
     "data": {
      "text/plain": [
       "(7043, 21)"
      ]
     },
     "execution_count": 78,
     "metadata": {},
     "output_type": "execute_result"
    }
   ],
   "source": [
    "df.shape"
   ]
  },
  {
   "cell_type": "code",
   "execution_count": 85,
   "metadata": {},
   "outputs": [
    {
     "data": {
      "text/plain": [
       "0.0"
      ]
     },
     "execution_count": 85,
     "metadata": {},
     "output_type": "execute_result"
    }
   ],
   "source": [
    "(0/7043)*100"
   ]
  },
  {
   "cell_type": "markdown",
   "metadata": {},
   "source": [
    "outliers has been removed."
   ]
  },
  {
   "cell_type": "markdown",
   "metadata": {},
   "source": [
    "# skewness"
   ]
  },
  {
   "cell_type": "code",
   "execution_count": 86,
   "metadata": {},
   "outputs": [],
   "source": [
    "x=df.drop(\"Churn\",axis=1)\n",
    "y=df[\"Churn\"]"
   ]
  },
  {
   "cell_type": "code",
   "execution_count": 87,
   "metadata": {},
   "outputs": [
    {
     "data": {
      "text/plain": [
       "customerID          0.000000\n",
       "gender             -0.019031\n",
       "SeniorCitizen       1.833633\n",
       "Partner             0.067922\n",
       "Dependents          0.875199\n",
       "tenure              0.239540\n",
       "PhoneService       -2.727153\n",
       "MultipleLines       0.118719\n",
       "InternetService     0.205423\n",
       "OnlineSecurity      0.416985\n",
       "OnlineBackup        0.182930\n",
       "DeviceProtection    0.186847\n",
       "TechSupport         0.402365\n",
       "StreamingTV         0.028486\n",
       "StreamingMovies     0.014657\n",
       "Contract            0.630959\n",
       "PaperlessBilling   -0.375396\n",
       "PaymentMethod      -0.170129\n",
       "MonthlyCharges     -0.220524\n",
       "TotalCharges        0.015857\n",
       "dtype: float64"
      ]
     },
     "execution_count": 87,
     "metadata": {},
     "output_type": "execute_result"
    }
   ],
   "source": [
    "x.skew()"
   ]
  },
  {
   "cell_type": "code",
   "execution_count": 88,
   "metadata": {},
   "outputs": [],
   "source": [
    "from sklearn.preprocessing import power_transform\n",
    "new_df=power_transform(x)\n",
    "\n",
    "new_df=pd.DataFrame(new_df,columns=x.columns)"
   ]
  },
  {
   "cell_type": "code",
   "execution_count": 89,
   "metadata": {},
   "outputs": [
    {
     "data": {
      "text/plain": [
       "customerID         -0.290930\n",
       "gender             -0.019031\n",
       "SeniorCitizen       1.833633\n",
       "Partner             0.067922\n",
       "Dependents          0.875199\n",
       "tenure             -0.243325\n",
       "PhoneService       -2.727153\n",
       "MultipleLines       0.033697\n",
       "InternetService    -0.072384\n",
       "OnlineSecurity      0.149362\n",
       "OnlineBackup       -0.001417\n",
       "DeviceProtection    0.001051\n",
       "TechSupport         0.139751\n",
       "StreamingTV        -0.097211\n",
       "StreamingMovies    -0.105641\n",
       "Contract            0.302174\n",
       "PaperlessBilling   -0.375396\n",
       "PaymentMethod      -0.207559\n",
       "MonthlyCharges     -0.259035\n",
       "TotalCharges       -0.290854\n",
       "dtype: float64"
      ]
     },
     "execution_count": 89,
     "metadata": {},
     "output_type": "execute_result"
    }
   ],
   "source": [
    "new_df.skew()"
   ]
  },
  {
   "cell_type": "code",
   "execution_count": 90,
   "metadata": {},
   "outputs": [
    {
     "data": {
      "image/png": "[encoded data removed]",
      "text/plain": [
       "<Figure size 1440x1440 with 1 Axes>"
      ]
     },
     "metadata": {
      "needs_background": "light"
     },
     "output_type": "display_data"
    }
   ],
   "source": [
    "x.boxplot(figsize=[20,20])\n",
    "plt.subplots_adjust(bottom=0.25)\n",
    "plt.show()"
   ]
  },
  {
   "cell_type": "markdown",
   "metadata": {},
   "source": [
    "In given plot shows no outliers are present in this dataset."
   ]
  },
  {
   "cell_type": "markdown",
   "metadata": {},
   "source": [
    "# Handling class imbalance problem by oversampling the minority class"
   ]
  },
  {
   "cell_type": "code",
   "execution_count": 91,
   "metadata": {},
   "outputs": [],
   "source": [
    "from imblearn.over_sampling import SMOTE\n",
    "SM=SMOTE()\n",
    "x_over,y_over=SM.fit_resample(x,y)"
   ]
  },
  {
   "cell_type": "code",
   "execution_count": 92,
   "metadata": {},
   "outputs": [
    {
     "data": {
      "text/plain": [
       "1    5174\n",
       "0    5174\n",
       "Name: Churn, dtype: int64"
      ]
     },
     "execution_count": 92,
     "metadata": {},
     "output_type": "execute_result"
    }
   ],
   "source": [
    "y_over.value_counts()"
   ]
  },
  {
   "cell_type": "markdown",
   "metadata": {},
   "source": [
    "# Min Max scaler"
   ]
  },
  {
   "cell_type": "code",
   "execution_count": 96,
   "metadata": {},
   "outputs": [],
   "source": [
    "from sklearn.preprocessing import MinMaxScaler\n",
    "scaler = MinMaxScaler()\n",
    "scaler.fit(x)\n",
    "x = pd.DataFrame(scaler.transform(x))"
   ]
  },
  {
   "cell_type": "code",
   "execution_count": 97,
   "metadata": {},
   "outputs": [
    {
     "data": {
      "text/html": [
       "<div>\n",
       "<style scoped>\n",
       "    .dataframe tbody tr th:only-of-type {\n",
       "        vertical-align: middle;\n",
       "    }\n",
       "\n",
       "    .dataframe tbody tr th {\n",
       "        vertical-align: top;\n",
       "    }\n",
       "\n",
       "    .dataframe thead th {\n",
       "        text-align: right;\n",
       "    }\n",
       "</style>\n",
       "<table border=\"1\" class=\"dataframe\">\n",
       "  <thead>\n",
       "    <tr style=\"text-align: right;\">\n",
       "      <th></th>\n",
       "      <th>0</th>\n",
       "      <th>1</th>\n",
       "      <th>2</th>\n",
       "      <th>3</th>\n",
       "      <th>4</th>\n",
       "      <th>5</th>\n",
       "      <th>6</th>\n",
       "      <th>7</th>\n",
       "      <th>8</th>\n",
       "      <th>9</th>\n",
       "      <th>10</th>\n",
       "      <th>11</th>\n",
       "      <th>12</th>\n",
       "      <th>13</th>\n",
       "      <th>14</th>\n",
       "      <th>15</th>\n",
       "      <th>16</th>\n",
       "      <th>17</th>\n",
       "      <th>18</th>\n",
       "      <th>19</th>\n",
       "    </tr>\n",
       "  </thead>\n",
       "  <tbody>\n",
       "    <tr>\n",
       "      <th>0</th>\n",
       "      <td>0.763277</td>\n",
       "      <td>0.0</td>\n",
       "      <td>0.0</td>\n",
       "      <td>1.0</td>\n",
       "      <td>0.0</td>\n",
       "      <td>0.013889</td>\n",
       "      <td>0.0</td>\n",
       "      <td>0.5</td>\n",
       "      <td>0.0</td>\n",
       "      <td>0.0</td>\n",
       "      <td>1.0</td>\n",
       "      <td>0.0</td>\n",
       "      <td>0.0</td>\n",
       "      <td>0.0</td>\n",
       "      <td>0.0</td>\n",
       "      <td>0.0</td>\n",
       "      <td>1.0</td>\n",
       "      <td>0.666667</td>\n",
       "      <td>0.115423</td>\n",
       "      <td>0.383614</td>\n",
       "    </tr>\n",
       "    <tr>\n",
       "      <th>1</th>\n",
       "      <td>0.562624</td>\n",
       "      <td>1.0</td>\n",
       "      <td>0.0</td>\n",
       "      <td>0.0</td>\n",
       "      <td>0.0</td>\n",
       "      <td>0.472222</td>\n",
       "      <td>1.0</td>\n",
       "      <td>0.0</td>\n",
       "      <td>0.0</td>\n",
       "      <td>1.0</td>\n",
       "      <td>0.0</td>\n",
       "      <td>1.0</td>\n",
       "      <td>0.0</td>\n",
       "      <td>0.0</td>\n",
       "      <td>0.0</td>\n",
       "      <td>0.5</td>\n",
       "      <td>0.0</td>\n",
       "      <td>1.000000</td>\n",
       "      <td>0.385075</td>\n",
       "      <td>0.224502</td>\n",
       "    </tr>\n",
       "    <tr>\n",
       "      <th>2</th>\n",
       "      <td>0.364101</td>\n",
       "      <td>1.0</td>\n",
       "      <td>0.0</td>\n",
       "      <td>0.0</td>\n",
       "      <td>0.0</td>\n",
       "      <td>0.027778</td>\n",
       "      <td>1.0</td>\n",
       "      <td>0.0</td>\n",
       "      <td>0.0</td>\n",
       "      <td>1.0</td>\n",
       "      <td>1.0</td>\n",
       "      <td>0.0</td>\n",
       "      <td>0.0</td>\n",
       "      <td>0.0</td>\n",
       "      <td>0.0</td>\n",
       "      <td>0.0</td>\n",
       "      <td>1.0</td>\n",
       "      <td>1.000000</td>\n",
       "      <td>0.354229</td>\n",
       "      <td>0.024043</td>\n",
       "    </tr>\n",
       "    <tr>\n",
       "      <th>3</th>\n",
       "      <td>0.785998</td>\n",
       "      <td>1.0</td>\n",
       "      <td>0.0</td>\n",
       "      <td>0.0</td>\n",
       "      <td>0.0</td>\n",
       "      <td>0.625000</td>\n",
       "      <td>0.0</td>\n",
       "      <td>0.5</td>\n",
       "      <td>0.0</td>\n",
       "      <td>1.0</td>\n",
       "      <td>0.0</td>\n",
       "      <td>1.0</td>\n",
       "      <td>1.0</td>\n",
       "      <td>0.0</td>\n",
       "      <td>0.0</td>\n",
       "      <td>0.5</td>\n",
       "      <td>0.0</td>\n",
       "      <td>0.000000</td>\n",
       "      <td>0.239303</td>\n",
       "      <td>0.214395</td>\n",
       "    </tr>\n",
       "    <tr>\n",
       "      <th>4</th>\n",
       "      <td>0.924595</td>\n",
       "      <td>0.0</td>\n",
       "      <td>0.0</td>\n",
       "      <td>0.0</td>\n",
       "      <td>0.0</td>\n",
       "      <td>0.027778</td>\n",
       "      <td>1.0</td>\n",
       "      <td>0.0</td>\n",
       "      <td>0.5</td>\n",
       "      <td>0.0</td>\n",
       "      <td>0.0</td>\n",
       "      <td>0.0</td>\n",
       "      <td>0.0</td>\n",
       "      <td>0.0</td>\n",
       "      <td>0.0</td>\n",
       "      <td>0.0</td>\n",
       "      <td>1.0</td>\n",
       "      <td>0.666667</td>\n",
       "      <td>0.521891</td>\n",
       "      <td>0.141654</td>\n",
       "    </tr>\n",
       "    <tr>\n",
       "      <th>...</th>\n",
       "      <td>...</td>\n",
       "      <td>...</td>\n",
       "      <td>...</td>\n",
       "      <td>...</td>\n",
       "      <td>...</td>\n",
       "      <td>...</td>\n",
       "      <td>...</td>\n",
       "      <td>...</td>\n",
       "      <td>...</td>\n",
       "      <td>...</td>\n",
       "      <td>...</td>\n",
       "      <td>...</td>\n",
       "      <td>...</td>\n",
       "      <td>...</td>\n",
       "      <td>...</td>\n",
       "      <td>...</td>\n",
       "      <td>...</td>\n",
       "      <td>...</td>\n",
       "      <td>...</td>\n",
       "      <td>...</td>\n",
       "    </tr>\n",
       "    <tr>\n",
       "      <th>7038</th>\n",
       "      <td>0.689151</td>\n",
       "      <td>1.0</td>\n",
       "      <td>0.0</td>\n",
       "      <td>1.0</td>\n",
       "      <td>1.0</td>\n",
       "      <td>0.333333</td>\n",
       "      <td>1.0</td>\n",
       "      <td>1.0</td>\n",
       "      <td>0.0</td>\n",
       "      <td>1.0</td>\n",
       "      <td>0.0</td>\n",
       "      <td>1.0</td>\n",
       "      <td>1.0</td>\n",
       "      <td>1.0</td>\n",
       "      <td>1.0</td>\n",
       "      <td>0.5</td>\n",
       "      <td>1.0</td>\n",
       "      <td>1.000000</td>\n",
       "      <td>0.662189</td>\n",
       "      <td>0.244564</td>\n",
       "    </tr>\n",
       "    <tr>\n",
       "      <th>7039</th>\n",
       "      <td>0.216558</td>\n",
       "      <td>0.0</td>\n",
       "      <td>0.0</td>\n",
       "      <td>1.0</td>\n",
       "      <td>1.0</td>\n",
       "      <td>1.000000</td>\n",
       "      <td>1.0</td>\n",
       "      <td>1.0</td>\n",
       "      <td>0.5</td>\n",
       "      <td>0.0</td>\n",
       "      <td>1.0</td>\n",
       "      <td>1.0</td>\n",
       "      <td>0.0</td>\n",
       "      <td>1.0</td>\n",
       "      <td>1.0</td>\n",
       "      <td>0.5</td>\n",
       "      <td>1.0</td>\n",
       "      <td>0.333333</td>\n",
       "      <td>0.845274</td>\n",
       "      <td>0.872588</td>\n",
       "    </tr>\n",
       "    <tr>\n",
       "      <th>7040</th>\n",
       "      <td>0.478131</td>\n",
       "      <td>0.0</td>\n",
       "      <td>0.0</td>\n",
       "      <td>1.0</td>\n",
       "      <td>1.0</td>\n",
       "      <td>0.152778</td>\n",
       "      <td>0.0</td>\n",
       "      <td>0.5</td>\n",
       "      <td>0.0</td>\n",
       "      <td>1.0</td>\n",
       "      <td>0.0</td>\n",
       "      <td>0.0</td>\n",
       "      <td>0.0</td>\n",
       "      <td>0.0</td>\n",
       "      <td>0.0</td>\n",
       "      <td>0.0</td>\n",
       "      <td>1.0</td>\n",
       "      <td>0.666667</td>\n",
       "      <td>0.112935</td>\n",
       "      <td>0.458499</td>\n",
       "    </tr>\n",
       "    <tr>\n",
       "      <th>7041</th>\n",
       "      <td>0.842658</td>\n",
       "      <td>1.0</td>\n",
       "      <td>1.0</td>\n",
       "      <td>1.0</td>\n",
       "      <td>0.0</td>\n",
       "      <td>0.055556</td>\n",
       "      <td>1.0</td>\n",
       "      <td>1.0</td>\n",
       "      <td>0.5</td>\n",
       "      <td>0.0</td>\n",
       "      <td>0.0</td>\n",
       "      <td>0.0</td>\n",
       "      <td>0.0</td>\n",
       "      <td>0.0</td>\n",
       "      <td>0.0</td>\n",
       "      <td>0.0</td>\n",
       "      <td>1.0</td>\n",
       "      <td>1.000000</td>\n",
       "      <td>0.558706</td>\n",
       "      <td>0.407351</td>\n",
       "    </tr>\n",
       "    <tr>\n",
       "      <th>7042</th>\n",
       "      <td>0.316103</td>\n",
       "      <td>1.0</td>\n",
       "      <td>0.0</td>\n",
       "      <td>0.0</td>\n",
       "      <td>0.0</td>\n",
       "      <td>0.916667</td>\n",
       "      <td>1.0</td>\n",
       "      <td>0.0</td>\n",
       "      <td>0.5</td>\n",
       "      <td>1.0</td>\n",
       "      <td>0.0</td>\n",
       "      <td>1.0</td>\n",
       "      <td>1.0</td>\n",
       "      <td>1.0</td>\n",
       "      <td>1.0</td>\n",
       "      <td>1.0</td>\n",
       "      <td>1.0</td>\n",
       "      <td>0.000000</td>\n",
       "      <td>0.869652</td>\n",
       "      <td>0.828025</td>\n",
       "    </tr>\n",
       "  </tbody>\n",
       "</table>\n",
       "<p>7043 rows × 20 columns</p>\n",
       "</div>"
      ],
      "text/plain": [
       "            0    1    2    3    4         5    6    7    8    9    10   11  \\\n",
       "0     0.763277  0.0  0.0  1.0  0.0  0.013889  0.0  0.5  0.0  0.0  1.0  0.0   \n",
       "1     0.562624  1.0  0.0  0.0  0.0  0.472222  1.0  0.0  0.0  1.0  0.0  1.0   \n",
       "2     0.364101  1.0  0.0  0.0  0.0  0.027778  1.0  0.0  0.0  1.0  1.0  0.0   \n",
       "3     0.785998  1.0  0.0  0.0  0.0  0.625000  0.0  0.5  0.0  1.0  0.0  1.0   \n",
       "4     0.924595  0.0  0.0  0.0  0.0  0.027778  1.0  0.0  0.5  0.0  0.0  0.0   \n",
       "...        ...  ...  ...  ...  ...       ...  ...  ...  ...  ...  ...  ...   \n",
       "7038  0.689151  1.0  0.0  1.0  1.0  0.333333  1.0  1.0  0.0  1.0  0.0  1.0   \n",
       "7039  0.216558  0.0  0.0  1.0  1.0  1.000000  1.0  1.0  0.5  0.0  1.0  1.0   \n",
       "7040  0.478131  0.0  0.0  1.0  1.0  0.152778  0.0  0.5  0.0  1.0  0.0  0.0   \n",
       "7041  0.842658  1.0  1.0  1.0  0.0  0.055556  1.0  1.0  0.5  0.0  0.0  0.0   \n",
       "7042  0.316103  1.0  0.0  0.0  0.0  0.916667  1.0  0.0  0.5  1.0  0.0  1.0   \n",
       "\n",
       "       12   13   14   15   16        17        18        19  \n",
       "0     0.0  0.0  0.0  0.0  1.0  0.666667  0.115423  0.383614  \n",
       "1     0.0  0.0  0.0  0.5  0.0  1.000000  0.385075  0.224502  \n",
       "2     0.0  0.0  0.0  0.0  1.0  1.000000  0.354229  0.024043  \n",
       "3     1.0  0.0  0.0  0.5  0.0  0.000000  0.239303  0.214395  \n",
       "4     0.0  0.0  0.0  0.0  1.0  0.666667  0.521891  0.141654  \n",
       "...   ...  ...  ...  ...  ...       ...       ...       ...  \n",
       "7038  1.0  1.0  1.0  0.5  1.0  1.000000  0.662189  0.244564  \n",
       "7039  0.0  1.0  1.0  0.5  1.0  0.333333  0.845274  0.872588  \n",
       "7040  0.0  0.0  0.0  0.0  1.0  0.666667  0.112935  0.458499  \n",
       "7041  0.0  0.0  0.0  0.0  1.0  1.000000  0.558706  0.407351  \n",
       "7042  1.0  1.0  1.0  1.0  1.0  0.000000  0.869652  0.828025  \n",
       "\n",
       "[7043 rows x 20 columns]"
      ]
     },
     "execution_count": 97,
     "metadata": {},
     "output_type": "execute_result"
    }
   ],
   "source": [
    "x"
   ]
  },
  {
   "cell_type": "markdown",
   "metadata": {},
   "source": [
    "# finding best random_state"
   ]
  },
  {
   "cell_type": "code",
   "execution_count": 103,
   "metadata": {},
   "outputs": [],
   "source": [
    "from sklearn.model_selection import train_test_split\n",
    "from sklearn.linear_model import LogisticRegression\n",
    "from sklearn.svm import SVC\n",
    "from sklearn.ensemble import RandomForestClassifier\n",
    "from sklearn.ensemble import AdaBoostClassifier\n",
    "from sklearn.metrics import accuracy_score,confusion_matrix,classification_report\n",
    "from sklearn.tree import DecisionTreeClassifier\n",
    "from sklearn.ensemble import GradientBoostingClassifier\n",
    "from sklearn.neighbors import KNeighborsClassifier\n",
    "from sklearn import metrics"
   ]
  },
  {
   "cell_type": "code",
   "execution_count": 99,
   "metadata": {},
   "outputs": [],
   "source": [
    "# Create Train & Test Data\n",
    "from sklearn.model_selection import train_test_split\n",
    "x_train, x_test, y_train, y_test = train_test_split(x, y, test_size=0.3, random_state=101)"
   ]
  },
  {
   "cell_type": "code",
   "execution_count": 101,
   "metadata": {},
   "outputs": [
    {
     "name": "stdout",
     "output_type": "stream",
     "text": [
      "0.8021769995267393\n",
      "[[1404  142]\n",
      " [ 276  291]]\n",
      "              precision    recall  f1-score   support\n",
      "\n",
      "           0       0.84      0.91      0.87      1546\n",
      "           1       0.67      0.51      0.58       567\n",
      "\n",
      "    accuracy                           0.80      2113\n",
      "   macro avg       0.75      0.71      0.73      2113\n",
      "weighted avg       0.79      0.80      0.79      2113\n",
      "\n"
     ]
    }
   ],
   "source": [
    "# Running logistic regression model\n",
    "\n",
    "lg = LogisticRegression()\n",
    "result = lg.fit(x_train, y_train)\n",
    "pred=lg.predict(x_test)\n",
    "lg_accu=accuracy_score(y_test,pred)\n",
    "print(accuracy_score(y_test,pred))\n",
    "print(confusion_matrix(y_test,pred))\n",
    "print(classification_report(y_test,pred))"
   ]
  },
  {
   "cell_type": "code",
   "execution_count": 105,
   "metadata": {},
   "outputs": [
    {
     "name": "stdout",
     "output_type": "stream",
     "text": [
      "0.791292001893043\n",
      "[[1432  114]\n",
      " [ 327  240]]\n",
      "              precision    recall  f1-score   support\n",
      "\n",
      "           0       0.81      0.93      0.87      1546\n",
      "           1       0.68      0.42      0.52       567\n",
      "\n",
      "    accuracy                           0.79      2113\n",
      "   macro avg       0.75      0.67      0.69      2113\n",
      "weighted avg       0.78      0.79      0.77      2113\n",
      "\n"
     ]
    }
   ],
   "source": [
    "# Running SVC model\n",
    "svc=SVC()\n",
    "svc.fit(x_train,y_train)\n",
    "pred=svc.predict(x_test)\n",
    "svc_accu=accuracy_score(y_test,pred)\n",
    "print(accuracy_score(y_test,pred))\n",
    "print(confusion_matrix(y_test,pred))\n",
    "print(classification_report(y_test,pred))"
   ]
  },
  {
   "cell_type": "code",
   "execution_count": 106,
   "metadata": {},
   "outputs": [
    {
     "name": "stdout",
     "output_type": "stream",
     "text": [
      "0.791292001893043\n",
      "[[1432  114]\n",
      " [ 327  240]]\n",
      "              precision    recall  f1-score   support\n",
      "\n",
      "           0       0.81      0.93      0.87      1546\n",
      "           1       0.68      0.42      0.52       567\n",
      "\n",
      "    accuracy                           0.79      2113\n",
      "   macro avg       0.75      0.67      0.69      2113\n",
      "weighted avg       0.78      0.79      0.77      2113\n",
      "\n"
     ]
    }
   ],
   "source": [
    "# Running KNeighborsClassifier model\n",
    "knn=KNeighborsClassifier()\n",
    "knn.fit(x_train,y_train)\n",
    "knn_pred=knn.predict(x_test)\n",
    "knn_accu=accuracy_score(y_test,pred)\n",
    "\n",
    "print(accuracy_score(y_test,pred))\n",
    "print(confusion_matrix(y_test,pred))\n",
    "print(classification_report(y_test,pred))"
   ]
  },
  {
   "cell_type": "code",
   "execution_count": 107,
   "metadata": {},
   "outputs": [
    {
     "name": "stdout",
     "output_type": "stream",
     "text": [
      "0.7893989588263133\n",
      "[[1404  142]\n",
      " [ 303  264]]\n",
      "              precision    recall  f1-score   support\n",
      "\n",
      "           0       0.82      0.91      0.86      1546\n",
      "           1       0.65      0.47      0.54       567\n",
      "\n",
      "    accuracy                           0.79      2113\n",
      "   macro avg       0.74      0.69      0.70      2113\n",
      "weighted avg       0.78      0.79      0.78      2113\n",
      "\n"
     ]
    }
   ],
   "source": [
    "# Running RandomForestClassifier model\n",
    "rf=RandomForestClassifier()\n",
    "rf.fit(x_train,y_train)\n",
    "pred=rf.predict(x_test)\n",
    "rf_accu=accuracy_score(y_test,pred)\n",
    "print(accuracy_score(y_test,pred))\n",
    "print(confusion_matrix(y_test,pred))\n",
    "print(classification_report(y_test,pred))"
   ]
  },
  {
   "cell_type": "code",
   "execution_count": 108,
   "metadata": {},
   "outputs": [
    {
     "name": "stdout",
     "output_type": "stream",
     "text": [
      "0.7950780880265026\n",
      "[[1395  151]\n",
      " [ 282  285]]\n",
      "              precision    recall  f1-score   support\n",
      "\n",
      "           0       0.83      0.90      0.87      1546\n",
      "           1       0.65      0.50      0.57       567\n",
      "\n",
      "    accuracy                           0.80      2113\n",
      "   macro avg       0.74      0.70      0.72      2113\n",
      "weighted avg       0.78      0.80      0.79      2113\n",
      "\n"
     ]
    }
   ],
   "source": [
    "# Running AdaBoostClassifier model\n",
    "ad=AdaBoostClassifier()\n",
    "ad.fit(x_train,y_train)\n",
    "pred=ad.predict(x_test)\n",
    "ad_accu=accuracy_score(y_test,pred)\n",
    "print(accuracy_score(y_test,pred))\n",
    "print(confusion_matrix(y_test,pred))\n",
    "print(classification_report(y_test,pred))"
   ]
  },
  {
   "cell_type": "code",
   "execution_count": 109,
   "metadata": {},
   "outputs": [
    {
     "name": "stdout",
     "output_type": "stream",
     "text": [
      "0.722669190724089\n",
      "[[1249  297]\n",
      " [ 289  278]]\n",
      "              precision    recall  f1-score   support\n",
      "\n",
      "           0       0.81      0.81      0.81      1546\n",
      "           1       0.48      0.49      0.49       567\n",
      "\n",
      "    accuracy                           0.72      2113\n",
      "   macro avg       0.65      0.65      0.65      2113\n",
      "weighted avg       0.72      0.72      0.72      2113\n",
      "\n"
     ]
    }
   ],
   "source": [
    "# Running DecisionTreeClassifier model\n",
    "dt=DecisionTreeClassifier()\n",
    "dt.fit(x_train,y_train)\n",
    "pred=dt.predict(x_test)\n",
    "dt_accu=accuracy_score(y_test,pred)\n",
    "\n",
    "print(accuracy_score(y_test,pred))\n",
    "print(confusion_matrix(y_test,pred))\n",
    "print(classification_report(y_test,pred))"
   ]
  },
  {
   "cell_type": "code",
   "execution_count": 110,
   "metadata": {},
   "outputs": [
    {
     "name": "stdout",
     "output_type": "stream",
     "text": [
      "0.7960246095598675\n",
      "[[1406  140]\n",
      " [ 291  276]]\n",
      "              precision    recall  f1-score   support\n",
      "\n",
      "           0       0.83      0.91      0.87      1546\n",
      "           1       0.66      0.49      0.56       567\n",
      "\n",
      "    accuracy                           0.80      2113\n",
      "   macro avg       0.75      0.70      0.71      2113\n",
      "weighted avg       0.78      0.80      0.79      2113\n",
      "\n"
     ]
    }
   ],
   "source": [
    "# Running GradientBoostingClassifier model\n",
    "gbc=GradientBoostingClassifier()\n",
    "gbc.fit(x_train,y_train)\n",
    "pred=gbc.predict(x_test)\n",
    "gbc_accu=accuracy_score(y_test,pred)\n",
    "\n",
    "print(accuracy_score(y_test,pred))\n",
    "print(confusion_matrix(y_test,pred))\n",
    "print(classification_report(y_test,pred))"
   ]
  },
  {
   "cell_type": "code",
   "execution_count": 112,
   "metadata": {},
   "outputs": [
    {
     "data": {
      "text/html": [
       "<div>\n",
       "<style scoped>\n",
       "    .dataframe tbody tr th:only-of-type {\n",
       "        vertical-align: middle;\n",
       "    }\n",
       "\n",
       "    .dataframe tbody tr th {\n",
       "        vertical-align: top;\n",
       "    }\n",
       "\n",
       "    .dataframe thead th {\n",
       "        text-align: right;\n",
       "    }\n",
       "</style>\n",
       "<table border=\"1\" class=\"dataframe\">\n",
       "  <thead>\n",
       "    <tr style=\"text-align: right;\">\n",
       "      <th></th>\n",
       "      <th>Model</th>\n",
       "    </tr>\n",
       "    <tr>\n",
       "      <th>Score</th>\n",
       "      <th></th>\n",
       "    </tr>\n",
       "  </thead>\n",
       "  <tbody>\n",
       "    <tr>\n",
       "      <th>0.802177</th>\n",
       "      <td>LogisticRegression</td>\n",
       "    </tr>\n",
       "    <tr>\n",
       "      <th>0.796025</th>\n",
       "      <td>GradientBoostingClassifier</td>\n",
       "    </tr>\n",
       "    <tr>\n",
       "      <th>0.795078</th>\n",
       "      <td>AdaBoostClassifier</td>\n",
       "    </tr>\n",
       "    <tr>\n",
       "      <th>0.791292</th>\n",
       "      <td>SVC</td>\n",
       "    </tr>\n",
       "    <tr>\n",
       "      <th>0.791292</th>\n",
       "      <td>KNN</td>\n",
       "    </tr>\n",
       "    <tr>\n",
       "      <th>0.789399</th>\n",
       "      <td>Random Forest</td>\n",
       "    </tr>\n",
       "    <tr>\n",
       "      <th>0.722669</th>\n",
       "      <td>Decision Tree</td>\n",
       "    </tr>\n",
       "  </tbody>\n",
       "</table>\n",
       "</div>"
      ],
      "text/plain": [
       "                               Model\n",
       "Score                               \n",
       "0.802177          LogisticRegression\n",
       "0.796025  GradientBoostingClassifier\n",
       "0.795078          AdaBoostClassifier\n",
       "0.791292                         SVC\n",
       "0.791292                         KNN\n",
       "0.789399               Random Forest\n",
       "0.722669               Decision Tree"
      ]
     },
     "execution_count": 112,
     "metadata": {},
     "output_type": "execute_result"
    }
   ],
   "source": [
    "results = pd.DataFrame({\n",
    "    'Model': ['SVC', 'KNN',  \n",
    "              'Random Forest',  'Decision Tree','AdaBoostClassifier',\n",
    "              'LogisticRegression','GradientBoostingClassifier'],\n",
    "               \n",
    "    \n",
    "    'Score': [svc_accu, knn_accu, \n",
    "             rf_accu,  dt_accu, \n",
    "              ad_accu,lg_accu,gbc_accu]})\n",
    "\n",
    "result_df = results.sort_values(by='Score', ascending=False)\n",
    "result_df = result_df.set_index('Score')\n",
    "result_df"
   ]
  },
  {
   "cell_type": "code",
   "execution_count": null,
   "metadata": {},
   "outputs": [],
   "source": []
  },
  {
   "cell_type": "markdown",
   "metadata": {},
   "source": [
    "# cross validation"
   ]
  },
  {
   "cell_type": "code",
   "execution_count": 113,
   "metadata": {},
   "outputs": [],
   "source": [
    "from sklearn.model_selection import cross_val_score"
   ]
  },
  {
   "cell_type": "code",
   "execution_count": 114,
   "metadata": {},
   "outputs": [
    {
     "name": "stdout",
     "output_type": "stream",
     "text": [
      "0.7238396428801858\n"
     ]
    }
   ],
   "source": [
    "print(cross_val_score(dt,x,y,cv=5).mean())"
   ]
  },
  {
   "cell_type": "code",
   "execution_count": 115,
   "metadata": {},
   "outputs": [
    {
     "name": "stdout",
     "output_type": "stream",
     "text": [
      "0.8003697819214143\n"
     ]
    }
   ],
   "source": [
    "print(cross_val_score(ad,x,y,cv=5).mean())"
   ]
  },
  {
   "cell_type": "code",
   "execution_count": 116,
   "metadata": {},
   "outputs": [
    {
     "name": "stdout",
     "output_type": "stream",
     "text": [
      "0.7978158873153107\n"
     ]
    }
   ],
   "source": [
    "print(cross_val_score(svc,x,y,cv=5).mean())"
   ]
  },
  {
   "cell_type": "code",
   "execution_count": 117,
   "metadata": {},
   "outputs": [
    {
     "name": "stdout",
     "output_type": "stream",
     "text": [
      "0.7481182253693788\n"
     ]
    }
   ],
   "source": [
    "print(cross_val_score(knn,x,y,cv=5).mean())"
   ]
  },
  {
   "cell_type": "code",
   "execution_count": 118,
   "metadata": {},
   "outputs": [
    {
     "name": "stdout",
     "output_type": "stream",
     "text": [
      "0.8040625604877734\n"
     ]
    }
   ],
   "source": [
    "print(cross_val_score(lg,x,y,cv=5).mean())"
   ]
  },
  {
   "cell_type": "code",
   "execution_count": 119,
   "metadata": {},
   "outputs": [
    {
     "name": "stdout",
     "output_type": "stream",
     "text": [
      "0.8010796059423189\n"
     ]
    }
   ],
   "source": [
    "print(cross_val_score(gbc,x,y,cv=5).mean())"
   ]
  },
  {
   "cell_type": "code",
   "execution_count": 120,
   "metadata": {},
   "outputs": [
    {
     "name": "stdout",
     "output_type": "stream",
     "text": [
      "0.7914258581198788\n"
     ]
    }
   ],
   "source": [
    "print(cross_val_score(rf,x,y,cv=5).mean())"
   ]
  },
  {
   "cell_type": "code",
   "execution_count": 121,
   "metadata": {},
   "outputs": [],
   "source": [
    "# AUC-ROC curve"
   ]
  },
  {
   "cell_type": "code",
   "execution_count": 122,
   "metadata": {},
   "outputs": [],
   "source": [
    "from sklearn.metrics import roc_curve\n",
    "from sklearn.metrics import roc_auc_score"
   ]
  },
  {
   "cell_type": "code",
   "execution_count": 123,
   "metadata": {},
   "outputs": [],
   "source": [
    "#GradientBoostingClassifier\n",
    "y_pred_prob=gbc.predict_proba(x_test)[:,1]"
   ]
  },
  {
   "cell_type": "code",
   "execution_count": 124,
   "metadata": {},
   "outputs": [
    {
     "data": {
      "text/plain": [
       "array([0.05117867, 0.66701977, 0.37266607, ..., 0.53911649, 0.6627786 ,\n",
       "       0.51519724])"
      ]
     },
     "execution_count": 124,
     "metadata": {},
     "output_type": "execute_result"
    }
   ],
   "source": [
    "y_pred_prob"
   ]
  },
  {
   "cell_type": "code",
   "execution_count": 125,
   "metadata": {},
   "outputs": [],
   "source": [
    "fpr,tpr,thresholds=roc_curve(y_test,y_pred_prob)"
   ]
  },
  {
   "cell_type": "code",
   "execution_count": 126,
   "metadata": {},
   "outputs": [
    {
     "data": {
      "text/plain": [
       "array([0.00000000e+00, 0.00000000e+00, 0.00000000e+00, 6.46830530e-04,\n",
       "       6.46830530e-04, 1.29366106e-03, 1.29366106e-03, 1.94049159e-03,\n",
       "       1.94049159e-03, 2.58732212e-03, 2.58732212e-03, 3.23415265e-03,\n",
       "       3.23415265e-03, 3.23415265e-03, 3.23415265e-03, 3.88098318e-03,\n",
       "       3.88098318e-03, 4.52781371e-03, 4.52781371e-03, 5.17464424e-03,\n",
       "       5.17464424e-03, 6.46830530e-03, 6.46830530e-03, 6.46830530e-03,\n",
       "       6.46830530e-03, 7.76196636e-03, 7.76196636e-03, 8.40879690e-03,\n",
       "       8.40879690e-03, 9.05562743e-03, 9.05562743e-03, 1.16429495e-02,\n",
       "       1.16429495e-02, 1.29366106e-02, 1.29366106e-02, 1.35834411e-02,\n",
       "       1.35834411e-02, 1.42302717e-02, 1.42302717e-02, 1.48771022e-02,\n",
       "       1.48771022e-02, 1.61707633e-02, 1.61707633e-02, 1.68175938e-02,\n",
       "       1.68175938e-02, 1.74644243e-02, 1.74644243e-02, 1.87580854e-02,\n",
       "       1.87580854e-02, 1.94049159e-02, 1.94049159e-02, 2.06985770e-02,\n",
       "       2.06985770e-02, 2.13454075e-02, 2.13454075e-02, 2.19922380e-02,\n",
       "       2.19922380e-02, 2.26390686e-02, 2.26390686e-02, 2.45795602e-02,\n",
       "       2.45795602e-02, 2.52263907e-02, 2.52263907e-02, 2.58732212e-02,\n",
       "       2.58732212e-02, 2.71668823e-02, 2.71668823e-02, 2.78137128e-02,\n",
       "       2.78137128e-02, 2.91073739e-02, 2.91073739e-02, 2.97542044e-02,\n",
       "       2.97542044e-02, 3.04010349e-02, 3.04010349e-02, 3.16946960e-02,\n",
       "       3.16946960e-02, 3.23415265e-02, 3.23415265e-02, 3.29883571e-02,\n",
       "       3.29883571e-02, 3.36351876e-02, 3.36351876e-02, 3.55756792e-02,\n",
       "       3.55756792e-02, 3.75161708e-02, 3.75161708e-02, 4.01034929e-02,\n",
       "       4.01034929e-02, 4.01034929e-02, 4.07503234e-02, 4.07503234e-02,\n",
       "       4.13971539e-02, 4.13971539e-02, 4.20439845e-02, 4.20439845e-02,\n",
       "       4.33376455e-02, 4.33376455e-02, 4.39844761e-02, 4.39844761e-02,\n",
       "       4.65717982e-02, 4.65717982e-02, 4.72186287e-02, 4.85122898e-02,\n",
       "       4.85122898e-02, 5.04527814e-02, 5.04527814e-02, 5.17464424e-02,\n",
       "       5.17464424e-02, 5.17464424e-02, 5.23932730e-02, 5.23932730e-02,\n",
       "       5.43337646e-02, 5.43337646e-02, 5.49805951e-02, 5.49805951e-02,\n",
       "       5.62742561e-02, 5.62742561e-02, 5.75679172e-02, 5.75679172e-02,\n",
       "       5.88615783e-02, 5.88615783e-02, 5.95084088e-02, 5.95084088e-02,\n",
       "       6.01552393e-02, 6.01552393e-02, 6.08020699e-02, 6.08020699e-02,\n",
       "       6.27425614e-02, 6.27425614e-02, 6.33893920e-02, 6.33893920e-02,\n",
       "       6.40362225e-02, 6.40362225e-02, 6.46830530e-02, 6.46830530e-02,\n",
       "       6.59767141e-02, 6.59767141e-02, 6.66235446e-02, 6.66235446e-02,\n",
       "       6.79172057e-02, 6.79172057e-02, 6.85640362e-02, 7.11513583e-02,\n",
       "       7.11513583e-02, 7.30918499e-02, 7.30918499e-02, 7.37386805e-02,\n",
       "       7.37386805e-02, 7.43855110e-02, 7.43855110e-02, 7.50323415e-02,\n",
       "       7.50323415e-02, 7.56791721e-02, 7.56791721e-02, 7.69728331e-02,\n",
       "       7.69728331e-02, 7.76196636e-02, 7.76196636e-02, 7.82664942e-02,\n",
       "       7.82664942e-02, 7.95601552e-02, 7.95601552e-02, 8.08538163e-02,\n",
       "       8.08538163e-02, 8.15006468e-02, 8.15006468e-02, 8.27943079e-02,\n",
       "       8.27943079e-02, 8.34411384e-02, 8.34411384e-02, 8.40879690e-02,\n",
       "       8.40879690e-02, 8.99094437e-02, 8.99094437e-02, 9.05562743e-02,\n",
       "       9.05562743e-02, 9.18499353e-02, 9.18499353e-02, 9.24967658e-02,\n",
       "       9.24967658e-02, 9.31435964e-02, 9.31435964e-02, 9.57309185e-02,\n",
       "       9.57309185e-02, 9.70245796e-02, 9.70245796e-02, 9.76714101e-02,\n",
       "       9.76714101e-02, 9.83182406e-02, 9.83182406e-02, 9.96119017e-02,\n",
       "       9.96119017e-02, 1.00258732e-01, 1.00258732e-01, 1.00905563e-01,\n",
       "       1.00905563e-01, 1.01552393e-01, 1.01552393e-01, 1.02846054e-01,\n",
       "       1.02846054e-01, 1.03492885e-01, 1.03492885e-01, 1.04139715e-01,\n",
       "       1.04139715e-01, 1.04786546e-01, 1.04786546e-01, 1.06080207e-01,\n",
       "       1.06080207e-01, 1.06727038e-01, 1.06727038e-01, 1.08020699e-01,\n",
       "       1.08020699e-01, 1.09314360e-01, 1.09314360e-01, 1.11901682e-01,\n",
       "       1.11901682e-01, 1.12548512e-01, 1.12548512e-01, 1.14489004e-01,\n",
       "       1.14489004e-01, 1.15135834e-01, 1.15135834e-01, 1.15782665e-01,\n",
       "       1.15782665e-01, 1.16429495e-01, 1.16429495e-01, 1.19016818e-01,\n",
       "       1.19016818e-01, 1.20310479e-01, 1.20310479e-01, 1.22897801e-01,\n",
       "       1.22897801e-01, 1.24191462e-01, 1.24191462e-01, 1.27425614e-01,\n",
       "       1.27425614e-01, 1.28719276e-01, 1.28719276e-01, 1.31953428e-01,\n",
       "       1.31953428e-01, 1.33247089e-01, 1.33247089e-01, 1.33893920e-01,\n",
       "       1.33893920e-01, 1.35187581e-01, 1.35187581e-01, 1.39715395e-01,\n",
       "       1.39715395e-01, 1.40362225e-01, 1.40362225e-01, 1.44890039e-01,\n",
       "       1.44890039e-01, 1.46183700e-01, 1.46183700e-01, 1.47477361e-01,\n",
       "       1.47477361e-01, 1.48124191e-01, 1.48124191e-01, 1.50064683e-01,\n",
       "       1.50064683e-01, 1.50711514e-01, 1.50711514e-01, 1.51358344e-01,\n",
       "       1.51358344e-01, 1.53298836e-01, 1.53298836e-01, 1.55239327e-01,\n",
       "       1.55239327e-01, 1.57179819e-01, 1.57179819e-01, 1.63001294e-01,\n",
       "       1.63001294e-01, 1.64294955e-01, 1.64294955e-01, 1.66235446e-01,\n",
       "       1.66235446e-01, 1.70763260e-01, 1.70763260e-01, 1.72056921e-01,\n",
       "       1.72056921e-01, 1.74644243e-01, 1.74644243e-01, 1.75291074e-01,\n",
       "       1.75291074e-01, 1.77231565e-01, 1.77231565e-01, 1.79818887e-01,\n",
       "       1.79818887e-01, 1.80465718e-01, 1.80465718e-01, 1.83053040e-01,\n",
       "       1.83699871e-01, 1.84346701e-01, 1.84346701e-01, 1.87580854e-01,\n",
       "       1.87580854e-01, 1.88227684e-01, 1.88227684e-01, 1.90168176e-01,\n",
       "       1.90168176e-01, 1.93402329e-01, 1.93402329e-01, 1.95989651e-01,\n",
       "       1.95989651e-01, 1.96636481e-01, 1.96636481e-01, 2.01164295e-01,\n",
       "       2.01164295e-01, 2.01811125e-01, 2.01811125e-01, 2.03104787e-01,\n",
       "       2.03104787e-01, 2.04398448e-01, 2.04398448e-01, 2.05045278e-01,\n",
       "       2.05045278e-01, 2.06338939e-01, 2.06338939e-01, 2.06985770e-01,\n",
       "       2.06985770e-01, 2.07632600e-01, 2.07632600e-01, 2.09573092e-01,\n",
       "       2.09573092e-01, 2.12807245e-01, 2.12807245e-01, 2.14100906e-01,\n",
       "       2.14100906e-01, 2.14747736e-01, 2.14747736e-01, 2.16041397e-01,\n",
       "       2.16041397e-01, 2.16688228e-01, 2.16688228e-01, 2.22509702e-01,\n",
       "       2.22509702e-01, 2.25097025e-01, 2.25097025e-01, 2.25743855e-01,\n",
       "       2.28331177e-01, 2.28331177e-01, 2.28331177e-01, 2.28331177e-01,\n",
       "       2.29624838e-01, 2.29624838e-01, 2.30271669e-01, 2.30271669e-01,\n",
       "       2.30918499e-01, 2.30918499e-01, 2.34799483e-01, 2.34799483e-01,\n",
       "       2.35446313e-01, 2.35446313e-01, 2.38033635e-01, 2.38033635e-01,\n",
       "       2.39327296e-01, 2.39327296e-01, 2.39974127e-01, 2.39974127e-01,\n",
       "       2.41914618e-01, 2.41914618e-01, 2.45148771e-01, 2.45148771e-01,\n",
       "       2.51617076e-01, 2.51617076e-01, 2.52263907e-01, 2.52263907e-01,\n",
       "       2.54851229e-01, 2.54851229e-01, 2.57438551e-01, 2.57438551e-01,\n",
       "       2.58732212e-01, 2.58732212e-01, 2.60672704e-01, 2.60672704e-01,\n",
       "       2.67141009e-01, 2.67141009e-01, 2.67787840e-01, 2.67787840e-01,\n",
       "       2.68434670e-01, 2.68434670e-01, 2.69081501e-01, 2.69081501e-01,\n",
       "       2.70375162e-01, 2.70375162e-01, 2.71021992e-01, 2.71021992e-01,\n",
       "       2.74256145e-01, 2.74256145e-01, 2.75549806e-01, 2.75549806e-01,\n",
       "       2.78137128e-01, 2.78137128e-01, 2.80724450e-01, 2.80724450e-01,\n",
       "       2.81371281e-01, 2.81371281e-01, 2.82018111e-01, 2.82018111e-01,\n",
       "       2.82664942e-01, 2.82664942e-01, 2.84605433e-01, 2.84605433e-01,\n",
       "       2.87192755e-01, 2.87192755e-01, 2.94954722e-01, 2.94954722e-01,\n",
       "       2.99482536e-01, 2.99482536e-01, 3.04657180e-01, 3.04657180e-01,\n",
       "       3.05950841e-01, 3.05950841e-01, 3.06597671e-01, 3.06597671e-01,\n",
       "       3.07244502e-01, 3.07244502e-01, 3.09184994e-01, 3.09184994e-01,\n",
       "       3.11772316e-01, 3.11772316e-01, 3.19534282e-01, 3.19534282e-01,\n",
       "       3.20827943e-01, 3.20827943e-01, 3.24062096e-01, 3.24062096e-01,\n",
       "       3.26002587e-01, 3.26002587e-01, 3.27296248e-01, 3.27296248e-01,\n",
       "       3.29883571e-01, 3.29883571e-01, 3.35705045e-01, 3.35705045e-01,\n",
       "       3.41526520e-01, 3.41526520e-01, 3.47994825e-01, 3.47994825e-01,\n",
       "       3.53169470e-01, 3.53169470e-01, 3.53816300e-01, 3.53816300e-01,\n",
       "       3.60931436e-01, 3.60931436e-01, 3.61578266e-01, 3.61578266e-01,\n",
       "       3.63518758e-01, 3.63518758e-01, 3.66752911e-01, 3.66752911e-01,\n",
       "       3.71927555e-01, 3.71927555e-01, 3.73868047e-01, 3.73868047e-01,\n",
       "       3.77749030e-01, 3.77749030e-01, 3.80336352e-01, 3.80336352e-01,\n",
       "       3.81630013e-01, 3.81630013e-01, 3.85510996e-01, 3.85510996e-01,\n",
       "       3.86804657e-01, 3.86804657e-01, 3.91979301e-01, 3.91979301e-01,\n",
       "       3.97153946e-01, 3.97153946e-01, 4.00388098e-01, 4.00388098e-01,\n",
       "       4.03622251e-01, 4.03622251e-01, 4.11384217e-01, 4.11384217e-01,\n",
       "       4.12677878e-01, 4.12677878e-01, 4.15265201e-01, 4.15265201e-01,\n",
       "       4.18499353e-01, 4.18499353e-01, 4.21086675e-01, 4.21086675e-01,\n",
       "       4.24967658e-01, 4.24967658e-01, 4.28848642e-01, 4.28848642e-01,\n",
       "       4.45666235e-01, 4.45666235e-01, 4.48253558e-01, 4.48253558e-01,\n",
       "       4.51487710e-01, 4.51487710e-01, 4.53428202e-01, 4.53428202e-01,\n",
       "       4.59896507e-01, 4.59896507e-01, 4.67658473e-01, 4.67658473e-01,\n",
       "       4.68305304e-01, 4.68305304e-01, 4.70245796e-01, 4.71539457e-01,\n",
       "       4.76714101e-01, 4.76714101e-01, 4.90944373e-01, 4.90944373e-01,\n",
       "       4.99353169e-01, 4.99353169e-01, 5.04527814e-01, 5.04527814e-01,\n",
       "       5.11642950e-01, 5.11642950e-01, 5.16817594e-01, 5.16817594e-01,\n",
       "       5.18758085e-01, 5.18758085e-01, 5.19404916e-01, 5.19404916e-01,\n",
       "       5.21992238e-01, 5.21992238e-01, 5.32341527e-01, 5.32341527e-01,\n",
       "       5.40103493e-01, 5.41397154e-01, 5.41397154e-01, 5.51099612e-01,\n",
       "       5.51099612e-01, 5.58214748e-01, 5.58214748e-01, 5.71798189e-01,\n",
       "       5.73091850e-01, 5.77619664e-01, 5.77619664e-01, 5.82794308e-01,\n",
       "       5.82794308e-01, 5.86675291e-01, 5.86675291e-01, 5.94437257e-01,\n",
       "       5.94437257e-01, 6.11901682e-01, 6.11901682e-01, 6.19016818e-01,\n",
       "       6.19016818e-01, 6.26778784e-01, 6.26778784e-01, 6.37774903e-01,\n",
       "       6.37774903e-01, 6.42949547e-01, 6.44243208e-01, 6.48771022e-01,\n",
       "       6.48771022e-01, 6.53298836e-01, 6.53298836e-01, 6.68822768e-01,\n",
       "       6.68822768e-01, 6.77231565e-01, 6.78525226e-01, 6.80465718e-01,\n",
       "       6.80465718e-01, 6.92755498e-01, 6.94049159e-01, 7.10219922e-01,\n",
       "       7.10219922e-01, 7.22509702e-01, 7.22509702e-01, 7.23803364e-01,\n",
       "       7.28331177e-01, 7.28331177e-01, 7.32212160e-01, 7.34799483e-01,\n",
       "       7.41914618e-01, 7.41914618e-01, 7.54204398e-01, 7.55498060e-01,\n",
       "       7.86545925e-01, 7.87839586e-01, 8.32470893e-01, 8.33764554e-01,\n",
       "       8.61578266e-01, 8.61578266e-01, 8.71927555e-01, 8.71927555e-01,\n",
       "       8.86804657e-01, 8.86804657e-01, 8.88745149e-01, 8.90038810e-01,\n",
       "       9.02328590e-01, 9.03622251e-01, 9.28201811e-01, 9.28201811e-01,\n",
       "       9.53428202e-01, 9.53428202e-01, 1.00000000e+00])"
      ]
     },
     "execution_count": 126,
     "metadata": {},
     "output_type": "execute_result"
    }
   ],
   "source": [
    "fpr"
   ]
  },
  {
   "cell_type": "code",
   "execution_count": 127,
   "metadata": {},
   "outputs": [
    {
     "data": {
      "text/plain": [
       "array([0.        , 0.00176367, 0.00705467, 0.00705467, 0.01763668,\n",
       "       0.01763668, 0.03174603, 0.03174603, 0.0335097 , 0.0335097 ,\n",
       "       0.04232804, 0.04232804, 0.05643739, 0.05996473, 0.06525573,\n",
       "       0.06525573, 0.07231041, 0.07231041, 0.08641975, 0.08641975,\n",
       "       0.10405644, 0.10405644, 0.10758377, 0.11111111, 0.11992945,\n",
       "       0.11992945, 0.14638448, 0.14638448, 0.15343915, 0.15343915,\n",
       "       0.15696649, 0.15696649, 0.15873016, 0.15873016, 0.16931217,\n",
       "       0.16931217, 0.17107584, 0.17107584, 0.17283951, 0.17283951,\n",
       "       0.17813051, 0.17813051, 0.18694885, 0.18694885, 0.19929453,\n",
       "       0.19929453, 0.20458554, 0.20458554, 0.21164021, 0.21164021,\n",
       "       0.21693122, 0.21693122, 0.22222222, 0.22222222, 0.23280423,\n",
       "       0.23280423, 0.24338624, 0.24338624, 0.25220459, 0.25220459,\n",
       "       0.25573192, 0.25573192, 0.26455026, 0.26455026, 0.2680776 ,\n",
       "       0.2680776 , 0.26984127, 0.26984127, 0.27160494, 0.27160494,\n",
       "       0.28218695, 0.28218695, 0.29100529, 0.29100529, 0.29805996,\n",
       "       0.29805996, 0.3015873 , 0.3015873 , 0.30864198, 0.30864198,\n",
       "       0.31216931, 0.31216931, 0.31922399, 0.31922399, 0.32098765,\n",
       "       0.32098765, 0.32275132, 0.32275132, 0.32627866, 0.329806  ,\n",
       "       0.329806  , 0.33686067, 0.33686067, 0.33862434, 0.33862434,\n",
       "       0.34038801, 0.34038801, 0.34391534, 0.34391534, 0.34567901,\n",
       "       0.34567901, 0.35273369, 0.35626102, 0.35626102, 0.35978836,\n",
       "       0.35978836, 0.36155203, 0.36155203, 0.36507937, 0.36684303,\n",
       "       0.36684303, 0.3686067 , 0.3686067 , 0.37213404, 0.37213404,\n",
       "       0.37566138, 0.37566138, 0.38095238, 0.38095238, 0.38447972,\n",
       "       0.38447972, 0.38800705, 0.38800705, 0.38977072, 0.38977072,\n",
       "       0.39506173, 0.39506173, 0.3968254 , 0.3968254 , 0.40035273,\n",
       "       0.40035273, 0.41093474, 0.41093474, 0.41798942, 0.41798942,\n",
       "       0.41975309, 0.41975309, 0.42328042, 0.42328042, 0.42680776,\n",
       "       0.42680776, 0.42857143, 0.4303351 , 0.4303351 , 0.43738977,\n",
       "       0.43738977, 0.44091711, 0.44091711, 0.44268078, 0.44268078,\n",
       "       0.44444444, 0.44444444, 0.44620811, 0.44620811, 0.44797178,\n",
       "       0.44797178, 0.45679012, 0.45679012, 0.45855379, 0.45855379,\n",
       "       0.46208113, 0.46208113, 0.46737213, 0.46737213, 0.47089947,\n",
       "       0.47089947, 0.47266314, 0.47266314, 0.47442681, 0.47442681,\n",
       "       0.47795414, 0.47795414, 0.48148148, 0.48148148, 0.48324515,\n",
       "       0.48324515, 0.48677249, 0.48677249, 0.49029982, 0.49029982,\n",
       "       0.4973545 , 0.4973545 , 0.50440917, 0.50440917, 0.51146384,\n",
       "       0.51146384, 0.51322751, 0.51322751, 0.51499118, 0.51499118,\n",
       "       0.51851852, 0.51851852, 0.52028219, 0.52028219, 0.52380952,\n",
       "       0.52380952, 0.52557319, 0.52557319, 0.54144621, 0.54144621,\n",
       "       0.54320988, 0.54320988, 0.54673721, 0.54673721, 0.54850088,\n",
       "       0.54850088, 0.55026455, 0.55026455, 0.56084656, 0.56084656,\n",
       "       0.5643739 , 0.5643739 , 0.5696649 , 0.5696649 , 0.57142857,\n",
       "       0.57142857, 0.57495591, 0.57495591, 0.57848325, 0.57848325,\n",
       "       0.58024691, 0.58024691, 0.58201058, 0.58201058, 0.58730159,\n",
       "       0.58730159, 0.58906526, 0.58906526, 0.5978836 , 0.5978836 ,\n",
       "       0.60670194, 0.60670194, 0.60846561, 0.60846561, 0.61022928,\n",
       "       0.61022928, 0.61199295, 0.61199295, 0.61552028, 0.61552028,\n",
       "       0.61728395, 0.61728395, 0.62433862, 0.62433862, 0.62610229,\n",
       "       0.62610229, 0.62786596, 0.62786596, 0.6313933 , 0.6313933 ,\n",
       "       0.63492063, 0.63492063, 0.6366843 , 0.6366843 , 0.64726631,\n",
       "       0.64726631, 0.65255732, 0.65255732, 0.65784832, 0.65784832,\n",
       "       0.65961199, 0.65961199, 0.66137566, 0.66137566, 0.66313933,\n",
       "       0.66313933, 0.66666667, 0.66666667, 0.67195767, 0.67195767,\n",
       "       0.67372134, 0.67372134, 0.67901235, 0.67901235, 0.68253968,\n",
       "       0.68253968, 0.68430335, 0.68430335, 0.68606702, 0.68606702,\n",
       "       0.68959436, 0.68959436, 0.69312169, 0.69312169, 0.69488536,\n",
       "       0.69488536, 0.69664903, 0.69664903, 0.6984127 , 0.6984127 ,\n",
       "       0.70017637, 0.70017637, 0.70194004, 0.70194004, 0.7037037 ,\n",
       "       0.7037037 , 0.70546737, 0.70546737, 0.70723104, 0.70723104,\n",
       "       0.70899471, 0.70899471, 0.71075838, 0.71075838, 0.71252205,\n",
       "       0.71252205, 0.71428571, 0.71428571, 0.71604938, 0.71604938,\n",
       "       0.71781305, 0.71781305, 0.71957672, 0.71957672, 0.72134039,\n",
       "       0.72134039, 0.72310406, 0.72310406, 0.72486772, 0.72486772,\n",
       "       0.72663139, 0.72663139, 0.72839506, 0.72839506, 0.73015873,\n",
       "       0.73015873, 0.7319224 , 0.7319224 , 0.73368607, 0.73368607,\n",
       "       0.7372134 , 0.7372134 , 0.73897707, 0.73897707, 0.74250441,\n",
       "       0.74250441, 0.74426808, 0.74426808, 0.74779541, 0.74955908,\n",
       "       0.74955908, 0.75132275, 0.75485009, 0.75661376, 0.75661376,\n",
       "       0.75837743, 0.75837743, 0.76014109, 0.76014109, 0.76190476,\n",
       "       0.76190476, 0.76366843, 0.76366843, 0.76719577, 0.76719577,\n",
       "       0.76895944, 0.76895944, 0.77601411, 0.77601411, 0.77954145,\n",
       "       0.77954145, 0.78130511, 0.78130511, 0.78483245, 0.78483245,\n",
       "       0.78835979, 0.78835979, 0.79365079, 0.79365079, 0.79541446,\n",
       "       0.79541446, 0.79717813, 0.79717813, 0.7989418 , 0.7989418 ,\n",
       "       0.80070547, 0.80070547, 0.80246914, 0.80246914, 0.8042328 ,\n",
       "       0.8042328 , 0.81128748, 0.81128748, 0.81481481, 0.81481481,\n",
       "       0.81657848, 0.81657848, 0.81834215, 0.81834215, 0.82010582,\n",
       "       0.82010582, 0.82186949, 0.82186949, 0.82363316, 0.82363316,\n",
       "       0.82716049, 0.82716049, 0.82892416, 0.82892416, 0.83068783,\n",
       "       0.8324515 , 0.83597884, 0.83597884, 0.8377425 , 0.8377425 ,\n",
       "       0.83950617, 0.83950617, 0.84126984, 0.84126984, 0.84479718,\n",
       "       0.84479718, 0.84656085, 0.84656085, 0.85008818, 0.85008818,\n",
       "       0.85185185, 0.85185185, 0.85537919, 0.85537919, 0.85714286,\n",
       "       0.85714286, 0.85890653, 0.85890653, 0.86067019, 0.86067019,\n",
       "       0.86243386, 0.86243386, 0.86419753, 0.86419753, 0.8659612 ,\n",
       "       0.8659612 , 0.86948854, 0.86948854, 0.8712522 , 0.8712522 ,\n",
       "       0.87301587, 0.87301587, 0.87477954, 0.87477954, 0.87830688,\n",
       "       0.87830688, 0.88007055, 0.88007055, 0.88183422, 0.88183422,\n",
       "       0.88359788, 0.88359788, 0.88536155, 0.88536155, 0.88712522,\n",
       "       0.88712522, 0.88888889, 0.88888889, 0.89065256, 0.89065256,\n",
       "       0.89241623, 0.89241623, 0.89417989, 0.89417989, 0.89594356,\n",
       "       0.89594356, 0.89770723, 0.89770723, 0.8994709 , 0.8994709 ,\n",
       "       0.90123457, 0.90123457, 0.90299824, 0.90299824, 0.9047619 ,\n",
       "       0.9047619 , 0.90828924, 0.90828924, 0.91005291, 0.91005291,\n",
       "       0.91181658, 0.91181658, 0.91358025, 0.91358025, 0.91534392,\n",
       "       0.91534392, 0.91710758, 0.91710758, 0.91887125, 0.91887125,\n",
       "       0.92063492, 0.92063492, 0.92239859, 0.92239859, 0.92416226,\n",
       "       0.92416226, 0.92768959, 0.92768959, 0.92945326, 0.92945326,\n",
       "       0.93121693, 0.93121693, 0.9329806 , 0.9329806 , 0.9382716 ,\n",
       "       0.9382716 , 0.94003527, 0.94003527, 0.94003527, 0.94003527,\n",
       "       0.94179894, 0.94179894, 0.94356261, 0.94356261, 0.94532628,\n",
       "       0.94532628, 0.94708995, 0.94708995, 0.94885362, 0.94885362,\n",
       "       0.95061728, 0.95061728, 0.95238095, 0.95238095, 0.95414462,\n",
       "       0.95414462, 0.95590829, 0.95590829, 0.95767196, 0.95767196,\n",
       "       0.95767196, 0.95943563, 0.95943563, 0.96119929, 0.96119929,\n",
       "       0.96296296, 0.96296296, 0.96296296, 0.96296296, 0.96472663,\n",
       "       0.96472663, 0.9664903 , 0.9664903 , 0.96825397, 0.96825397,\n",
       "       0.97001764, 0.97001764, 0.97178131, 0.97178131, 0.97354497,\n",
       "       0.97354497, 0.97530864, 0.97530864, 0.97707231, 0.97707231,\n",
       "       0.97707231, 0.97707231, 0.97883598, 0.97883598, 0.98059965,\n",
       "       0.98059965, 0.98236332, 0.98236332, 0.98236332, 0.98236332,\n",
       "       0.98412698, 0.98412698, 0.98412698, 0.98412698, 0.98589065,\n",
       "       0.98589065, 0.98765432, 0.98765432, 0.98765432, 0.98941799,\n",
       "       0.98941799, 0.98941799, 0.98941799, 0.99118166, 0.99118166,\n",
       "       0.99118166, 0.99118166, 0.99118166, 0.99118166, 0.99118166,\n",
       "       0.99118166, 0.99294533, 0.99294533, 0.99470899, 0.99470899,\n",
       "       0.99647266, 0.99647266, 0.99647266, 0.99647266, 0.99647266,\n",
       "       0.99647266, 0.99823633, 0.99823633, 1.        , 1.        ])"
      ]
     },
     "execution_count": 127,
     "metadata": {},
     "output_type": "execute_result"
    }
   ],
   "source": [
    "tpr"
   ]
  },
  {
   "cell_type": "code",
   "execution_count": 128,
   "metadata": {},
   "outputs": [
    {
     "data": {
      "text/plain": [
       "array([1.95997581, 0.95997581, 0.91867115, 0.91386291, 0.88273183,\n",
       "       0.88121891, 0.87012383, 0.86750829, 0.86445252, 0.86172416,\n",
       "       0.85781238, 0.85634603, 0.85017597, 0.84833534, 0.84626342,\n",
       "       0.84621511, 0.83633168, 0.83589838, 0.82123596, 0.82109238,\n",
       "       0.81180947, 0.80994841, 0.80399819, 0.80261795, 0.79331384,\n",
       "       0.79103077, 0.76761682, 0.76672215, 0.76429276, 0.7628014 ,\n",
       "       0.76117651, 0.7591163 , 0.75809173, 0.75691229, 0.75272104,\n",
       "       0.7516888 , 0.75069509, 0.75050163, 0.75014268, 0.7485105 ,\n",
       "       0.74199988, 0.7381282 , 0.73395041, 0.73273096, 0.7185117 ,\n",
       "       0.7183592 , 0.71504568, 0.71062921, 0.70529946, 0.70507155,\n",
       "       0.70097182, 0.69977191, 0.69740383, 0.69623494, 0.69150099,\n",
       "       0.69123126, 0.68741857, 0.68664177, 0.6777669 , 0.67403702,\n",
       "       0.67372759, 0.6722978 , 0.6688731 , 0.66802054, 0.66458875,\n",
       "       0.66369939, 0.66311372, 0.66296884, 0.6627786 , 0.66138697,\n",
       "       0.65499405, 0.65400353, 0.64700931, 0.64674793, 0.64296278,\n",
       "       0.63876301, 0.63708036, 0.63698602, 0.63218482, 0.63196958,\n",
       "       0.63104307, 0.62998592, 0.62663003, 0.62524643, 0.62489036,\n",
       "       0.62123893, 0.61891291, 0.61573247, 0.61425559, 0.61366905,\n",
       "       0.61328596, 0.61081356, 0.60570761, 0.60523011, 0.60418564,\n",
       "       0.60375122, 0.60196699, 0.601235  , 0.60084741, 0.59793085,\n",
       "       0.5952685 , 0.58881401, 0.58863479, 0.58753086, 0.58706746,\n",
       "       0.58601472, 0.58576502, 0.5856511 , 0.58474055, 0.58437545,\n",
       "       0.58400628, 0.5835336 , 0.58240005, 0.58061021, 0.57746101,\n",
       "       0.57619326, 0.57430565, 0.57337835, 0.57190804, 0.57142137,\n",
       "       0.5693939 , 0.56734517, 0.56666768, 0.56600213, 0.56378095,\n",
       "       0.56296749, 0.56160851, 0.56135654, 0.56019802, 0.55861713,\n",
       "       0.55854383, 0.55641116, 0.55557584, 0.55010738, 0.54987065,\n",
       "       0.54982708, 0.5496611 , 0.54915592, 0.54912398, 0.54714192,\n",
       "       0.54674725, 0.54650007, 0.54318152, 0.53858734, 0.53561672,\n",
       "       0.53332084, 0.53145241, 0.53134601, 0.53082736, 0.53061219,\n",
       "       0.53049676, 0.52958989, 0.52853396, 0.52847043, 0.52789813,\n",
       "       0.52605098, 0.52287625, 0.52241006, 0.52092362, 0.52078144,\n",
       "       0.52032546, 0.51955237, 0.51763284, 0.51622114, 0.51611573,\n",
       "       0.51519724, 0.51475245, 0.51385532, 0.51295842, 0.51237025,\n",
       "       0.51002965, 0.50887792, 0.50759107, 0.50323264, 0.50305632,\n",
       "       0.50061226, 0.50021357, 0.49835551, 0.49354953, 0.49348273,\n",
       "       0.49001416, 0.48918591, 0.48779421, 0.48599498, 0.4832251 ,\n",
       "       0.4825686 , 0.48246617, 0.48237464, 0.48227263, 0.48203795,\n",
       "       0.48094359, 0.4791902 , 0.47835467, 0.47742735, 0.47656854,\n",
       "       0.47588936, 0.47470717, 0.47449683, 0.46893037, 0.46724979,\n",
       "       0.46650927, 0.4663815 , 0.466113  , 0.46534639, 0.46368291,\n",
       "       0.46334706, 0.46285751, 0.46202034, 0.4592431 , 0.45918769,\n",
       "       0.45829188, 0.45682318, 0.45402417, 0.45099061, 0.45032409,\n",
       "       0.44503761, 0.442705  , 0.44227596, 0.4415377 , 0.44078594,\n",
       "       0.44073135, 0.43994594, 0.43810393, 0.43667541, 0.43509973,\n",
       "       0.43340809, 0.43335386, 0.43114049, 0.42776323, 0.42764395,\n",
       "       0.4250989 , 0.41928717, 0.41915673, 0.41813845, 0.41752333,\n",
       "       0.41500253, 0.41356452, 0.41315884, 0.41219394, 0.4071752 ,\n",
       "       0.40688885, 0.40614981, 0.40310061, 0.40271344, 0.40266634,\n",
       "       0.40174452, 0.40169063, 0.39902527, 0.3964809 , 0.39576322,\n",
       "       0.39532074, 0.38582598, 0.38580421, 0.38497703, 0.38271622,\n",
       "       0.38215675, 0.3785093 , 0.37824891, 0.37568766, 0.37440192,\n",
       "       0.37383974, 0.37299298, 0.37266607, 0.37231352, 0.37222439,\n",
       "       0.36970284, 0.36895283, 0.36663102, 0.36261523, 0.36136064,\n",
       "       0.361272  , 0.35647615, 0.35334995, 0.35134377, 0.35082446,\n",
       "       0.34934618, 0.34884718, 0.34433719, 0.34426581, 0.34346596,\n",
       "       0.34345171, 0.34156582, 0.34070817, 0.34002294, 0.33866436,\n",
       "       0.33802715, 0.3377999 , 0.33548014, 0.33545101, 0.33534422,\n",
       "       0.33379062, 0.33258772, 0.33241066, 0.33219488, 0.3320593 ,\n",
       "       0.32868203, 0.32642051, 0.32522204, 0.32440725, 0.32303532,\n",
       "       0.32272715, 0.32138892, 0.32115534, 0.32033045, 0.32006211,\n",
       "       0.31960198, 0.31912682, 0.31657281, 0.31621302, 0.31523875,\n",
       "       0.31433168, 0.31362982, 0.31344262, 0.31287681, 0.31236524,\n",
       "       0.31225101, 0.31205167, 0.31169003, 0.31063118, 0.31060686,\n",
       "       0.30947401, 0.30920932, 0.30836276, 0.3059565 , 0.30573245,\n",
       "       0.30327921, 0.30320963, 0.30193048, 0.30041329, 0.30023004,\n",
       "       0.299128  , 0.29883675, 0.29862296, 0.29831898, 0.29769467,\n",
       "       0.29419103, 0.29292524, 0.29074308, 0.28893915, 0.28855614,\n",
       "       0.2868178 , 0.28628437, 0.28575266, 0.28559946, 0.28549109,\n",
       "       0.28439008, 0.28291666, 0.28210984, 0.28195113, 0.28142825,\n",
       "       0.27933593, 0.27913525, 0.27908499, 0.27845472, 0.27690261,\n",
       "       0.27583129, 0.27542592, 0.27351409, 0.27271325, 0.27239422,\n",
       "       0.27136481, 0.2698505 , 0.26826396, 0.26705972, 0.26407076,\n",
       "       0.26349093, 0.26345369, 0.26303553, 0.26169535, 0.26035513,\n",
       "       0.25748508, 0.25729119, 0.25689806, 0.25614086, 0.25178829,\n",
       "       0.25166523, 0.24918118, 0.24894747, 0.24860668, 0.24834325,\n",
       "       0.24832664, 0.24560636, 0.24480446, 0.24387306, 0.24315971,\n",
       "       0.242856  , 0.2419245 , 0.24123171, 0.23970829, 0.23952267,\n",
       "       0.23873236, 0.23831867, 0.23709427, 0.23652279, 0.23455872,\n",
       "       0.23151712, 0.23137928, 0.23118417, 0.23082537, 0.23035125,\n",
       "       0.23034966, 0.22971613, 0.2271335 , 0.22668784, 0.22407912,\n",
       "       0.22406874, 0.22092277, 0.22080551, 0.21468448, 0.21325021,\n",
       "       0.21038671, 0.21028411, 0.21007902, 0.20989655, 0.20975403,\n",
       "       0.20958373, 0.20947495, 0.20869819, 0.20546116, 0.20539172,\n",
       "       0.20476421, 0.20459838, 0.19782432, 0.19711462, 0.19621427,\n",
       "       0.19586315, 0.19373075, 0.19335968, 0.19242546, 0.19146296,\n",
       "       0.1911926 , 0.19061313, 0.18993564, 0.18911011, 0.18560715,\n",
       "       0.184693  , 0.18186391, 0.18176385, 0.17871347, 0.17696444,\n",
       "       0.17428983, 0.17399671, 0.17304831, 0.17159139, 0.16572917,\n",
       "       0.16512237, 0.16497907, 0.16490798, 0.16272151, 0.16259294,\n",
       "       0.15950232, 0.15941691, 0.15717513, 0.15707595, 0.15625419,\n",
       "       0.15611008, 0.15406845, 0.15402665, 0.15361452, 0.15347017,\n",
       "       0.15295952, 0.15286724, 0.15094986, 0.15060033, 0.14984417,\n",
       "       0.14930086, 0.1472528 , 0.14710307, 0.14528721, 0.14501472,\n",
       "       0.14384799, 0.14331569, 0.14161012, 0.14098504, 0.13847129,\n",
       "       0.13777694, 0.13720141, 0.13693519, 0.13565349, 0.13545722,\n",
       "       0.13483421, 0.13480554, 0.13377402, 0.13358995, 0.13086958,\n",
       "       0.13063193, 0.12707233, 0.12679058, 0.11971842, 0.11953115,\n",
       "       0.11785963, 0.11755164, 0.11623169, 0.11567103, 0.11479656,\n",
       "       0.11454665, 0.11325746, 0.11320954, 0.11075364, 0.11012753,\n",
       "       0.1097677 , 0.10968566, 0.10940874, 0.10936877, 0.1062011 ,\n",
       "       0.10594175, 0.09996433, 0.0996627 , 0.09598938, 0.09584705,\n",
       "       0.09402484, 0.09388103, 0.0921044 , 0.09193185, 0.08945607,\n",
       "       0.08939404, 0.08826091, 0.08819244, 0.08806873, 0.08791749,\n",
       "       0.08718346, 0.08711487, 0.08317251, 0.08315143, 0.08020434,\n",
       "       0.08009565, 0.07994357, 0.07707411, 0.07703744, 0.07450352,\n",
       "       0.07420274, 0.06907606, 0.0689537 , 0.06761205, 0.06751469,\n",
       "       0.06637937, 0.06581271, 0.06537731, 0.06528305, 0.0636274 ,\n",
       "       0.06354222, 0.05951481, 0.05925912, 0.0568731 , 0.05675635,\n",
       "       0.05509836, 0.05488385, 0.05263797, 0.05257336, 0.05189995,\n",
       "       0.05169957, 0.05114024, 0.05111453, 0.05000831, 0.04984851,\n",
       "       0.04707461, 0.04702601, 0.04551724, 0.04551395, 0.04539031,\n",
       "       0.04534088, 0.04241856, 0.04215692, 0.0398446 , 0.0397183 ,\n",
       "       0.03752243, 0.03750453, 0.03727966, 0.03671655, 0.03671371,\n",
       "       0.03606961, 0.03601176, 0.03487807, 0.03480704, 0.03344155,\n",
       "       0.03334002, 0.03022945, 0.03020324, 0.02616438, 0.02612777,\n",
       "       0.02390828, 0.02377897, 0.02309205, 0.02309084, 0.02231863,\n",
       "       0.02210807, 0.02200877, 0.02196526, 0.02093195, 0.02092685,\n",
       "       0.01934664, 0.01930687, 0.01754744, 0.01752855, 0.00851918])"
      ]
     },
     "execution_count": 128,
     "metadata": {},
     "output_type": "execute_result"
    }
   ],
   "source": [
    "thresholds"
   ]
  },
  {
   "cell_type": "code",
   "execution_count": 129,
   "metadata": {},
   "outputs": [
    {
     "data": {
      "image/png": "[encoded data removed]",
      "text/plain": [
       "<Figure size 432x288 with 1 Axes>"
      ]
     },
     "metadata": {
      "needs_background": "light"
     },
     "output_type": "display_data"
    },
    {
     "data": {
      "text/plain": [
       "0.6981081062581709"
      ]
     },
     "execution_count": 129,
     "metadata": {},
     "output_type": "execute_result"
    }
   ],
   "source": [
    "plt.plot([0,1],[0,1],'k--')\n",
    "plt.plot(fpr,tpr,label='Decision tree classifier')\n",
    "plt.xlabel('False positive rate')\n",
    "plt.ylabel('True positive rate')\n",
    "plt.title('GradientBoostingClassifier')\n",
    "plt.show()\n",
    "auc_score=roc_auc_score(y_test,gbc.predict(x_test))\n",
    "auc_score"
   ]
  },
  {
   "cell_type": "markdown",
   "metadata": {},
   "source": [
    "# hyper parameter tuning"
   ]
  },
  {
   "cell_type": "code",
   "execution_count": 130,
   "metadata": {},
   "outputs": [],
   "source": [
    "from sklearn.model_selection import GridSearchCV\n",
    "parameter = {'max_depth' : np.arange(2,10),\n",
    "              'criterion':['gini','entropy']}"
   ]
  },
  {
   "cell_type": "code",
   "execution_count": 131,
   "metadata": {},
   "outputs": [],
   "source": [
    "GCV=GridSearchCV(DecisionTreeClassifier(),parameter,cv=5)"
   ]
  },
  {
   "cell_type": "code",
   "execution_count": 132,
   "metadata": {},
   "outputs": [
    {
     "data": {
      "text/plain": [
       "GridSearchCV(cv=5, estimator=DecisionTreeClassifier(),\n",
       "             param_grid={'criterion': ['gini', 'entropy'],\n",
       "                         'max_depth': array([2, 3, 4, 5, 6, 7, 8, 9])})"
      ]
     },
     "execution_count": 132,
     "metadata": {},
     "output_type": "execute_result"
    }
   ],
   "source": [
    "GCV.fit(x_train,y_train)"
   ]
  },
  {
   "cell_type": "code",
   "execution_count": 133,
   "metadata": {},
   "outputs": [
    {
     "data": {
      "text/plain": [
       "{'criterion': 'entropy', 'max_depth': 6}"
      ]
     },
     "execution_count": 133,
     "metadata": {},
     "output_type": "execute_result"
    }
   ],
   "source": [
    "GCV.best_params_"
   ]
  },
  {
   "cell_type": "code",
   "execution_count": 134,
   "metadata": {},
   "outputs": [
    {
     "data": {
      "text/plain": [
       "0.7831643002028397"
      ]
     },
     "execution_count": 134,
     "metadata": {},
     "output_type": "execute_result"
    }
   ],
   "source": [
    "GCV.best_score_"
   ]
  },
  {
   "cell_type": "code",
   "execution_count": 135,
   "metadata": {},
   "outputs": [],
   "source": [
    "rfc=RandomForestClassifier(random_state=42)\n",
    "param_grid = { \n",
    "    'n_estimators': [200, 500],\n",
    "    'max_features': ['auto', 'sqrt', 'log2'],\n",
    "    'max_depth' : [4,5,6,7,8],\n",
    "    'criterion' :['gini', 'entropy']}"
   ]
  },
  {
   "cell_type": "code",
   "execution_count": 136,
   "metadata": {},
   "outputs": [],
   "source": [
    "CV_rfc = GridSearchCV(estimator=rfc, param_grid=param_grid, cv= 5)"
   ]
  },
  {
   "cell_type": "code",
   "execution_count": 137,
   "metadata": {},
   "outputs": [
    {
     "data": {
      "text/plain": [
       "GridSearchCV(cv=5, estimator=RandomForestClassifier(random_state=42),\n",
       "             param_grid={'criterion': ['gini', 'entropy'],\n",
       "                         'max_depth': [4, 5, 6, 7, 8],\n",
       "                         'max_features': ['auto', 'sqrt', 'log2'],\n",
       "                         'n_estimators': [200, 500]})"
      ]
     },
     "execution_count": 137,
     "metadata": {},
     "output_type": "execute_result"
    }
   ],
   "source": [
    "CV_rfc.fit(x_train, y_train)"
   ]
  },
  {
   "cell_type": "code",
   "execution_count": 138,
   "metadata": {},
   "outputs": [
    {
     "data": {
      "text/plain": [
       "{'criterion': 'entropy',\n",
       " 'max_depth': 8,\n",
       " 'max_features': 'auto',\n",
       " 'n_estimators': 200}"
      ]
     },
     "execution_count": 138,
     "metadata": {},
     "output_type": "execute_result"
    }
   ],
   "source": [
    "CV_rfc.best_params_"
   ]
  },
  {
   "cell_type": "code",
   "execution_count": 139,
   "metadata": {},
   "outputs": [
    {
     "data": {
      "text/plain": [
       "0.797971602434077"
      ]
     },
     "execution_count": 139,
     "metadata": {},
     "output_type": "execute_result"
    }
   ],
   "source": [
    "CV_rfc.best_score_"
   ]
  },
  {
   "cell_type": "code",
   "execution_count": 140,
   "metadata": {},
   "outputs": [],
   "source": [
    "ada=AdaBoostClassifier()\n",
    "search_grid={'n_estimators':[500,1000,2000],\n",
    "             'learning_rate':[.001,0.01,.1]}"
   ]
  },
  {
   "cell_type": "code",
   "execution_count": 141,
   "metadata": {},
   "outputs": [],
   "source": [
    "search=GridSearchCV(estimator=ada,param_grid=search_grid,scoring='accuracy',n_jobs=1,cv=5)"
   ]
  },
  {
   "cell_type": "code",
   "execution_count": 142,
   "metadata": {},
   "outputs": [
    {
     "data": {
      "text/plain": [
       "GridSearchCV(cv=5, estimator=AdaBoostClassifier(), n_jobs=1,\n",
       "             param_grid={'learning_rate': [0.001, 0.01, 0.1],\n",
       "                         'n_estimators': [500, 1000, 2000]},\n",
       "             scoring='accuracy')"
      ]
     },
     "execution_count": 142,
     "metadata": {},
     "output_type": "execute_result"
    }
   ],
   "source": [
    "search.fit(x,y)"
   ]
  },
  {
   "cell_type": "code",
   "execution_count": 143,
   "metadata": {},
   "outputs": [
    {
     "data": {
      "text/plain": [
       "{'learning_rate': 0.01, 'n_estimators': 2000}"
      ]
     },
     "execution_count": 143,
     "metadata": {},
     "output_type": "execute_result"
    }
   ],
   "source": [
    "search.best_params_"
   ]
  },
  {
   "cell_type": "code",
   "execution_count": 144,
   "metadata": {},
   "outputs": [
    {
     "data": {
      "text/plain": [
       "0.8012210465191302"
      ]
     },
     "execution_count": 144,
     "metadata": {},
     "output_type": "execute_result"
    }
   ],
   "source": [
    "search.best_score_"
   ]
  },
  {
   "cell_type": "code",
   "execution_count": 146,
   "metadata": {},
   "outputs": [
    {
     "name": "stdout",
     "output_type": "stream",
     "text": [
      "Fitting 3 folds for each of 16 candidates, totalling 48 fits\n"
     ]
    },
    {
     "data": {
      "text/plain": [
       "KNeighborsClassifier(metric='manhattan', n_neighbors=19)"
      ]
     },
     "execution_count": 146,
     "metadata": {},
     "output_type": "execute_result"
    }
   ],
   "source": [
    "grid_params={ 'n_neighbors':[3,5,11,19],\n",
    "            'weights': ['uniform','distance'],\n",
    "            'metric':['éuclidean','manhattan']}\n",
    "gs=GridSearchCV(knn,grid_params,verbose=1,cv=3,n_jobs=-1)\n",
    "gs_result=gs.fit(x_train,y_train)\n",
    "gs_result.best_score_\n",
    "gs_result.best_estimator_"
   ]
  },
  {
   "cell_type": "code",
   "execution_count": 154,
   "metadata": {},
   "outputs": [],
   "source": [
    "parameters={\n",
    "    \"n_estimators\":[5,50,250,500],\n",
    "    \"max_depth\"   :[1,3,5,7,9],\n",
    "    \"learning_rate\":[0.01,0.1,1,10,100]\n",
    "}"
   ]
  },
  {
   "cell_type": "code",
   "execution_count": 156,
   "metadata": {},
   "outputs": [
    {
     "data": {
      "text/plain": [
       "GridSearchCV(cv=5, estimator=GradientBoostingClassifier(),\n",
       "             param_grid={'learning_rate': [0.01, 0.1, 1, 10, 100],\n",
       "                         'max_depth': [1, 3, 5, 7, 9],\n",
       "                         'n_estimators': [5, 50, 250, 500]})"
      ]
     },
     "execution_count": 156,
     "metadata": {},
     "output_type": "execute_result"
    }
   ],
   "source": [
    "gb=GridSearchCV(gbc,parameters,cv=5)\n",
    "gb.fit(x_train,y_train.values.ravel())"
   ]
  },
  {
   "cell_type": "code",
   "execution_count": 157,
   "metadata": {},
   "outputs": [
    {
     "data": {
      "text/plain": [
       "{'learning_rate': 0.01, 'max_depth': 5, 'n_estimators': 500}"
      ]
     },
     "execution_count": 157,
     "metadata": {},
     "output_type": "execute_result"
    }
   ],
   "source": [
    "gb.best_params_"
   ]
  },
  {
   "cell_type": "code",
   "execution_count": 158,
   "metadata": {},
   "outputs": [
    {
     "data": {
      "text/plain": [
       "0.8022312373225151"
      ]
     },
     "execution_count": 158,
     "metadata": {},
     "output_type": "execute_result"
    }
   ],
   "source": [
    "gb.best_score_"
   ]
  },
  {
   "cell_type": "markdown",
   "metadata": {},
   "source": [
    "GradientBoostingClassifier is giving Maximum Accuracy as compare to other classification algorithm.Hence GradientBoostingClassifier is the best model of this dataset."
   ]
  },
  {
   "cell_type": "markdown",
   "metadata": {},
   "source": [
    "# saving the model"
   ]
  },
  {
   "cell_type": "code",
   "execution_count": 159,
   "metadata": {},
   "outputs": [],
   "source": [
    "import pickle\n",
    "filename='Telecom_customer_churn project.pkl'\n",
    "pickle.dump(dt,open(filename,'wb'))"
   ]
  },
  {
   "cell_type": "markdown",
   "metadata": {},
   "source": [
    "# conclusion"
   ]
  },
  {
   "cell_type": "code",
   "execution_count": 160,
   "metadata": {},
   "outputs": [
    {
     "name": "stdout",
     "output_type": "stream",
     "text": [
      "0.722669190724089\n"
     ]
    }
   ],
   "source": [
    "loaded_model=pickle.load(open('Telecom_customer_churn project.pkl','rb'))\n",
    "result=loaded_model.score(x_test,y_test)\n",
    "print(result)"
   ]
  },
  {
   "cell_type": "code",
   "execution_count": 162,
   "metadata": {},
   "outputs": [],
   "source": [
    "conclusion=pd.DataFrame([loaded_model.predict(x_test)[:],pred[:]],index=[\"predicted\",\"original\"])"
   ]
  },
  {
   "cell_type": "code",
   "execution_count": 163,
   "metadata": {},
   "outputs": [
    {
     "data": {
      "text/html": [
       "<div>\n",
       "<style scoped>\n",
       "    .dataframe tbody tr th:only-of-type {\n",
       "        vertical-align: middle;\n",
       "    }\n",
       "\n",
       "    .dataframe tbody tr th {\n",
       "        vertical-align: top;\n",
       "    }\n",
       "\n",
       "    .dataframe thead th {\n",
       "        text-align: right;\n",
       "    }\n",
       "</style>\n",
       "<table border=\"1\" class=\"dataframe\">\n",
       "  <thead>\n",
       "    <tr style=\"text-align: right;\">\n",
       "      <th></th>\n",
       "      <th>0</th>\n",
       "      <th>1</th>\n",
       "      <th>2</th>\n",
       "      <th>3</th>\n",
       "      <th>4</th>\n",
       "      <th>5</th>\n",
       "      <th>6</th>\n",
       "      <th>7</th>\n",
       "      <th>8</th>\n",
       "      <th>9</th>\n",
       "      <th>...</th>\n",
       "      <th>2103</th>\n",
       "      <th>2104</th>\n",
       "      <th>2105</th>\n",
       "      <th>2106</th>\n",
       "      <th>2107</th>\n",
       "      <th>2108</th>\n",
       "      <th>2109</th>\n",
       "      <th>2110</th>\n",
       "      <th>2111</th>\n",
       "      <th>2112</th>\n",
       "    </tr>\n",
       "  </thead>\n",
       "  <tbody>\n",
       "    <tr>\n",
       "      <th>predicted</th>\n",
       "      <td>0</td>\n",
       "      <td>1</td>\n",
       "      <td>0</td>\n",
       "      <td>1</td>\n",
       "      <td>1</td>\n",
       "      <td>0</td>\n",
       "      <td>1</td>\n",
       "      <td>0</td>\n",
       "      <td>0</td>\n",
       "      <td>0</td>\n",
       "      <td>...</td>\n",
       "      <td>0</td>\n",
       "      <td>0</td>\n",
       "      <td>0</td>\n",
       "      <td>0</td>\n",
       "      <td>0</td>\n",
       "      <td>1</td>\n",
       "      <td>0</td>\n",
       "      <td>1</td>\n",
       "      <td>0</td>\n",
       "      <td>0</td>\n",
       "    </tr>\n",
       "    <tr>\n",
       "      <th>original</th>\n",
       "      <td>0</td>\n",
       "      <td>1</td>\n",
       "      <td>0</td>\n",
       "      <td>0</td>\n",
       "      <td>1</td>\n",
       "      <td>0</td>\n",
       "      <td>1</td>\n",
       "      <td>0</td>\n",
       "      <td>0</td>\n",
       "      <td>0</td>\n",
       "      <td>...</td>\n",
       "      <td>0</td>\n",
       "      <td>0</td>\n",
       "      <td>0</td>\n",
       "      <td>0</td>\n",
       "      <td>0</td>\n",
       "      <td>0</td>\n",
       "      <td>0</td>\n",
       "      <td>1</td>\n",
       "      <td>1</td>\n",
       "      <td>1</td>\n",
       "    </tr>\n",
       "  </tbody>\n",
       "</table>\n",
       "<p>2 rows × 2113 columns</p>\n",
       "</div>"
      ],
      "text/plain": [
       "           0     1     2     3     4     5     6     7     8     9     ...  \\\n",
       "predicted     0     1     0     1     1     0     1     0     0     0  ...   \n",
       "original      0     1     0     0     1     0     1     0     0     0  ...   \n",
       "\n",
       "           2103  2104  2105  2106  2107  2108  2109  2110  2111  2112  \n",
       "predicted     0     0     0     0     0     1     0     1     0     0  \n",
       "original      0     0     0     0     0     0     0     1     1     1  \n",
       "\n",
       "[2 rows x 2113 columns]"
      ]
     },
     "execution_count": 163,
     "metadata": {},
     "output_type": "execute_result"
    }
   ],
   "source": [
    "conclusion"
   ]
  },
  {
   "cell_type": "code",
   "execution_count": null,
   "metadata": {},
   "outputs": [],
   "source": []
  }
 ],
 "metadata": {
  "kernelspec": {
   "display_name": "Python 3",
   "language": "python",
   "name": "python3"
  },
  "language_info": {
   "codemirror_mode": {
    "name": "ipython",
    "version": 3
   },
   "file_extension": ".py",
   "mimetype": "text/x-python",
   "name": "python",
   "nbconvert_exporter": "python",
   "pygments_lexer": "ipython3",
   "version": "3.8.5"
  }
 },
 "nbformat": 4,
 "nbformat_minor": 4
}
