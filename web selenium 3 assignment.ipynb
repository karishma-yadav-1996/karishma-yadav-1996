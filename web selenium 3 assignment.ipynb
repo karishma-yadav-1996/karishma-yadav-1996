{
 "cells": [
  {
   "cell_type": "code",
   "execution_count": 1,
   "metadata": {},
   "outputs": [],
   "source": [
    "# import all the required libraries\n",
    "import pandas as pd\n",
    "from selenium import webdriver\n",
    "import requests\n",
    "import time\n",
    "from selenium.webdriver.common.keys import Keys"
   ]
  },
  {
   "cell_type": "code",
   "execution_count": 2,
   "metadata": {},
   "outputs": [],
   "source": [
    "# Lets first connect to the wed driver\n",
    "driver=webdriver.Chrome(r\"C:\\Users\\karishma yadav\\Downloads\\chromedriver_win32\\chromedriver.exe\")"
   ]
  },
  {
   "cell_type": "code",
   "execution_count": 3,
   "metadata": {},
   "outputs": [],
   "source": [
    "driver=webdriver.Chrome(\"chromedriver.exe\")"
   ]
  },
  {
   "cell_type": "markdown",
   "metadata": {},
   "source": [
    "# Question 1"
   ]
  },
  {
   "cell_type": "code",
   "execution_count": 4,
   "metadata": {},
   "outputs": [],
   "source": [
    "# take a url\n",
    "url='https://www.amazon.in/'\n",
    "driver.get(url)"
   ]
  },
  {
   "cell_type": "code",
   "execution_count": 5,
   "metadata": {},
   "outputs": [],
   "source": [
    "# do click using xpath function\n",
    "search_btn=driver.find_element_by_xpath(\"//div[@id='nav-search']\")\n",
    "search_btn.click()"
   ]
  },
  {
   "cell_type": "code",
   "execution_count": 6,
   "metadata": {},
   "outputs": [],
   "source": [
    "#scraping urls\n",
    "url=driver.find_elements_by_xpath('//span[@class=\"a-link-normal a-text-normal\"]')"
   ]
  },
  {
   "cell_type": "code",
   "execution_count": 7,
   "metadata": {},
   "outputs": [],
   "source": [
    "product_urls=[]\n",
    "\n",
    "for i in url:\n",
    "\n",
    "        product_urls.append(i.get_attribute(\"href\"))  "
   ]
  },
  {
   "cell_type": "code",
   "execution_count": 8,
   "metadata": {},
   "outputs": [
    {
     "data": {
      "text/plain": [
       "[]"
      ]
     },
     "execution_count": 8,
     "metadata": {},
     "output_type": "execute_result"
    }
   ],
   "source": [
    "product_urls"
   ]
  },
  {
   "cell_type": "markdown",
   "metadata": {},
   "source": [
    "# Question 2"
   ]
  },
  {
   "cell_type": "code",
   "execution_count": 9,
   "metadata": {},
   "outputs": [],
   "source": [
    "# take a url\n",
    "url='https://www.amazon.in/'\n",
    "driver.get(url)"
   ]
  },
  {
   "cell_type": "code",
   "execution_count": 10,
   "metadata": {},
   "outputs": [],
   "source": [
    "# do click using xpath function\n",
    "search_btn=driver.find_element_by_xpath(\"//div[@id='nav-search']\")\n",
    "search_btn.click()"
   ]
  },
  {
   "cell_type": "code",
   "execution_count": 13,
   "metadata": {},
   "outputs": [],
   "source": [
    "guitar_brand_Name=[]\n",
    "Product_Name=[]\n",
    "guitar_rating=[]\n",
    "No_of_Rating=[]\n",
    "guitar_price=[]\n",
    "Return=[]\n",
    "Expected_Delivery=[]\n",
    "Availability=[]\n",
    "Other_Details=[]"
   ]
  },
  {
   "cell_type": "code",
   "execution_count": 11,
   "metadata": {},
   "outputs": [
    {
     "data": {
      "text/plain": [
       "[]"
      ]
     },
     "execution_count": 11,
     "metadata": {},
     "output_type": "execute_result"
    }
   ],
   "source": [
    "brands=driver.find_elements_by_xpath(\"//span[@id='productTitle']\")\n",
    "guitar_brand_Name=[]\n",
    "\n",
    "for brand in brands:\n",
    "            guitar_brand_Name.append(brand.text)\n",
    "guitar_brand_Name  "
   ]
  },
  {
   "cell_type": "code",
   "execution_count": 12,
   "metadata": {},
   "outputs": [],
   "source": [
    "descriptions=driver.find_elements_by_xpath('//a[contains(@class,\"IRpwTa\")]')\n",
    "for description in descriptions:\n",
    "            Product_Name.append(description.text)"
   ]
  },
  {
   "cell_type": "code",
   "execution_count": 14,
   "metadata": {},
   "outputs": [
    {
     "data": {
      "text/plain": [
       "[]"
      ]
     },
     "execution_count": 14,
     "metadata": {},
     "output_type": "execute_result"
    }
   ],
   "source": [
    "prices=driver.find_elements_by_xpath('//div[@class=\"_30jeq3\"]')\n",
    "for price in prices:\n",
    "            guitar_price.append(price.text)\n",
    "guitar_price        "
   ]
  },
  {
   "cell_type": "code",
   "execution_count": 15,
   "metadata": {},
   "outputs": [],
   "source": [
    "No_rating=driver.find_elements_by_xpath('//i[@class=\"a-icon a-icon-star a-star-4\"]')"
   ]
  },
  {
   "cell_type": "code",
   "execution_count": 16,
   "metadata": {},
   "outputs": [
    {
     "data": {
      "text/plain": [
       "[]"
      ]
     },
     "execution_count": 16,
     "metadata": {},
     "output_type": "execute_result"
    }
   ],
   "source": [
    "No_of_Rating=[]\n",
    "for ratings in No_rating:\n",
    "    No_of_Rating.append(ratings.text)\n",
    "No_of_Rating    "
   ]
  },
  {
   "cell_type": "code",
   "execution_count": 17,
   "metadata": {},
   "outputs": [],
   "source": [
    "rating=driver.find_elements_by_xpath('//span[@id=\"acrCustomerReviewText\"]')"
   ]
  },
  {
   "cell_type": "code",
   "execution_count": 18,
   "metadata": {},
   "outputs": [
    {
     "data": {
      "text/plain": [
       "[]"
      ]
     },
     "execution_count": 18,
     "metadata": {},
     "output_type": "execute_result"
    }
   ],
   "source": [
    "for Rating in rating:\n",
    "    guitar_rating.append(Rating.text)\n",
    "guitar_rating  "
   ]
  },
  {
   "cell_type": "code",
   "execution_count": 19,
   "metadata": {},
   "outputs": [],
   "source": [
    "availability=driver.find_elements_by_xpath('//th[@class=\"a-color-secondary a-size-base prodDetSectionEntry\"]')"
   ]
  },
  {
   "cell_type": "code",
   "execution_count": 20,
   "metadata": {},
   "outputs": [
    {
     "data": {
      "text/plain": [
       "[]"
      ]
     },
     "execution_count": 20,
     "metadata": {},
     "output_type": "execute_result"
    }
   ],
   "source": [
    "Availability=[]\n",
    "for AVAILABILITY in availability:\n",
    "    Availability.append( AVAILABILITY.text)\n",
    "Availability  "
   ]
  },
  {
   "cell_type": "code",
   "execution_count": 21,
   "metadata": {},
   "outputs": [],
   "source": [
    "RETURN=driver.find_elements_by_xpath('//td[@class=\"a-span12 a-color-price a-size-base priceBlockSavingsString\"]')"
   ]
  },
  {
   "cell_type": "code",
   "execution_count": 22,
   "metadata": {},
   "outputs": [
    {
     "data": {
      "text/plain": [
       "[]"
      ]
     },
     "execution_count": 22,
     "metadata": {},
     "output_type": "execute_result"
    }
   ],
   "source": [
    "Return=[]\n",
    "for m in RETURN:\n",
    "    Return.append( m.text)\n",
    "Return "
   ]
  },
  {
   "cell_type": "code",
   "execution_count": 23,
   "metadata": {},
   "outputs": [],
   "source": [
    "delivery=driver.find_elements_by_xpath('//div[@id=\"ddmDeliveryMessage\"]')"
   ]
  },
  {
   "cell_type": "code",
   "execution_count": 24,
   "metadata": {},
   "outputs": [
    {
     "data": {
      "text/plain": [
       "[]"
      ]
     },
     "execution_count": 24,
     "metadata": {},
     "output_type": "execute_result"
    }
   ],
   "source": [
    "Expected_Delivery=[]\n",
    "for n in delivery:\n",
    "    Expected_Delivery.append(n.text)\n",
    "Expected_Delivery    "
   ]
  },
  {
   "cell_type": "code",
   "execution_count": 25,
   "metadata": {},
   "outputs": [
    {
     "data": {
      "text/plain": [
       "[]"
      ]
     },
     "execution_count": 25,
     "metadata": {},
     "output_type": "execute_result"
    }
   ],
   "source": [
    "details=driver.find_elements_by_xpath('//h1[@class=\"a-size-base-plus a-text-bold\"]')\n",
    "Other_Details=[]\n",
    "for k in details:\n",
    "    Other_Details.append(k.text)\n",
    "Other_Details  "
   ]
  },
  {
   "cell_type": "code",
   "execution_count": 26,
   "metadata": {},
   "outputs": [],
   "source": [
    " # Let's create a DataFrame for our data \n",
    "amazon_guitar=pd.DataFrame({})\n",
    "amazon_guitar['Brand_Name']=guitar_brand_Name\n",
    "amazon_guitar['Nmae of the product']=Product_Name\n",
    "amazon_guitar['Ratings']=guitar_rating\n",
    "amazon_guitar['No of Ratings']=No_of_Rating\n",
    "amazon_guitar['Price']=guitar_price\n",
    "amazon_guitar['Return']=Return\n",
    "amazon_guitar['Delivery']=Expected_Delivery\n",
    "amazon_guitar['Availability']=Availability\n",
    "amazon_guitar['other details']=Other_Details"
   ]
  },
  {
   "cell_type": "code",
   "execution_count": 27,
   "metadata": {},
   "outputs": [
    {
     "data": {
      "text/html": [
       "<div>\n",
       "<style scoped>\n",
       "    .dataframe tbody tr th:only-of-type {\n",
       "        vertical-align: middle;\n",
       "    }\n",
       "\n",
       "    .dataframe tbody tr th {\n",
       "        vertical-align: top;\n",
       "    }\n",
       "\n",
       "    .dataframe thead th {\n",
       "        text-align: right;\n",
       "    }\n",
       "</style>\n",
       "<table border=\"1\" class=\"dataframe\">\n",
       "  <thead>\n",
       "    <tr style=\"text-align: right;\">\n",
       "      <th></th>\n",
       "      <th>Brand_Name</th>\n",
       "      <th>Nmae of the product</th>\n",
       "      <th>Ratings</th>\n",
       "      <th>No of Ratings</th>\n",
       "      <th>Price</th>\n",
       "      <th>Return</th>\n",
       "      <th>Delivery</th>\n",
       "      <th>Availability</th>\n",
       "      <th>other details</th>\n",
       "    </tr>\n",
       "  </thead>\n",
       "  <tbody>\n",
       "  </tbody>\n",
       "</table>\n",
       "</div>"
      ],
      "text/plain": [
       "Empty DataFrame\n",
       "Columns: [Brand_Name, Nmae of the product, Ratings, No of Ratings, Price, Return, Delivery, Availability, other details]\n",
       "Index: []"
      ]
     },
     "execution_count": 27,
     "metadata": {},
     "output_type": "execute_result"
    }
   ],
   "source": [
    "amazon_guitar"
   ]
  },
  {
   "cell_type": "code",
   "execution_count": null,
   "metadata": {},
   "outputs": [],
   "source": []
  }
 ],
 "metadata": {
  "kernelspec": {
   "display_name": "Python 3",
   "language": "python",
   "name": "python3"
  },
  "language_info": {
   "codemirror_mode": {
    "name": "ipython",
    "version": 3
   },
   "file_extension": ".py",
   "mimetype": "text/x-python",
   "name": "python",
   "nbconvert_exporter": "python",
   "pygments_lexer": "ipython3",
   "version": "3.8.5"
  }
 },
 "nbformat": 4,
 "nbformat_minor": 4
}
