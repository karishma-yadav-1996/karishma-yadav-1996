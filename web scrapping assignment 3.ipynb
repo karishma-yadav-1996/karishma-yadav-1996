{
 "cells": [
  {
   "cell_type": "code",
   "execution_count": 1,
   "metadata": {},
   "outputs": [],
   "source": [
    "# import all the required libraries\n",
    "import pandas as pd\n",
    "from selenium import webdriver\n",
    "from bs4 import BeautifulSoup\n",
    "import requests\n",
    "import time\n",
    "from selenium.webdriver.common.keys import Keys"
   ]
  },
  {
   "cell_type": "code",
   "execution_count": 2,
   "metadata": {},
   "outputs": [],
   "source": [
    "# Lets first connect to the wed driver\n",
    "driver=webdriver.Chrome(r\"C:\\Users\\karishma yadav\\Downloads\\chromedriver_win32\\chromedriver.exe\")"
   ]
  },
  {
   "cell_type": "code",
   "execution_count": 3,
   "metadata": {},
   "outputs": [],
   "source": [
    "driver=webdriver.Chrome(\"chromedriver.exe\")"
   ]
  },
  {
   "cell_type": "markdown",
   "metadata": {},
   "source": [
    "# Question 1"
   ]
  },
  {
   "cell_type": "code",
   "execution_count": 4,
   "metadata": {},
   "outputs": [],
   "source": [
    "# take a url\n",
    "url='https://www.amazon.in'\n",
    "driver.get(url)"
   ]
  },
  {
   "cell_type": "code",
   "execution_count": 5,
   "metadata": {},
   "outputs": [],
   "source": [
    "# do click using xpath function\n",
    "search_btn=driver.find_element_by_xpath(\"//div[@class='nav-search-field ']\")\n",
    "search_btn.click()"
   ]
  },
  {
   "cell_type": "code",
   "execution_count": 6,
   "metadata": {},
   "outputs": [],
   "source": [
    "# take urls for first 3 pages for guitars\n",
    "url1='https://www.amazon.in/s?k=guitar&qid=1624887772&ref=sr_pg_1'\n",
    "url2='https://www.amazon.in/s?k=guitar&page=2&qid=1624887653&ref=sr_pg_2'\n",
    "url3='https://www.amazon.in/s?k=guitar&page=3&qid=1624887716&ref=sr_pg_3'"
   ]
  },
  {
   "cell_type": "code",
   "execution_count": 7,
   "metadata": {},
   "outputs": [],
   "source": [
    "urls=['https://www.amazon.in/Mustang-guitar-strap-Guitar-Strap/dp/B07DBPD979?ref_=ast_slp_dp','https://www.amazon.in/Kadence-Frontier-Acoustic-Foldable-Strings/dp/B01CJJGEVS/ref=sr_1_4_sspa?dchild=1&keywords=guitar&qid=1624888241&sr=8-4-spons&psc=1&spLa=ZW5jcnlwdGVkUXVhbGlmaWVyPUEyTjlLMjZLWVVUSTVNJmVuY3J5cHRlZElkPUExMDI3MTMzMzc0Rk5LTVRDQ0pSOSZlbmNyeXB0ZWRBZElkPUEwOTI4NTMwMU5aSlQxQkJMSjBMVyZ3aWRnZXROYW1lPXNwX2F0ZiZhY3Rpb249Y2xpY2tSZWRpcmVjdCZkb05vdExvZ0NsaWNrPXRydWU=',\n",
    "      'https://www.amazon.in/Juarez-Acoustic-Cutaway-038C-Strings/dp/B017NPCSLI/ref=sr_1_5?dchild=1&keywords=guitar&qid=1624888241&sr=8-5','https://www.amazon.in/Intern-INT-38C-Acoustic-Guitar-Black/dp/B073B6TQQY/ref=sr_1_7?dchild=1&keywords=guitar&qid=1624888241&sr=8-7','https://www.amazon.in/Juarez-Acoustic-Guitar-Cutaway-Strings/dp/B075XMRKMY/ref=sr_1_8?dchild=1&keywords=guitar&qid=1624888241&sr=8-8','https://www.amazon.in/INFINITY-Instrument-Educational-Childrens-Instruments/dp/B097YNKJDH/ref=sr_1_10?dchild=1&keywords=guitar&qid=1624888241&sr=8-10'\n",
    "     'https://www.amazon.in/Kadence-Slowhand-Premium-Acoustic-Mahagony/dp/B097YJJWX3/ref=sr_1_11?dchild=1&keywords=guitar&qid=1624888241&sr=8-11','https://www.amazon.in/Juarez-Acoustic-Guitar-Cutaway-Strings/dp/B084VRCCN7/ref=sr_1_12?dchild=1&keywords=guitar&qid=1624888241&sr=8-12','https://www.amazon.in/Henrix-Cutaway-Acoustic-Die-Cast-Tuners/dp/B07KMXDXBV/ref=sr_1_14?dchild=1&keywords=guitar&qid=1624888241&sr=8-14','https://www.amazon.in/Juarez-Strings-Acoustic-Cutaway-Zebrawood/dp/B072Q9L8DG/ref=sr_1_15?dchild=1&keywords=guitar&qid=1624888241&sr=8-15','https://www.amazon.in/Acoustio-cloud-venus-acoustic-plectrums/dp/B0927LBW83/ref=sr_1_16?dchild=1&keywords=guitar&qid=1624888241&sr=8-16'\n",
    "     'https://www.amazon.in/Juarez-Acoustic-Cutaway-BK-Strings/dp/B076T3RHMG/ref=sr_1_17?dchild=1&keywords=guitar&qid=1624888241&sr=8-17','https://www.amazon.in/Kordz-Luana-Natural-Rosewood-Fretboard/dp/B07V4Y1V9M/ref=sr_1_18?dchild=1&keywords=guitar&qid=1624888241&sr=8-18','https://www.amazon.in/Luximal-Instrument-Acoustic-Learning-Educational/dp/B08SMKVC7Q/ref=sr_1_19?dchild=1&keywords=guitar&qid=1624888241&sr=8-19','https://www.amazon.in/Yamaha-FS-100C-6-String-Acoustic-without/dp/B00PAS9CK6/ref=sr_1_20?dchild=1&keywords=guitar&qid=1624888241&sr=8-20','https://www.amazon.in/Kadence-Slowhand-Premium-Acoustic-Instrument/dp/B077SZ667X/ref=sr_1_23_sspa?dchild=1&keywords=guitar&qid=1624888241&sr=8-23-spons&psc=1&spLa=ZW5jcnlwdGVkUXVhbGlmaWVyPUEyTjlLMjZLWVVUSTVNJmVuY3J5cHRlZElkPUExMDI3MTMzMzc0Rk5LTVRDQ0pSOSZlbmNyeXB0ZWRBZElkPUEwMDEwMzU2MlRIN1pNRUwxRk9XVSZ3aWRnZXROYW1lPXNwX210ZiZhY3Rpb249Y2xpY2tSZWRpcmVjdCZkb05vdExvZ0NsaWNrPXRydWU=',\n",
    "      'https://www.amazon.in/Divyatamall-inches-Acoustic-Musical-Adjustable/dp/B0846MZ939/ref=sr_1_24_sspa?dchild=1&keywords=guitar&qid=1624888241&sr=8-24-spons&psc=1&spLa=ZW5jcnlwdGVkUXVhbGlmaWVyPUEyTjlLMjZLWVVUSTVNJmVuY3J5cHRlZElkPUExMDI3MTMzMzc0Rk5LTVRDQ0pSOSZlbmNyeXB0ZWRBZElkPUEwODEwOTU1MkNNSDZZSkg2QVFLUSZ3aWRnZXROYW1lPXNwX210ZiZhY3Rpb249Y2xpY2tSZWRpcmVjdCZkb05vdExvZ0NsaWNrPXRydWU=','https://www.amazon.in/Intern-38-inch-Cutaway-Design-Acoustic/dp/B07X4PN85R/ref=sr_1_26?dchild=1&keywords=guitar&qid=1624888241&sr=8-26','https://www.amazon.in/JUAREZ-Acoustic-Rosewood-Fretboard-Natural/dp/B08GZZX16R/ref=sr_1_27?dchild=1&keywords=guitar&qid=1624888241&sr=8-27','https://www.amazon.in/JUAREZ-Acoustic-Rosewood-Fretboard-Natural/dp/B08GZZX16R/ref=sr_1_27?dchild=1&keywords=guitar&qid=1624888241&sr=8-27',\n",
    "     'https://www.amazon.in/Martin-Smith-W-101-RD-PK-Acoustic-Guitar/dp/B01EUWC5HE/ref=sr_1_28?dchild=1&keywords=guitar&qid=1624888241&sr=8-28','https://www.amazon.in/Rosewood-Fretboard-Acoustic-Strings-K-Retail/dp/B07KLG8C4P/ref=sr_1_29?dchild=1&keywords=guitar&qid=1624888241&sr=8-29','https://www.amazon.in/SAAN-Life-Science-Instrument-Educational/dp/B08QFQRRYV/ref=sr_1_30?dchild=1&keywords=guitar&qid=1624888241&sr=8-30','https://www.amazon.in/4-String-Acoustic-Musical-Instrument-Learning/dp/B08QGLQVRN/ref=sr_1_31?dchild=1&keywords=guitar&qid=1624888241&sr=8-31','https://www.amazon.in/Jixing-JXNG-BLK-SC1-Acoustic-Foldable-Combo/dp/B08XQF6L5H/ref=sr_1_33?dchild=1&keywords=guitar&qid=1624888241&sr=8-33','https://www.amazon.in/Guitar-Ukulele-Chromatic-Rotating-Accurate/dp/B08XBN94LC/ref=sr_1_37?dchild=1&keywords=guitar&qid=1624888241&sr=8-37','https://www.amazon.in/JUAREZ-Acoustic-Cutaway-Rosewood-Fretboard/dp/B08GZZ6SQ2/ref=sr_1_39?dchild=1&keywords=guitar&qid=1624888241&sr=8-39',\n",
    "      'https://www.amazon.in/chhogli-Musical-Instrument-Learning-Educational/dp/B097ZKNFJK/ref=sr_1_42?dchild=1&keywords=guitar&qid=1624888241&sr=8-42','https://www.amazon.in/Kadence-6-strings-Acoustic-Guitar-Natural/dp/B07JKYWGJN/ref=sr_1_45?dchild=1&keywords=guitar&qid=1624888241&sr=8-45','37y','https://www.amazon.in/Acoustio-rosewood-venus-acoustic-plectarms/dp/B093PSXV2K/ref=sr_1_46?dchild=1&keywords=guitar&qid=1624888241&sr=8-46','https://www.amazon.in/Premium-Spruce-Top-Cutaway-Acoustic-Guitar/dp/B08FFZY6BJ/ref=sr_1_47?dchild=1&keywords=guitar&qid=1624888241&sr=8-47','https://www.amazon.in/CARTIFY-4-string-acoustic-learning-18-Multi/dp/B096K5S6BB/ref=sr_1_53?dchild=1&keywords=guitar&qid=1624888241&sr=8-53','https://www.amazon.in/JRZ-ST01-6-String-Electric-Sunburst-Without/dp/B01FYZSOEE/ref=sr_1_55?dchild=1&keywords=guitar&qid=1624888241&sr=8-55','https://www.amazon.in/Fender-SA-150C-dreadnought-Squier-Natural/dp/B07YX5N6LC/ref=sr_1_56?dchild=1&keywords=guitar&qid=1624888241&sr=8-56',\n",
    "      'https://www.amazon.in/Fender-SA-150C-dreadnought-Squier-Natural/dp/B07YX5N6LC/ref=sr_1_53?dchild=1&keywords=guitar&qid=1624890426&sr=8-53','https://www.amazon.in/ABJI-4-String-Acoustic-Learning-Mahogany/dp/B08GYL52XV/ref=sr_1_54?dchild=1&keywords=guitar&qid=1624890426&sr=8-54','https://www.amazon.in/Medellin-MED-SUN-C-Linden-Acoustic-Guitar/dp/B07NBMYZCF/ref=sr_1_55?dchild=1&keywords=guitar&qid=1624890426&sr=8-55','https://www.amazon.in/Leepesx-Luthier-Guitar-Repair-Maintenance/dp/B097MVKCGG/ref=sr_1_56?dchild=1&keywords=guitar&qid=1624890426&sr=8-56','https://www.amazon.in/Nirja-Enterprise-Instrument-Educational-Instruments/dp/B097NBLD8J/ref=sr_1_57?dchild=1&keywords=guitar&qid=1624890426&sr=8-57','https://www.amazon.in/Asago-Childrens-Instrument-Beginner-Educational/dp/B08VDM6V56/ref=sr_1_58?dchild=1&keywords=guitar&qid=1624890426&sr=8-58','https://www.amazon.in/DIKUJI-ENTERPRISE-Childrens-Instrument-Educational/dp/B09271DWCL/ref=sr_1_49?dchild=1&keywords=guitar&qid=1624890426&sr=8-49',\n",
    "     'https://www.amazon.in/Acoustic-Classic-Beginners-Student-Strings/dp/B07HDTJSBM/ref=sr_1_51?dchild=1&keywords=guitar&qid=1624890426&sr=8-51','https://www.amazon.in/Swan7-41C-Spruce-Acoustic-Guitar/dp/B094DHMFCJ/ref=sr_1_52?dchild=1&keywords=guitar&qid=1624890426&sr=8-52','https://www.amazon.in/CARTIFY-Rockband-Music-Lights-Guitar/dp/B096JNRGG1/ref=sr_1_53?dchild=1&keywords=guitar&qid=1624890426&sr=8-53','https://www.amazon.in/OOM-AKSHAR-Childrens-Instrument-Educational/dp/B092DTYHR5/ref=sr_1_54?dchild=1&keywords=guitar&qid=1624890426&sr=8-54','https://www.amazon.in/Optimuss-Acoustic-Beginners-Practice-Learning/dp/B0977BM9H7/ref=sr_1_55?dchild=1&keywords=guitar&qid=1624890426&sr=8-55','https://www.amazon.in/JUAREZ-Arpeggio-Guitar-JRA39SP-Q-TBS-sunburst/dp/B08MWB5FVR/ref=sr_1_56?dchild=1&keywords=guitar&qid=1624890426&sr=8-56','https://www.amazon.in/ALOKRUPSWAM-Guitar-Toddler-Guitars-Acoustic/dp/B097ZBYF5R/ref=sr_1_57?dchild=1&keywords=guitar&qid=1624890426&sr=8-57','ttps://www.amazon.in/Sales-Guitar-Toys-Kids-Instrument/dp/B096VD6WRV/ref=sr_1_58?dchild=1&keywords=guitar&qid=1624890426&sr=8-58',\n",
    "     'https://www.amazon.in/Yamaha-F310-6-Strings-Acoustic-Natural/dp/B000RVYW7E/ref=sr_1_64?dchild=1&keywords=guitar&qid=1624890426&sr=8-64','https://www.amazon.in/Kadence-Professional-Guitar-Natural-Strings/dp/B094ZVKXKG/ref=sr_1_65?dchild=1&keywords=guitar&qid=1624890426&sr=8-65','https://www.amazon.in/KHEL-KHILONA-Musical-Classical-Instrument/dp/B097ZJZD2N/ref=sr_1_66?dchild=1&keywords=guitar&qid=1624890426&sr=8-66','https://www.amazon.in/Chromatic-Guitar-Violin-Ukulele-Include/dp/B08XBDBXJ6/ref=sr_1_67?dchild=1&keywords=guitar&qid=1624890426&sr=8-67','https://www.amazon.in/Clapton-Jumbo-Cutaway-Acoustic-Strings/dp/B093ZPYRJV/ref=sr_1_68?dchild=1&keywords=guitar&qid=1624890426&sr=8-68','https://www.amazon.in/Divinext-Interface-Guitar-Effects-iPhone/dp/B07RT3FHZT/ref=sr_1_69?dchild=1&keywords=guitar&qid=1624890426&sr=8-69','https://www.amazon.in/Grail-D120C-SB-Acoustic-CutawaySpruce/dp/B08HWV8ZV7/ref=sr_1_70?dchild=1&keywords=guitar&qid=1624890426&sr=8-70','https://www.amazon.in/DEVICE-URBAN-INFOTECH-Acoustic-Semi-closed/dp/B08P1JS4DF/ref=sr_1_71?dchild=1&keywords=guitar&qid=1624890426&sr=8-71',\n",
    "     'https://www.amazon.in/JUAREZ-Arpeggio-Acoustic-Rosewood-Fretboard/dp/B08LBHVZRT/ref=sr_1_72?dchild=1&keywords=guitar&qid=1624890426&sr=8-72','https://www.amazon.in/4-String-Musical-Instrument-Acoustic-Learning/dp/B08ZSVQ6Q8/ref=sr_1_73?dchild=1&keywords=guitar&qid=1624890426&sr=8-73','https://www.amazon.in/Logicmart-Educational-Instruments-Instrument-instrument/dp/B08V4WFF8C/ref=sr_1_74?dchild=1&keywords=guitar&qid=1624890426&sr=8-74','https://www.amazon.in/Kadence-Acoustica-Acoustic-Guitar-Zebra/dp/B07KXNKLJ2/ref=sr_1_75?dchild=1&keywords=guitar&qid=1624890426&sr=8-75','https://www.amazon.in/Gitesh-4-string-acoustic-learning-18-Multi/dp/B097ZGZRQY/ref=sr_1_76?dchild=1&keywords=guitar&qid=1624890426&sr=8-76','https://www.amazon.in/Pluto-HW34-101-Acoustic-Guitar-Kids/dp/B00PNDAQOY/ref=sr_1_77?dchild=1&keywords=guitar&qid=1624890426&sr=8-77','https://www.amazon.in/Mustang-Guitar-Accessories-Kit-Clip/dp/B07RY9KNVK/ref=sr_1_78?dchild=1&keywords=guitar&qid=1624890426&sr=8-78','https://www.amazon.in/crown-spceil-musical-acoustic-guitar/dp/B08H87BTDP/ref=sr_1_79?dchild=1&keywords=guitar&qid=1624890426&sr=8-79',\n",
    "     'https://www.amazon.in/DEVICE-URBAN-INFOTECH-Acoustic-Semi-closed/dp/B08Y7LMRBR/ref=sr_1_80?dchild=1&keywords=guitar&qid=1624890426&sr=8-80','https://www.amazon.in/Aria-Meranti-Thin-Body-Cutaway-Acoustic/dp/B08NYBFFWL/ref=sr_1_81?dchild=1&keywords=guitar&qid=1624890426&sr=8-81','https://www.amazon.in/VD-ENTERPRISE-Adjustable-Classical-Instrument/dp/B08S323L6W/ref=sr_1_82?dchild=1&keywords=guitar&qid=1624890426&sr=8-82','https://www.amazon.in/Ibanez-IBA-MD39CNT-Acoustic-Guitar-MD39C-NT/dp/B07G4CCMYL/ref=sr_1_83?dchild=1&keywords=guitar&qid=1624890426&sr=8-83','https://www.amazon.in/BEBLYTM-Guitar-Battery-Operated-Lights/dp/B095CXYDR8/ref=sr_1_84?dchild=1&keywords=guitar&qid=1624890426&sr=8-84','https://www.amazon.in/Classical-Instrument-Ornaments-Miniature-Decoration/dp/B097XTSMRM/ref=sr_1_85?dchild=1&keywords=guitar&qid=1624890426&sr=8-85','https://www.amazon.in/SRK-String-Decor-Guitar-Educational/dp/B08X6M7TXS/ref=sr_1_86?dchild=1&keywords=guitar&qid=1624890426&sr=8-86','https://www.amazon.in/Belear-I-280-Couturier-Acoustic-Sunburst/dp/B09136TPZ1/ref=sr_1_87?dchild=1&keywords=guitar&qid=1624890426&sr=8-87',\n",
    "     'https://www.amazon.in/Yamaha-FS100C-Acoustic-Guitars-Natural/dp/B00QKD79QE/ref=sr_1_88?dchild=1&keywords=guitar&qid=1624890426&sr=8-88','https://www.amazon.in/Luxdhara-Childrens-Instrument-Educational-Instruments/dp/B09773X3DX/ref=sr_1_89?dchild=1&keywords=guitar&qid=1624890426&sr=8-89','https://www.amazon.in/VAULT-GA10-Guitar-Amplifier-watts/dp/B07KM1MZK6/ref=sr_1_90?dchild=1&keywords=guitar&qid=1624890426&sr=8-90','https://www.amazon.in/DEVICE-URBAN-INFOTECH-Rotational-Electronic/dp/B081LG3X5H/ref=sr_1_91?dchild=1&keywords=guitar&qid=1624890426&sr=8-91','https://www.amazon.in/Intern-INT-38C-L-NT-Acoustic-Guitar-Natural/dp/B07J4PVDHG/ref=sr_1_92?dchild=1&keywords=guitar&qid=1624890426&sr=8-92','https://www.amazon.in/Leepesx-Guitar-Changing-Accessories-String/dp/B097MVFJNV/ref=sr_1_93?dchild=1&keywords=guitar&qid=1624890426&sr=8-93','https://www.amazon.in/Martin-Smith-W-101-N-PK-Acoustic-Natural/dp/B00UOUK4IE/ref=sr_1_94?dchild=1&keywords=guitar&qid=1624890426&sr=8-94','https://www.amazon.in/Natural-6-String-Acoustic-Semi-Electric-Guitar/dp/B0953KPTLL/ref=sr_1_101?dchild=1&keywords=guitar&qid=1624892137&sr=8-101',\n",
    "      'https://www.amazon.in/Guitar-Portable-Trainer-Fingerboard-String/dp/B0979ZNB65/ref=sr_1_102?dchild=1&keywords=guitar&qid=1624892137&sr=8-102','https://www.amazon.in/jesilo-4-String-Acoustic-Learning-Mahogany/dp/B08HM1JWYT/ref=sr_1_103?dchild=1&keywords=guitar&qid=1624892137&sr=8-103','https://www.amazon.in/PSB-6-String-Acoustic-Guitar-Brown/dp/B08SLYLGG4/ref=sr_1_104?dchild=1&keywords=guitar&qid=1624892137&sr=8-104','https://www.amazon.in/JUAREZ-Arpeggio-Acoustic-Rosewood-Fretboard/dp/B08LBHB547/ref=sr_1_105?dchild=1&keywords=guitar&qid=1624892137&sr=8-105','https://www.amazon.in/NP-ENTERPRISE-4-String-Instrument-Acoustic/dp/B0918CQ9BV/ref=sr_1_106?dchild=1&keywords=guitar&qid=1624892137&sr=8-106','https://www.amazon.in/JUAREZ-Acoustic-Rosewood-Fretboard-Sunburst/dp/B08LBGTQCR/ref=sr_1_107?dchild=1&keywords=guitar&qid=1624892137&sr=8-107','https://www.amazon.in/Kadence-Professional-Guitar-Natural-Strings/dp/B094ZWXHV4/ref=sr_1_108?dchild=1&keywords=guitar&qid=1624892137&sr=8-108','https://www.amazon.in/Givson-Ketostics-Guitar-Acoustic-Plectrums/dp/B08KS5MRSC/ref=sr_1_109?dchild=1&keywords=guitar&qid=1624892137&sr=8-109',\n",
    "     'https://www.amazon.in/CBOX-Childrens-Instrument-Educational-Instruments/dp/B08WKYCSLD/ref=sr_1_110?dchild=1&keywords=guitar&qid=1624892137&sr=8-110','https://www.amazon.in/Leepesx-Notched-Straight-Luthiers-Electric/dp/B097MSSZ17/ref=sr_1_111?dchild=1&keywords=guitar&qid=1624892137&sr=8-111','https://www.amazon.in/HYMET-4-String-Acoustic-Guitar-Learning/dp/B093QDX9MR/ref=sr_1_112?dchild=1&keywords=guitar&qid=1624892137&sr=8-112','https://www.amazon.in/Cort-AD810-Dreadnought-Acoustic-Guitar/dp/B07KMBVR6V/ref=sr_1_113?dchild=1&keywords=guitar&qid=1624892137&sr=8-113','https://www.amazon.in/Leepesx-Portable-Acoustic-Practice-Beginner/dp/B097MTW5VS/ref=sr_1_114?dchild=1&keywords=guitar&qid=1624892137&sr=8-114','https://www.amazon.in/JATU-STORE-Adjustable-Classical-Instrument/dp/B08NYP9N5T/ref=sr_1_115?dchild=1&keywords=guitar&qid=1624892137&sr=8-115','https://www.amazon.in/Acoustio-musical-acoustic-venus-plectrums/dp/B08XNFJ11L/ref=sr_1_116?dchild=1&keywords=guitar&qid=1624892137&sr=8-116','https://www.amazon.in/VD-ENTERPRISE-Adjustable-Classical-Instrument/dp/B08S323L6W/ref=sr_1_117_sspa?dchild=1&keywords=guitar&qid=1624892137&sr=8-117-spons&psc=1&spLa=ZW5jcnlwdGVkUXVhbGlmaWVyPUEzOFBQODc3SEJIQ0FSJmVuY3J5cHRlZElkPUEwNjQxMDg4MjNYSE5CTEVDSzlNQSZlbmNyeXB0ZWRBZElkPUEwNjA3MTY4MVc2N045UVA0QVNaUiZ3aWRnZXROYW1lPXNwX210ZiZhY3Rpb249Y2xpY2tSZWRpcmVjdCZkb05vdExvZ0NsaWNrPXRydWU=',\n",
    "     'https://www.amazon.in/GUITAR-BRO-Acoustic-Beginner-Accessories/dp/B07TC7TWCR/ref=sr_1_118_sspa?dchild=1&keywords=guitar&qid=1624892137&sr=8-118-spons&psc=1&spLa=ZW5jcnlwdGVkUXVhbGlmaWVyPUEzOFBQODc3SEJIQ0FSJmVuY3J5cHRlZElkPUEwNjQxMDg4MjNYSE5CTEVDSzlNQSZlbmNyeXB0ZWRBZElkPUEwODc5MTgyM0o0R1JNSk1LREZNVSZ3aWRnZXROYW1lPXNwX210ZiZhY3Rpb249Y2xpY2tSZWRpcmVjdCZkb05vdExvZ0NsaWNrPXRydWU=','https://www.amazon.in/Laxmi-Musical-Electronics-Acoustic-Instruments/dp/B08X4KD6P1/ref=sr_1_119_sspa?dchild=1&keywords=guitar&qid=1624892137&sr=8-119-spons&psc=1&spLa=ZW5jcnlwdGVkUXVhbGlmaWVyPUEzOFBQODc3SEJIQ0FSJmVuY3J5cHRlZElkPUEwNjQx','https://www.amazon.in/HRB-MUSICALS-GUITAR-STRING-WINDER/dp/B07SJQ2C8G/ref=sr_1_120_sspa?dchild=1&keywords=guitar&qid=1624892137&sr=8-120-spons&psc=1&spLa=ZW5jcnlwdGVkUXVhbGlmaWVyPUEzOFBQODc3SEJIQ0FSJmVuY3J5cHRlZElkPUEwNjQxMDg4MjNYSE5CTEVDSzlNQSZlbmNyeXB0ZWRBZElkPUEwNDU4OTQ5M0JBT0VLMjAxVjFDWSZ3aWRnZXROYW1lPXNwX210ZiZhY3Rpb249Y2xpY2tSZWRpcmVjdCZkb05vdExvZ0NsaWNrPXRydWU=','https://www.amazon.in/SG-MUSICAL-Guitar-String-Accessories/dp/B095JSTY52/ref=sr_1_121?dchild=1&keywords=guitar&qid=1624892137&sr=8-121','https://www.amazon.in/Kadence-Slowhand-Acoustic-Mahagony-Instrument/dp/B077T7GXFV/ref=sr_1_122?dchild=1&keywords=guitar&qid=1624892137&sr=8-122',\n",
    "     'https://www.amazon.in/beecow-4-String-Acoustic-Instrument-Learning/dp/B08TR3PC1Q/ref=sr_1_123?dchild=1&keywords=guitar&qid=1624892137&sr=8-123','https://www.amazon.in/Laxmi-Musical-Electronics-Acoustic-Instruments/dp/B08X4KD6P1/ref=sr_1_124?dchild=1&keywords=guitar&qid=1624892137&sr=8-124','https://www.amazon.in/Yamaha-Acoustic-Guitar-Natural-Bajaao/dp/B08RMP2F6Z/ref=sr_1_125?dchild=1&keywords=guitar&qid=1624892137&sr=8-125','https://www.amazon.in/Fender-Fender-Acoustic-Dreadnought-Plectrums/dp/B08H1FF1XT/ref=sr_1_126?dchild=1&keywords=guitar&qid=1624892137&sr=8-126','https://www.amazon.in/Kordz-Oval-Natural-Acoustic-Strings/dp/B092TQ65WJ/ref=sr_1_127?dchild=1&keywords=guitar&qid=1624892137&sr=8-127','https://www.amazon.in/HEALLILY-Fretboard-Stickers-Electric-Accessories/dp/B08YK5CNW1/ref=sr_1_128?dchild=1&keywords=guitar&qid=1624892137&sr=8-128','https://www.amazon.in/SIGNS-Childrens-Instrument-Educational-Instruments/dp/B096SCXZW8/ref=sr_1_129?dchild=1&keywords=guitar&qid=1624892137&sr=8-129','https://www.amazon.in/Childrens-Instrument-Educational-Instruments-Beginner/dp/B08XQMRVG8/ref=sr_1_130?dchild=1&keywords=guitar&qid=1624892137&sr=8-130','https://www.amazon.in/Ghime-Acoustic-Musical-Adjustable-Learning/dp/B08L6NR7VH/ref=sr_1_131?dchild=1&keywords=guitar&qid=1624892137&sr=8-131',\n",
    "     'https://www.amazon.in/TECHBLAZE-Guitar-Acoustic-Machine-pieces/dp/B08X6MGB3V/ref=sr_1_132?dchild=1&keywords=guitar&qid=1624892137&sr=8-132','https://www.amazon.in/Kordz-150-Rosewood-Fretboard-Acoustic/dp/B08T3G7SQK/ref=sr_1_133?dchild=1&keywords=guitar&qid=1624892137&sr=8-133','https://www.amazon.in/Sknd-Acoustic-Adjustable-Classical-Instrument/dp/B096QQVB7K/ref=sr_1_134?dchild=1&keywords=guitar&qid=1624892137&sr=8-134','https://www.amazon.in/Optimuss-Acoustic-Beginners-Practice-Learning/dp/B0977BM9H7/ref=sr_1_135?dchild=1&keywords=guitar&qid=1624892137&sr=8-135','https://www.amazon.in/Havana-AAG-39-Cutaway-Acoustic-Guitar/dp/B091MCJ26M/ref=sr_1_136?dchild=1&keywords=guitar&qid=1624892137&sr=8-136','https://www.amazon.in/Swami-Enterprise-4-String-Acoustic-Instrument/dp/B095LR581N/ref=sr_1_137?dchild=1&keywords=guitar&qid=1624892137&sr=8-137','https://www.amazon.in/Belear-K-610MAH-Natural-Dreadnought-Acoustic/dp/B09135Y6D2/ref=sr_1_138?dchild=1&keywords=guitar&qid=1624892137&sr=8-138','https://www.amazon.in/JUAREZ-Arp%C3%A9ggio-Semi-Acoustic-Guitar-Natural/dp/B08KHFJKZK/ref=sr_1_139?dchild=1&keywords=guitar&qid=1624892137&sr=8-139','https://www.amazon.in/Enterprise-4-String-Acoustic-Instrument-Learning/dp/B0953QD3LC/ref=sr_1_140?dchild=1&keywords=guitar&qid=1624892137&sr=8-140',\n",
    "     'https://www.amazon.in/HAVEN-GOOD-Instrument-Educational-Beginners/dp/B097HCP6WK/ref=sr_1_141?dchild=1&keywords=guitar&qid=1624892137&sr=8-141','https://www.amazon.in/Fender-SA105CEBK-Acoustic-Guitar/dp/B01N6KME9M/ref=sr_1_142?dchild=1&keywords=guitar&qid=1624892137&sr=8-142','https://www.amazon.in/Westwood-Acoustic-strings-WD2006-011-052-Phosphor/dp/B08QGR1BD7/ref=sr_1_143?dchild=1&keywords=guitar&qid=1624892137&sr=8-143','https://www.amazon.in/ASHICHIPRO-6-String-Acoustic-Instrument-Classical/dp/B093BZ4DY9/ref=sr_1_144?dchild=1&keywords=guitar&qid=1624892137&sr=8-144','https://www.amazon.in/Techblaze-Pieces-Guitar-Acoustic-Machine/dp/B08NPJKLD9/ref=sr_1_145?dchild=1&keywords=guitar&qid=1624892137&sr=8-145','https://www.amazon.in/Ju%C3%A2rez-Acoustic-038C-Automatic-Chromatic/dp/B08D9HFMWR/ref=sr_1_146?dchild=1&keywords=guitar&qid=1624892137&sr=8-146','https://www.amazon.in/Kadence-Frontier-Acoustic-Wihtout-strings/dp/B08PKG3SY8/ref=sr_1_147?dchild=1&keywords=guitar&qid=1624892137&sr=8-147','https://www.amazon.in/SG-MUSICAL-Strings-Stainless-Acoustic/dp/B095K71PBW/ref=sr_1_148?dchild=1&keywords=guitar&qid=1624892137&sr=8-148','https://www.amazon.in/BEBLYTM-String-Acoustic-Guitar-Brown/dp/B095CYBF1M/ref=sr_1_149?dchild=1&keywords=guitar&qid=1624892137&sr=8-149',\n",
    "     'https://www.amazon.in/HRB-MUSICALS-Stainless-Acoustic-Guitar/dp/B08KJ3H4CT/ref=sr_1_150?dchild=1&keywords=guitar&qid=1624892137&sr=8-150','https://www.amazon.in/DUNGRANI-ENTERPRISE-4-String-Acoustic-Instrument/dp/B093D9JV3D/ref=sr_1_151?dchild=1&keywords=guitar&qid=1624892137&sr=8-151','https://www.amazon.in/YEMAHA-CM2-Export-Quality-6-String/dp/B08C2B4771/ref=sr_1_152?dchild=1&keywords=guitar&qid=1624892137&sr=8-152','https://www.amazon.in/DEVICE-URBAN-INFOTECH-Acoustic-Semi-closed/dp/B08P1JS4DF/ref=sr_1_153_sspa?dchild=1&keywords=guitar&qid=1624892137&sr=8-153-spons&psc=1&spLa=ZW5jcnlwdGVkUXVhbGlmaWVyPUEzOFBQODc3SEJIQ0FSJmVuY3J5cHRlZElkPUEwNjQxMDg4MjNYSE5CTEVDSzlNQSZlbmNyeXB0ZWRBZElkPUEwNTcwMzQ5MUhUQkE4Q0xCWVpHQyZ3aWRnZXROYW1lPXNwX2J0ZiZhY3Rpb249Y2xpY2tSZWRpcmVjdCZkb05vdExvZ0NsaWNrPXRydWU=','https://www.amazon.in/DEVICE-URBAN-INFOTECH-Acoustic-Semi-closed/dp/B08Y7LMRBR/ref=sr_1_154_sspa?dchild=1&keywords=guitar&qid=1624892137&sr=8-154-spons&psc=1&spLa=ZW5jcnlwdGVkUXVhbGlmaWVyPUEzOFBQODc3SEJIQ0FSJmVuY3J5cHRlZElkPUEwNjQxMDg4MjNYSE5CTEVDSzlNQSZlbmNyeXB0ZWRBZElkPUEwNTAzNjEwSkVGVzVCRlZFUlVBJndpZGdldE5hbWU9c3BfYnRmJmFjdGlvbj1jbGlja1JlZGlyZWN0JmRvTm90TG9nQ2xpY2s9dHJ1ZQ==']"
   ]
  },
  {
   "cell_type": "code",
   "execution_count": 8,
   "metadata": {},
   "outputs": [],
   "source": [
    "data={'urls':['https://www.amazon.in/Mustang-guitar-strap-Guitar-Strap/dp/B07DBPD979?ref_=ast_slp_dp','https://www.amazon.in/Kadence-Frontier-Acoustic-Foldable-Strings/dp/B01CJJGEVS/ref=sr_1_4_sspa?dchild=1&keywords=guitar&qid=1624888241&sr=8-4-spons&psc=1&spLa=ZW5jcnlwdGVkUXVhbGlmaWVyPUEyTjlLMjZLWVVUSTVNJmVuY3J5cHRlZElkPUExMDI3MTMzMzc0Rk5LTVRDQ0pSOSZlbmNyeXB0ZWRBZElkPUEwOTI4NTMwMU5aSlQxQkJMSjBMVyZ3aWRnZXROYW1lPXNwX2F0ZiZhY3Rpb249Y2xpY2tSZWRpcmVjdCZkb05vdExvZ0NsaWNrPXRydWU=',\n",
    "      'https://www.amazon.in/Juarez-Acoustic-Cutaway-038C-Strings/dp/B017NPCSLI/ref=sr_1_5?dchild=1&keywords=guitar&qid=1624888241&sr=8-5','https://www.amazon.in/Intern-INT-38C-Acoustic-Guitar-Black/dp/B073B6TQQY/ref=sr_1_7?dchild=1&keywords=guitar&qid=1624888241&sr=8-7','https://www.amazon.in/Juarez-Acoustic-Guitar-Cutaway-Strings/dp/B075XMRKMY/ref=sr_1_8?dchild=1&keywords=guitar&qid=1624888241&sr=8-8','https://www.amazon.in/INFINITY-Instrument-Educational-Childrens-Instruments/dp/B097YNKJDH/ref=sr_1_10?dchild=1&keywords=guitar&qid=1624888241&sr=8-10'\n",
    "     'https://www.amazon.in/Kadence-Slowhand-Premium-Acoustic-Mahagony/dp/B097YJJWX3/ref=sr_1_11?dchild=1&keywords=guitar&qid=1624888241&sr=8-11','https://www.amazon.in/Juarez-Acoustic-Guitar-Cutaway-Strings/dp/B084VRCCN7/ref=sr_1_12?dchild=1&keywords=guitar&qid=1624888241&sr=8-12','https://www.amazon.in/Henrix-Cutaway-Acoustic-Die-Cast-Tuners/dp/B07KMXDXBV/ref=sr_1_14?dchild=1&keywords=guitar&qid=1624888241&sr=8-14','https://www.amazon.in/Juarez-Strings-Acoustic-Cutaway-Zebrawood/dp/B072Q9L8DG/ref=sr_1_15?dchild=1&keywords=guitar&qid=1624888241&sr=8-15','https://www.amazon.in/Acoustio-cloud-venus-acoustic-plectrums/dp/B0927LBW83/ref=sr_1_16?dchild=1&keywords=guitar&qid=1624888241&sr=8-16'\n",
    "     'https://www.amazon.in/Juarez-Acoustic-Cutaway-BK-Strings/dp/B076T3RHMG/ref=sr_1_17?dchild=1&keywords=guitar&qid=1624888241&sr=8-17','https://www.amazon.in/Kordz-Luana-Natural-Rosewood-Fretboard/dp/B07V4Y1V9M/ref=sr_1_18?dchild=1&keywords=guitar&qid=1624888241&sr=8-18','https://www.amazon.in/Luximal-Instrument-Acoustic-Learning-Educational/dp/B08SMKVC7Q/ref=sr_1_19?dchild=1&keywords=guitar&qid=1624888241&sr=8-19','https://www.amazon.in/Yamaha-FS-100C-6-String-Acoustic-without/dp/B00PAS9CK6/ref=sr_1_20?dchild=1&keywords=guitar&qid=1624888241&sr=8-20','https://www.amazon.in/Kadence-Slowhand-Premium-Acoustic-Instrument/dp/B077SZ667X/ref=sr_1_23_sspa?dchild=1&keywords=guitar&qid=1624888241&sr=8-23-spons&psc=1&spLa=ZW5jcnlwdGVkUXVhbGlmaWVyPUEyTjlLMjZLWVVUSTVNJmVuY3J5cHRlZElkPUExMDI3MTMzMzc0Rk5LTVRDQ0pSOSZlbmNyeXB0ZWRBZElkPUEwMDEwMzU2MlRIN1pNRUwxRk9XVSZ3aWRnZXROYW1lPXNwX210ZiZhY3Rpb249Y2xpY2tSZWRpcmVjdCZkb05vdExvZ0NsaWNrPXRydWU=',\n",
    "      'https://www.amazon.in/Divyatamall-inches-Acoustic-Musical-Adjustable/dp/B0846MZ939/ref=sr_1_24_sspa?dchild=1&keywords=guitar&qid=1624888241&sr=8-24-spons&psc=1&spLa=ZW5jcnlwdGVkUXVhbGlmaWVyPUEyTjlLMjZLWVVUSTVNJmVuY3J5cHRlZElkPUExMDI3MTMzMzc0Rk5LTVRDQ0pSOSZlbmNyeXB0ZWRBZElkPUEwODEwOTU1MkNNSDZZSkg2QVFLUSZ3aWRnZXROYW1lPXNwX210ZiZhY3Rpb249Y2xpY2tSZWRpcmVjdCZkb05vdExvZ0NsaWNrPXRydWU=','https://www.amazon.in/Intern-38-inch-Cutaway-Design-Acoustic/dp/B07X4PN85R/ref=sr_1_26?dchild=1&keywords=guitar&qid=1624888241&sr=8-26','https://www.amazon.in/JUAREZ-Acoustic-Rosewood-Fretboard-Natural/dp/B08GZZX16R/ref=sr_1_27?dchild=1&keywords=guitar&qid=1624888241&sr=8-27','https://www.amazon.in/JUAREZ-Acoustic-Rosewood-Fretboard-Natural/dp/B08GZZX16R/ref=sr_1_27?dchild=1&keywords=guitar&qid=1624888241&sr=8-27',\n",
    "     'https://www.amazon.in/Martin-Smith-W-101-RD-PK-Acoustic-Guitar/dp/B01EUWC5HE/ref=sr_1_28?dchild=1&keywords=guitar&qid=1624888241&sr=8-28','https://www.amazon.in/Rosewood-Fretboard-Acoustic-Strings-K-Retail/dp/B07KLG8C4P/ref=sr_1_29?dchild=1&keywords=guitar&qid=1624888241&sr=8-29','https://www.amazon.in/SAAN-Life-Science-Instrument-Educational/dp/B08QFQRRYV/ref=sr_1_30?dchild=1&keywords=guitar&qid=1624888241&sr=8-30','https://www.amazon.in/4-String-Acoustic-Musical-Instrument-Learning/dp/B08QGLQVRN/ref=sr_1_31?dchild=1&keywords=guitar&qid=1624888241&sr=8-31','https://www.amazon.in/Jixing-JXNG-BLK-SC1-Acoustic-Foldable-Combo/dp/B08XQF6L5H/ref=sr_1_33?dchild=1&keywords=guitar&qid=1624888241&sr=8-33','https://www.amazon.in/Guitar-Ukulele-Chromatic-Rotating-Accurate/dp/B08XBN94LC/ref=sr_1_37?dchild=1&keywords=guitar&qid=1624888241&sr=8-37','https://www.amazon.in/JUAREZ-Acoustic-Cutaway-Rosewood-Fretboard/dp/B08GZZ6SQ2/ref=sr_1_39?dchild=1&keywords=guitar&qid=1624888241&sr=8-39',\n",
    "      'https://www.amazon.in/chhogli-Musical-Instrument-Learning-Educational/dp/B097ZKNFJK/ref=sr_1_42?dchild=1&keywords=guitar&qid=1624888241&sr=8-42','https://www.amazon.in/Kadence-6-strings-Acoustic-Guitar-Natural/dp/B07JKYWGJN/ref=sr_1_45?dchild=1&keywords=guitar&qid=1624888241&sr=8-45','37y','https://www.amazon.in/Acoustio-rosewood-venus-acoustic-plectarms/dp/B093PSXV2K/ref=sr_1_46?dchild=1&keywords=guitar&qid=1624888241&sr=8-46','https://www.amazon.in/Premium-Spruce-Top-Cutaway-Acoustic-Guitar/dp/B08FFZY6BJ/ref=sr_1_47?dchild=1&keywords=guitar&qid=1624888241&sr=8-47','https://www.amazon.in/CARTIFY-4-string-acoustic-learning-18-Multi/dp/B096K5S6BB/ref=sr_1_53?dchild=1&keywords=guitar&qid=1624888241&sr=8-53','https://www.amazon.in/JRZ-ST01-6-String-Electric-Sunburst-Without/dp/B01FYZSOEE/ref=sr_1_55?dchild=1&keywords=guitar&qid=1624888241&sr=8-55','https://www.amazon.in/Fender-SA-150C-dreadnought-Squier-Natural/dp/B07YX5N6LC/ref=sr_1_56?dchild=1&keywords=guitar&qid=1624888241&sr=8-56',\n",
    "      'https://www.amazon.in/Fender-SA-150C-dreadnought-Squier-Natural/dp/B07YX5N6LC/ref=sr_1_53?dchild=1&keywords=guitar&qid=1624890426&sr=8-53','https://www.amazon.in/ABJI-4-String-Acoustic-Learning-Mahogany/dp/B08GYL52XV/ref=sr_1_54?dchild=1&keywords=guitar&qid=1624890426&sr=8-54','https://www.amazon.in/Medellin-MED-SUN-C-Linden-Acoustic-Guitar/dp/B07NBMYZCF/ref=sr_1_55?dchild=1&keywords=guitar&qid=1624890426&sr=8-55','https://www.amazon.in/Leepesx-Luthier-Guitar-Repair-Maintenance/dp/B097MVKCGG/ref=sr_1_56?dchild=1&keywords=guitar&qid=1624890426&sr=8-56','https://www.amazon.in/Nirja-Enterprise-Instrument-Educational-Instruments/dp/B097NBLD8J/ref=sr_1_57?dchild=1&keywords=guitar&qid=1624890426&sr=8-57','https://www.amazon.in/Asago-Childrens-Instrument-Beginner-Educational/dp/B08VDM6V56/ref=sr_1_58?dchild=1&keywords=guitar&qid=1624890426&sr=8-58','https://www.amazon.in/DIKUJI-ENTERPRISE-Childrens-Instrument-Educational/dp/B09271DWCL/ref=sr_1_49?dchild=1&keywords=guitar&qid=1624890426&sr=8-49',\n",
    "     'https://www.amazon.in/Acoustic-Classic-Beginners-Student-Strings/dp/B07HDTJSBM/ref=sr_1_51?dchild=1&keywords=guitar&qid=1624890426&sr=8-51','https://www.amazon.in/Swan7-41C-Spruce-Acoustic-Guitar/dp/B094DHMFCJ/ref=sr_1_52?dchild=1&keywords=guitar&qid=1624890426&sr=8-52','https://www.amazon.in/CARTIFY-Rockband-Music-Lights-Guitar/dp/B096JNRGG1/ref=sr_1_53?dchild=1&keywords=guitar&qid=1624890426&sr=8-53','https://www.amazon.in/OOM-AKSHAR-Childrens-Instrument-Educational/dp/B092DTYHR5/ref=sr_1_54?dchild=1&keywords=guitar&qid=1624890426&sr=8-54','https://www.amazon.in/Optimuss-Acoustic-Beginners-Practice-Learning/dp/B0977BM9H7/ref=sr_1_55?dchild=1&keywords=guitar&qid=1624890426&sr=8-55','https://www.amazon.in/JUAREZ-Arpeggio-Guitar-JRA39SP-Q-TBS-sunburst/dp/B08MWB5FVR/ref=sr_1_56?dchild=1&keywords=guitar&qid=1624890426&sr=8-56','https://www.amazon.in/ALOKRUPSWAM-Guitar-Toddler-Guitars-Acoustic/dp/B097ZBYF5R/ref=sr_1_57?dchild=1&keywords=guitar&qid=1624890426&sr=8-57','ttps://www.amazon.in/Sales-Guitar-Toys-Kids-Instrument/dp/B096VD6WRV/ref=sr_1_58?dchild=1&keywords=guitar&qid=1624890426&sr=8-58',\n",
    "     'https://www.amazon.in/Yamaha-F310-6-Strings-Acoustic-Natural/dp/B000RVYW7E/ref=sr_1_64?dchild=1&keywords=guitar&qid=1624890426&sr=8-64','https://www.amazon.in/Kadence-Professional-Guitar-Natural-Strings/dp/B094ZVKXKG/ref=sr_1_65?dchild=1&keywords=guitar&qid=1624890426&sr=8-65','https://www.amazon.in/KHEL-KHILONA-Musical-Classical-Instrument/dp/B097ZJZD2N/ref=sr_1_66?dchild=1&keywords=guitar&qid=1624890426&sr=8-66','https://www.amazon.in/Chromatic-Guitar-Violin-Ukulele-Include/dp/B08XBDBXJ6/ref=sr_1_67?dchild=1&keywords=guitar&qid=1624890426&sr=8-67','https://www.amazon.in/Clapton-Jumbo-Cutaway-Acoustic-Strings/dp/B093ZPYRJV/ref=sr_1_68?dchild=1&keywords=guitar&qid=1624890426&sr=8-68','https://www.amazon.in/Divinext-Interface-Guitar-Effects-iPhone/dp/B07RT3FHZT/ref=sr_1_69?dchild=1&keywords=guitar&qid=1624890426&sr=8-69','https://www.amazon.in/Grail-D120C-SB-Acoustic-CutawaySpruce/dp/B08HWV8ZV7/ref=sr_1_70?dchild=1&keywords=guitar&qid=1624890426&sr=8-70','https://www.amazon.in/DEVICE-URBAN-INFOTECH-Acoustic-Semi-closed/dp/B08P1JS4DF/ref=sr_1_71?dchild=1&keywords=guitar&qid=1624890426&sr=8-71',\n",
    "     'https://www.amazon.in/JUAREZ-Arpeggio-Acoustic-Rosewood-Fretboard/dp/B08LBHVZRT/ref=sr_1_72?dchild=1&keywords=guitar&qid=1624890426&sr=8-72','https://www.amazon.in/4-String-Musical-Instrument-Acoustic-Learning/dp/B08ZSVQ6Q8/ref=sr_1_73?dchild=1&keywords=guitar&qid=1624890426&sr=8-73','https://www.amazon.in/Logicmart-Educational-Instruments-Instrument-instrument/dp/B08V4WFF8C/ref=sr_1_74?dchild=1&keywords=guitar&qid=1624890426&sr=8-74','https://www.amazon.in/Kadence-Acoustica-Acoustic-Guitar-Zebra/dp/B07KXNKLJ2/ref=sr_1_75?dchild=1&keywords=guitar&qid=1624890426&sr=8-75','https://www.amazon.in/Gitesh-4-string-acoustic-learning-18-Multi/dp/B097ZGZRQY/ref=sr_1_76?dchild=1&keywords=guitar&qid=1624890426&sr=8-76','https://www.amazon.in/Pluto-HW34-101-Acoustic-Guitar-Kids/dp/B00PNDAQOY/ref=sr_1_77?dchild=1&keywords=guitar&qid=1624890426&sr=8-77','https://www.amazon.in/Mustang-Guitar-Accessories-Kit-Clip/dp/B07RY9KNVK/ref=sr_1_78?dchild=1&keywords=guitar&qid=1624890426&sr=8-78','https://www.amazon.in/crown-spceil-musical-acoustic-guitar/dp/B08H87BTDP/ref=sr_1_79?dchild=1&keywords=guitar&qid=1624890426&sr=8-79',\n",
    "     'https://www.amazon.in/DEVICE-URBAN-INFOTECH-Acoustic-Semi-closed/dp/B08Y7LMRBR/ref=sr_1_80?dchild=1&keywords=guitar&qid=1624890426&sr=8-80','https://www.amazon.in/Aria-Meranti-Thin-Body-Cutaway-Acoustic/dp/B08NYBFFWL/ref=sr_1_81?dchild=1&keywords=guitar&qid=1624890426&sr=8-81','https://www.amazon.in/VD-ENTERPRISE-Adjustable-Classical-Instrument/dp/B08S323L6W/ref=sr_1_82?dchild=1&keywords=guitar&qid=1624890426&sr=8-82','https://www.amazon.in/Ibanez-IBA-MD39CNT-Acoustic-Guitar-MD39C-NT/dp/B07G4CCMYL/ref=sr_1_83?dchild=1&keywords=guitar&qid=1624890426&sr=8-83','https://www.amazon.in/BEBLYTM-Guitar-Battery-Operated-Lights/dp/B095CXYDR8/ref=sr_1_84?dchild=1&keywords=guitar&qid=1624890426&sr=8-84','https://www.amazon.in/Classical-Instrument-Ornaments-Miniature-Decoration/dp/B097XTSMRM/ref=sr_1_85?dchild=1&keywords=guitar&qid=1624890426&sr=8-85','https://www.amazon.in/SRK-String-Decor-Guitar-Educational/dp/B08X6M7TXS/ref=sr_1_86?dchild=1&keywords=guitar&qid=1624890426&sr=8-86','https://www.amazon.in/Belear-I-280-Couturier-Acoustic-Sunburst/dp/B09136TPZ1/ref=sr_1_87?dchild=1&keywords=guitar&qid=1624890426&sr=8-87',\n",
    "     'https://www.amazon.in/Yamaha-FS100C-Acoustic-Guitars-Natural/dp/B00QKD79QE/ref=sr_1_88?dchild=1&keywords=guitar&qid=1624890426&sr=8-88','https://www.amazon.in/Luxdhara-Childrens-Instrument-Educational-Instruments/dp/B09773X3DX/ref=sr_1_89?dchild=1&keywords=guitar&qid=1624890426&sr=8-89','https://www.amazon.in/VAULT-GA10-Guitar-Amplifier-watts/dp/B07KM1MZK6/ref=sr_1_90?dchild=1&keywords=guitar&qid=1624890426&sr=8-90','https://www.amazon.in/DEVICE-URBAN-INFOTECH-Rotational-Electronic/dp/B081LG3X5H/ref=sr_1_91?dchild=1&keywords=guitar&qid=1624890426&sr=8-91','https://www.amazon.in/Intern-INT-38C-L-NT-Acoustic-Guitar-Natural/dp/B07J4PVDHG/ref=sr_1_92?dchild=1&keywords=guitar&qid=1624890426&sr=8-92','https://www.amazon.in/Leepesx-Guitar-Changing-Accessories-String/dp/B097MVFJNV/ref=sr_1_93?dchild=1&keywords=guitar&qid=1624890426&sr=8-93','https://www.amazon.in/Martin-Smith-W-101-N-PK-Acoustic-Natural/dp/B00UOUK4IE/ref=sr_1_94?dchild=1&keywords=guitar&qid=1624890426&sr=8-94','https://www.amazon.in/Natural-6-String-Acoustic-Semi-Electric-Guitar/dp/B0953KPTLL/ref=sr_1_101?dchild=1&keywords=guitar&qid=1624892137&sr=8-101',\n",
    "      'https://www.amazon.in/Guitar-Portable-Trainer-Fingerboard-String/dp/B0979ZNB65/ref=sr_1_102?dchild=1&keywords=guitar&qid=1624892137&sr=8-102','https://www.amazon.in/jesilo-4-String-Acoustic-Learning-Mahogany/dp/B08HM1JWYT/ref=sr_1_103?dchild=1&keywords=guitar&qid=1624892137&sr=8-103','https://www.amazon.in/PSB-6-String-Acoustic-Guitar-Brown/dp/B08SLYLGG4/ref=sr_1_104?dchild=1&keywords=guitar&qid=1624892137&sr=8-104','https://www.amazon.in/JUAREZ-Arpeggio-Acoustic-Rosewood-Fretboard/dp/B08LBHB547/ref=sr_1_105?dchild=1&keywords=guitar&qid=1624892137&sr=8-105','https://www.amazon.in/NP-ENTERPRISE-4-String-Instrument-Acoustic/dp/B0918CQ9BV/ref=sr_1_106?dchild=1&keywords=guitar&qid=1624892137&sr=8-106','https://www.amazon.in/JUAREZ-Acoustic-Rosewood-Fretboard-Sunburst/dp/B08LBGTQCR/ref=sr_1_107?dchild=1&keywords=guitar&qid=1624892137&sr=8-107','https://www.amazon.in/Kadence-Professional-Guitar-Natural-Strings/dp/B094ZWXHV4/ref=sr_1_108?dchild=1&keywords=guitar&qid=1624892137&sr=8-108','https://www.amazon.in/Givson-Ketostics-Guitar-Acoustic-Plectrums/dp/B08KS5MRSC/ref=sr_1_109?dchild=1&keywords=guitar&qid=1624892137&sr=8-109',\n",
    "     'https://www.amazon.in/CBOX-Childrens-Instrument-Educational-Instruments/dp/B08WKYCSLD/ref=sr_1_110?dchild=1&keywords=guitar&qid=1624892137&sr=8-110','https://www.amazon.in/Leepesx-Notched-Straight-Luthiers-Electric/dp/B097MSSZ17/ref=sr_1_111?dchild=1&keywords=guitar&qid=1624892137&sr=8-111','https://www.amazon.in/HYMET-4-String-Acoustic-Guitar-Learning/dp/B093QDX9MR/ref=sr_1_112?dchild=1&keywords=guitar&qid=1624892137&sr=8-112','https://www.amazon.in/Cort-AD810-Dreadnought-Acoustic-Guitar/dp/B07KMBVR6V/ref=sr_1_113?dchild=1&keywords=guitar&qid=1624892137&sr=8-113','https://www.amazon.in/Leepesx-Portable-Acoustic-Practice-Beginner/dp/B097MTW5VS/ref=sr_1_114?dchild=1&keywords=guitar&qid=1624892137&sr=8-114','https://www.amazon.in/JATU-STORE-Adjustable-Classical-Instrument/dp/B08NYP9N5T/ref=sr_1_115?dchild=1&keywords=guitar&qid=1624892137&sr=8-115','https://www.amazon.in/Acoustio-musical-acoustic-venus-plectrums/dp/B08XNFJ11L/ref=sr_1_116?dchild=1&keywords=guitar&qid=1624892137&sr=8-116','https://www.amazon.in/VD-ENTERPRISE-Adjustable-Classical-Instrument/dp/B08S323L6W/ref=sr_1_117_sspa?dchild=1&keywords=guitar&qid=1624892137&sr=8-117-spons&psc=1&spLa=ZW5jcnlwdGVkUXVhbGlmaWVyPUEzOFBQODc3SEJIQ0FSJmVuY3J5cHRlZElkPUEwNjQxMDg4MjNYSE5CTEVDSzlNQSZlbmNyeXB0ZWRBZElkPUEwNjA3MTY4MVc2N045UVA0QVNaUiZ3aWRnZXROYW1lPXNwX210ZiZhY3Rpb249Y2xpY2tSZWRpcmVjdCZkb05vdExvZ0NsaWNrPXRydWU=',\n",
    "     'https://www.amazon.in/GUITAR-BRO-Acoustic-Beginner-Accessories/dp/B07TC7TWCR/ref=sr_1_118_sspa?dchild=1&keywords=guitar&qid=1624892137&sr=8-118-spons&psc=1&spLa=ZW5jcnlwdGVkUXVhbGlmaWVyPUEzOFBQODc3SEJIQ0FSJmVuY3J5cHRlZElkPUEwNjQxMDg4MjNYSE5CTEVDSzlNQSZlbmNyeXB0ZWRBZElkPUEwODc5MTgyM0o0R1JNSk1LREZNVSZ3aWRnZXROYW1lPXNwX210ZiZhY3Rpb249Y2xpY2tSZWRpcmVjdCZkb05vdExvZ0NsaWNrPXRydWU=','https://www.amazon.in/Laxmi-Musical-Electronics-Acoustic-Instruments/dp/B08X4KD6P1/ref=sr_1_119_sspa?dchild=1&keywords=guitar&qid=1624892137&sr=8-119-spons&psc=1&spLa=ZW5jcnlwdGVkUXVhbGlmaWVyPUEzOFBQODc3SEJIQ0FSJmVuY3J5cHRlZElkPUEwNjQx','https://www.amazon.in/HRB-MUSICALS-GUITAR-STRING-WINDER/dp/B07SJQ2C8G/ref=sr_1_120_sspa?dchild=1&keywords=guitar&qid=1624892137&sr=8-120-spons&psc=1&spLa=ZW5jcnlwdGVkUXVhbGlmaWVyPUEzOFBQODc3SEJIQ0FSJmVuY3J5cHRlZElkPUEwNjQxMDg4MjNYSE5CTEVDSzlNQSZlbmNyeXB0ZWRBZElkPUEwNDU4OTQ5M0JBT0VLMjAxVjFDWSZ3aWRnZXROYW1lPXNwX210ZiZhY3Rpb249Y2xpY2tSZWRpcmVjdCZkb05vdExvZ0NsaWNrPXRydWU=','https://www.amazon.in/SG-MUSICAL-Guitar-String-Accessories/dp/B095JSTY52/ref=sr_1_121?dchild=1&keywords=guitar&qid=1624892137&sr=8-121','https://www.amazon.in/Kadence-Slowhand-Acoustic-Mahagony-Instrument/dp/B077T7GXFV/ref=sr_1_122?dchild=1&keywords=guitar&qid=1624892137&sr=8-122',\n",
    "     'https://www.amazon.in/beecow-4-String-Acoustic-Instrument-Learning/dp/B08TR3PC1Q/ref=sr_1_123?dchild=1&keywords=guitar&qid=1624892137&sr=8-123','https://www.amazon.in/Laxmi-Musical-Electronics-Acoustic-Instruments/dp/B08X4KD6P1/ref=sr_1_124?dchild=1&keywords=guitar&qid=1624892137&sr=8-124','https://www.amazon.in/Yamaha-Acoustic-Guitar-Natural-Bajaao/dp/B08RMP2F6Z/ref=sr_1_125?dchild=1&keywords=guitar&qid=1624892137&sr=8-125','https://www.amazon.in/Fender-Fender-Acoustic-Dreadnought-Plectrums/dp/B08H1FF1XT/ref=sr_1_126?dchild=1&keywords=guitar&qid=1624892137&sr=8-126','https://www.amazon.in/Kordz-Oval-Natural-Acoustic-Strings/dp/B092TQ65WJ/ref=sr_1_127?dchild=1&keywords=guitar&qid=1624892137&sr=8-127','https://www.amazon.in/HEALLILY-Fretboard-Stickers-Electric-Accessories/dp/B08YK5CNW1/ref=sr_1_128?dchild=1&keywords=guitar&qid=1624892137&sr=8-128','https://www.amazon.in/SIGNS-Childrens-Instrument-Educational-Instruments/dp/B096SCXZW8/ref=sr_1_129?dchild=1&keywords=guitar&qid=1624892137&sr=8-129','https://www.amazon.in/Childrens-Instrument-Educational-Instruments-Beginner/dp/B08XQMRVG8/ref=sr_1_130?dchild=1&keywords=guitar&qid=1624892137&sr=8-130','https://www.amazon.in/Ghime-Acoustic-Musical-Adjustable-Learning/dp/B08L6NR7VH/ref=sr_1_131?dchild=1&keywords=guitar&qid=1624892137&sr=8-131',\n",
    "     'https://www.amazon.in/TECHBLAZE-Guitar-Acoustic-Machine-pieces/dp/B08X6MGB3V/ref=sr_1_132?dchild=1&keywords=guitar&qid=1624892137&sr=8-132','https://www.amazon.in/Kordz-150-Rosewood-Fretboard-Acoustic/dp/B08T3G7SQK/ref=sr_1_133?dchild=1&keywords=guitar&qid=1624892137&sr=8-133','https://www.amazon.in/Sknd-Acoustic-Adjustable-Classical-Instrument/dp/B096QQVB7K/ref=sr_1_134?dchild=1&keywords=guitar&qid=1624892137&sr=8-134','https://www.amazon.in/Optimuss-Acoustic-Beginners-Practice-Learning/dp/B0977BM9H7/ref=sr_1_135?dchild=1&keywords=guitar&qid=1624892137&sr=8-135','https://www.amazon.in/Havana-AAG-39-Cutaway-Acoustic-Guitar/dp/B091MCJ26M/ref=sr_1_136?dchild=1&keywords=guitar&qid=1624892137&sr=8-136','https://www.amazon.in/Swami-Enterprise-4-String-Acoustic-Instrument/dp/B095LR581N/ref=sr_1_137?dchild=1&keywords=guitar&qid=1624892137&sr=8-137','https://www.amazon.in/Belear-K-610MAH-Natural-Dreadnought-Acoustic/dp/B09135Y6D2/ref=sr_1_138?dchild=1&keywords=guitar&qid=1624892137&sr=8-138','https://www.amazon.in/JUAREZ-Arp%C3%A9ggio-Semi-Acoustic-Guitar-Natural/dp/B08KHFJKZK/ref=sr_1_139?dchild=1&keywords=guitar&qid=1624892137&sr=8-139','https://www.amazon.in/Enterprise-4-String-Acoustic-Instrument-Learning/dp/B0953QD3LC/ref=sr_1_140?dchild=1&keywords=guitar&qid=1624892137&sr=8-140',\n",
    "     'https://www.amazon.in/HAVEN-GOOD-Instrument-Educational-Beginners/dp/B097HCP6WK/ref=sr_1_141?dchild=1&keywords=guitar&qid=1624892137&sr=8-141','https://www.amazon.in/Fender-SA105CEBK-Acoustic-Guitar/dp/B01N6KME9M/ref=sr_1_142?dchild=1&keywords=guitar&qid=1624892137&sr=8-142','https://www.amazon.in/Westwood-Acoustic-strings-WD2006-011-052-Phosphor/dp/B08QGR1BD7/ref=sr_1_143?dchild=1&keywords=guitar&qid=1624892137&sr=8-143','https://www.amazon.in/ASHICHIPRO-6-String-Acoustic-Instrument-Classical/dp/B093BZ4DY9/ref=sr_1_144?dchild=1&keywords=guitar&qid=1624892137&sr=8-144','https://www.amazon.in/Techblaze-Pieces-Guitar-Acoustic-Machine/dp/B08NPJKLD9/ref=sr_1_145?dchild=1&keywords=guitar&qid=1624892137&sr=8-145','https://www.amazon.in/Ju%C3%A2rez-Acoustic-038C-Automatic-Chromatic/dp/B08D9HFMWR/ref=sr_1_146?dchild=1&keywords=guitar&qid=1624892137&sr=8-146','https://www.amazon.in/Kadence-Frontier-Acoustic-Wihtout-strings/dp/B08PKG3SY8/ref=sr_1_147?dchild=1&keywords=guitar&qid=1624892137&sr=8-147','https://www.amazon.in/SG-MUSICAL-Strings-Stainless-Acoustic/dp/B095K71PBW/ref=sr_1_148?dchild=1&keywords=guitar&qid=1624892137&sr=8-148','https://www.amazon.in/BEBLYTM-String-Acoustic-Guitar-Brown/dp/B095CYBF1M/ref=sr_1_149?dchild=1&keywords=guitar&qid=1624892137&sr=8-149',\n",
    "     'https://www.amazon.in/HRB-MUSICALS-Stainless-Acoustic-Guitar/dp/B08KJ3H4CT/ref=sr_1_150?dchild=1&keywords=guitar&qid=1624892137&sr=8-150','https://www.amazon.in/DUNGRANI-ENTERPRISE-4-String-Acoustic-Instrument/dp/B093D9JV3D/ref=sr_1_151?dchild=1&keywords=guitar&qid=1624892137&sr=8-151','https://www.amazon.in/YEMAHA-CM2-Export-Quality-6-String/dp/B08C2B4771/ref=sr_1_152?dchild=1&keywords=guitar&qid=1624892137&sr=8-152','https://www.amazon.in/DEVICE-URBAN-INFOTECH-Acoustic-Semi-closed/dp/B08P1JS4DF/ref=sr_1_153_sspa?dchild=1&keywords=guitar&qid=1624892137&sr=8-153-spons&psc=1&spLa=ZW5jcnlwdGVkUXVhbGlmaWVyPUEzOFBQODc3SEJIQ0FSJmVuY3J5cHRlZElkPUEwNjQxMDg4MjNYSE5CTEVDSzlNQSZlbmNyeXB0ZWRBZElkPUEwNTcwMzQ5MUhUQkE4Q0xCWVpHQyZ3aWRnZXROYW1lPXNwX2J0ZiZhY3Rpb249Y2xpY2tSZWRpcmVjdCZkb05vdExvZ0NsaWNrPXRydWU=','https://www.amazon.in/DEVICE-URBAN-INFOTECH-Acoustic-Semi-closed/dp/B08Y7LMRBR/ref=sr_1_154_sspa?dchild=1&keywords=guitar&qid=1624892137&sr=8-154-spons&psc=1&spLa=ZW5jcnlwdGVkUXVhbGlmaWVyPUEzOFBQODc3SEJIQ0FSJmVuY3J5cHRlZElkPUEwNjQxMDg4MjNYSE5CTEVDSzlNQSZlbmNyeXB0ZWRBZElkPUEwNTAzNjEwSkVGVzVCRlZFUlVBJndpZGdldE5hbWU9c3BfYnRmJmFjdGlvbj1jbGlja1JlZGlyZWN0JmRvTm90TG9nQ2xpY2s9dHJ1ZQ==']}"
   ]
  },
  {
   "cell_type": "code",
   "execution_count": 9,
   "metadata": {},
   "outputs": [],
   "source": [
    "# make a dataframe\n",
    "df=pd.DataFrame(data)"
   ]
  },
  {
   "cell_type": "code",
   "execution_count": 10,
   "metadata": {},
   "outputs": [
    {
     "data": {
      "text/html": [
       "<div>\n",
       "<style scoped>\n",
       "    .dataframe tbody tr th:only-of-type {\n",
       "        vertical-align: middle;\n",
       "    }\n",
       "\n",
       "    .dataframe tbody tr th {\n",
       "        vertical-align: top;\n",
       "    }\n",
       "\n",
       "    .dataframe thead th {\n",
       "        text-align: right;\n",
       "    }\n",
       "</style>\n",
       "<table border=\"1\" class=\"dataframe\">\n",
       "  <thead>\n",
       "    <tr style=\"text-align: right;\">\n",
       "      <th></th>\n",
       "      <th>urls</th>\n",
       "    </tr>\n",
       "  </thead>\n",
       "  <tbody>\n",
       "    <tr>\n",
       "      <th>0</th>\n",
       "      <td>https://www.amazon.in/Mustang-guitar-strap-Gui...</td>\n",
       "    </tr>\n",
       "    <tr>\n",
       "      <th>1</th>\n",
       "      <td>https://www.amazon.in/Kadence-Frontier-Acousti...</td>\n",
       "    </tr>\n",
       "    <tr>\n",
       "      <th>2</th>\n",
       "      <td>https://www.amazon.in/Juarez-Acoustic-Cutaway-...</td>\n",
       "    </tr>\n",
       "    <tr>\n",
       "      <th>3</th>\n",
       "      <td>https://www.amazon.in/Intern-INT-38C-Acoustic-...</td>\n",
       "    </tr>\n",
       "    <tr>\n",
       "      <th>4</th>\n",
       "      <td>https://www.amazon.in/Juarez-Acoustic-Guitar-C...</td>\n",
       "    </tr>\n",
       "    <tr>\n",
       "      <th>...</th>\n",
       "      <td>...</td>\n",
       "    </tr>\n",
       "    <tr>\n",
       "      <th>128</th>\n",
       "      <td>https://www.amazon.in/HRB-MUSICALS-Stainless-A...</td>\n",
       "    </tr>\n",
       "    <tr>\n",
       "      <th>129</th>\n",
       "      <td>https://www.amazon.in/DUNGRANI-ENTERPRISE-4-St...</td>\n",
       "    </tr>\n",
       "    <tr>\n",
       "      <th>130</th>\n",
       "      <td>https://www.amazon.in/YEMAHA-CM2-Export-Qualit...</td>\n",
       "    </tr>\n",
       "    <tr>\n",
       "      <th>131</th>\n",
       "      <td>https://www.amazon.in/DEVICE-URBAN-INFOTECH-Ac...</td>\n",
       "    </tr>\n",
       "    <tr>\n",
       "      <th>132</th>\n",
       "      <td>https://www.amazon.in/DEVICE-URBAN-INFOTECH-Ac...</td>\n",
       "    </tr>\n",
       "  </tbody>\n",
       "</table>\n",
       "<p>133 rows × 1 columns</p>\n",
       "</div>"
      ],
      "text/plain": [
       "                                                  urls\n",
       "0    https://www.amazon.in/Mustang-guitar-strap-Gui...\n",
       "1    https://www.amazon.in/Kadence-Frontier-Acousti...\n",
       "2    https://www.amazon.in/Juarez-Acoustic-Cutaway-...\n",
       "3    https://www.amazon.in/Intern-INT-38C-Acoustic-...\n",
       "4    https://www.amazon.in/Juarez-Acoustic-Guitar-C...\n",
       "..                                                 ...\n",
       "128  https://www.amazon.in/HRB-MUSICALS-Stainless-A...\n",
       "129  https://www.amazon.in/DUNGRANI-ENTERPRISE-4-St...\n",
       "130  https://www.amazon.in/YEMAHA-CM2-Export-Qualit...\n",
       "131  https://www.amazon.in/DEVICE-URBAN-INFOTECH-Ac...\n",
       "132  https://www.amazon.in/DEVICE-URBAN-INFOTECH-Ac...\n",
       "\n",
       "[133 rows x 1 columns]"
      ]
     },
     "execution_count": 10,
     "metadata": {},
     "output_type": "execute_result"
    }
   ],
   "source": [
    "df"
   ]
  },
  {
   "cell_type": "markdown",
   "metadata": {},
   "source": [
    "# Question 2"
   ]
  },
  {
   "cell_type": "code",
   "execution_count": 29,
   "metadata": {},
   "outputs": [],
   "source": [
    "Brand_Name=[]\n",
    "Rating=[]\n",
    "No_of_Ratings=[]\n",
    "Price=[]\n",
    "Return=[]\n",
    "Expected_Delivery=[]\n",
    "Availability=[]\n",
    "Other_Details=[]"
   ]
  },
  {
   "cell_type": "code",
   "execution_count": 40,
   "metadata": {},
   "outputs": [
    {
     "ename": "WebDriverException",
     "evalue": "Message: chrome not reachable\n  (Session info: chrome=91.0.4472.114)\n",
     "output_type": "error",
     "traceback": [
      "\u001b[1;31m---------------------------------------------------------------------------\u001b[0m",
      "\u001b[1;31mWebDriverException\u001b[0m                        Traceback (most recent call last)",
      "\u001b[1;32m<ipython-input-40-bf040561e527>\u001b[0m in \u001b[0;36m<module>\u001b[1;34m\u001b[0m\n\u001b[0;32m      1\u001b[0m \u001b[1;32mfor\u001b[0m \u001b[0murl\u001b[0m \u001b[1;32min\u001b[0m \u001b[0murls\u001b[0m\u001b[1;33m:\u001b[0m\u001b[1;33m\u001b[0m\u001b[1;33m\u001b[0m\u001b[0m\n\u001b[0;32m      2\u001b[0m \u001b[1;33m\u001b[0m\u001b[0m\n\u001b[1;32m----> 3\u001b[1;33m     \u001b[0mdriver\u001b[0m\u001b[1;33m.\u001b[0m\u001b[0mget\u001b[0m\u001b[1;33m(\u001b[0m\u001b[0murl\u001b[0m\u001b[1;33m)\u001b[0m\u001b[1;33m\u001b[0m\u001b[1;33m\u001b[0m\u001b[0m\n\u001b[0m\u001b[0;32m      4\u001b[0m \u001b[1;33m\u001b[0m\u001b[0m\n\u001b[0;32m      5\u001b[0m     \u001b[0mtime\u001b[0m\u001b[1;33m.\u001b[0m\u001b[0msleep\u001b[0m\u001b[1;33m(\u001b[0m\u001b[1;36m2\u001b[0m\u001b[1;33m)\u001b[0m\u001b[1;33m\u001b[0m\u001b[1;33m\u001b[0m\u001b[0m\n",
      "\u001b[1;32mE:\\anaconda3\\lib\\site-packages\\selenium\\webdriver\\remote\\webdriver.py\u001b[0m in \u001b[0;36mget\u001b[1;34m(self, url)\u001b[0m\n\u001b[0;32m    331\u001b[0m         \u001b[0mLoads\u001b[0m \u001b[0ma\u001b[0m \u001b[0mweb\u001b[0m \u001b[0mpage\u001b[0m \u001b[1;32min\u001b[0m \u001b[0mthe\u001b[0m \u001b[0mcurrent\u001b[0m \u001b[0mbrowser\u001b[0m \u001b[0msession\u001b[0m\u001b[1;33m.\u001b[0m\u001b[1;33m\u001b[0m\u001b[1;33m\u001b[0m\u001b[0m\n\u001b[0;32m    332\u001b[0m         \"\"\"\n\u001b[1;32m--> 333\u001b[1;33m         \u001b[0mself\u001b[0m\u001b[1;33m.\u001b[0m\u001b[0mexecute\u001b[0m\u001b[1;33m(\u001b[0m\u001b[0mCommand\u001b[0m\u001b[1;33m.\u001b[0m\u001b[0mGET\u001b[0m\u001b[1;33m,\u001b[0m \u001b[1;33m{\u001b[0m\u001b[1;34m'url'\u001b[0m\u001b[1;33m:\u001b[0m \u001b[0murl\u001b[0m\u001b[1;33m}\u001b[0m\u001b[1;33m)\u001b[0m\u001b[1;33m\u001b[0m\u001b[1;33m\u001b[0m\u001b[0m\n\u001b[0m\u001b[0;32m    334\u001b[0m \u001b[1;33m\u001b[0m\u001b[0m\n\u001b[0;32m    335\u001b[0m     \u001b[1;33m@\u001b[0m\u001b[0mproperty\u001b[0m\u001b[1;33m\u001b[0m\u001b[1;33m\u001b[0m\u001b[0m\n",
      "\u001b[1;32mE:\\anaconda3\\lib\\site-packages\\selenium\\webdriver\\remote\\webdriver.py\u001b[0m in \u001b[0;36mexecute\u001b[1;34m(self, driver_command, params)\u001b[0m\n\u001b[0;32m    319\u001b[0m         \u001b[0mresponse\u001b[0m \u001b[1;33m=\u001b[0m \u001b[0mself\u001b[0m\u001b[1;33m.\u001b[0m\u001b[0mcommand_executor\u001b[0m\u001b[1;33m.\u001b[0m\u001b[0mexecute\u001b[0m\u001b[1;33m(\u001b[0m\u001b[0mdriver_command\u001b[0m\u001b[1;33m,\u001b[0m \u001b[0mparams\u001b[0m\u001b[1;33m)\u001b[0m\u001b[1;33m\u001b[0m\u001b[1;33m\u001b[0m\u001b[0m\n\u001b[0;32m    320\u001b[0m         \u001b[1;32mif\u001b[0m \u001b[0mresponse\u001b[0m\u001b[1;33m:\u001b[0m\u001b[1;33m\u001b[0m\u001b[1;33m\u001b[0m\u001b[0m\n\u001b[1;32m--> 321\u001b[1;33m             \u001b[0mself\u001b[0m\u001b[1;33m.\u001b[0m\u001b[0merror_handler\u001b[0m\u001b[1;33m.\u001b[0m\u001b[0mcheck_response\u001b[0m\u001b[1;33m(\u001b[0m\u001b[0mresponse\u001b[0m\u001b[1;33m)\u001b[0m\u001b[1;33m\u001b[0m\u001b[1;33m\u001b[0m\u001b[0m\n\u001b[0m\u001b[0;32m    322\u001b[0m             response['value'] = self._unwrap_value(\n\u001b[0;32m    323\u001b[0m                 response.get('value', None))\n",
      "\u001b[1;32mE:\\anaconda3\\lib\\site-packages\\selenium\\webdriver\\remote\\errorhandler.py\u001b[0m in \u001b[0;36mcheck_response\u001b[1;34m(self, response)\u001b[0m\n\u001b[0;32m    240\u001b[0m                 \u001b[0malert_text\u001b[0m \u001b[1;33m=\u001b[0m \u001b[0mvalue\u001b[0m\u001b[1;33m[\u001b[0m\u001b[1;34m'alert'\u001b[0m\u001b[1;33m]\u001b[0m\u001b[1;33m.\u001b[0m\u001b[0mget\u001b[0m\u001b[1;33m(\u001b[0m\u001b[1;34m'text'\u001b[0m\u001b[1;33m)\u001b[0m\u001b[1;33m\u001b[0m\u001b[1;33m\u001b[0m\u001b[0m\n\u001b[0;32m    241\u001b[0m             \u001b[1;32mraise\u001b[0m \u001b[0mexception_class\u001b[0m\u001b[1;33m(\u001b[0m\u001b[0mmessage\u001b[0m\u001b[1;33m,\u001b[0m \u001b[0mscreen\u001b[0m\u001b[1;33m,\u001b[0m \u001b[0mstacktrace\u001b[0m\u001b[1;33m,\u001b[0m \u001b[0malert_text\u001b[0m\u001b[1;33m)\u001b[0m\u001b[1;33m\u001b[0m\u001b[1;33m\u001b[0m\u001b[0m\n\u001b[1;32m--> 242\u001b[1;33m         \u001b[1;32mraise\u001b[0m \u001b[0mexception_class\u001b[0m\u001b[1;33m(\u001b[0m\u001b[0mmessage\u001b[0m\u001b[1;33m,\u001b[0m \u001b[0mscreen\u001b[0m\u001b[1;33m,\u001b[0m \u001b[0mstacktrace\u001b[0m\u001b[1;33m)\u001b[0m\u001b[1;33m\u001b[0m\u001b[1;33m\u001b[0m\u001b[0m\n\u001b[0m\u001b[0;32m    243\u001b[0m \u001b[1;33m\u001b[0m\u001b[0m\n\u001b[0;32m    244\u001b[0m     \u001b[1;32mdef\u001b[0m \u001b[0m_value_or_default\u001b[0m\u001b[1;33m(\u001b[0m\u001b[0mself\u001b[0m\u001b[1;33m,\u001b[0m \u001b[0mobj\u001b[0m\u001b[1;33m,\u001b[0m \u001b[0mkey\u001b[0m\u001b[1;33m,\u001b[0m \u001b[0mdefault\u001b[0m\u001b[1;33m)\u001b[0m\u001b[1;33m:\u001b[0m\u001b[1;33m\u001b[0m\u001b[1;33m\u001b[0m\u001b[0m\n",
      "\u001b[1;31mWebDriverException\u001b[0m: Message: chrome not reachable\n  (Session info: chrome=91.0.4472.114)\n"
     ]
    }
   ],
   "source": [
    "\n",
    "for url in urls:\n",
    "    \n",
    "    driver.get(url)\n",
    "\n",
    "    time.sleep(2)\n",
    "\n",
    "    try:\n",
    "\n",
    "        name = driver.find_element_by_xpath(\"//span[@id='productTitle']\")\n",
    "\n",
    "        Brand_Name.append(name.text)\n",
    "\n",
    "    except NoSuchElementException:\n",
    "\n",
    "        Brand_Name.append(\"-\")"
   ]
  },
  {
   "cell_type": "code",
   "execution_count": null,
   "metadata": {},
   "outputs": [],
   "source": []
  }
 ],
 "metadata": {
  "kernelspec": {
   "display_name": "Python 3",
   "language": "python",
   "name": "python3"
  },
  "language_info": {
   "codemirror_mode": {
    "name": "ipython",
    "version": 3
   },
   "file_extension": ".py",
   "mimetype": "text/x-python",
   "name": "python",
   "nbconvert_exporter": "python",
   "pygments_lexer": "ipython3",
   "version": "3.8.5"
  }
 },
 "nbformat": 4,
 "nbformat_minor": 4
}
