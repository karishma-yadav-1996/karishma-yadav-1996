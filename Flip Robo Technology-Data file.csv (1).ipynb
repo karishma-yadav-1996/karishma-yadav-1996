{
 "cells": [
  {
   "cell_type": "code",
   "execution_count": 1,
   "metadata": {},
   "outputs": [],
   "source": [
    "import numpy as np\n",
    "import pandas as pd\n",
    "import matplotlib.pyplot as plt\n",
    "import seaborn as sns\n",
    "import warnings\n",
    "warnings.filterwarnings('ignore')\n",
    "df=pd.read_csv('Data file.csv')\n"
   ]
  },
  {
   "cell_type": "code",
   "execution_count": 2,
   "metadata": {
    "scrolled": false
   },
   "outputs": [
    {
     "data": {
      "text/html": [
       "<div>\n",
       "<style scoped>\n",
       "    .dataframe tbody tr th:only-of-type {\n",
       "        vertical-align: middle;\n",
       "    }\n",
       "\n",
       "    .dataframe tbody tr th {\n",
       "        vertical-align: top;\n",
       "    }\n",
       "\n",
       "    .dataframe thead th {\n",
       "        text-align: right;\n",
       "    }\n",
       "</style>\n",
       "<table border=\"1\" class=\"dataframe\">\n",
       "  <thead>\n",
       "    <tr style=\"text-align: right;\">\n",
       "      <th></th>\n",
       "      <th>Unnamed: 0</th>\n",
       "      <th>label</th>\n",
       "      <th>msisdn</th>\n",
       "      <th>aon</th>\n",
       "      <th>daily_decr30</th>\n",
       "      <th>daily_decr90</th>\n",
       "      <th>rental30</th>\n",
       "      <th>rental90</th>\n",
       "      <th>last_rech_date_ma</th>\n",
       "      <th>last_rech_date_da</th>\n",
       "      <th>...</th>\n",
       "      <th>maxamnt_loans30</th>\n",
       "      <th>medianamnt_loans30</th>\n",
       "      <th>cnt_loans90</th>\n",
       "      <th>amnt_loans90</th>\n",
       "      <th>maxamnt_loans90</th>\n",
       "      <th>medianamnt_loans90</th>\n",
       "      <th>payback30</th>\n",
       "      <th>payback90</th>\n",
       "      <th>pcircle</th>\n",
       "      <th>pdate</th>\n",
       "    </tr>\n",
       "  </thead>\n",
       "  <tbody>\n",
       "    <tr>\n",
       "      <th>0</th>\n",
       "      <td>1</td>\n",
       "      <td>0</td>\n",
       "      <td>21408I70789</td>\n",
       "      <td>272.0</td>\n",
       "      <td>3055.050000</td>\n",
       "      <td>3065.150000</td>\n",
       "      <td>220.13</td>\n",
       "      <td>260.13</td>\n",
       "      <td>2.0</td>\n",
       "      <td>0.0</td>\n",
       "      <td>...</td>\n",
       "      <td>6.0</td>\n",
       "      <td>0.0</td>\n",
       "      <td>2.0</td>\n",
       "      <td>12</td>\n",
       "      <td>6</td>\n",
       "      <td>0.0</td>\n",
       "      <td>29.000000</td>\n",
       "      <td>29.000000</td>\n",
       "      <td>UPW</td>\n",
       "      <td>20-07-16</td>\n",
       "    </tr>\n",
       "    <tr>\n",
       "      <th>1</th>\n",
       "      <td>2</td>\n",
       "      <td>1</td>\n",
       "      <td>76462I70374</td>\n",
       "      <td>712.0</td>\n",
       "      <td>12122.000000</td>\n",
       "      <td>12124.750000</td>\n",
       "      <td>3691.26</td>\n",
       "      <td>3691.26</td>\n",
       "      <td>20.0</td>\n",
       "      <td>0.0</td>\n",
       "      <td>...</td>\n",
       "      <td>12.0</td>\n",
       "      <td>0.0</td>\n",
       "      <td>1.0</td>\n",
       "      <td>12</td>\n",
       "      <td>12</td>\n",
       "      <td>0.0</td>\n",
       "      <td>0.000000</td>\n",
       "      <td>0.000000</td>\n",
       "      <td>UPW</td>\n",
       "      <td>10-08-16</td>\n",
       "    </tr>\n",
       "    <tr>\n",
       "      <th>2</th>\n",
       "      <td>3</td>\n",
       "      <td>1</td>\n",
       "      <td>17943I70372</td>\n",
       "      <td>535.0</td>\n",
       "      <td>1398.000000</td>\n",
       "      <td>1398.000000</td>\n",
       "      <td>900.13</td>\n",
       "      <td>900.13</td>\n",
       "      <td>3.0</td>\n",
       "      <td>0.0</td>\n",
       "      <td>...</td>\n",
       "      <td>6.0</td>\n",
       "      <td>0.0</td>\n",
       "      <td>1.0</td>\n",
       "      <td>6</td>\n",
       "      <td>6</td>\n",
       "      <td>0.0</td>\n",
       "      <td>0.000000</td>\n",
       "      <td>0.000000</td>\n",
       "      <td>UPW</td>\n",
       "      <td>19-08-16</td>\n",
       "    </tr>\n",
       "    <tr>\n",
       "      <th>3</th>\n",
       "      <td>4</td>\n",
       "      <td>1</td>\n",
       "      <td>55773I70781</td>\n",
       "      <td>241.0</td>\n",
       "      <td>21.228000</td>\n",
       "      <td>21.228000</td>\n",
       "      <td>159.42</td>\n",
       "      <td>159.42</td>\n",
       "      <td>41.0</td>\n",
       "      <td>0.0</td>\n",
       "      <td>...</td>\n",
       "      <td>6.0</td>\n",
       "      <td>0.0</td>\n",
       "      <td>2.0</td>\n",
       "      <td>12</td>\n",
       "      <td>6</td>\n",
       "      <td>0.0</td>\n",
       "      <td>0.000000</td>\n",
       "      <td>0.000000</td>\n",
       "      <td>UPW</td>\n",
       "      <td>06-06-16</td>\n",
       "    </tr>\n",
       "    <tr>\n",
       "      <th>4</th>\n",
       "      <td>5</td>\n",
       "      <td>1</td>\n",
       "      <td>03813I82730</td>\n",
       "      <td>947.0</td>\n",
       "      <td>150.619333</td>\n",
       "      <td>150.619333</td>\n",
       "      <td>1098.90</td>\n",
       "      <td>1098.90</td>\n",
       "      <td>4.0</td>\n",
       "      <td>0.0</td>\n",
       "      <td>...</td>\n",
       "      <td>6.0</td>\n",
       "      <td>0.0</td>\n",
       "      <td>7.0</td>\n",
       "      <td>42</td>\n",
       "      <td>6</td>\n",
       "      <td>0.0</td>\n",
       "      <td>2.333333</td>\n",
       "      <td>2.333333</td>\n",
       "      <td>UPW</td>\n",
       "      <td>22-06-16</td>\n",
       "    </tr>\n",
       "    <tr>\n",
       "      <th>...</th>\n",
       "      <td>...</td>\n",
       "      <td>...</td>\n",
       "      <td>...</td>\n",
       "      <td>...</td>\n",
       "      <td>...</td>\n",
       "      <td>...</td>\n",
       "      <td>...</td>\n",
       "      <td>...</td>\n",
       "      <td>...</td>\n",
       "      <td>...</td>\n",
       "      <td>...</td>\n",
       "      <td>...</td>\n",
       "      <td>...</td>\n",
       "      <td>...</td>\n",
       "      <td>...</td>\n",
       "      <td>...</td>\n",
       "      <td>...</td>\n",
       "      <td>...</td>\n",
       "      <td>...</td>\n",
       "      <td>...</td>\n",
       "      <td>...</td>\n",
       "    </tr>\n",
       "    <tr>\n",
       "      <th>209588</th>\n",
       "      <td>209589</td>\n",
       "      <td>1</td>\n",
       "      <td>22758I85348</td>\n",
       "      <td>404.0</td>\n",
       "      <td>151.872333</td>\n",
       "      <td>151.872333</td>\n",
       "      <td>1089.19</td>\n",
       "      <td>1089.19</td>\n",
       "      <td>1.0</td>\n",
       "      <td>0.0</td>\n",
       "      <td>...</td>\n",
       "      <td>6.0</td>\n",
       "      <td>0.0</td>\n",
       "      <td>2.0</td>\n",
       "      <td>12</td>\n",
       "      <td>6</td>\n",
       "      <td>0.0</td>\n",
       "      <td>1.000000</td>\n",
       "      <td>1.000000</td>\n",
       "      <td>UPW</td>\n",
       "      <td>17-06-16</td>\n",
       "    </tr>\n",
       "    <tr>\n",
       "      <th>209589</th>\n",
       "      <td>209590</td>\n",
       "      <td>1</td>\n",
       "      <td>95583I84455</td>\n",
       "      <td>1075.0</td>\n",
       "      <td>36.936000</td>\n",
       "      <td>36.936000</td>\n",
       "      <td>1728.36</td>\n",
       "      <td>1728.36</td>\n",
       "      <td>4.0</td>\n",
       "      <td>0.0</td>\n",
       "      <td>...</td>\n",
       "      <td>6.0</td>\n",
       "      <td>0.0</td>\n",
       "      <td>3.0</td>\n",
       "      <td>18</td>\n",
       "      <td>6</td>\n",
       "      <td>0.0</td>\n",
       "      <td>1.000000</td>\n",
       "      <td>1.000000</td>\n",
       "      <td>UPW</td>\n",
       "      <td>12-06-16</td>\n",
       "    </tr>\n",
       "    <tr>\n",
       "      <th>209590</th>\n",
       "      <td>209591</td>\n",
       "      <td>1</td>\n",
       "      <td>28556I85350</td>\n",
       "      <td>1013.0</td>\n",
       "      <td>11843.111670</td>\n",
       "      <td>11904.350000</td>\n",
       "      <td>5861.83</td>\n",
       "      <td>8893.20</td>\n",
       "      <td>3.0</td>\n",
       "      <td>0.0</td>\n",
       "      <td>...</td>\n",
       "      <td>12.0</td>\n",
       "      <td>0.0</td>\n",
       "      <td>6.0</td>\n",
       "      <td>54</td>\n",
       "      <td>12</td>\n",
       "      <td>0.0</td>\n",
       "      <td>4.000000</td>\n",
       "      <td>3.833333</td>\n",
       "      <td>UPW</td>\n",
       "      <td>29-07-16</td>\n",
       "    </tr>\n",
       "    <tr>\n",
       "      <th>209591</th>\n",
       "      <td>209592</td>\n",
       "      <td>1</td>\n",
       "      <td>59712I82733</td>\n",
       "      <td>1732.0</td>\n",
       "      <td>12488.228330</td>\n",
       "      <td>12574.370000</td>\n",
       "      <td>411.83</td>\n",
       "      <td>984.58</td>\n",
       "      <td>2.0</td>\n",
       "      <td>38.0</td>\n",
       "      <td>...</td>\n",
       "      <td>12.0</td>\n",
       "      <td>0.0</td>\n",
       "      <td>3.0</td>\n",
       "      <td>24</td>\n",
       "      <td>12</td>\n",
       "      <td>0.0</td>\n",
       "      <td>0.000000</td>\n",
       "      <td>10.500000</td>\n",
       "      <td>UPW</td>\n",
       "      <td>25-07-16</td>\n",
       "    </tr>\n",
       "    <tr>\n",
       "      <th>209592</th>\n",
       "      <td>209593</td>\n",
       "      <td>1</td>\n",
       "      <td>65061I85339</td>\n",
       "      <td>1581.0</td>\n",
       "      <td>4489.362000</td>\n",
       "      <td>4534.820000</td>\n",
       "      <td>483.92</td>\n",
       "      <td>631.20</td>\n",
       "      <td>13.0</td>\n",
       "      <td>0.0</td>\n",
       "      <td>...</td>\n",
       "      <td>12.0</td>\n",
       "      <td>0.0</td>\n",
       "      <td>2.0</td>\n",
       "      <td>18</td>\n",
       "      <td>12</td>\n",
       "      <td>0.0</td>\n",
       "      <td>0.000000</td>\n",
       "      <td>0.000000</td>\n",
       "      <td>UPW</td>\n",
       "      <td>07-07-16</td>\n",
       "    </tr>\n",
       "  </tbody>\n",
       "</table>\n",
       "<p>209593 rows × 37 columns</p>\n",
       "</div>"
      ],
      "text/plain": [
       "        Unnamed: 0  label       msisdn     aon  daily_decr30  daily_decr90  \\\n",
       "0                1      0  21408I70789   272.0   3055.050000   3065.150000   \n",
       "1                2      1  76462I70374   712.0  12122.000000  12124.750000   \n",
       "2                3      1  17943I70372   535.0   1398.000000   1398.000000   \n",
       "3                4      1  55773I70781   241.0     21.228000     21.228000   \n",
       "4                5      1  03813I82730   947.0    150.619333    150.619333   \n",
       "...            ...    ...          ...     ...           ...           ...   \n",
       "209588      209589      1  22758I85348   404.0    151.872333    151.872333   \n",
       "209589      209590      1  95583I84455  1075.0     36.936000     36.936000   \n",
       "209590      209591      1  28556I85350  1013.0  11843.111670  11904.350000   \n",
       "209591      209592      1  59712I82733  1732.0  12488.228330  12574.370000   \n",
       "209592      209593      1  65061I85339  1581.0   4489.362000   4534.820000   \n",
       "\n",
       "        rental30  rental90  last_rech_date_ma  last_rech_date_da  ...  \\\n",
       "0         220.13    260.13                2.0                0.0  ...   \n",
       "1        3691.26   3691.26               20.0                0.0  ...   \n",
       "2         900.13    900.13                3.0                0.0  ...   \n",
       "3         159.42    159.42               41.0                0.0  ...   \n",
       "4        1098.90   1098.90                4.0                0.0  ...   \n",
       "...          ...       ...                ...                ...  ...   \n",
       "209588   1089.19   1089.19                1.0                0.0  ...   \n",
       "209589   1728.36   1728.36                4.0                0.0  ...   \n",
       "209590   5861.83   8893.20                3.0                0.0  ...   \n",
       "209591    411.83    984.58                2.0               38.0  ...   \n",
       "209592    483.92    631.20               13.0                0.0  ...   \n",
       "\n",
       "        maxamnt_loans30  medianamnt_loans30  cnt_loans90  amnt_loans90  \\\n",
       "0                   6.0                 0.0          2.0            12   \n",
       "1                  12.0                 0.0          1.0            12   \n",
       "2                   6.0                 0.0          1.0             6   \n",
       "3                   6.0                 0.0          2.0            12   \n",
       "4                   6.0                 0.0          7.0            42   \n",
       "...                 ...                 ...          ...           ...   \n",
       "209588              6.0                 0.0          2.0            12   \n",
       "209589              6.0                 0.0          3.0            18   \n",
       "209590             12.0                 0.0          6.0            54   \n",
       "209591             12.0                 0.0          3.0            24   \n",
       "209592             12.0                 0.0          2.0            18   \n",
       "\n",
       "        maxamnt_loans90  medianamnt_loans90  payback30  payback90  pcircle  \\\n",
       "0                     6                 0.0  29.000000  29.000000      UPW   \n",
       "1                    12                 0.0   0.000000   0.000000      UPW   \n",
       "2                     6                 0.0   0.000000   0.000000      UPW   \n",
       "3                     6                 0.0   0.000000   0.000000      UPW   \n",
       "4                     6                 0.0   2.333333   2.333333      UPW   \n",
       "...                 ...                 ...        ...        ...      ...   \n",
       "209588                6                 0.0   1.000000   1.000000      UPW   \n",
       "209589                6                 0.0   1.000000   1.000000      UPW   \n",
       "209590               12                 0.0   4.000000   3.833333      UPW   \n",
       "209591               12                 0.0   0.000000  10.500000      UPW   \n",
       "209592               12                 0.0   0.000000   0.000000      UPW   \n",
       "\n",
       "           pdate  \n",
       "0       20-07-16  \n",
       "1       10-08-16  \n",
       "2       19-08-16  \n",
       "3       06-06-16  \n",
       "4       22-06-16  \n",
       "...          ...  \n",
       "209588  17-06-16  \n",
       "209589  12-06-16  \n",
       "209590  29-07-16  \n",
       "209591  25-07-16  \n",
       "209592  07-07-16  \n",
       "\n",
       "[209593 rows x 37 columns]"
      ]
     },
     "execution_count": 2,
     "metadata": {},
     "output_type": "execute_result"
    }
   ],
   "source": [
    "df"
   ]
  },
  {
   "cell_type": "code",
   "execution_count": 3,
   "metadata": {},
   "outputs": [
    {
     "data": {
      "text/plain": [
       "(209593, 37)"
      ]
     },
     "execution_count": 3,
     "metadata": {},
     "output_type": "execute_result"
    }
   ],
   "source": [
    "df.shape"
   ]
  },
  {
   "cell_type": "markdown",
   "metadata": {},
   "source": [
    "We have 209593 rows and 37 columns in datasets."
   ]
  },
  {
   "cell_type": "code",
   "execution_count": 4,
   "metadata": {},
   "outputs": [
    {
     "data": {
      "text/plain": [
       "Unnamed: 0                int64\n",
       "label                     int64\n",
       "msisdn                   object\n",
       "aon                     float64\n",
       "daily_decr30            float64\n",
       "daily_decr90            float64\n",
       "rental30                float64\n",
       "rental90                float64\n",
       "last_rech_date_ma       float64\n",
       "last_rech_date_da       float64\n",
       "last_rech_amt_ma          int64\n",
       "cnt_ma_rech30             int64\n",
       "fr_ma_rech30            float64\n",
       "sumamnt_ma_rech30       float64\n",
       "medianamnt_ma_rech30    float64\n",
       "medianmarechprebal30    float64\n",
       "cnt_ma_rech90             int64\n",
       "fr_ma_rech90              int64\n",
       "sumamnt_ma_rech90         int64\n",
       "medianamnt_ma_rech90    float64\n",
       "medianmarechprebal90    float64\n",
       "cnt_da_rech30           float64\n",
       "fr_da_rech30            float64\n",
       "cnt_da_rech90             int64\n",
       "fr_da_rech90              int64\n",
       "cnt_loans30               int64\n",
       "amnt_loans30              int64\n",
       "maxamnt_loans30         float64\n",
       "medianamnt_loans30      float64\n",
       "cnt_loans90             float64\n",
       "amnt_loans90              int64\n",
       "maxamnt_loans90           int64\n",
       "medianamnt_loans90      float64\n",
       "payback30               float64\n",
       "payback90               float64\n",
       "pcircle                  object\n",
       "pdate                    object\n",
       "dtype: object"
      ]
     },
     "execution_count": 4,
     "metadata": {},
     "output_type": "execute_result"
    }
   ],
   "source": [
    "df.dtypes"
   ]
  },
  {
   "cell_type": "markdown",
   "metadata": {},
   "source": [
    "We have float type,int type and object type in all independent variables.\n",
    "and label is target variable where we know the customer has paid their amount or not."
   ]
  },
  {
   "cell_type": "code",
   "execution_count": 5,
   "metadata": {},
   "outputs": [
    {
     "data": {
      "text/plain": [
       "Index(['Unnamed: 0', 'label', 'msisdn', 'aon', 'daily_decr30', 'daily_decr90',\n",
       "       'rental30', 'rental90', 'last_rech_date_ma', 'last_rech_date_da',\n",
       "       'last_rech_amt_ma', 'cnt_ma_rech30', 'fr_ma_rech30',\n",
       "       'sumamnt_ma_rech30', 'medianamnt_ma_rech30', 'medianmarechprebal30',\n",
       "       'cnt_ma_rech90', 'fr_ma_rech90', 'sumamnt_ma_rech90',\n",
       "       'medianamnt_ma_rech90', 'medianmarechprebal90', 'cnt_da_rech30',\n",
       "       'fr_da_rech30', 'cnt_da_rech90', 'fr_da_rech90', 'cnt_loans30',\n",
       "       'amnt_loans30', 'maxamnt_loans30', 'medianamnt_loans30', 'cnt_loans90',\n",
       "       'amnt_loans90', 'maxamnt_loans90', 'medianamnt_loans90', 'payback30',\n",
       "       'payback90', 'pcircle', 'pdate'],\n",
       "      dtype='object')"
      ]
     },
     "execution_count": 5,
     "metadata": {},
     "output_type": "execute_result"
    }
   ],
   "source": [
    "df.columns"
   ]
  },
  {
   "cell_type": "code",
   "execution_count": 6,
   "metadata": {},
   "outputs": [
    {
     "name": "stdout",
     "output_type": "stream",
     "text": [
      "<class 'pandas.core.frame.DataFrame'>\n",
      "RangeIndex: 209593 entries, 0 to 209592\n",
      "Data columns (total 37 columns):\n",
      " #   Column                Non-Null Count   Dtype  \n",
      "---  ------                --------------   -----  \n",
      " 0   Unnamed: 0            209593 non-null  int64  \n",
      " 1   label                 209593 non-null  int64  \n",
      " 2   msisdn                209593 non-null  object \n",
      " 3   aon                   209593 non-null  float64\n",
      " 4   daily_decr30          209593 non-null  float64\n",
      " 5   daily_decr90          209593 non-null  float64\n",
      " 6   rental30              209593 non-null  float64\n",
      " 7   rental90              209593 non-null  float64\n",
      " 8   last_rech_date_ma     209593 non-null  float64\n",
      " 9   last_rech_date_da     209593 non-null  float64\n",
      " 10  last_rech_amt_ma      209593 non-null  int64  \n",
      " 11  cnt_ma_rech30         209593 non-null  int64  \n",
      " 12  fr_ma_rech30          209593 non-null  float64\n",
      " 13  sumamnt_ma_rech30     209593 non-null  float64\n",
      " 14  medianamnt_ma_rech30  209593 non-null  float64\n",
      " 15  medianmarechprebal30  209593 non-null  float64\n",
      " 16  cnt_ma_rech90         209593 non-null  int64  \n",
      " 17  fr_ma_rech90          209593 non-null  int64  \n",
      " 18  sumamnt_ma_rech90     209593 non-null  int64  \n",
      " 19  medianamnt_ma_rech90  209593 non-null  float64\n",
      " 20  medianmarechprebal90  209593 non-null  float64\n",
      " 21  cnt_da_rech30         209593 non-null  float64\n",
      " 22  fr_da_rech30          209593 non-null  float64\n",
      " 23  cnt_da_rech90         209593 non-null  int64  \n",
      " 24  fr_da_rech90          209593 non-null  int64  \n",
      " 25  cnt_loans30           209593 non-null  int64  \n",
      " 26  amnt_loans30          209593 non-null  int64  \n",
      " 27  maxamnt_loans30       209593 non-null  float64\n",
      " 28  medianamnt_loans30    209593 non-null  float64\n",
      " 29  cnt_loans90           209593 non-null  float64\n",
      " 30  amnt_loans90          209593 non-null  int64  \n",
      " 31  maxamnt_loans90       209593 non-null  int64  \n",
      " 32  medianamnt_loans90    209593 non-null  float64\n",
      " 33  payback30             209593 non-null  float64\n",
      " 34  payback90             209593 non-null  float64\n",
      " 35  pcircle               209593 non-null  object \n",
      " 36  pdate                 209593 non-null  object \n",
      "dtypes: float64(21), int64(13), object(3)\n",
      "memory usage: 59.2+ MB\n"
     ]
    }
   ],
   "source": [
    "df.info()"
   ]
  },
  {
   "cell_type": "code",
   "execution_count": 7,
   "metadata": {},
   "outputs": [
    {
     "data": {
      "text/plain": [
       "Unnamed: 0              0\n",
       "label                   0\n",
       "msisdn                  0\n",
       "aon                     0\n",
       "daily_decr30            0\n",
       "daily_decr90            0\n",
       "rental30                0\n",
       "rental90                0\n",
       "last_rech_date_ma       0\n",
       "last_rech_date_da       0\n",
       "last_rech_amt_ma        0\n",
       "cnt_ma_rech30           0\n",
       "fr_ma_rech30            0\n",
       "sumamnt_ma_rech30       0\n",
       "medianamnt_ma_rech30    0\n",
       "medianmarechprebal30    0\n",
       "cnt_ma_rech90           0\n",
       "fr_ma_rech90            0\n",
       "sumamnt_ma_rech90       0\n",
       "medianamnt_ma_rech90    0\n",
       "medianmarechprebal90    0\n",
       "cnt_da_rech30           0\n",
       "fr_da_rech30            0\n",
       "cnt_da_rech90           0\n",
       "fr_da_rech90            0\n",
       "cnt_loans30             0\n",
       "amnt_loans30            0\n",
       "maxamnt_loans30         0\n",
       "medianamnt_loans30      0\n",
       "cnt_loans90             0\n",
       "amnt_loans90            0\n",
       "maxamnt_loans90         0\n",
       "medianamnt_loans90      0\n",
       "payback30               0\n",
       "payback90               0\n",
       "pcircle                 0\n",
       "pdate                   0\n",
       "dtype: int64"
      ]
     },
     "execution_count": 7,
     "metadata": {},
     "output_type": "execute_result"
    }
   ],
   "source": [
    "df.isnull().sum()"
   ]
  },
  {
   "cell_type": "code",
   "execution_count": 8,
   "metadata": {},
   "outputs": [
    {
     "data": {
      "text/html": [
       "<div>\n",
       "<style scoped>\n",
       "    .dataframe tbody tr th:only-of-type {\n",
       "        vertical-align: middle;\n",
       "    }\n",
       "\n",
       "    .dataframe tbody tr th {\n",
       "        vertical-align: top;\n",
       "    }\n",
       "\n",
       "    .dataframe thead th {\n",
       "        text-align: right;\n",
       "    }\n",
       "</style>\n",
       "<table border=\"1\" class=\"dataframe\">\n",
       "  <thead>\n",
       "    <tr style=\"text-align: right;\">\n",
       "      <th></th>\n",
       "      <th>Unnamed: 0</th>\n",
       "      <th>label</th>\n",
       "      <th>msisdn</th>\n",
       "      <th>aon</th>\n",
       "      <th>daily_decr30</th>\n",
       "      <th>daily_decr90</th>\n",
       "      <th>rental30</th>\n",
       "      <th>rental90</th>\n",
       "      <th>last_rech_date_ma</th>\n",
       "      <th>last_rech_date_da</th>\n",
       "      <th>...</th>\n",
       "      <th>maxamnt_loans30</th>\n",
       "      <th>medianamnt_loans30</th>\n",
       "      <th>cnt_loans90</th>\n",
       "      <th>amnt_loans90</th>\n",
       "      <th>maxamnt_loans90</th>\n",
       "      <th>medianamnt_loans90</th>\n",
       "      <th>payback30</th>\n",
       "      <th>payback90</th>\n",
       "      <th>pcircle</th>\n",
       "      <th>pdate</th>\n",
       "    </tr>\n",
       "  </thead>\n",
       "  <tbody>\n",
       "    <tr>\n",
       "      <th>0</th>\n",
       "      <td>False</td>\n",
       "      <td>False</td>\n",
       "      <td>False</td>\n",
       "      <td>False</td>\n",
       "      <td>False</td>\n",
       "      <td>False</td>\n",
       "      <td>False</td>\n",
       "      <td>False</td>\n",
       "      <td>False</td>\n",
       "      <td>False</td>\n",
       "      <td>...</td>\n",
       "      <td>False</td>\n",
       "      <td>False</td>\n",
       "      <td>False</td>\n",
       "      <td>False</td>\n",
       "      <td>False</td>\n",
       "      <td>False</td>\n",
       "      <td>False</td>\n",
       "      <td>False</td>\n",
       "      <td>False</td>\n",
       "      <td>False</td>\n",
       "    </tr>\n",
       "    <tr>\n",
       "      <th>1</th>\n",
       "      <td>False</td>\n",
       "      <td>False</td>\n",
       "      <td>False</td>\n",
       "      <td>False</td>\n",
       "      <td>False</td>\n",
       "      <td>False</td>\n",
       "      <td>False</td>\n",
       "      <td>False</td>\n",
       "      <td>False</td>\n",
       "      <td>False</td>\n",
       "      <td>...</td>\n",
       "      <td>False</td>\n",
       "      <td>False</td>\n",
       "      <td>False</td>\n",
       "      <td>False</td>\n",
       "      <td>False</td>\n",
       "      <td>False</td>\n",
       "      <td>False</td>\n",
       "      <td>False</td>\n",
       "      <td>False</td>\n",
       "      <td>False</td>\n",
       "    </tr>\n",
       "    <tr>\n",
       "      <th>2</th>\n",
       "      <td>False</td>\n",
       "      <td>False</td>\n",
       "      <td>False</td>\n",
       "      <td>False</td>\n",
       "      <td>False</td>\n",
       "      <td>False</td>\n",
       "      <td>False</td>\n",
       "      <td>False</td>\n",
       "      <td>False</td>\n",
       "      <td>False</td>\n",
       "      <td>...</td>\n",
       "      <td>False</td>\n",
       "      <td>False</td>\n",
       "      <td>False</td>\n",
       "      <td>False</td>\n",
       "      <td>False</td>\n",
       "      <td>False</td>\n",
       "      <td>False</td>\n",
       "      <td>False</td>\n",
       "      <td>False</td>\n",
       "      <td>False</td>\n",
       "    </tr>\n",
       "    <tr>\n",
       "      <th>3</th>\n",
       "      <td>False</td>\n",
       "      <td>False</td>\n",
       "      <td>False</td>\n",
       "      <td>False</td>\n",
       "      <td>False</td>\n",
       "      <td>False</td>\n",
       "      <td>False</td>\n",
       "      <td>False</td>\n",
       "      <td>False</td>\n",
       "      <td>False</td>\n",
       "      <td>...</td>\n",
       "      <td>False</td>\n",
       "      <td>False</td>\n",
       "      <td>False</td>\n",
       "      <td>False</td>\n",
       "      <td>False</td>\n",
       "      <td>False</td>\n",
       "      <td>False</td>\n",
       "      <td>False</td>\n",
       "      <td>False</td>\n",
       "      <td>False</td>\n",
       "    </tr>\n",
       "    <tr>\n",
       "      <th>4</th>\n",
       "      <td>False</td>\n",
       "      <td>False</td>\n",
       "      <td>False</td>\n",
       "      <td>False</td>\n",
       "      <td>False</td>\n",
       "      <td>False</td>\n",
       "      <td>False</td>\n",
       "      <td>False</td>\n",
       "      <td>False</td>\n",
       "      <td>False</td>\n",
       "      <td>...</td>\n",
       "      <td>False</td>\n",
       "      <td>False</td>\n",
       "      <td>False</td>\n",
       "      <td>False</td>\n",
       "      <td>False</td>\n",
       "      <td>False</td>\n",
       "      <td>False</td>\n",
       "      <td>False</td>\n",
       "      <td>False</td>\n",
       "      <td>False</td>\n",
       "    </tr>\n",
       "    <tr>\n",
       "      <th>...</th>\n",
       "      <td>...</td>\n",
       "      <td>...</td>\n",
       "      <td>...</td>\n",
       "      <td>...</td>\n",
       "      <td>...</td>\n",
       "      <td>...</td>\n",
       "      <td>...</td>\n",
       "      <td>...</td>\n",
       "      <td>...</td>\n",
       "      <td>...</td>\n",
       "      <td>...</td>\n",
       "      <td>...</td>\n",
       "      <td>...</td>\n",
       "      <td>...</td>\n",
       "      <td>...</td>\n",
       "      <td>...</td>\n",
       "      <td>...</td>\n",
       "      <td>...</td>\n",
       "      <td>...</td>\n",
       "      <td>...</td>\n",
       "      <td>...</td>\n",
       "    </tr>\n",
       "    <tr>\n",
       "      <th>209588</th>\n",
       "      <td>False</td>\n",
       "      <td>False</td>\n",
       "      <td>False</td>\n",
       "      <td>False</td>\n",
       "      <td>False</td>\n",
       "      <td>False</td>\n",
       "      <td>False</td>\n",
       "      <td>False</td>\n",
       "      <td>False</td>\n",
       "      <td>False</td>\n",
       "      <td>...</td>\n",
       "      <td>False</td>\n",
       "      <td>False</td>\n",
       "      <td>False</td>\n",
       "      <td>False</td>\n",
       "      <td>False</td>\n",
       "      <td>False</td>\n",
       "      <td>False</td>\n",
       "      <td>False</td>\n",
       "      <td>False</td>\n",
       "      <td>False</td>\n",
       "    </tr>\n",
       "    <tr>\n",
       "      <th>209589</th>\n",
       "      <td>False</td>\n",
       "      <td>False</td>\n",
       "      <td>False</td>\n",
       "      <td>False</td>\n",
       "      <td>False</td>\n",
       "      <td>False</td>\n",
       "      <td>False</td>\n",
       "      <td>False</td>\n",
       "      <td>False</td>\n",
       "      <td>False</td>\n",
       "      <td>...</td>\n",
       "      <td>False</td>\n",
       "      <td>False</td>\n",
       "      <td>False</td>\n",
       "      <td>False</td>\n",
       "      <td>False</td>\n",
       "      <td>False</td>\n",
       "      <td>False</td>\n",
       "      <td>False</td>\n",
       "      <td>False</td>\n",
       "      <td>False</td>\n",
       "    </tr>\n",
       "    <tr>\n",
       "      <th>209590</th>\n",
       "      <td>False</td>\n",
       "      <td>False</td>\n",
       "      <td>False</td>\n",
       "      <td>False</td>\n",
       "      <td>False</td>\n",
       "      <td>False</td>\n",
       "      <td>False</td>\n",
       "      <td>False</td>\n",
       "      <td>False</td>\n",
       "      <td>False</td>\n",
       "      <td>...</td>\n",
       "      <td>False</td>\n",
       "      <td>False</td>\n",
       "      <td>False</td>\n",
       "      <td>False</td>\n",
       "      <td>False</td>\n",
       "      <td>False</td>\n",
       "      <td>False</td>\n",
       "      <td>False</td>\n",
       "      <td>False</td>\n",
       "      <td>False</td>\n",
       "    </tr>\n",
       "    <tr>\n",
       "      <th>209591</th>\n",
       "      <td>False</td>\n",
       "      <td>False</td>\n",
       "      <td>False</td>\n",
       "      <td>False</td>\n",
       "      <td>False</td>\n",
       "      <td>False</td>\n",
       "      <td>False</td>\n",
       "      <td>False</td>\n",
       "      <td>False</td>\n",
       "      <td>False</td>\n",
       "      <td>...</td>\n",
       "      <td>False</td>\n",
       "      <td>False</td>\n",
       "      <td>False</td>\n",
       "      <td>False</td>\n",
       "      <td>False</td>\n",
       "      <td>False</td>\n",
       "      <td>False</td>\n",
       "      <td>False</td>\n",
       "      <td>False</td>\n",
       "      <td>False</td>\n",
       "    </tr>\n",
       "    <tr>\n",
       "      <th>209592</th>\n",
       "      <td>False</td>\n",
       "      <td>False</td>\n",
       "      <td>False</td>\n",
       "      <td>False</td>\n",
       "      <td>False</td>\n",
       "      <td>False</td>\n",
       "      <td>False</td>\n",
       "      <td>False</td>\n",
       "      <td>False</td>\n",
       "      <td>False</td>\n",
       "      <td>...</td>\n",
       "      <td>False</td>\n",
       "      <td>False</td>\n",
       "      <td>False</td>\n",
       "      <td>False</td>\n",
       "      <td>False</td>\n",
       "      <td>False</td>\n",
       "      <td>False</td>\n",
       "      <td>False</td>\n",
       "      <td>False</td>\n",
       "      <td>False</td>\n",
       "    </tr>\n",
       "  </tbody>\n",
       "</table>\n",
       "<p>209593 rows × 37 columns</p>\n",
       "</div>"
      ],
      "text/plain": [
       "        Unnamed: 0  label  msisdn    aon  daily_decr30  daily_decr90  \\\n",
       "0            False  False   False  False         False         False   \n",
       "1            False  False   False  False         False         False   \n",
       "2            False  False   False  False         False         False   \n",
       "3            False  False   False  False         False         False   \n",
       "4            False  False   False  False         False         False   \n",
       "...            ...    ...     ...    ...           ...           ...   \n",
       "209588       False  False   False  False         False         False   \n",
       "209589       False  False   False  False         False         False   \n",
       "209590       False  False   False  False         False         False   \n",
       "209591       False  False   False  False         False         False   \n",
       "209592       False  False   False  False         False         False   \n",
       "\n",
       "        rental30  rental90  last_rech_date_ma  last_rech_date_da  ...  \\\n",
       "0          False     False              False              False  ...   \n",
       "1          False     False              False              False  ...   \n",
       "2          False     False              False              False  ...   \n",
       "3          False     False              False              False  ...   \n",
       "4          False     False              False              False  ...   \n",
       "...          ...       ...                ...                ...  ...   \n",
       "209588     False     False              False              False  ...   \n",
       "209589     False     False              False              False  ...   \n",
       "209590     False     False              False              False  ...   \n",
       "209591     False     False              False              False  ...   \n",
       "209592     False     False              False              False  ...   \n",
       "\n",
       "        maxamnt_loans30  medianamnt_loans30  cnt_loans90  amnt_loans90  \\\n",
       "0                 False               False        False         False   \n",
       "1                 False               False        False         False   \n",
       "2                 False               False        False         False   \n",
       "3                 False               False        False         False   \n",
       "4                 False               False        False         False   \n",
       "...                 ...                 ...          ...           ...   \n",
       "209588            False               False        False         False   \n",
       "209589            False               False        False         False   \n",
       "209590            False               False        False         False   \n",
       "209591            False               False        False         False   \n",
       "209592            False               False        False         False   \n",
       "\n",
       "        maxamnt_loans90  medianamnt_loans90  payback30  payback90  pcircle  \\\n",
       "0                 False               False      False      False    False   \n",
       "1                 False               False      False      False    False   \n",
       "2                 False               False      False      False    False   \n",
       "3                 False               False      False      False    False   \n",
       "4                 False               False      False      False    False   \n",
       "...                 ...                 ...        ...        ...      ...   \n",
       "209588            False               False      False      False    False   \n",
       "209589            False               False      False      False    False   \n",
       "209590            False               False      False      False    False   \n",
       "209591            False               False      False      False    False   \n",
       "209592            False               False      False      False    False   \n",
       "\n",
       "        pdate  \n",
       "0       False  \n",
       "1       False  \n",
       "2       False  \n",
       "3       False  \n",
       "4       False  \n",
       "...       ...  \n",
       "209588  False  \n",
       "209589  False  \n",
       "209590  False  \n",
       "209591  False  \n",
       "209592  False  \n",
       "\n",
       "[209593 rows x 37 columns]"
      ]
     },
     "execution_count": 8,
     "metadata": {},
     "output_type": "execute_result"
    }
   ],
   "source": [
    "df.isna()"
   ]
  },
  {
   "cell_type": "code",
   "execution_count": 9,
   "metadata": {},
   "outputs": [
    {
     "data": {
      "image/png": "[encoded data removed]",
      "text/plain": [
       "<Figure size 1152x432 with 2 Axes>"
      ]
     },
     "metadata": {
      "needs_background": "light"
     },
     "output_type": "display_data"
    }
   ],
   "source": [
    "plt.figure(figsize=[16,6])\n",
    "sns.heatmap(df.isnull())\n",
    "plt.title(\"Null Values\")\n",
    "plt.show()"
   ]
  },
  {
   "cell_type": "markdown",
   "metadata": {},
   "source": [
    "There is no null value in  this dataset."
   ]
  },
  {
   "cell_type": "code",
   "execution_count": 10,
   "metadata": {},
   "outputs": [
    {
     "data": {
      "text/plain": [
       "array([0, 1], dtype=int64)"
      ]
     },
     "execution_count": 10,
     "metadata": {},
     "output_type": "execute_result"
    }
   ],
   "source": [
    "df.label.unique()"
   ]
  },
  {
   "cell_type": "markdown",
   "metadata": {},
   "source": [
    "Label ranges from 0 to 1 .\n",
    "Label 1 indicates that the loan has been payed i.e.Non defaulter ;\n",
    "Label 0 indicates that the loan has been not payed i.e. defaulter."
   ]
  },
  {
   "cell_type": "code",
   "execution_count": 11,
   "metadata": {},
   "outputs": [
    {
     "data": {
      "text/plain": [
       "1    183431\n",
       "0     26162\n",
       "Name: label, dtype: int64"
      ]
     },
     "execution_count": 11,
     "metadata": {},
     "output_type": "execute_result"
    }
   ],
   "source": [
    "df.label.value_counts()"
   ]
  },
  {
   "cell_type": "markdown",
   "metadata": {},
   "source": [
    "Label1 has most values as compared to Label0."
   ]
  },
  {
   "cell_type": "markdown",
   "metadata": {},
   "source": [
    "# EDA"
   ]
  },
  {
   "cell_type": "markdown",
   "metadata": {},
   "source": [
    "univariate analysis"
   ]
  },
  {
   "cell_type": "code",
   "execution_count": 12,
   "metadata": {},
   "outputs": [
    {
     "data": {
      "image/png": "[encoded data removed]",
      "text/plain": [
       "<Figure size 432x288 with 1 Axes>"
      ]
     },
     "metadata": {
      "needs_background": "light"
     },
     "output_type": "display_data"
    }
   ],
   "source": [
    "sns.countplot(df[\"label\"]);"
   ]
  },
  {
   "cell_type": "markdown",
   "metadata": {},
   "source": [
    "There is class imbalance issue exists."
   ]
  },
  {
   "cell_type": "code",
   "execution_count": 13,
   "metadata": {},
   "outputs": [
    {
     "data": {
      "text/plain": [
       "<AxesSubplot:xlabel='label'>"
      ]
     },
     "execution_count": 13,
     "metadata": {},
     "output_type": "execute_result"
    },
    {
     "data": {
      "image/png": "[encoded data removed]",
      "text/plain": [
       "<Figure size 432x288 with 1 Axes>"
      ]
     },
     "metadata": {
      "needs_background": "light"
     },
     "output_type": "display_data"
    }
   ],
   "source": [
    "sns.boxplot(df['label'])"
   ]
  },
  {
   "cell_type": "code",
   "execution_count": 14,
   "metadata": {},
   "outputs": [
    {
     "data": {
      "text/plain": [
       "<AxesSubplot:xlabel='aon'>"
      ]
     },
     "execution_count": 14,
     "metadata": {},
     "output_type": "execute_result"
    },
    {
     "data": {
      "image/png": "[encoded data removed]",
      "text/plain": [
       "<Figure size 432x288 with 1 Axes>"
      ]
     },
     "metadata": {
      "needs_background": "light"
     },
     "output_type": "display_data"
    }
   ],
   "source": [
    "sns.boxplot(df['aon'])"
   ]
  },
  {
   "cell_type": "markdown",
   "metadata": {},
   "source": [
    "# Bivariate analysis"
   ]
  },
  {
   "cell_type": "code",
   "execution_count": 15,
   "metadata": {},
   "outputs": [
    {
     "name": "stderr",
     "output_type": "stream",
     "text": [
      "*c* argument looks like a single numeric RGB or RGBA sequence, which should be avoided as value-mapping will have precedence in case its length matches with *x* & *y*.  Please use the *color* keyword-argument or provide a 2-D array with a single row if you intend to specify the same RGB or RGBA value for all points.\n"
     ]
    },
    {
     "data": {
      "image/png": "[encoded data removed]",
      "text/plain": [
       "<Figure size 432x288 with 1 Axes>"
      ]
     },
     "metadata": {
      "needs_background": "light"
     },
     "output_type": "display_data"
    }
   ],
   "source": [
    "plt.scatter(df[\"daily_decr30\"],df[\"daily_decr90\"],alpha=0.8,c=(0,0,0),edgecolors='g')\n",
    "plt.title(\"daily_decr30 vs daily_decr90\")\n",
    "plt.show()"
   ]
  },
  {
   "cell_type": "markdown",
   "metadata": {},
   "source": [
    "In this dataset plotting the relationshps between daily_decr30 and daily_decr90."
   ]
  },
  {
   "cell_type": "code",
   "execution_count": 16,
   "metadata": {},
   "outputs": [
    {
     "name": "stderr",
     "output_type": "stream",
     "text": [
      "*c* argument looks like a single numeric RGB or RGBA sequence, which should be avoided as value-mapping will have precedence in case its length matches with *x* & *y*.  Please use the *color* keyword-argument or provide a 2-D array with a single row if you intend to specify the same RGB or RGBA value for all points.\n"
     ]
    },
    {
     "data": {
      "image/png": "[encoded data removed]",
      "text/plain": [
       "<Figure size 432x288 with 1 Axes>"
      ]
     },
     "metadata": {
      "needs_background": "light"
     },
     "output_type": "display_data"
    }
   ],
   "source": [
    "plt.scatter(df[\"rental30\"],df[\"rental90\"],alpha=0.8,c=(0,0,0),edgecolors='r')\n",
    "plt.title(\"rental30 vs rental90\")\n",
    "plt.show()"
   ]
  },
  {
   "cell_type": "markdown",
   "metadata": {},
   "source": [
    "In this dataset ploting the relationship between rental30 and rental90."
   ]
  },
  {
   "cell_type": "code",
   "execution_count": 17,
   "metadata": {},
   "outputs": [
    {
     "name": "stderr",
     "output_type": "stream",
     "text": [
      "*c* argument looks like a single numeric RGB or RGBA sequence, which should be avoided as value-mapping will have precedence in case its length matches with *x* & *y*.  Please use the *color* keyword-argument or provide a 2-D array with a single row if you intend to specify the same RGB or RGBA value for all points.\n"
     ]
    },
    {
     "data": {
      "image/png": "[encoded data removed]",
      "text/plain": [
       "<Figure size 432x288 with 1 Axes>"
      ]
     },
     "metadata": {
      "needs_background": "light"
     },
     "output_type": "display_data"
    }
   ],
   "source": [
    "plt.scatter(df[\"cnt_ma_rech30\"],df[\"fr_ma_rech30\"],alpha=0.8,c=(0,0,0),edgecolors='g')\n",
    "plt.title(\"cnt_ma_rech30 vs fr_ma_rech30\")\n",
    "plt.show()"
   ]
  },
  {
   "cell_type": "markdown",
   "metadata": {},
   "source": [
    "In this dataset ploting the relationship between cnt_ma_rech30 and fr_ma_rech30."
   ]
  },
  {
   "cell_type": "code",
   "execution_count": 18,
   "metadata": {},
   "outputs": [
    {
     "name": "stderr",
     "output_type": "stream",
     "text": [
      "*c* argument looks like a single numeric RGB or RGBA sequence, which should be avoided as value-mapping will have precedence in case its length matches with *x* & *y*.  Please use the *color* keyword-argument or provide a 2-D array with a single row if you intend to specify the same RGB or RGBA value for all points.\n"
     ]
    },
    {
     "data": {
      "image/png": "[encoded data removed]",
      "text/plain": [
       "<Figure size 432x288 with 1 Axes>"
      ]
     },
     "metadata": {
      "needs_background": "light"
     },
     "output_type": "display_data"
    }
   ],
   "source": [
    "plt.scatter(df[\"last_rech_date_ma\"],df[\"last_rech_date_da\"],alpha=0.8,c=(0,0,0),edgecolors='g')\n",
    "plt.title(\"last_rech_date_ma vs last_rech_date_ma\")\n",
    "plt.show()"
   ]
  },
  {
   "cell_type": "markdown",
   "metadata": {},
   "source": [
    "In this dataset ploting the relationships between last_rech_date_ma and last_rech_date_da."
   ]
  },
  {
   "cell_type": "markdown",
   "metadata": {},
   "source": [
    "# checking correlation"
   ]
  },
  {
   "cell_type": "code",
   "execution_count": 19,
   "metadata": {},
   "outputs": [],
   "source": [
    "cor=df.corr()"
   ]
  },
  {
   "cell_type": "code",
   "execution_count": 20,
   "metadata": {},
   "outputs": [
    {
     "data": {
      "text/html": [
       "<div>\n",
       "<style scoped>\n",
       "    .dataframe tbody tr th:only-of-type {\n",
       "        vertical-align: middle;\n",
       "    }\n",
       "\n",
       "    .dataframe tbody tr th {\n",
       "        vertical-align: top;\n",
       "    }\n",
       "\n",
       "    .dataframe thead th {\n",
       "        text-align: right;\n",
       "    }\n",
       "</style>\n",
       "<table border=\"1\" class=\"dataframe\">\n",
       "  <thead>\n",
       "    <tr style=\"text-align: right;\">\n",
       "      <th></th>\n",
       "      <th>Unnamed: 0</th>\n",
       "      <th>label</th>\n",
       "      <th>aon</th>\n",
       "      <th>daily_decr30</th>\n",
       "      <th>daily_decr90</th>\n",
       "      <th>rental30</th>\n",
       "      <th>rental90</th>\n",
       "      <th>last_rech_date_ma</th>\n",
       "      <th>last_rech_date_da</th>\n",
       "      <th>last_rech_amt_ma</th>\n",
       "      <th>...</th>\n",
       "      <th>cnt_loans30</th>\n",
       "      <th>amnt_loans30</th>\n",
       "      <th>maxamnt_loans30</th>\n",
       "      <th>medianamnt_loans30</th>\n",
       "      <th>cnt_loans90</th>\n",
       "      <th>amnt_loans90</th>\n",
       "      <th>maxamnt_loans90</th>\n",
       "      <th>medianamnt_loans90</th>\n",
       "      <th>payback30</th>\n",
       "      <th>payback90</th>\n",
       "    </tr>\n",
       "  </thead>\n",
       "  <tbody>\n",
       "    <tr>\n",
       "      <th>Unnamed: 0</th>\n",
       "      <td>1.000000</td>\n",
       "      <td>0.000403</td>\n",
       "      <td>-0.002048</td>\n",
       "      <td>0.002739</td>\n",
       "      <td>0.003077</td>\n",
       "      <td>-0.003906</td>\n",
       "      <td>-0.003459</td>\n",
       "      <td>-0.001853</td>\n",
       "      <td>-0.001133</td>\n",
       "      <td>-0.001064</td>\n",
       "      <td>...</td>\n",
       "      <td>0.001725</td>\n",
       "      <td>0.002387</td>\n",
       "      <td>0.000698</td>\n",
       "      <td>-0.002005</td>\n",
       "      <td>0.002241</td>\n",
       "      <td>0.000781</td>\n",
       "      <td>0.001742</td>\n",
       "      <td>-0.002615</td>\n",
       "      <td>-0.000040</td>\n",
       "      <td>0.002411</td>\n",
       "    </tr>\n",
       "    <tr>\n",
       "      <th>label</th>\n",
       "      <td>0.000403</td>\n",
       "      <td>1.000000</td>\n",
       "      <td>-0.003785</td>\n",
       "      <td>0.168298</td>\n",
       "      <td>0.166150</td>\n",
       "      <td>0.058085</td>\n",
       "      <td>0.075521</td>\n",
       "      <td>0.003728</td>\n",
       "      <td>0.001711</td>\n",
       "      <td>0.131804</td>\n",
       "      <td>...</td>\n",
       "      <td>0.196283</td>\n",
       "      <td>0.197272</td>\n",
       "      <td>0.000248</td>\n",
       "      <td>0.044589</td>\n",
       "      <td>0.004733</td>\n",
       "      <td>0.199788</td>\n",
       "      <td>0.084144</td>\n",
       "      <td>0.035747</td>\n",
       "      <td>0.048336</td>\n",
       "      <td>0.049183</td>\n",
       "    </tr>\n",
       "    <tr>\n",
       "      <th>aon</th>\n",
       "      <td>-0.002048</td>\n",
       "      <td>-0.003785</td>\n",
       "      <td>1.000000</td>\n",
       "      <td>0.001104</td>\n",
       "      <td>0.000374</td>\n",
       "      <td>-0.000960</td>\n",
       "      <td>-0.000790</td>\n",
       "      <td>0.001692</td>\n",
       "      <td>-0.001693</td>\n",
       "      <td>0.004256</td>\n",
       "      <td>...</td>\n",
       "      <td>-0.001826</td>\n",
       "      <td>-0.001726</td>\n",
       "      <td>-0.002764</td>\n",
       "      <td>0.004664</td>\n",
       "      <td>-0.000611</td>\n",
       "      <td>-0.002319</td>\n",
       "      <td>-0.001191</td>\n",
       "      <td>0.002771</td>\n",
       "      <td>0.001940</td>\n",
       "      <td>0.002203</td>\n",
       "    </tr>\n",
       "    <tr>\n",
       "      <th>daily_decr30</th>\n",
       "      <td>0.002739</td>\n",
       "      <td>0.168298</td>\n",
       "      <td>0.001104</td>\n",
       "      <td>1.000000</td>\n",
       "      <td>0.977704</td>\n",
       "      <td>0.442066</td>\n",
       "      <td>0.458977</td>\n",
       "      <td>0.000487</td>\n",
       "      <td>-0.001636</td>\n",
       "      <td>0.275837</td>\n",
       "      <td>...</td>\n",
       "      <td>0.366116</td>\n",
       "      <td>0.471492</td>\n",
       "      <td>-0.000028</td>\n",
       "      <td>-0.011610</td>\n",
       "      <td>0.008962</td>\n",
       "      <td>0.563496</td>\n",
       "      <td>0.400199</td>\n",
       "      <td>-0.037305</td>\n",
       "      <td>0.026915</td>\n",
       "      <td>0.047175</td>\n",
       "    </tr>\n",
       "    <tr>\n",
       "      <th>daily_decr90</th>\n",
       "      <td>0.003077</td>\n",
       "      <td>0.166150</td>\n",
       "      <td>0.000374</td>\n",
       "      <td>0.977704</td>\n",
       "      <td>1.000000</td>\n",
       "      <td>0.434685</td>\n",
       "      <td>0.471730</td>\n",
       "      <td>0.000908</td>\n",
       "      <td>-0.001886</td>\n",
       "      <td>0.264131</td>\n",
       "      <td>...</td>\n",
       "      <td>0.340387</td>\n",
       "      <td>0.447869</td>\n",
       "      <td>0.000025</td>\n",
       "      <td>-0.005591</td>\n",
       "      <td>0.009446</td>\n",
       "      <td>0.567204</td>\n",
       "      <td>0.397251</td>\n",
       "      <td>-0.034686</td>\n",
       "      <td>0.019400</td>\n",
       "      <td>0.040800</td>\n",
       "    </tr>\n",
       "    <tr>\n",
       "      <th>rental30</th>\n",
       "      <td>-0.003906</td>\n",
       "      <td>0.058085</td>\n",
       "      <td>-0.000960</td>\n",
       "      <td>0.442066</td>\n",
       "      <td>0.434685</td>\n",
       "      <td>1.000000</td>\n",
       "      <td>0.955237</td>\n",
       "      <td>-0.001095</td>\n",
       "      <td>0.003261</td>\n",
       "      <td>0.127271</td>\n",
       "      <td>...</td>\n",
       "      <td>0.180203</td>\n",
       "      <td>0.233453</td>\n",
       "      <td>-0.000864</td>\n",
       "      <td>-0.016482</td>\n",
       "      <td>0.004012</td>\n",
       "      <td>0.298943</td>\n",
       "      <td>0.234211</td>\n",
       "      <td>-0.035489</td>\n",
       "      <td>0.072974</td>\n",
       "      <td>0.095147</td>\n",
       "    </tr>\n",
       "    <tr>\n",
       "      <th>rental90</th>\n",
       "      <td>-0.003459</td>\n",
       "      <td>0.075521</td>\n",
       "      <td>-0.000790</td>\n",
       "      <td>0.458977</td>\n",
       "      <td>0.471730</td>\n",
       "      <td>0.955237</td>\n",
       "      <td>1.000000</td>\n",
       "      <td>-0.001688</td>\n",
       "      <td>0.002794</td>\n",
       "      <td>0.121416</td>\n",
       "      <td>...</td>\n",
       "      <td>0.171595</td>\n",
       "      <td>0.231906</td>\n",
       "      <td>-0.001411</td>\n",
       "      <td>-0.009467</td>\n",
       "      <td>0.005141</td>\n",
       "      <td>0.327436</td>\n",
       "      <td>0.251029</td>\n",
       "      <td>-0.034122</td>\n",
       "      <td>0.067110</td>\n",
       "      <td>0.099501</td>\n",
       "    </tr>\n",
       "    <tr>\n",
       "      <th>last_rech_date_ma</th>\n",
       "      <td>-0.001853</td>\n",
       "      <td>0.003728</td>\n",
       "      <td>0.001692</td>\n",
       "      <td>0.000487</td>\n",
       "      <td>0.000908</td>\n",
       "      <td>-0.001095</td>\n",
       "      <td>-0.001688</td>\n",
       "      <td>1.000000</td>\n",
       "      <td>0.001790</td>\n",
       "      <td>-0.000147</td>\n",
       "      <td>...</td>\n",
       "      <td>0.001193</td>\n",
       "      <td>0.000903</td>\n",
       "      <td>0.000928</td>\n",
       "      <td>0.001835</td>\n",
       "      <td>-0.000225</td>\n",
       "      <td>0.000870</td>\n",
       "      <td>-0.001123</td>\n",
       "      <td>0.002771</td>\n",
       "      <td>-0.002233</td>\n",
       "      <td>-0.001583</td>\n",
       "    </tr>\n",
       "    <tr>\n",
       "      <th>last_rech_date_da</th>\n",
       "      <td>-0.001133</td>\n",
       "      <td>0.001711</td>\n",
       "      <td>-0.001693</td>\n",
       "      <td>-0.001636</td>\n",
       "      <td>-0.001886</td>\n",
       "      <td>0.003261</td>\n",
       "      <td>0.002794</td>\n",
       "      <td>0.001790</td>\n",
       "      <td>1.000000</td>\n",
       "      <td>-0.000149</td>\n",
       "      <td>...</td>\n",
       "      <td>0.000380</td>\n",
       "      <td>0.000536</td>\n",
       "      <td>0.000503</td>\n",
       "      <td>0.000061</td>\n",
       "      <td>-0.000972</td>\n",
       "      <td>0.000519</td>\n",
       "      <td>0.001524</td>\n",
       "      <td>-0.002239</td>\n",
       "      <td>0.000077</td>\n",
       "      <td>0.000417</td>\n",
       "    </tr>\n",
       "    <tr>\n",
       "      <th>last_rech_amt_ma</th>\n",
       "      <td>-0.001064</td>\n",
       "      <td>0.131804</td>\n",
       "      <td>0.004256</td>\n",
       "      <td>0.275837</td>\n",
       "      <td>0.264131</td>\n",
       "      <td>0.127271</td>\n",
       "      <td>0.121416</td>\n",
       "      <td>-0.000147</td>\n",
       "      <td>-0.000149</td>\n",
       "      <td>1.000000</td>\n",
       "      <td>...</td>\n",
       "      <td>-0.027612</td>\n",
       "      <td>0.008502</td>\n",
       "      <td>0.001000</td>\n",
       "      <td>0.028370</td>\n",
       "      <td>0.000093</td>\n",
       "      <td>0.014067</td>\n",
       "      <td>0.148460</td>\n",
       "      <td>0.021004</td>\n",
       "      <td>-0.027369</td>\n",
       "      <td>-0.014260</td>\n",
       "    </tr>\n",
       "    <tr>\n",
       "      <th>cnt_ma_rech30</th>\n",
       "      <td>0.003320</td>\n",
       "      <td>0.237331</td>\n",
       "      <td>-0.003148</td>\n",
       "      <td>0.451385</td>\n",
       "      <td>0.426707</td>\n",
       "      <td>0.233343</td>\n",
       "      <td>0.230260</td>\n",
       "      <td>0.004311</td>\n",
       "      <td>0.001549</td>\n",
       "      <td>-0.002662</td>\n",
       "      <td>...</td>\n",
       "      <td>0.765802</td>\n",
       "      <td>0.752296</td>\n",
       "      <td>0.000109</td>\n",
       "      <td>-0.067011</td>\n",
       "      <td>0.014703</td>\n",
       "      <td>0.685257</td>\n",
       "      <td>0.174104</td>\n",
       "      <td>-0.071451</td>\n",
       "      <td>0.043617</td>\n",
       "      <td>0.017362</td>\n",
       "    </tr>\n",
       "    <tr>\n",
       "      <th>fr_ma_rech30</th>\n",
       "      <td>0.003181</td>\n",
       "      <td>0.001330</td>\n",
       "      <td>-0.001163</td>\n",
       "      <td>-0.000577</td>\n",
       "      <td>-0.000343</td>\n",
       "      <td>-0.001219</td>\n",
       "      <td>-0.000503</td>\n",
       "      <td>-0.001629</td>\n",
       "      <td>0.001158</td>\n",
       "      <td>0.002876</td>\n",
       "      <td>...</td>\n",
       "      <td>0.002666</td>\n",
       "      <td>0.002470</td>\n",
       "      <td>-0.001100</td>\n",
       "      <td>-0.000331</td>\n",
       "      <td>0.003368</td>\n",
       "      <td>0.002634</td>\n",
       "      <td>-0.001890</td>\n",
       "      <td>-0.001292</td>\n",
       "      <td>0.001455</td>\n",
       "      <td>0.000998</td>\n",
       "    </tr>\n",
       "    <tr>\n",
       "      <th>sumamnt_ma_rech30</th>\n",
       "      <td>0.000123</td>\n",
       "      <td>0.202828</td>\n",
       "      <td>0.000707</td>\n",
       "      <td>0.636536</td>\n",
       "      <td>0.603886</td>\n",
       "      <td>0.272649</td>\n",
       "      <td>0.259709</td>\n",
       "      <td>0.002105</td>\n",
       "      <td>0.000046</td>\n",
       "      <td>0.440821</td>\n",
       "      <td>...</td>\n",
       "      <td>0.491864</td>\n",
       "      <td>0.531079</td>\n",
       "      <td>0.001633</td>\n",
       "      <td>-0.034460</td>\n",
       "      <td>0.009419</td>\n",
       "      <td>0.484761</td>\n",
       "      <td>0.257705</td>\n",
       "      <td>-0.042244</td>\n",
       "      <td>0.000112</td>\n",
       "      <td>-0.012596</td>\n",
       "    </tr>\n",
       "    <tr>\n",
       "      <th>medianamnt_ma_rech30</th>\n",
       "      <td>-0.001371</td>\n",
       "      <td>0.141490</td>\n",
       "      <td>0.004306</td>\n",
       "      <td>0.295356</td>\n",
       "      <td>0.282960</td>\n",
       "      <td>0.129853</td>\n",
       "      <td>0.120242</td>\n",
       "      <td>-0.001358</td>\n",
       "      <td>0.001037</td>\n",
       "      <td>0.794646</td>\n",
       "      <td>...</td>\n",
       "      <td>-0.029789</td>\n",
       "      <td>0.007125</td>\n",
       "      <td>0.001985</td>\n",
       "      <td>0.032477</td>\n",
       "      <td>-0.001143</td>\n",
       "      <td>0.014546</td>\n",
       "      <td>0.159613</td>\n",
       "      <td>0.022692</td>\n",
       "      <td>-0.018398</td>\n",
       "      <td>-0.002861</td>\n",
       "    </tr>\n",
       "    <tr>\n",
       "      <th>medianmarechprebal30</th>\n",
       "      <td>0.001258</td>\n",
       "      <td>-0.004829</td>\n",
       "      <td>0.003930</td>\n",
       "      <td>-0.001153</td>\n",
       "      <td>-0.000746</td>\n",
       "      <td>-0.001415</td>\n",
       "      <td>-0.001237</td>\n",
       "      <td>0.004071</td>\n",
       "      <td>0.002849</td>\n",
       "      <td>-0.002342</td>\n",
       "      <td>...</td>\n",
       "      <td>-0.000211</td>\n",
       "      <td>0.000134</td>\n",
       "      <td>-0.002176</td>\n",
       "      <td>-0.002289</td>\n",
       "      <td>0.001342</td>\n",
       "      <td>0.000736</td>\n",
       "      <td>-0.002141</td>\n",
       "      <td>-0.001927</td>\n",
       "      <td>0.001516</td>\n",
       "      <td>0.001811</td>\n",
       "    </tr>\n",
       "    <tr>\n",
       "      <th>cnt_ma_rech90</th>\n",
       "      <td>0.002329</td>\n",
       "      <td>0.236392</td>\n",
       "      <td>-0.002725</td>\n",
       "      <td>0.587338</td>\n",
       "      <td>0.593069</td>\n",
       "      <td>0.312118</td>\n",
       "      <td>0.345293</td>\n",
       "      <td>0.004263</td>\n",
       "      <td>0.001272</td>\n",
       "      <td>0.016707</td>\n",
       "      <td>...</td>\n",
       "      <td>0.689002</td>\n",
       "      <td>0.707558</td>\n",
       "      <td>-0.000573</td>\n",
       "      <td>-0.053637</td>\n",
       "      <td>0.015754</td>\n",
       "      <td>0.783419</td>\n",
       "      <td>0.244602</td>\n",
       "      <td>-0.072481</td>\n",
       "      <td>0.011943</td>\n",
       "      <td>-0.003141</td>\n",
       "    </tr>\n",
       "    <tr>\n",
       "      <th>fr_ma_rech90</th>\n",
       "      <td>-0.000249</td>\n",
       "      <td>0.084385</td>\n",
       "      <td>0.004401</td>\n",
       "      <td>-0.078299</td>\n",
       "      <td>-0.079530</td>\n",
       "      <td>-0.033530</td>\n",
       "      <td>-0.036524</td>\n",
       "      <td>0.001414</td>\n",
       "      <td>0.000798</td>\n",
       "      <td>0.106267</td>\n",
       "      <td>...</td>\n",
       "      <td>-0.119083</td>\n",
       "      <td>-0.123664</td>\n",
       "      <td>0.001635</td>\n",
       "      <td>0.020626</td>\n",
       "      <td>-0.002756</td>\n",
       "      <td>-0.132035</td>\n",
       "      <td>-0.045780</td>\n",
       "      <td>0.016964</td>\n",
       "      <td>0.036817</td>\n",
       "      <td>0.077529</td>\n",
       "    </tr>\n",
       "    <tr>\n",
       "      <th>sumamnt_ma_rech90</th>\n",
       "      <td>0.000523</td>\n",
       "      <td>0.205793</td>\n",
       "      <td>0.001011</td>\n",
       "      <td>0.762981</td>\n",
       "      <td>0.768817</td>\n",
       "      <td>0.342306</td>\n",
       "      <td>0.360601</td>\n",
       "      <td>0.002243</td>\n",
       "      <td>-0.000414</td>\n",
       "      <td>0.418735</td>\n",
       "      <td>...</td>\n",
       "      <td>0.442766</td>\n",
       "      <td>0.508599</td>\n",
       "      <td>0.001152</td>\n",
       "      <td>-0.022133</td>\n",
       "      <td>0.011306</td>\n",
       "      <td>0.562609</td>\n",
       "      <td>0.321739</td>\n",
       "      <td>-0.042386</td>\n",
       "      <td>-0.026409</td>\n",
       "      <td>-0.029997</td>\n",
       "    </tr>\n",
       "    <tr>\n",
       "      <th>medianamnt_ma_rech90</th>\n",
       "      <td>-0.000298</td>\n",
       "      <td>0.120855</td>\n",
       "      <td>0.004909</td>\n",
       "      <td>0.257847</td>\n",
       "      <td>0.250518</td>\n",
       "      <td>0.110356</td>\n",
       "      <td>0.103151</td>\n",
       "      <td>-0.000726</td>\n",
       "      <td>0.000219</td>\n",
       "      <td>0.818734</td>\n",
       "      <td>...</td>\n",
       "      <td>-0.060766</td>\n",
       "      <td>-0.025307</td>\n",
       "      <td>0.001016</td>\n",
       "      <td>0.036475</td>\n",
       "      <td>-0.000123</td>\n",
       "      <td>-0.023450</td>\n",
       "      <td>0.134139</td>\n",
       "      <td>0.031696</td>\n",
       "      <td>-0.035640</td>\n",
       "      <td>-0.023022</td>\n",
       "    </tr>\n",
       "    <tr>\n",
       "      <th>medianmarechprebal90</th>\n",
       "      <td>-0.001947</td>\n",
       "      <td>0.039300</td>\n",
       "      <td>-0.000859</td>\n",
       "      <td>0.037495</td>\n",
       "      <td>0.036382</td>\n",
       "      <td>0.027170</td>\n",
       "      <td>0.029547</td>\n",
       "      <td>-0.001086</td>\n",
       "      <td>0.004158</td>\n",
       "      <td>0.124646</td>\n",
       "      <td>...</td>\n",
       "      <td>-0.043381</td>\n",
       "      <td>-0.033878</td>\n",
       "      <td>0.001884</td>\n",
       "      <td>0.030534</td>\n",
       "      <td>-0.000926</td>\n",
       "      <td>-0.036412</td>\n",
       "      <td>0.027130</td>\n",
       "      <td>0.032453</td>\n",
       "      <td>-0.031760</td>\n",
       "      <td>-0.031210</td>\n",
       "    </tr>\n",
       "    <tr>\n",
       "      <th>cnt_da_rech30</th>\n",
       "      <td>0.000888</td>\n",
       "      <td>0.003827</td>\n",
       "      <td>0.001564</td>\n",
       "      <td>0.000700</td>\n",
       "      <td>0.000661</td>\n",
       "      <td>-0.001105</td>\n",
       "      <td>-0.000548</td>\n",
       "      <td>-0.003467</td>\n",
       "      <td>-0.003628</td>\n",
       "      <td>-0.001837</td>\n",
       "      <td>...</td>\n",
       "      <td>0.001852</td>\n",
       "      <td>0.001487</td>\n",
       "      <td>-0.000394</td>\n",
       "      <td>0.000049</td>\n",
       "      <td>-0.001986</td>\n",
       "      <td>0.003369</td>\n",
       "      <td>-0.000647</td>\n",
       "      <td>-0.001365</td>\n",
       "      <td>-0.000471</td>\n",
       "      <td>0.000382</td>\n",
       "    </tr>\n",
       "    <tr>\n",
       "      <th>fr_da_rech30</th>\n",
       "      <td>-0.002504</td>\n",
       "      <td>-0.000027</td>\n",
       "      <td>0.000892</td>\n",
       "      <td>-0.001499</td>\n",
       "      <td>-0.001570</td>\n",
       "      <td>-0.002558</td>\n",
       "      <td>-0.002345</td>\n",
       "      <td>-0.003626</td>\n",
       "      <td>-0.000074</td>\n",
       "      <td>-0.003230</td>\n",
       "      <td>...</td>\n",
       "      <td>-0.003212</td>\n",
       "      <td>-0.003395</td>\n",
       "      <td>-0.001070</td>\n",
       "      <td>-0.001141</td>\n",
       "      <td>-0.001623</td>\n",
       "      <td>-0.001593</td>\n",
       "      <td>-0.001069</td>\n",
       "      <td>-0.001623</td>\n",
       "      <td>0.001709</td>\n",
       "      <td>-0.000725</td>\n",
       "    </tr>\n",
       "    <tr>\n",
       "      <th>cnt_da_rech90</th>\n",
       "      <td>-0.001324</td>\n",
       "      <td>0.002999</td>\n",
       "      <td>0.001121</td>\n",
       "      <td>0.038814</td>\n",
       "      <td>0.031155</td>\n",
       "      <td>0.072255</td>\n",
       "      <td>0.056282</td>\n",
       "      <td>-0.003538</td>\n",
       "      <td>-0.001859</td>\n",
       "      <td>0.014779</td>\n",
       "      <td>...</td>\n",
       "      <td>0.017976</td>\n",
       "      <td>0.026249</td>\n",
       "      <td>-0.001855</td>\n",
       "      <td>-0.003351</td>\n",
       "      <td>0.000907</td>\n",
       "      <td>0.020909</td>\n",
       "      <td>0.038019</td>\n",
       "      <td>-0.003094</td>\n",
       "      <td>0.013430</td>\n",
       "      <td>0.024046</td>\n",
       "    </tr>\n",
       "    <tr>\n",
       "      <th>fr_da_rech90</th>\n",
       "      <td>-0.002827</td>\n",
       "      <td>-0.005418</td>\n",
       "      <td>0.005395</td>\n",
       "      <td>0.020673</td>\n",
       "      <td>0.016437</td>\n",
       "      <td>0.046761</td>\n",
       "      <td>0.036886</td>\n",
       "      <td>-0.002395</td>\n",
       "      <td>-0.000203</td>\n",
       "      <td>0.016042</td>\n",
       "      <td>...</td>\n",
       "      <td>0.010021</td>\n",
       "      <td>0.014935</td>\n",
       "      <td>-0.000754</td>\n",
       "      <td>-0.002234</td>\n",
       "      <td>0.001993</td>\n",
       "      <td>0.011501</td>\n",
       "      <td>0.021785</td>\n",
       "      <td>-0.000949</td>\n",
       "      <td>0.000354</td>\n",
       "      <td>0.001226</td>\n",
       "    </tr>\n",
       "    <tr>\n",
       "      <th>cnt_loans30</th>\n",
       "      <td>0.001725</td>\n",
       "      <td>0.196283</td>\n",
       "      <td>-0.001826</td>\n",
       "      <td>0.366116</td>\n",
       "      <td>0.340387</td>\n",
       "      <td>0.180203</td>\n",
       "      <td>0.171595</td>\n",
       "      <td>0.001193</td>\n",
       "      <td>0.000380</td>\n",
       "      <td>-0.027612</td>\n",
       "      <td>...</td>\n",
       "      <td>1.000000</td>\n",
       "      <td>0.957742</td>\n",
       "      <td>0.000251</td>\n",
       "      <td>-0.093146</td>\n",
       "      <td>0.015595</td>\n",
       "      <td>0.852905</td>\n",
       "      <td>0.143590</td>\n",
       "      <td>-0.097871</td>\n",
       "      <td>0.067842</td>\n",
       "      <td>0.033369</td>\n",
       "    </tr>\n",
       "    <tr>\n",
       "      <th>amnt_loans30</th>\n",
       "      <td>0.002387</td>\n",
       "      <td>0.197272</td>\n",
       "      <td>-0.001726</td>\n",
       "      <td>0.471492</td>\n",
       "      <td>0.447869</td>\n",
       "      <td>0.233453</td>\n",
       "      <td>0.231906</td>\n",
       "      <td>0.000903</td>\n",
       "      <td>0.000536</td>\n",
       "      <td>0.008502</td>\n",
       "      <td>...</td>\n",
       "      <td>0.957742</td>\n",
       "      <td>1.000000</td>\n",
       "      <td>-0.000073</td>\n",
       "      <td>-0.078531</td>\n",
       "      <td>0.014625</td>\n",
       "      <td>0.897961</td>\n",
       "      <td>0.329170</td>\n",
       "      <td>-0.087989</td>\n",
       "      <td>0.060425</td>\n",
       "      <td>0.030901</td>\n",
       "    </tr>\n",
       "    <tr>\n",
       "      <th>maxamnt_loans30</th>\n",
       "      <td>0.000698</td>\n",
       "      <td>0.000248</td>\n",
       "      <td>-0.002764</td>\n",
       "      <td>-0.000028</td>\n",
       "      <td>0.000025</td>\n",
       "      <td>-0.000864</td>\n",
       "      <td>-0.001411</td>\n",
       "      <td>0.000928</td>\n",
       "      <td>0.000503</td>\n",
       "      <td>0.001000</td>\n",
       "      <td>...</td>\n",
       "      <td>0.000251</td>\n",
       "      <td>-0.000073</td>\n",
       "      <td>1.000000</td>\n",
       "      <td>0.007782</td>\n",
       "      <td>0.003987</td>\n",
       "      <td>-0.001850</td>\n",
       "      <td>-0.000487</td>\n",
       "      <td>0.009330</td>\n",
       "      <td>-0.001512</td>\n",
       "      <td>-0.000915</td>\n",
       "    </tr>\n",
       "    <tr>\n",
       "      <th>medianamnt_loans30</th>\n",
       "      <td>-0.002005</td>\n",
       "      <td>0.044589</td>\n",
       "      <td>0.004664</td>\n",
       "      <td>-0.011610</td>\n",
       "      <td>-0.005591</td>\n",
       "      <td>-0.016482</td>\n",
       "      <td>-0.009467</td>\n",
       "      <td>0.001835</td>\n",
       "      <td>0.000061</td>\n",
       "      <td>0.028370</td>\n",
       "      <td>...</td>\n",
       "      <td>-0.093146</td>\n",
       "      <td>-0.078531</td>\n",
       "      <td>0.007782</td>\n",
       "      <td>1.000000</td>\n",
       "      <td>-0.003670</td>\n",
       "      <td>-0.067580</td>\n",
       "      <td>0.058378</td>\n",
       "      <td>0.911604</td>\n",
       "      <td>-0.006007</td>\n",
       "      <td>0.003178</td>\n",
       "    </tr>\n",
       "    <tr>\n",
       "      <th>cnt_loans90</th>\n",
       "      <td>0.002241</td>\n",
       "      <td>0.004733</td>\n",
       "      <td>-0.000611</td>\n",
       "      <td>0.008962</td>\n",
       "      <td>0.009446</td>\n",
       "      <td>0.004012</td>\n",
       "      <td>0.005141</td>\n",
       "      <td>-0.000225</td>\n",
       "      <td>-0.000972</td>\n",
       "      <td>0.000093</td>\n",
       "      <td>...</td>\n",
       "      <td>0.015595</td>\n",
       "      <td>0.014625</td>\n",
       "      <td>0.003987</td>\n",
       "      <td>-0.003670</td>\n",
       "      <td>1.000000</td>\n",
       "      <td>0.017697</td>\n",
       "      <td>0.001450</td>\n",
       "      <td>-0.002571</td>\n",
       "      <td>0.000587</td>\n",
       "      <td>-0.000476</td>\n",
       "    </tr>\n",
       "    <tr>\n",
       "      <th>amnt_loans90</th>\n",
       "      <td>0.000781</td>\n",
       "      <td>0.199788</td>\n",
       "      <td>-0.002319</td>\n",
       "      <td>0.563496</td>\n",
       "      <td>0.567204</td>\n",
       "      <td>0.298943</td>\n",
       "      <td>0.327436</td>\n",
       "      <td>0.000870</td>\n",
       "      <td>0.000519</td>\n",
       "      <td>0.014067</td>\n",
       "      <td>...</td>\n",
       "      <td>0.852905</td>\n",
       "      <td>0.897961</td>\n",
       "      <td>-0.001850</td>\n",
       "      <td>-0.067580</td>\n",
       "      <td>0.017697</td>\n",
       "      <td>1.000000</td>\n",
       "      <td>0.323417</td>\n",
       "      <td>-0.095160</td>\n",
       "      <td>0.052142</td>\n",
       "      <td>0.029653</td>\n",
       "    </tr>\n",
       "    <tr>\n",
       "      <th>maxamnt_loans90</th>\n",
       "      <td>0.001742</td>\n",
       "      <td>0.084144</td>\n",
       "      <td>-0.001191</td>\n",
       "      <td>0.400199</td>\n",
       "      <td>0.397251</td>\n",
       "      <td>0.234211</td>\n",
       "      <td>0.251029</td>\n",
       "      <td>-0.001123</td>\n",
       "      <td>0.001524</td>\n",
       "      <td>0.148460</td>\n",
       "      <td>...</td>\n",
       "      <td>0.143590</td>\n",
       "      <td>0.329170</td>\n",
       "      <td>-0.000487</td>\n",
       "      <td>0.058378</td>\n",
       "      <td>0.001450</td>\n",
       "      <td>0.323417</td>\n",
       "      <td>1.000000</td>\n",
       "      <td>0.032256</td>\n",
       "      <td>0.013376</td>\n",
       "      <td>0.029679</td>\n",
       "    </tr>\n",
       "    <tr>\n",
       "      <th>medianamnt_loans90</th>\n",
       "      <td>-0.002615</td>\n",
       "      <td>0.035747</td>\n",
       "      <td>0.002771</td>\n",
       "      <td>-0.037305</td>\n",
       "      <td>-0.034686</td>\n",
       "      <td>-0.035489</td>\n",
       "      <td>-0.034122</td>\n",
       "      <td>0.002771</td>\n",
       "      <td>-0.002239</td>\n",
       "      <td>0.021004</td>\n",
       "      <td>...</td>\n",
       "      <td>-0.097871</td>\n",
       "      <td>-0.087989</td>\n",
       "      <td>0.009330</td>\n",
       "      <td>0.911604</td>\n",
       "      <td>-0.002571</td>\n",
       "      <td>-0.095160</td>\n",
       "      <td>0.032256</td>\n",
       "      <td>1.000000</td>\n",
       "      <td>-0.013388</td>\n",
       "      <td>-0.010443</td>\n",
       "    </tr>\n",
       "    <tr>\n",
       "      <th>payback30</th>\n",
       "      <td>-0.000040</td>\n",
       "      <td>0.048336</td>\n",
       "      <td>0.001940</td>\n",
       "      <td>0.026915</td>\n",
       "      <td>0.019400</td>\n",
       "      <td>0.072974</td>\n",
       "      <td>0.067110</td>\n",
       "      <td>-0.002233</td>\n",
       "      <td>0.000077</td>\n",
       "      <td>-0.027369</td>\n",
       "      <td>...</td>\n",
       "      <td>0.067842</td>\n",
       "      <td>0.060425</td>\n",
       "      <td>-0.001512</td>\n",
       "      <td>-0.006007</td>\n",
       "      <td>0.000587</td>\n",
       "      <td>0.052142</td>\n",
       "      <td>0.013376</td>\n",
       "      <td>-0.013388</td>\n",
       "      <td>1.000000</td>\n",
       "      <td>0.830363</td>\n",
       "    </tr>\n",
       "    <tr>\n",
       "      <th>payback90</th>\n",
       "      <td>0.002411</td>\n",
       "      <td>0.049183</td>\n",
       "      <td>0.002203</td>\n",
       "      <td>0.047175</td>\n",
       "      <td>0.040800</td>\n",
       "      <td>0.095147</td>\n",
       "      <td>0.099501</td>\n",
       "      <td>-0.001583</td>\n",
       "      <td>0.000417</td>\n",
       "      <td>-0.014260</td>\n",
       "      <td>...</td>\n",
       "      <td>0.033369</td>\n",
       "      <td>0.030901</td>\n",
       "      <td>-0.000915</td>\n",
       "      <td>0.003178</td>\n",
       "      <td>-0.000476</td>\n",
       "      <td>0.029653</td>\n",
       "      <td>0.029679</td>\n",
       "      <td>-0.010443</td>\n",
       "      <td>0.830363</td>\n",
       "      <td>1.000000</td>\n",
       "    </tr>\n",
       "  </tbody>\n",
       "</table>\n",
       "<p>34 rows × 34 columns</p>\n",
       "</div>"
      ],
      "text/plain": [
       "                      Unnamed: 0     label       aon  daily_decr30  \\\n",
       "Unnamed: 0              1.000000  0.000403 -0.002048      0.002739   \n",
       "label                   0.000403  1.000000 -0.003785      0.168298   \n",
       "aon                    -0.002048 -0.003785  1.000000      0.001104   \n",
       "daily_decr30            0.002739  0.168298  0.001104      1.000000   \n",
       "daily_decr90            0.003077  0.166150  0.000374      0.977704   \n",
       "rental30               -0.003906  0.058085 -0.000960      0.442066   \n",
       "rental90               -0.003459  0.075521 -0.000790      0.458977   \n",
       "last_rech_date_ma      -0.001853  0.003728  0.001692      0.000487   \n",
       "last_rech_date_da      -0.001133  0.001711 -0.001693     -0.001636   \n",
       "last_rech_amt_ma       -0.001064  0.131804  0.004256      0.275837   \n",
       "cnt_ma_rech30           0.003320  0.237331 -0.003148      0.451385   \n",
       "fr_ma_rech30            0.003181  0.001330 -0.001163     -0.000577   \n",
       "sumamnt_ma_rech30       0.000123  0.202828  0.000707      0.636536   \n",
       "medianamnt_ma_rech30   -0.001371  0.141490  0.004306      0.295356   \n",
       "medianmarechprebal30    0.001258 -0.004829  0.003930     -0.001153   \n",
       "cnt_ma_rech90           0.002329  0.236392 -0.002725      0.587338   \n",
       "fr_ma_rech90           -0.000249  0.084385  0.004401     -0.078299   \n",
       "sumamnt_ma_rech90       0.000523  0.205793  0.001011      0.762981   \n",
       "medianamnt_ma_rech90   -0.000298  0.120855  0.004909      0.257847   \n",
       "medianmarechprebal90   -0.001947  0.039300 -0.000859      0.037495   \n",
       "cnt_da_rech30           0.000888  0.003827  0.001564      0.000700   \n",
       "fr_da_rech30           -0.002504 -0.000027  0.000892     -0.001499   \n",
       "cnt_da_rech90          -0.001324  0.002999  0.001121      0.038814   \n",
       "fr_da_rech90           -0.002827 -0.005418  0.005395      0.020673   \n",
       "cnt_loans30             0.001725  0.196283 -0.001826      0.366116   \n",
       "amnt_loans30            0.002387  0.197272 -0.001726      0.471492   \n",
       "maxamnt_loans30         0.000698  0.000248 -0.002764     -0.000028   \n",
       "medianamnt_loans30     -0.002005  0.044589  0.004664     -0.011610   \n",
       "cnt_loans90             0.002241  0.004733 -0.000611      0.008962   \n",
       "amnt_loans90            0.000781  0.199788 -0.002319      0.563496   \n",
       "maxamnt_loans90         0.001742  0.084144 -0.001191      0.400199   \n",
       "medianamnt_loans90     -0.002615  0.035747  0.002771     -0.037305   \n",
       "payback30              -0.000040  0.048336  0.001940      0.026915   \n",
       "payback90               0.002411  0.049183  0.002203      0.047175   \n",
       "\n",
       "                      daily_decr90  rental30  rental90  last_rech_date_ma  \\\n",
       "Unnamed: 0                0.003077 -0.003906 -0.003459          -0.001853   \n",
       "label                     0.166150  0.058085  0.075521           0.003728   \n",
       "aon                       0.000374 -0.000960 -0.000790           0.001692   \n",
       "daily_decr30              0.977704  0.442066  0.458977           0.000487   \n",
       "daily_decr90              1.000000  0.434685  0.471730           0.000908   \n",
       "rental30                  0.434685  1.000000  0.955237          -0.001095   \n",
       "rental90                  0.471730  0.955237  1.000000          -0.001688   \n",
       "last_rech_date_ma         0.000908 -0.001095 -0.001688           1.000000   \n",
       "last_rech_date_da        -0.001886  0.003261  0.002794           0.001790   \n",
       "last_rech_amt_ma          0.264131  0.127271  0.121416          -0.000147   \n",
       "cnt_ma_rech30             0.426707  0.233343  0.230260           0.004311   \n",
       "fr_ma_rech30             -0.000343 -0.001219 -0.000503          -0.001629   \n",
       "sumamnt_ma_rech30         0.603886  0.272649  0.259709           0.002105   \n",
       "medianamnt_ma_rech30      0.282960  0.129853  0.120242          -0.001358   \n",
       "medianmarechprebal30     -0.000746 -0.001415 -0.001237           0.004071   \n",
       "cnt_ma_rech90             0.593069  0.312118  0.345293           0.004263   \n",
       "fr_ma_rech90             -0.079530 -0.033530 -0.036524           0.001414   \n",
       "sumamnt_ma_rech90         0.768817  0.342306  0.360601           0.002243   \n",
       "medianamnt_ma_rech90      0.250518  0.110356  0.103151          -0.000726   \n",
       "medianmarechprebal90      0.036382  0.027170  0.029547          -0.001086   \n",
       "cnt_da_rech30             0.000661 -0.001105 -0.000548          -0.003467   \n",
       "fr_da_rech30             -0.001570 -0.002558 -0.002345          -0.003626   \n",
       "cnt_da_rech90             0.031155  0.072255  0.056282          -0.003538   \n",
       "fr_da_rech90              0.016437  0.046761  0.036886          -0.002395   \n",
       "cnt_loans30               0.340387  0.180203  0.171595           0.001193   \n",
       "amnt_loans30              0.447869  0.233453  0.231906           0.000903   \n",
       "maxamnt_loans30           0.000025 -0.000864 -0.001411           0.000928   \n",
       "medianamnt_loans30       -0.005591 -0.016482 -0.009467           0.001835   \n",
       "cnt_loans90               0.009446  0.004012  0.005141          -0.000225   \n",
       "amnt_loans90              0.567204  0.298943  0.327436           0.000870   \n",
       "maxamnt_loans90           0.397251  0.234211  0.251029          -0.001123   \n",
       "medianamnt_loans90       -0.034686 -0.035489 -0.034122           0.002771   \n",
       "payback30                 0.019400  0.072974  0.067110          -0.002233   \n",
       "payback90                 0.040800  0.095147  0.099501          -0.001583   \n",
       "\n",
       "                      last_rech_date_da  last_rech_amt_ma  ...  cnt_loans30  \\\n",
       "Unnamed: 0                    -0.001133         -0.001064  ...     0.001725   \n",
       "label                          0.001711          0.131804  ...     0.196283   \n",
       "aon                           -0.001693          0.004256  ...    -0.001826   \n",
       "daily_decr30                  -0.001636          0.275837  ...     0.366116   \n",
       "daily_decr90                  -0.001886          0.264131  ...     0.340387   \n",
       "rental30                       0.003261          0.127271  ...     0.180203   \n",
       "rental90                       0.002794          0.121416  ...     0.171595   \n",
       "last_rech_date_ma              0.001790         -0.000147  ...     0.001193   \n",
       "last_rech_date_da              1.000000         -0.000149  ...     0.000380   \n",
       "last_rech_amt_ma              -0.000149          1.000000  ...    -0.027612   \n",
       "cnt_ma_rech30                  0.001549         -0.002662  ...     0.765802   \n",
       "fr_ma_rech30                   0.001158          0.002876  ...     0.002666   \n",
       "sumamnt_ma_rech30              0.000046          0.440821  ...     0.491864   \n",
       "medianamnt_ma_rech30           0.001037          0.794646  ...    -0.029789   \n",
       "medianmarechprebal30           0.002849         -0.002342  ...    -0.000211   \n",
       "cnt_ma_rech90                  0.001272          0.016707  ...     0.689002   \n",
       "fr_ma_rech90                   0.000798          0.106267  ...    -0.119083   \n",
       "sumamnt_ma_rech90             -0.000414          0.418735  ...     0.442766   \n",
       "medianamnt_ma_rech90           0.000219          0.818734  ...    -0.060766   \n",
       "medianmarechprebal90           0.004158          0.124646  ...    -0.043381   \n",
       "cnt_da_rech30                 -0.003628         -0.001837  ...     0.001852   \n",
       "fr_da_rech30                  -0.000074         -0.003230  ...    -0.003212   \n",
       "cnt_da_rech90                 -0.001859          0.014779  ...     0.017976   \n",
       "fr_da_rech90                  -0.000203          0.016042  ...     0.010021   \n",
       "cnt_loans30                    0.000380         -0.027612  ...     1.000000   \n",
       "amnt_loans30                   0.000536          0.008502  ...     0.957742   \n",
       "maxamnt_loans30                0.000503          0.001000  ...     0.000251   \n",
       "medianamnt_loans30             0.000061          0.028370  ...    -0.093146   \n",
       "cnt_loans90                   -0.000972          0.000093  ...     0.015595   \n",
       "amnt_loans90                   0.000519          0.014067  ...     0.852905   \n",
       "maxamnt_loans90                0.001524          0.148460  ...     0.143590   \n",
       "medianamnt_loans90            -0.002239          0.021004  ...    -0.097871   \n",
       "payback30                      0.000077         -0.027369  ...     0.067842   \n",
       "payback90                      0.000417         -0.014260  ...     0.033369   \n",
       "\n",
       "                      amnt_loans30  maxamnt_loans30  medianamnt_loans30  \\\n",
       "Unnamed: 0                0.002387         0.000698           -0.002005   \n",
       "label                     0.197272         0.000248            0.044589   \n",
       "aon                      -0.001726        -0.002764            0.004664   \n",
       "daily_decr30              0.471492        -0.000028           -0.011610   \n",
       "daily_decr90              0.447869         0.000025           -0.005591   \n",
       "rental30                  0.233453        -0.000864           -0.016482   \n",
       "rental90                  0.231906        -0.001411           -0.009467   \n",
       "last_rech_date_ma         0.000903         0.000928            0.001835   \n",
       "last_rech_date_da         0.000536         0.000503            0.000061   \n",
       "last_rech_amt_ma          0.008502         0.001000            0.028370   \n",
       "cnt_ma_rech30             0.752296         0.000109           -0.067011   \n",
       "fr_ma_rech30              0.002470        -0.001100           -0.000331   \n",
       "sumamnt_ma_rech30         0.531079         0.001633           -0.034460   \n",
       "medianamnt_ma_rech30      0.007125         0.001985            0.032477   \n",
       "medianmarechprebal30      0.000134        -0.002176           -0.002289   \n",
       "cnt_ma_rech90             0.707558        -0.000573           -0.053637   \n",
       "fr_ma_rech90             -0.123664         0.001635            0.020626   \n",
       "sumamnt_ma_rech90         0.508599         0.001152           -0.022133   \n",
       "medianamnt_ma_rech90     -0.025307         0.001016            0.036475   \n",
       "medianmarechprebal90     -0.033878         0.001884            0.030534   \n",
       "cnt_da_rech30             0.001487        -0.000394            0.000049   \n",
       "fr_da_rech30             -0.003395        -0.001070           -0.001141   \n",
       "cnt_da_rech90             0.026249        -0.001855           -0.003351   \n",
       "fr_da_rech90              0.014935        -0.000754           -0.002234   \n",
       "cnt_loans30               0.957742         0.000251           -0.093146   \n",
       "amnt_loans30              1.000000        -0.000073           -0.078531   \n",
       "maxamnt_loans30          -0.000073         1.000000            0.007782   \n",
       "medianamnt_loans30       -0.078531         0.007782            1.000000   \n",
       "cnt_loans90               0.014625         0.003987           -0.003670   \n",
       "amnt_loans90              0.897961        -0.001850           -0.067580   \n",
       "maxamnt_loans90           0.329170        -0.000487            0.058378   \n",
       "medianamnt_loans90       -0.087989         0.009330            0.911604   \n",
       "payback30                 0.060425        -0.001512           -0.006007   \n",
       "payback90                 0.030901        -0.000915            0.003178   \n",
       "\n",
       "                      cnt_loans90  amnt_loans90  maxamnt_loans90  \\\n",
       "Unnamed: 0               0.002241      0.000781         0.001742   \n",
       "label                    0.004733      0.199788         0.084144   \n",
       "aon                     -0.000611     -0.002319        -0.001191   \n",
       "daily_decr30             0.008962      0.563496         0.400199   \n",
       "daily_decr90             0.009446      0.567204         0.397251   \n",
       "rental30                 0.004012      0.298943         0.234211   \n",
       "rental90                 0.005141      0.327436         0.251029   \n",
       "last_rech_date_ma       -0.000225      0.000870        -0.001123   \n",
       "last_rech_date_da       -0.000972      0.000519         0.001524   \n",
       "last_rech_amt_ma         0.000093      0.014067         0.148460   \n",
       "cnt_ma_rech30            0.014703      0.685257         0.174104   \n",
       "fr_ma_rech30             0.003368      0.002634        -0.001890   \n",
       "sumamnt_ma_rech30        0.009419      0.484761         0.257705   \n",
       "medianamnt_ma_rech30    -0.001143      0.014546         0.159613   \n",
       "medianmarechprebal30     0.001342      0.000736        -0.002141   \n",
       "cnt_ma_rech90            0.015754      0.783419         0.244602   \n",
       "fr_ma_rech90            -0.002756     -0.132035        -0.045780   \n",
       "sumamnt_ma_rech90        0.011306      0.562609         0.321739   \n",
       "medianamnt_ma_rech90    -0.000123     -0.023450         0.134139   \n",
       "medianmarechprebal90    -0.000926     -0.036412         0.027130   \n",
       "cnt_da_rech30           -0.001986      0.003369        -0.000647   \n",
       "fr_da_rech30            -0.001623     -0.001593        -0.001069   \n",
       "cnt_da_rech90            0.000907      0.020909         0.038019   \n",
       "fr_da_rech90             0.001993      0.011501         0.021785   \n",
       "cnt_loans30              0.015595      0.852905         0.143590   \n",
       "amnt_loans30             0.014625      0.897961         0.329170   \n",
       "maxamnt_loans30          0.003987     -0.001850        -0.000487   \n",
       "medianamnt_loans30      -0.003670     -0.067580         0.058378   \n",
       "cnt_loans90              1.000000      0.017697         0.001450   \n",
       "amnt_loans90             0.017697      1.000000         0.323417   \n",
       "maxamnt_loans90          0.001450      0.323417         1.000000   \n",
       "medianamnt_loans90      -0.002571     -0.095160         0.032256   \n",
       "payback30                0.000587      0.052142         0.013376   \n",
       "payback90               -0.000476      0.029653         0.029679   \n",
       "\n",
       "                      medianamnt_loans90  payback30  payback90  \n",
       "Unnamed: 0                     -0.002615  -0.000040   0.002411  \n",
       "label                           0.035747   0.048336   0.049183  \n",
       "aon                             0.002771   0.001940   0.002203  \n",
       "daily_decr30                   -0.037305   0.026915   0.047175  \n",
       "daily_decr90                   -0.034686   0.019400   0.040800  \n",
       "rental30                       -0.035489   0.072974   0.095147  \n",
       "rental90                       -0.034122   0.067110   0.099501  \n",
       "last_rech_date_ma               0.002771  -0.002233  -0.001583  \n",
       "last_rech_date_da              -0.002239   0.000077   0.000417  \n",
       "last_rech_amt_ma                0.021004  -0.027369  -0.014260  \n",
       "cnt_ma_rech30                  -0.071451   0.043617   0.017362  \n",
       "fr_ma_rech30                   -0.001292   0.001455   0.000998  \n",
       "sumamnt_ma_rech30              -0.042244   0.000112  -0.012596  \n",
       "medianamnt_ma_rech30            0.022692  -0.018398  -0.002861  \n",
       "medianmarechprebal30           -0.001927   0.001516   0.001811  \n",
       "cnt_ma_rech90                  -0.072481   0.011943  -0.003141  \n",
       "fr_ma_rech90                    0.016964   0.036817   0.077529  \n",
       "sumamnt_ma_rech90              -0.042386  -0.026409  -0.029997  \n",
       "medianamnt_ma_rech90            0.031696  -0.035640  -0.023022  \n",
       "medianmarechprebal90            0.032453  -0.031760  -0.031210  \n",
       "cnt_da_rech30                  -0.001365  -0.000471   0.000382  \n",
       "fr_da_rech30                   -0.001623   0.001709  -0.000725  \n",
       "cnt_da_rech90                  -0.003094   0.013430   0.024046  \n",
       "fr_da_rech90                   -0.000949   0.000354   0.001226  \n",
       "cnt_loans30                    -0.097871   0.067842   0.033369  \n",
       "amnt_loans30                   -0.087989   0.060425   0.030901  \n",
       "maxamnt_loans30                 0.009330  -0.001512  -0.000915  \n",
       "medianamnt_loans30              0.911604  -0.006007   0.003178  \n",
       "cnt_loans90                    -0.002571   0.000587  -0.000476  \n",
       "amnt_loans90                   -0.095160   0.052142   0.029653  \n",
       "maxamnt_loans90                 0.032256   0.013376   0.029679  \n",
       "medianamnt_loans90              1.000000  -0.013388  -0.010443  \n",
       "payback30                      -0.013388   1.000000   0.830363  \n",
       "payback90                      -0.010443   0.830363   1.000000  \n",
       "\n",
       "[34 rows x 34 columns]"
      ]
     },
     "execution_count": 20,
     "metadata": {},
     "output_type": "execute_result"
    }
   ],
   "source": [
    "cor"
   ]
  },
  {
   "cell_type": "markdown",
   "metadata": {},
   "source": [
    "# Multivariate analysis"
   ]
  },
  {
   "cell_type": "code",
   "execution_count": 21,
   "metadata": {},
   "outputs": [
    {
     "data": {
      "image/png": "[encoded data removed]",
      "text/plain": [
       "<Figure size 1584x864 with 2 Axes>"
      ]
     },
     "metadata": {
      "needs_background": "light"
     },
     "output_type": "display_data"
    }
   ],
   "source": [
    "plt.figure(figsize=[22,12])\n",
    "sns.heatmap(cor,annot=True)\n",
    "plt.title(\"Correlation Matrix\")\n",
    "plt.show()"
   ]
  },
  {
   "cell_type": "markdown",
   "metadata": {},
   "source": [
    "# Label encoder"
   ]
  },
  {
   "cell_type": "code",
   "execution_count": 22,
   "metadata": {},
   "outputs": [],
   "source": [
    "from sklearn.preprocessing import LabelEncoder\n",
    "LE=LabelEncoder()\n",
    "df[\"msisdn\"]=LE.fit_transform(df[\"msisdn\"])"
   ]
  },
  {
   "cell_type": "code",
   "execution_count": 23,
   "metadata": {},
   "outputs": [
    {
     "data": {
      "text/plain": [
       "array([ 40191, 142291,  33594, ...,  42866, 111388, 121263])"
      ]
     },
     "execution_count": 23,
     "metadata": {},
     "output_type": "execute_result"
    }
   ],
   "source": [
    "df[\"msisdn\"].unique()"
   ]
  },
  {
   "cell_type": "code",
   "execution_count": 24,
   "metadata": {},
   "outputs": [],
   "source": [
    "df[\"pdate\"]=LE.fit_transform(df[\"pdate\"])"
   ]
  },
  {
   "cell_type": "code",
   "execution_count": 25,
   "metadata": {},
   "outputs": [
    {
     "data": {
      "text/plain": [
       "array([58, 29, 56, 15, 63,  4, 13, 14, 42, 21, 33, 57, 77, 45,  8, 67, 10,\n",
       "        7,  1, 23, 71, 65, 16, 25, 27, 18, 73, 32, 79, 54, 72, 41, 39, 60,\n",
       "       69, 75, 30, 74, 66, 47, 44,  3, 12,  5, 76, 52, 53, 46, 78, 61,  6,\n",
       "       36,  2, 37, 28, 24, 43, 31, 26, 35, 64,  9, 68, 51, 38, 48, 20, 34,\n",
       "       17, 55, 62, 11, 70, 80, 50, 22, 40,  0, 19, 49, 81, 59])"
      ]
     },
     "execution_count": 25,
     "metadata": {},
     "output_type": "execute_result"
    }
   ],
   "source": [
    "df[\"pdate\"].unique()"
   ]
  },
  {
   "cell_type": "code",
   "execution_count": 26,
   "metadata": {},
   "outputs": [],
   "source": [
    "df[\"pcircle\"]=LE.fit_transform(df[\"pcircle\"])"
   ]
  },
  {
   "cell_type": "code",
   "execution_count": 27,
   "metadata": {},
   "outputs": [
    {
     "data": {
      "text/plain": [
       "array([0])"
      ]
     },
     "execution_count": 27,
     "metadata": {},
     "output_type": "execute_result"
    }
   ],
   "source": [
    "df[\"pcircle\"].unique()"
   ]
  },
  {
   "cell_type": "code",
   "execution_count": 28,
   "metadata": {},
   "outputs": [
    {
     "data": {
      "text/html": [
       "<div>\n",
       "<style scoped>\n",
       "    .dataframe tbody tr th:only-of-type {\n",
       "        vertical-align: middle;\n",
       "    }\n",
       "\n",
       "    .dataframe tbody tr th {\n",
       "        vertical-align: top;\n",
       "    }\n",
       "\n",
       "    .dataframe thead th {\n",
       "        text-align: right;\n",
       "    }\n",
       "</style>\n",
       "<table border=\"1\" class=\"dataframe\">\n",
       "  <thead>\n",
       "    <tr style=\"text-align: right;\">\n",
       "      <th></th>\n",
       "      <th>Unnamed: 0</th>\n",
       "      <th>label</th>\n",
       "      <th>msisdn</th>\n",
       "      <th>aon</th>\n",
       "      <th>daily_decr30</th>\n",
       "      <th>daily_decr90</th>\n",
       "      <th>rental30</th>\n",
       "      <th>rental90</th>\n",
       "      <th>last_rech_date_ma</th>\n",
       "      <th>last_rech_date_da</th>\n",
       "      <th>...</th>\n",
       "      <th>maxamnt_loans30</th>\n",
       "      <th>medianamnt_loans30</th>\n",
       "      <th>cnt_loans90</th>\n",
       "      <th>amnt_loans90</th>\n",
       "      <th>maxamnt_loans90</th>\n",
       "      <th>medianamnt_loans90</th>\n",
       "      <th>payback30</th>\n",
       "      <th>payback90</th>\n",
       "      <th>pcircle</th>\n",
       "      <th>pdate</th>\n",
       "    </tr>\n",
       "  </thead>\n",
       "  <tbody>\n",
       "    <tr>\n",
       "      <th>0</th>\n",
       "      <td>1</td>\n",
       "      <td>0</td>\n",
       "      <td>40191</td>\n",
       "      <td>272.0</td>\n",
       "      <td>3055.050000</td>\n",
       "      <td>3065.150000</td>\n",
       "      <td>220.13</td>\n",
       "      <td>260.13</td>\n",
       "      <td>2.0</td>\n",
       "      <td>0.0</td>\n",
       "      <td>...</td>\n",
       "      <td>6.0</td>\n",
       "      <td>0.0</td>\n",
       "      <td>2.0</td>\n",
       "      <td>12</td>\n",
       "      <td>6</td>\n",
       "      <td>0.0</td>\n",
       "      <td>29.000000</td>\n",
       "      <td>29.000000</td>\n",
       "      <td>0</td>\n",
       "      <td>58</td>\n",
       "    </tr>\n",
       "    <tr>\n",
       "      <th>1</th>\n",
       "      <td>2</td>\n",
       "      <td>1</td>\n",
       "      <td>142291</td>\n",
       "      <td>712.0</td>\n",
       "      <td>12122.000000</td>\n",
       "      <td>12124.750000</td>\n",
       "      <td>3691.26</td>\n",
       "      <td>3691.26</td>\n",
       "      <td>20.0</td>\n",
       "      <td>0.0</td>\n",
       "      <td>...</td>\n",
       "      <td>12.0</td>\n",
       "      <td>0.0</td>\n",
       "      <td>1.0</td>\n",
       "      <td>12</td>\n",
       "      <td>12</td>\n",
       "      <td>0.0</td>\n",
       "      <td>0.000000</td>\n",
       "      <td>0.000000</td>\n",
       "      <td>0</td>\n",
       "      <td>29</td>\n",
       "    </tr>\n",
       "    <tr>\n",
       "      <th>2</th>\n",
       "      <td>3</td>\n",
       "      <td>1</td>\n",
       "      <td>33594</td>\n",
       "      <td>535.0</td>\n",
       "      <td>1398.000000</td>\n",
       "      <td>1398.000000</td>\n",
       "      <td>900.13</td>\n",
       "      <td>900.13</td>\n",
       "      <td>3.0</td>\n",
       "      <td>0.0</td>\n",
       "      <td>...</td>\n",
       "      <td>6.0</td>\n",
       "      <td>0.0</td>\n",
       "      <td>1.0</td>\n",
       "      <td>6</td>\n",
       "      <td>6</td>\n",
       "      <td>0.0</td>\n",
       "      <td>0.000000</td>\n",
       "      <td>0.000000</td>\n",
       "      <td>0</td>\n",
       "      <td>56</td>\n",
       "    </tr>\n",
       "    <tr>\n",
       "      <th>3</th>\n",
       "      <td>4</td>\n",
       "      <td>1</td>\n",
       "      <td>104157</td>\n",
       "      <td>241.0</td>\n",
       "      <td>21.228000</td>\n",
       "      <td>21.228000</td>\n",
       "      <td>159.42</td>\n",
       "      <td>159.42</td>\n",
       "      <td>41.0</td>\n",
       "      <td>0.0</td>\n",
       "      <td>...</td>\n",
       "      <td>6.0</td>\n",
       "      <td>0.0</td>\n",
       "      <td>2.0</td>\n",
       "      <td>12</td>\n",
       "      <td>6</td>\n",
       "      <td>0.0</td>\n",
       "      <td>0.000000</td>\n",
       "      <td>0.000000</td>\n",
       "      <td>0</td>\n",
       "      <td>15</td>\n",
       "    </tr>\n",
       "    <tr>\n",
       "      <th>4</th>\n",
       "      <td>5</td>\n",
       "      <td>1</td>\n",
       "      <td>6910</td>\n",
       "      <td>947.0</td>\n",
       "      <td>150.619333</td>\n",
       "      <td>150.619333</td>\n",
       "      <td>1098.90</td>\n",
       "      <td>1098.90</td>\n",
       "      <td>4.0</td>\n",
       "      <td>0.0</td>\n",
       "      <td>...</td>\n",
       "      <td>6.0</td>\n",
       "      <td>0.0</td>\n",
       "      <td>7.0</td>\n",
       "      <td>42</td>\n",
       "      <td>6</td>\n",
       "      <td>0.0</td>\n",
       "      <td>2.333333</td>\n",
       "      <td>2.333333</td>\n",
       "      <td>0</td>\n",
       "      <td>63</td>\n",
       "    </tr>\n",
       "    <tr>\n",
       "      <th>...</th>\n",
       "      <td>...</td>\n",
       "      <td>...</td>\n",
       "      <td>...</td>\n",
       "      <td>...</td>\n",
       "      <td>...</td>\n",
       "      <td>...</td>\n",
       "      <td>...</td>\n",
       "      <td>...</td>\n",
       "      <td>...</td>\n",
       "      <td>...</td>\n",
       "      <td>...</td>\n",
       "      <td>...</td>\n",
       "      <td>...</td>\n",
       "      <td>...</td>\n",
       "      <td>...</td>\n",
       "      <td>...</td>\n",
       "      <td>...</td>\n",
       "      <td>...</td>\n",
       "      <td>...</td>\n",
       "      <td>...</td>\n",
       "      <td>...</td>\n",
       "    </tr>\n",
       "    <tr>\n",
       "      <th>209588</th>\n",
       "      <td>209589</td>\n",
       "      <td>1</td>\n",
       "      <td>42866</td>\n",
       "      <td>404.0</td>\n",
       "      <td>151.872333</td>\n",
       "      <td>151.872333</td>\n",
       "      <td>1089.19</td>\n",
       "      <td>1089.19</td>\n",
       "      <td>1.0</td>\n",
       "      <td>0.0</td>\n",
       "      <td>...</td>\n",
       "      <td>6.0</td>\n",
       "      <td>0.0</td>\n",
       "      <td>2.0</td>\n",
       "      <td>12</td>\n",
       "      <td>6</td>\n",
       "      <td>0.0</td>\n",
       "      <td>1.000000</td>\n",
       "      <td>1.000000</td>\n",
       "      <td>0</td>\n",
       "      <td>48</td>\n",
       "    </tr>\n",
       "    <tr>\n",
       "      <th>209589</th>\n",
       "      <td>209590</td>\n",
       "      <td>1</td>\n",
       "      <td>178248</td>\n",
       "      <td>1075.0</td>\n",
       "      <td>36.936000</td>\n",
       "      <td>36.936000</td>\n",
       "      <td>1728.36</td>\n",
       "      <td>1728.36</td>\n",
       "      <td>4.0</td>\n",
       "      <td>0.0</td>\n",
       "      <td>...</td>\n",
       "      <td>6.0</td>\n",
       "      <td>0.0</td>\n",
       "      <td>3.0</td>\n",
       "      <td>18</td>\n",
       "      <td>6</td>\n",
       "      <td>0.0</td>\n",
       "      <td>1.000000</td>\n",
       "      <td>1.000000</td>\n",
       "      <td>0</td>\n",
       "      <td>33</td>\n",
       "    </tr>\n",
       "    <tr>\n",
       "      <th>209590</th>\n",
       "      <td>209591</td>\n",
       "      <td>1</td>\n",
       "      <td>53995</td>\n",
       "      <td>1013.0</td>\n",
       "      <td>11843.111670</td>\n",
       "      <td>11904.350000</td>\n",
       "      <td>5861.83</td>\n",
       "      <td>8893.20</td>\n",
       "      <td>3.0</td>\n",
       "      <td>0.0</td>\n",
       "      <td>...</td>\n",
       "      <td>12.0</td>\n",
       "      <td>0.0</td>\n",
       "      <td>6.0</td>\n",
       "      <td>54</td>\n",
       "      <td>12</td>\n",
       "      <td>0.0</td>\n",
       "      <td>4.000000</td>\n",
       "      <td>3.833333</td>\n",
       "      <td>0</td>\n",
       "      <td>78</td>\n",
       "    </tr>\n",
       "    <tr>\n",
       "      <th>209591</th>\n",
       "      <td>209592</td>\n",
       "      <td>1</td>\n",
       "      <td>111388</td>\n",
       "      <td>1732.0</td>\n",
       "      <td>12488.228330</td>\n",
       "      <td>12574.370000</td>\n",
       "      <td>411.83</td>\n",
       "      <td>984.58</td>\n",
       "      <td>2.0</td>\n",
       "      <td>38.0</td>\n",
       "      <td>...</td>\n",
       "      <td>12.0</td>\n",
       "      <td>0.0</td>\n",
       "      <td>3.0</td>\n",
       "      <td>24</td>\n",
       "      <td>12</td>\n",
       "      <td>0.0</td>\n",
       "      <td>0.000000</td>\n",
       "      <td>10.500000</td>\n",
       "      <td>0</td>\n",
       "      <td>70</td>\n",
       "    </tr>\n",
       "    <tr>\n",
       "      <th>209592</th>\n",
       "      <td>209593</td>\n",
       "      <td>1</td>\n",
       "      <td>121263</td>\n",
       "      <td>1581.0</td>\n",
       "      <td>4489.362000</td>\n",
       "      <td>4534.820000</td>\n",
       "      <td>483.92</td>\n",
       "      <td>631.20</td>\n",
       "      <td>13.0</td>\n",
       "      <td>0.0</td>\n",
       "      <td>...</td>\n",
       "      <td>12.0</td>\n",
       "      <td>0.0</td>\n",
       "      <td>2.0</td>\n",
       "      <td>18</td>\n",
       "      <td>12</td>\n",
       "      <td>0.0</td>\n",
       "      <td>0.000000</td>\n",
       "      <td>0.000000</td>\n",
       "      <td>0</td>\n",
       "      <td>19</td>\n",
       "    </tr>\n",
       "  </tbody>\n",
       "</table>\n",
       "<p>209593 rows × 37 columns</p>\n",
       "</div>"
      ],
      "text/plain": [
       "        Unnamed: 0  label  msisdn     aon  daily_decr30  daily_decr90  \\\n",
       "0                1      0   40191   272.0   3055.050000   3065.150000   \n",
       "1                2      1  142291   712.0  12122.000000  12124.750000   \n",
       "2                3      1   33594   535.0   1398.000000   1398.000000   \n",
       "3                4      1  104157   241.0     21.228000     21.228000   \n",
       "4                5      1    6910   947.0    150.619333    150.619333   \n",
       "...            ...    ...     ...     ...           ...           ...   \n",
       "209588      209589      1   42866   404.0    151.872333    151.872333   \n",
       "209589      209590      1  178248  1075.0     36.936000     36.936000   \n",
       "209590      209591      1   53995  1013.0  11843.111670  11904.350000   \n",
       "209591      209592      1  111388  1732.0  12488.228330  12574.370000   \n",
       "209592      209593      1  121263  1581.0   4489.362000   4534.820000   \n",
       "\n",
       "        rental30  rental90  last_rech_date_ma  last_rech_date_da  ...  \\\n",
       "0         220.13    260.13                2.0                0.0  ...   \n",
       "1        3691.26   3691.26               20.0                0.0  ...   \n",
       "2         900.13    900.13                3.0                0.0  ...   \n",
       "3         159.42    159.42               41.0                0.0  ...   \n",
       "4        1098.90   1098.90                4.0                0.0  ...   \n",
       "...          ...       ...                ...                ...  ...   \n",
       "209588   1089.19   1089.19                1.0                0.0  ...   \n",
       "209589   1728.36   1728.36                4.0                0.0  ...   \n",
       "209590   5861.83   8893.20                3.0                0.0  ...   \n",
       "209591    411.83    984.58                2.0               38.0  ...   \n",
       "209592    483.92    631.20               13.0                0.0  ...   \n",
       "\n",
       "        maxamnt_loans30  medianamnt_loans30  cnt_loans90  amnt_loans90  \\\n",
       "0                   6.0                 0.0          2.0            12   \n",
       "1                  12.0                 0.0          1.0            12   \n",
       "2                   6.0                 0.0          1.0             6   \n",
       "3                   6.0                 0.0          2.0            12   \n",
       "4                   6.0                 0.0          7.0            42   \n",
       "...                 ...                 ...          ...           ...   \n",
       "209588              6.0                 0.0          2.0            12   \n",
       "209589              6.0                 0.0          3.0            18   \n",
       "209590             12.0                 0.0          6.0            54   \n",
       "209591             12.0                 0.0          3.0            24   \n",
       "209592             12.0                 0.0          2.0            18   \n",
       "\n",
       "        maxamnt_loans90  medianamnt_loans90  payback30  payback90  pcircle  \\\n",
       "0                     6                 0.0  29.000000  29.000000        0   \n",
       "1                    12                 0.0   0.000000   0.000000        0   \n",
       "2                     6                 0.0   0.000000   0.000000        0   \n",
       "3                     6                 0.0   0.000000   0.000000        0   \n",
       "4                     6                 0.0   2.333333   2.333333        0   \n",
       "...                 ...                 ...        ...        ...      ...   \n",
       "209588                6                 0.0   1.000000   1.000000        0   \n",
       "209589                6                 0.0   1.000000   1.000000        0   \n",
       "209590               12                 0.0   4.000000   3.833333        0   \n",
       "209591               12                 0.0   0.000000  10.500000        0   \n",
       "209592               12                 0.0   0.000000   0.000000        0   \n",
       "\n",
       "        pdate  \n",
       "0          58  \n",
       "1          29  \n",
       "2          56  \n",
       "3          15  \n",
       "4          63  \n",
       "...       ...  \n",
       "209588     48  \n",
       "209589     33  \n",
       "209590     78  \n",
       "209591     70  \n",
       "209592     19  \n",
       "\n",
       "[209593 rows x 37 columns]"
      ]
     },
     "execution_count": 28,
     "metadata": {},
     "output_type": "execute_result"
    }
   ],
   "source": [
    "df"
   ]
  },
  {
   "cell_type": "code",
   "execution_count": 29,
   "metadata": {
    "scrolled": true
   },
   "outputs": [
    {
     "data": {
      "text/plain": [
       "Unnamed: 0                int64\n",
       "label                     int64\n",
       "msisdn                    int32\n",
       "aon                     float64\n",
       "daily_decr30            float64\n",
       "daily_decr90            float64\n",
       "rental30                float64\n",
       "rental90                float64\n",
       "last_rech_date_ma       float64\n",
       "last_rech_date_da       float64\n",
       "last_rech_amt_ma          int64\n",
       "cnt_ma_rech30             int64\n",
       "fr_ma_rech30            float64\n",
       "sumamnt_ma_rech30       float64\n",
       "medianamnt_ma_rech30    float64\n",
       "medianmarechprebal30    float64\n",
       "cnt_ma_rech90             int64\n",
       "fr_ma_rech90              int64\n",
       "sumamnt_ma_rech90         int64\n",
       "medianamnt_ma_rech90    float64\n",
       "medianmarechprebal90    float64\n",
       "cnt_da_rech30           float64\n",
       "fr_da_rech30            float64\n",
       "cnt_da_rech90             int64\n",
       "fr_da_rech90              int64\n",
       "cnt_loans30               int64\n",
       "amnt_loans30              int64\n",
       "maxamnt_loans30         float64\n",
       "medianamnt_loans30      float64\n",
       "cnt_loans90             float64\n",
       "amnt_loans90              int64\n",
       "maxamnt_loans90           int64\n",
       "medianamnt_loans90      float64\n",
       "payback30               float64\n",
       "payback90               float64\n",
       "pcircle                   int32\n",
       "pdate                     int32\n",
       "dtype: object"
      ]
     },
     "execution_count": 29,
     "metadata": {},
     "output_type": "execute_result"
    }
   ],
   "source": [
    "df.dtypes"
   ]
  },
  {
   "cell_type": "code",
   "execution_count": 30,
   "metadata": {},
   "outputs": [
    {
     "data": {
      "text/plain": [
       "label                   1.000000\n",
       "cnt_ma_rech30           0.237331\n",
       "cnt_ma_rech90           0.236392\n",
       "sumamnt_ma_rech90       0.205793\n",
       "sumamnt_ma_rech30       0.202828\n",
       "amnt_loans90            0.199788\n",
       "amnt_loans30            0.197272\n",
       "cnt_loans30             0.196283\n",
       "daily_decr30            0.168298\n",
       "daily_decr90            0.166150\n",
       "medianamnt_ma_rech30    0.141490\n",
       "last_rech_amt_ma        0.131804\n",
       "medianamnt_ma_rech90    0.120855\n",
       "fr_ma_rech90            0.084385\n",
       "maxamnt_loans90         0.084144\n",
       "rental90                0.075521\n",
       "rental30                0.058085\n",
       "payback90               0.049183\n",
       "payback30               0.048336\n",
       "medianamnt_loans30      0.044589\n",
       "medianmarechprebal90    0.039300\n",
       "medianamnt_loans90      0.035747\n",
       "pdate                   0.006406\n",
       "cnt_loans90             0.004733\n",
       "cnt_da_rech30           0.003827\n",
       "last_rech_date_ma       0.003728\n",
       "cnt_da_rech90           0.002999\n",
       "msisdn                  0.001976\n",
       "last_rech_date_da       0.001711\n",
       "fr_ma_rech30            0.001330\n",
       "Unnamed: 0              0.000403\n",
       "maxamnt_loans30         0.000248\n",
       "fr_da_rech30           -0.000027\n",
       "aon                    -0.003785\n",
       "medianmarechprebal30   -0.004829\n",
       "fr_da_rech90           -0.005418\n",
       "pcircle                      NaN\n",
       "Name: label, dtype: float64"
      ]
     },
     "execution_count": 30,
     "metadata": {},
     "output_type": "execute_result"
    }
   ],
   "source": [
    "corr_matrix=df.corr()\n",
    "corr_matrix[\"label\"].sort_values(ascending=False)"
   ]
  },
  {
   "cell_type": "markdown",
   "metadata": {},
   "source": [
    "Their are identify the corrlation of independent variable with target variable \"label\"."
   ]
  },
  {
   "cell_type": "markdown",
   "metadata": {},
   "source": [
    "# outlier removal"
   ]
  },
  {
   "cell_type": "code",
   "execution_count": 31,
   "metadata": {},
   "outputs": [
    {
     "data": {
      "text/plain": [
       "count    209593.000000\n",
       "mean          0.875177\n",
       "std           0.330519\n",
       "min           0.000000\n",
       "25%           1.000000\n",
       "50%           1.000000\n",
       "75%           1.000000\n",
       "max           1.000000\n",
       "Name: label, dtype: float64"
      ]
     },
     "execution_count": 31,
     "metadata": {},
     "output_type": "execute_result"
    }
   ],
   "source": [
    "df[\"label\"].describe()"
   ]
  },
  {
   "cell_type": "code",
   "execution_count": 32,
   "metadata": {},
   "outputs": [
    {
     "data": {
      "text/plain": [
       "<AxesSubplot:xlabel='label'>"
      ]
     },
     "execution_count": 32,
     "metadata": {},
     "output_type": "execute_result"
    },
    {
     "data": {
      "image/png": "[encoded data removed]",
      "text/plain": [
       "<Figure size 432x288 with 1 Axes>"
      ]
     },
     "metadata": {
      "needs_background": "light"
     },
     "output_type": "display_data"
    }
   ],
   "source": [
    "sns.boxplot(x=df[\"label\"])"
   ]
  },
  {
   "cell_type": "code",
   "execution_count": 33,
   "metadata": {},
   "outputs": [
    {
     "data": {
      "text/plain": [
       "count    209593.000000\n",
       "mean      93100.650179\n",
       "std       53758.461427\n",
       "min           0.000000\n",
       "25%       46506.000000\n",
       "50%       93073.000000\n",
       "75%      139626.000000\n",
       "max      186242.000000\n",
       "Name: msisdn, dtype: float64"
      ]
     },
     "execution_count": 33,
     "metadata": {},
     "output_type": "execute_result"
    }
   ],
   "source": [
    "df['msisdn'].describe()"
   ]
  },
  {
   "cell_type": "code",
   "execution_count": 34,
   "metadata": {},
   "outputs": [
    {
     "data": {
      "text/plain": [
       "(139626.0, 46506.0)"
      ]
     },
     "execution_count": 34,
     "metadata": {},
     "output_type": "execute_result"
    }
   ],
   "source": [
    "Q1=df.msisdn.quantile(0.25)\n",
    "Q3=df.msisdn.quantile(0.75)\n",
    "Q3,Q1"
   ]
  },
  {
   "cell_type": "code",
   "execution_count": 35,
   "metadata": {},
   "outputs": [
    {
     "data": {
      "text/plain": [
       "93120.0"
      ]
     },
     "execution_count": 35,
     "metadata": {},
     "output_type": "execute_result"
    }
   ],
   "source": [
    "IQR=Q3-Q1\n",
    "IQR"
   ]
  },
  {
   "cell_type": "code",
   "execution_count": 36,
   "metadata": {},
   "outputs": [
    {
     "data": {
      "text/plain": [
       "count    209593.000000\n",
       "mean       8112.343445\n",
       "std       75696.082531\n",
       "min         -48.000000\n",
       "25%         246.000000\n",
       "50%         527.000000\n",
       "75%         982.000000\n",
       "max      999860.755200\n",
       "Name: aon, dtype: float64"
      ]
     },
     "execution_count": 36,
     "metadata": {},
     "output_type": "execute_result"
    }
   ],
   "source": [
    "df['aon'].describe()"
   ]
  },
  {
   "cell_type": "code",
   "execution_count": 37,
   "metadata": {},
   "outputs": [
    {
     "data": {
      "text/plain": [
       "(982.0, 246.0)"
      ]
     },
     "execution_count": 37,
     "metadata": {},
     "output_type": "execute_result"
    }
   ],
   "source": [
    "Q1=df.aon.quantile(0.25)\n",
    "Q3=df.aon.quantile(0.75)\n",
    "Q3,Q1"
   ]
  },
  {
   "cell_type": "code",
   "execution_count": 38,
   "metadata": {},
   "outputs": [
    {
     "data": {
      "text/plain": [
       "736.0"
      ]
     },
     "execution_count": 38,
     "metadata": {},
     "output_type": "execute_result"
    }
   ],
   "source": [
    "IQR=Q3-Q1\n",
    "IQR"
   ]
  },
  {
   "cell_type": "code",
   "execution_count": 39,
   "metadata": {},
   "outputs": [
    {
     "data": {
      "text/plain": [
       "count    209593.000000\n",
       "mean       5381.402289\n",
       "std        9220.623400\n",
       "min         -93.012667\n",
       "25%          42.440000\n",
       "50%        1469.175667\n",
       "75%        7244.000000\n",
       "max      265926.000000\n",
       "Name: daily_decr30, dtype: float64"
      ]
     },
     "execution_count": 39,
     "metadata": {},
     "output_type": "execute_result"
    }
   ],
   "source": [
    "df['daily_decr30'].describe()"
   ]
  },
  {
   "cell_type": "code",
   "execution_count": 40,
   "metadata": {},
   "outputs": [
    {
     "data": {
      "text/plain": [
       "(7244.0, 42.44)"
      ]
     },
     "execution_count": 40,
     "metadata": {},
     "output_type": "execute_result"
    }
   ],
   "source": [
    "Q1=df.daily_decr30.quantile(0.25)\n",
    "Q3=df.daily_decr30.quantile(0.75)\n",
    "Q3,Q1"
   ]
  },
  {
   "cell_type": "code",
   "execution_count": 41,
   "metadata": {},
   "outputs": [
    {
     "data": {
      "text/plain": [
       "7201.56"
      ]
     },
     "execution_count": 41,
     "metadata": {},
     "output_type": "execute_result"
    }
   ],
   "source": [
    "IQR=Q3-Q1\n",
    "IQR"
   ]
  },
  {
   "cell_type": "code",
   "execution_count": 42,
   "metadata": {},
   "outputs": [
    {
     "data": {
      "text/plain": [
       "count    209593.000000\n",
       "mean       6082.515068\n",
       "std       10918.812767\n",
       "min         -93.012667\n",
       "25%          42.692000\n",
       "50%        1500.000000\n",
       "75%        7802.790000\n",
       "max      320630.000000\n",
       "Name: daily_decr90, dtype: float64"
      ]
     },
     "execution_count": 42,
     "metadata": {},
     "output_type": "execute_result"
    }
   ],
   "source": [
    "df['daily_decr90'].describe()"
   ]
  },
  {
   "cell_type": "code",
   "execution_count": 43,
   "metadata": {},
   "outputs": [
    {
     "data": {
      "text/plain": [
       "(7802.79, 42.692)"
      ]
     },
     "execution_count": 43,
     "metadata": {},
     "output_type": "execute_result"
    }
   ],
   "source": [
    "Q1=df.daily_decr90.quantile(0.25)\n",
    "Q3=df.daily_decr90.quantile(0.75)\n",
    "Q3,Q1"
   ]
  },
  {
   "cell_type": "code",
   "execution_count": 44,
   "metadata": {},
   "outputs": [
    {
     "data": {
      "text/plain": [
       "42.692"
      ]
     },
     "execution_count": 44,
     "metadata": {},
     "output_type": "execute_result"
    }
   ],
   "source": [
    "IQR=Q3=Q1\n",
    "IQR"
   ]
  },
  {
   "cell_type": "code",
   "execution_count": 45,
   "metadata": {},
   "outputs": [
    {
     "data": {
      "text/plain": [
       "count    209593.000000\n",
       "mean       2692.581910\n",
       "std        4308.586781\n",
       "min      -23737.140000\n",
       "25%         280.420000\n",
       "50%        1083.570000\n",
       "75%        3356.940000\n",
       "max      198926.110000\n",
       "Name: rental30, dtype: float64"
      ]
     },
     "execution_count": 45,
     "metadata": {},
     "output_type": "execute_result"
    }
   ],
   "source": [
    "df['rental30'].describe()"
   ]
  },
  {
   "cell_type": "code",
   "execution_count": 46,
   "metadata": {},
   "outputs": [
    {
     "data": {
      "text/plain": [
       "(3356.94, 280.42)"
      ]
     },
     "execution_count": 46,
     "metadata": {},
     "output_type": "execute_result"
    }
   ],
   "source": [
    "Q1=df.rental30.quantile(0.25)\n",
    "Q3=df.rental30.quantile(0.75)\n",
    "Q3,Q1"
   ]
  },
  {
   "cell_type": "code",
   "execution_count": 47,
   "metadata": {},
   "outputs": [
    {
     "data": {
      "text/plain": [
       "3076.52"
      ]
     },
     "execution_count": 47,
     "metadata": {},
     "output_type": "execute_result"
    }
   ],
   "source": [
    "IQR=Q3-Q1\n",
    "IQR"
   ]
  },
  {
   "cell_type": "code",
   "execution_count": 48,
   "metadata": {},
   "outputs": [
    {
     "data": {
      "text/plain": [
       "count    209593.000000\n",
       "mean       3483.406534\n",
       "std        5770.461279\n",
       "min      -24720.580000\n",
       "25%         300.260000\n",
       "50%        1334.000000\n",
       "75%        4201.790000\n",
       "max      200148.110000\n",
       "Name: rental90, dtype: float64"
      ]
     },
     "execution_count": 48,
     "metadata": {},
     "output_type": "execute_result"
    }
   ],
   "source": [
    "df['rental90'].describe()"
   ]
  },
  {
   "cell_type": "code",
   "execution_count": 49,
   "metadata": {},
   "outputs": [
    {
     "name": "stdout",
     "output_type": "stream",
     "text": [
      "Q3 AND Q1 is  4201.79 300.26\n",
      "IQR result is  3901.5299999999997\n"
     ]
    }
   ],
   "source": [
    "Q1=df.rental90.quantile(0.25)\n",
    "Q3=df.rental90.quantile(0.75)\n",
    "Q3,Q1\n",
    "\n",
    "IQR=Q3-Q1\n",
    "IQR\n",
    "print(\"Q3 AND Q1 is \",Q3,Q1)\n",
    "print(\"IQR result is \",IQR)"
   ]
  },
  {
   "cell_type": "code",
   "execution_count": 50,
   "metadata": {},
   "outputs": [
    {
     "data": {
      "text/plain": [
       "count    209593.00000\n",
       "mean       3755.84780\n",
       "std       53905.89223\n",
       "min         -29.00000\n",
       "25%           1.00000\n",
       "50%           3.00000\n",
       "75%           7.00000\n",
       "max      998650.37770\n",
       "Name: last_rech_date_ma, dtype: float64"
      ]
     },
     "execution_count": 50,
     "metadata": {},
     "output_type": "execute_result"
    }
   ],
   "source": [
    "df['last_rech_date_ma'].describe()"
   ]
  },
  {
   "cell_type": "code",
   "execution_count": 51,
   "metadata": {},
   "outputs": [
    {
     "name": "stdout",
     "output_type": "stream",
     "text": [
      "Q3 AND Q1 is  7.0 1.0\n",
      "IQR result is  6.0\n"
     ]
    }
   ],
   "source": [
    "Q1=df.last_rech_date_ma.quantile(0.25)\n",
    "Q3=df.last_rech_date_ma.quantile(0.75)\n",
    "Q3,Q1\n",
    "\n",
    "IQR=Q3-Q1\n",
    "IQR\n",
    "print(\"Q3 AND Q1 is \",Q3,Q1)\n",
    "print(\"IQR result is \",IQR)"
   ]
  },
  {
   "cell_type": "code",
   "execution_count": 52,
   "metadata": {},
   "outputs": [
    {
     "data": {
      "text/plain": [
       "count    209593.000000\n",
       "mean       2064.452797\n",
       "std        2370.786034\n",
       "min           0.000000\n",
       "25%         770.000000\n",
       "50%        1539.000000\n",
       "75%        2309.000000\n",
       "max       55000.000000\n",
       "Name: last_rech_amt_ma, dtype: float64"
      ]
     },
     "execution_count": 52,
     "metadata": {},
     "output_type": "execute_result"
    }
   ],
   "source": [
    "df['last_rech_amt_ma'].describe()"
   ]
  },
  {
   "cell_type": "code",
   "execution_count": 53,
   "metadata": {},
   "outputs": [
    {
     "name": "stdout",
     "output_type": "stream",
     "text": [
      "Q3 AND Q1 is  2309.0 770.0\n",
      "IQR result is  1539.0\n"
     ]
    }
   ],
   "source": [
    "Q1=df.last_rech_amt_ma.quantile(0.25)\n",
    "Q3=df.last_rech_amt_ma.quantile(0.75)\n",
    "Q3,Q1\n",
    "\n",
    "IQR=Q3-Q1\n",
    "IQR\n",
    "print(\"Q3 AND Q1 is \",Q3,Q1)\n",
    "print(\"IQR result is \",IQR)"
   ]
  },
  {
   "cell_type": "code",
   "execution_count": 54,
   "metadata": {},
   "outputs": [
    {
     "data": {
      "text/plain": [
       "count    209593.000000\n",
       "mean          3.978057\n",
       "std           4.256090\n",
       "min           0.000000\n",
       "25%           1.000000\n",
       "50%           3.000000\n",
       "75%           5.000000\n",
       "max         203.000000\n",
       "Name: cnt_ma_rech30, dtype: float64"
      ]
     },
     "execution_count": 54,
     "metadata": {},
     "output_type": "execute_result"
    }
   ],
   "source": [
    "df['cnt_ma_rech30'].describe()"
   ]
  },
  {
   "cell_type": "code",
   "execution_count": 55,
   "metadata": {},
   "outputs": [
    {
     "name": "stdout",
     "output_type": "stream",
     "text": [
      "Q3 AND Q1 is  5.0 1.0\n",
      "IQR result is  4.0\n"
     ]
    }
   ],
   "source": [
    "Q1=df.cnt_ma_rech30.quantile(0.25)\n",
    "Q3=df.cnt_ma_rech30.quantile(0.75)\n",
    "Q3,Q1\n",
    "\n",
    "IQR=Q3-Q1\n",
    "IQR\n",
    "print(\"Q3 AND Q1 is \",Q3,Q1)\n",
    "print(\"IQR result is \",IQR)"
   ]
  },
  {
   "cell_type": "code",
   "execution_count": 56,
   "metadata": {},
   "outputs": [
    {
     "data": {
      "text/plain": [
       "count    209593.000000\n",
       "mean       7704.501157\n",
       "std       10139.621714\n",
       "min           0.000000\n",
       "25%        1540.000000\n",
       "50%        4628.000000\n",
       "75%       10010.000000\n",
       "max      810096.000000\n",
       "Name: sumamnt_ma_rech30, dtype: float64"
      ]
     },
     "execution_count": 56,
     "metadata": {},
     "output_type": "execute_result"
    }
   ],
   "source": [
    "df['sumamnt_ma_rech30'].describe()"
   ]
  },
  {
   "cell_type": "code",
   "execution_count": 57,
   "metadata": {},
   "outputs": [
    {
     "name": "stdout",
     "output_type": "stream",
     "text": [
      "Q3 AND Q1 is  10010.0 1540.0\n",
      "IQR result is  8470.0\n"
     ]
    }
   ],
   "source": [
    "Q1=df.sumamnt_ma_rech30.quantile(0.25)\n",
    "Q3=df.sumamnt_ma_rech30.quantile(0.75)\n",
    "Q3,Q1\n",
    "\n",
    "IQR=Q3-Q1\n",
    "IQR\n",
    "print(\"Q3 AND Q1 is \",Q3,Q1)\n",
    "print(\"IQR result is \",IQR)"
   ]
  },
  {
   "cell_type": "code",
   "execution_count": 58,
   "metadata": {},
   "outputs": [
    {
     "data": {
      "text/plain": [
       "count    209593.000000\n",
       "mean       1812.817952\n",
       "std        2070.864620\n",
       "min           0.000000\n",
       "25%         770.000000\n",
       "50%        1539.000000\n",
       "75%        1924.000000\n",
       "max       55000.000000\n",
       "Name: medianamnt_ma_rech30, dtype: float64"
      ]
     },
     "execution_count": 58,
     "metadata": {},
     "output_type": "execute_result"
    }
   ],
   "source": [
    "df['medianamnt_ma_rech30'].describe()"
   ]
  },
  {
   "cell_type": "code",
   "execution_count": 59,
   "metadata": {},
   "outputs": [
    {
     "name": "stdout",
     "output_type": "stream",
     "text": [
      "Q3 AND Q1 is  1924.0 770.0\n",
      "IQR result is  1154.0\n"
     ]
    }
   ],
   "source": [
    "Q1=df.medianamnt_ma_rech30.quantile(0.25)\n",
    "Q3=df.medianamnt_ma_rech30.quantile(0.75)\n",
    "Q3,Q1\n",
    "\n",
    "IQR=Q3-Q1\n",
    "IQR\n",
    "print(\"Q3 AND Q1 is \",Q3,Q1)\n",
    "print(\"IQR result is \",IQR)"
   ]
  },
  {
   "cell_type": "code",
   "execution_count": 60,
   "metadata": {
    "scrolled": true
   },
   "outputs": [
    {
     "data": {
      "text/plain": [
       "count    209593.000000\n",
       "mean         92.025541\n",
       "std         369.215658\n",
       "min        -200.000000\n",
       "25%          14.600000\n",
       "50%          36.000000\n",
       "75%          79.310000\n",
       "max       41456.500000\n",
       "Name: medianmarechprebal90, dtype: float64"
      ]
     },
     "execution_count": 60,
     "metadata": {},
     "output_type": "execute_result"
    }
   ],
   "source": [
    "df['medianmarechprebal90'].describe()"
   ]
  },
  {
   "cell_type": "code",
   "execution_count": 61,
   "metadata": {},
   "outputs": [
    {
     "name": "stdout",
     "output_type": "stream",
     "text": [
      "Q3 AND Q1 is  79.31 14.6\n",
      "IQR result is  64.71000000000001\n"
     ]
    }
   ],
   "source": [
    "Q1=df.medianmarechprebal90.quantile(0.25)\n",
    "Q3=df.medianmarechprebal90.quantile(0.75)\n",
    "Q3,Q1\n",
    "\n",
    "IQR=Q3-Q1\n",
    "IQR\n",
    "print(\"Q3 AND Q1 is \",Q3,Q1)\n",
    "print(\"IQR result is \",IQR)"
   ]
  },
  {
   "cell_type": "code",
   "execution_count": 62,
   "metadata": {},
   "outputs": [
    {
     "data": {
      "text/plain": [
       "count    209593.000000\n",
       "mean         17.952021\n",
       "std          17.379741\n",
       "min           0.000000\n",
       "25%           6.000000\n",
       "50%          12.000000\n",
       "75%          24.000000\n",
       "max         306.000000\n",
       "Name: amnt_loans30, dtype: float64"
      ]
     },
     "execution_count": 62,
     "metadata": {},
     "output_type": "execute_result"
    }
   ],
   "source": [
    "df['amnt_loans30'].describe()"
   ]
  },
  {
   "cell_type": "code",
   "execution_count": 63,
   "metadata": {},
   "outputs": [
    {
     "name": "stdout",
     "output_type": "stream",
     "text": [
      "Q3 AND Q1 is  24.0 6.0\n",
      "IQR result is  18.0\n"
     ]
    }
   ],
   "source": [
    "Q1=df.amnt_loans30.quantile(0.25)\n",
    "Q3=df.amnt_loans30.quantile(0.75)\n",
    "Q3,Q1\n",
    "\n",
    "IQR=Q3-Q1\n",
    "IQR\n",
    "print(\"Q3 AND Q1 is \",Q3,Q1)\n",
    "print(\"IQR result is \",IQR)"
   ]
  },
  {
   "cell_type": "code",
   "execution_count": 64,
   "metadata": {},
   "outputs": [
    {
     "data": {
      "text/plain": [
       "count    209593.000000\n",
       "mean         40.008073\n",
       "std          23.605577\n",
       "min           0.000000\n",
       "25%          20.000000\n",
       "50%          39.000000\n",
       "75%          61.000000\n",
       "max          81.000000\n",
       "Name: pdate, dtype: float64"
      ]
     },
     "execution_count": 64,
     "metadata": {},
     "output_type": "execute_result"
    }
   ],
   "source": [
    "df['pdate'].describe()"
   ]
  },
  {
   "cell_type": "code",
   "execution_count": 65,
   "metadata": {},
   "outputs": [
    {
     "name": "stdout",
     "output_type": "stream",
     "text": [
      "Q3 AND Q1 is  61.0 20.0\n",
      "IQR result is  41.0\n"
     ]
    }
   ],
   "source": [
    "Q1=df.pdate.quantile(0.25)\n",
    "Q3=df.pdate.quantile(0.75)\n",
    "Q3,Q1\n",
    "\n",
    "IQR=Q3-Q1\n",
    "IQR\n",
    "print(\"Q3 AND Q1 is \",Q3,Q1)\n",
    "print(\"IQR result is \",IQR)"
   ]
  },
  {
   "cell_type": "code",
   "execution_count": 66,
   "metadata": {},
   "outputs": [
    {
     "data": {
      "text/html": [
       "<div>\n",
       "<style scoped>\n",
       "    .dataframe tbody tr th:only-of-type {\n",
       "        vertical-align: middle;\n",
       "    }\n",
       "\n",
       "    .dataframe tbody tr th {\n",
       "        vertical-align: top;\n",
       "    }\n",
       "\n",
       "    .dataframe thead th {\n",
       "        text-align: right;\n",
       "    }\n",
       "</style>\n",
       "<table border=\"1\" class=\"dataframe\">\n",
       "  <thead>\n",
       "    <tr style=\"text-align: right;\">\n",
       "      <th></th>\n",
       "      <th>Unnamed: 0</th>\n",
       "      <th>label</th>\n",
       "      <th>msisdn</th>\n",
       "      <th>aon</th>\n",
       "      <th>daily_decr30</th>\n",
       "      <th>daily_decr90</th>\n",
       "      <th>rental30</th>\n",
       "      <th>rental90</th>\n",
       "      <th>last_rech_date_ma</th>\n",
       "      <th>last_rech_date_da</th>\n",
       "      <th>...</th>\n",
       "      <th>maxamnt_loans30</th>\n",
       "      <th>medianamnt_loans30</th>\n",
       "      <th>cnt_loans90</th>\n",
       "      <th>amnt_loans90</th>\n",
       "      <th>maxamnt_loans90</th>\n",
       "      <th>medianamnt_loans90</th>\n",
       "      <th>payback30</th>\n",
       "      <th>payback90</th>\n",
       "      <th>pcircle</th>\n",
       "      <th>pdate</th>\n",
       "    </tr>\n",
       "  </thead>\n",
       "  <tbody>\n",
       "    <tr>\n",
       "      <th>count</th>\n",
       "      <td>209593.000000</td>\n",
       "      <td>209593.000000</td>\n",
       "      <td>209593.000000</td>\n",
       "      <td>209593.000000</td>\n",
       "      <td>209593.000000</td>\n",
       "      <td>209593.000000</td>\n",
       "      <td>209593.000000</td>\n",
       "      <td>209593.000000</td>\n",
       "      <td>209593.00000</td>\n",
       "      <td>209593.000000</td>\n",
       "      <td>...</td>\n",
       "      <td>209593.000000</td>\n",
       "      <td>209593.000000</td>\n",
       "      <td>209593.000000</td>\n",
       "      <td>209593.000000</td>\n",
       "      <td>209593.000000</td>\n",
       "      <td>209593.000000</td>\n",
       "      <td>209593.000000</td>\n",
       "      <td>209593.000000</td>\n",
       "      <td>209593.0</td>\n",
       "      <td>209593.000000</td>\n",
       "    </tr>\n",
       "    <tr>\n",
       "      <th>mean</th>\n",
       "      <td>104797.000000</td>\n",
       "      <td>0.875177</td>\n",
       "      <td>93100.650179</td>\n",
       "      <td>8112.343445</td>\n",
       "      <td>5381.402289</td>\n",
       "      <td>6082.515068</td>\n",
       "      <td>2692.581910</td>\n",
       "      <td>3483.406534</td>\n",
       "      <td>3755.84780</td>\n",
       "      <td>3712.202921</td>\n",
       "      <td>...</td>\n",
       "      <td>274.658747</td>\n",
       "      <td>0.054029</td>\n",
       "      <td>18.520919</td>\n",
       "      <td>23.645398</td>\n",
       "      <td>6.703134</td>\n",
       "      <td>0.046077</td>\n",
       "      <td>3.398826</td>\n",
       "      <td>4.321485</td>\n",
       "      <td>0.0</td>\n",
       "      <td>40.008073</td>\n",
       "    </tr>\n",
       "    <tr>\n",
       "      <th>std</th>\n",
       "      <td>60504.431823</td>\n",
       "      <td>0.330519</td>\n",
       "      <td>53758.461427</td>\n",
       "      <td>75696.082531</td>\n",
       "      <td>9220.623400</td>\n",
       "      <td>10918.812767</td>\n",
       "      <td>4308.586781</td>\n",
       "      <td>5770.461279</td>\n",
       "      <td>53905.89223</td>\n",
       "      <td>53374.833430</td>\n",
       "      <td>...</td>\n",
       "      <td>4245.264648</td>\n",
       "      <td>0.218039</td>\n",
       "      <td>224.797423</td>\n",
       "      <td>26.469861</td>\n",
       "      <td>2.103864</td>\n",
       "      <td>0.200692</td>\n",
       "      <td>8.813729</td>\n",
       "      <td>10.308108</td>\n",
       "      <td>0.0</td>\n",
       "      <td>23.605577</td>\n",
       "    </tr>\n",
       "    <tr>\n",
       "      <th>min</th>\n",
       "      <td>1.000000</td>\n",
       "      <td>0.000000</td>\n",
       "      <td>0.000000</td>\n",
       "      <td>-48.000000</td>\n",
       "      <td>-93.012667</td>\n",
       "      <td>-93.012667</td>\n",
       "      <td>-23737.140000</td>\n",
       "      <td>-24720.580000</td>\n",
       "      <td>-29.00000</td>\n",
       "      <td>-29.000000</td>\n",
       "      <td>...</td>\n",
       "      <td>0.000000</td>\n",
       "      <td>0.000000</td>\n",
       "      <td>0.000000</td>\n",
       "      <td>0.000000</td>\n",
       "      <td>0.000000</td>\n",
       "      <td>0.000000</td>\n",
       "      <td>0.000000</td>\n",
       "      <td>0.000000</td>\n",
       "      <td>0.0</td>\n",
       "      <td>0.000000</td>\n",
       "    </tr>\n",
       "    <tr>\n",
       "      <th>25%</th>\n",
       "      <td>52399.000000</td>\n",
       "      <td>1.000000</td>\n",
       "      <td>46506.000000</td>\n",
       "      <td>246.000000</td>\n",
       "      <td>42.440000</td>\n",
       "      <td>42.692000</td>\n",
       "      <td>280.420000</td>\n",
       "      <td>300.260000</td>\n",
       "      <td>1.00000</td>\n",
       "      <td>0.000000</td>\n",
       "      <td>...</td>\n",
       "      <td>6.000000</td>\n",
       "      <td>0.000000</td>\n",
       "      <td>1.000000</td>\n",
       "      <td>6.000000</td>\n",
       "      <td>6.000000</td>\n",
       "      <td>0.000000</td>\n",
       "      <td>0.000000</td>\n",
       "      <td>0.000000</td>\n",
       "      <td>0.0</td>\n",
       "      <td>20.000000</td>\n",
       "    </tr>\n",
       "    <tr>\n",
       "      <th>50%</th>\n",
       "      <td>104797.000000</td>\n",
       "      <td>1.000000</td>\n",
       "      <td>93073.000000</td>\n",
       "      <td>527.000000</td>\n",
       "      <td>1469.175667</td>\n",
       "      <td>1500.000000</td>\n",
       "      <td>1083.570000</td>\n",
       "      <td>1334.000000</td>\n",
       "      <td>3.00000</td>\n",
       "      <td>0.000000</td>\n",
       "      <td>...</td>\n",
       "      <td>6.000000</td>\n",
       "      <td>0.000000</td>\n",
       "      <td>2.000000</td>\n",
       "      <td>12.000000</td>\n",
       "      <td>6.000000</td>\n",
       "      <td>0.000000</td>\n",
       "      <td>0.000000</td>\n",
       "      <td>1.666667</td>\n",
       "      <td>0.0</td>\n",
       "      <td>39.000000</td>\n",
       "    </tr>\n",
       "    <tr>\n",
       "      <th>75%</th>\n",
       "      <td>157195.000000</td>\n",
       "      <td>1.000000</td>\n",
       "      <td>139626.000000</td>\n",
       "      <td>982.000000</td>\n",
       "      <td>7244.000000</td>\n",
       "      <td>7802.790000</td>\n",
       "      <td>3356.940000</td>\n",
       "      <td>4201.790000</td>\n",
       "      <td>7.00000</td>\n",
       "      <td>0.000000</td>\n",
       "      <td>...</td>\n",
       "      <td>6.000000</td>\n",
       "      <td>0.000000</td>\n",
       "      <td>5.000000</td>\n",
       "      <td>30.000000</td>\n",
       "      <td>6.000000</td>\n",
       "      <td>0.000000</td>\n",
       "      <td>3.750000</td>\n",
       "      <td>4.500000</td>\n",
       "      <td>0.0</td>\n",
       "      <td>61.000000</td>\n",
       "    </tr>\n",
       "    <tr>\n",
       "      <th>max</th>\n",
       "      <td>209593.000000</td>\n",
       "      <td>1.000000</td>\n",
       "      <td>186242.000000</td>\n",
       "      <td>999860.755200</td>\n",
       "      <td>265926.000000</td>\n",
       "      <td>320630.000000</td>\n",
       "      <td>198926.110000</td>\n",
       "      <td>200148.110000</td>\n",
       "      <td>998650.37770</td>\n",
       "      <td>999171.809400</td>\n",
       "      <td>...</td>\n",
       "      <td>99864.560860</td>\n",
       "      <td>3.000000</td>\n",
       "      <td>4997.517944</td>\n",
       "      <td>438.000000</td>\n",
       "      <td>12.000000</td>\n",
       "      <td>3.000000</td>\n",
       "      <td>171.500000</td>\n",
       "      <td>171.500000</td>\n",
       "      <td>0.0</td>\n",
       "      <td>81.000000</td>\n",
       "    </tr>\n",
       "  </tbody>\n",
       "</table>\n",
       "<p>8 rows × 37 columns</p>\n",
       "</div>"
      ],
      "text/plain": [
       "          Unnamed: 0          label         msisdn            aon  \\\n",
       "count  209593.000000  209593.000000  209593.000000  209593.000000   \n",
       "mean   104797.000000       0.875177   93100.650179    8112.343445   \n",
       "std     60504.431823       0.330519   53758.461427   75696.082531   \n",
       "min         1.000000       0.000000       0.000000     -48.000000   \n",
       "25%     52399.000000       1.000000   46506.000000     246.000000   \n",
       "50%    104797.000000       1.000000   93073.000000     527.000000   \n",
       "75%    157195.000000       1.000000  139626.000000     982.000000   \n",
       "max    209593.000000       1.000000  186242.000000  999860.755200   \n",
       "\n",
       "        daily_decr30   daily_decr90       rental30       rental90  \\\n",
       "count  209593.000000  209593.000000  209593.000000  209593.000000   \n",
       "mean     5381.402289    6082.515068    2692.581910    3483.406534   \n",
       "std      9220.623400   10918.812767    4308.586781    5770.461279   \n",
       "min       -93.012667     -93.012667  -23737.140000  -24720.580000   \n",
       "25%        42.440000      42.692000     280.420000     300.260000   \n",
       "50%      1469.175667    1500.000000    1083.570000    1334.000000   \n",
       "75%      7244.000000    7802.790000    3356.940000    4201.790000   \n",
       "max    265926.000000  320630.000000  198926.110000  200148.110000   \n",
       "\n",
       "       last_rech_date_ma  last_rech_date_da  ...  maxamnt_loans30  \\\n",
       "count       209593.00000      209593.000000  ...    209593.000000   \n",
       "mean          3755.84780        3712.202921  ...       274.658747   \n",
       "std          53905.89223       53374.833430  ...      4245.264648   \n",
       "min            -29.00000         -29.000000  ...         0.000000   \n",
       "25%              1.00000           0.000000  ...         6.000000   \n",
       "50%              3.00000           0.000000  ...         6.000000   \n",
       "75%              7.00000           0.000000  ...         6.000000   \n",
       "max         998650.37770      999171.809400  ...     99864.560860   \n",
       "\n",
       "       medianamnt_loans30    cnt_loans90   amnt_loans90  maxamnt_loans90  \\\n",
       "count       209593.000000  209593.000000  209593.000000    209593.000000   \n",
       "mean             0.054029      18.520919      23.645398         6.703134   \n",
       "std              0.218039     224.797423      26.469861         2.103864   \n",
       "min              0.000000       0.000000       0.000000         0.000000   \n",
       "25%              0.000000       1.000000       6.000000         6.000000   \n",
       "50%              0.000000       2.000000      12.000000         6.000000   \n",
       "75%              0.000000       5.000000      30.000000         6.000000   \n",
       "max              3.000000    4997.517944     438.000000        12.000000   \n",
       "\n",
       "       medianamnt_loans90      payback30      payback90   pcircle  \\\n",
       "count       209593.000000  209593.000000  209593.000000  209593.0   \n",
       "mean             0.046077       3.398826       4.321485       0.0   \n",
       "std              0.200692       8.813729      10.308108       0.0   \n",
       "min              0.000000       0.000000       0.000000       0.0   \n",
       "25%              0.000000       0.000000       0.000000       0.0   \n",
       "50%              0.000000       0.000000       1.666667       0.0   \n",
       "75%              0.000000       3.750000       4.500000       0.0   \n",
       "max              3.000000     171.500000     171.500000       0.0   \n",
       "\n",
       "               pdate  \n",
       "count  209593.000000  \n",
       "mean       40.008073  \n",
       "std        23.605577  \n",
       "min         0.000000  \n",
       "25%        20.000000  \n",
       "50%        39.000000  \n",
       "75%        61.000000  \n",
       "max        81.000000  \n",
       "\n",
       "[8 rows x 37 columns]"
      ]
     },
     "execution_count": 66,
     "metadata": {},
     "output_type": "execute_result"
    }
   ],
   "source": [
    "df.describe()"
   ]
  },
  {
   "cell_type": "code",
   "execution_count": 67,
   "metadata": {},
   "outputs": [
    {
     "data": {
      "text/html": [
       "<div>\n",
       "<style scoped>\n",
       "    .dataframe tbody tr th:only-of-type {\n",
       "        vertical-align: middle;\n",
       "    }\n",
       "\n",
       "    .dataframe tbody tr th {\n",
       "        vertical-align: top;\n",
       "    }\n",
       "\n",
       "    .dataframe thead th {\n",
       "        text-align: right;\n",
       "    }\n",
       "</style>\n",
       "<table border=\"1\" class=\"dataframe\">\n",
       "  <thead>\n",
       "    <tr style=\"text-align: right;\">\n",
       "      <th></th>\n",
       "      <th>Unnamed: 0</th>\n",
       "      <th>label</th>\n",
       "      <th>msisdn</th>\n",
       "      <th>aon</th>\n",
       "      <th>daily_decr30</th>\n",
       "      <th>daily_decr90</th>\n",
       "      <th>rental30</th>\n",
       "      <th>rental90</th>\n",
       "      <th>last_rech_date_ma</th>\n",
       "      <th>last_rech_date_da</th>\n",
       "      <th>...</th>\n",
       "      <th>maxamnt_loans30</th>\n",
       "      <th>medianamnt_loans30</th>\n",
       "      <th>cnt_loans90</th>\n",
       "      <th>amnt_loans90</th>\n",
       "      <th>maxamnt_loans90</th>\n",
       "      <th>medianamnt_loans90</th>\n",
       "      <th>payback30</th>\n",
       "      <th>payback90</th>\n",
       "      <th>pcircle</th>\n",
       "      <th>pdate</th>\n",
       "    </tr>\n",
       "  </thead>\n",
       "  <tbody>\n",
       "    <tr>\n",
       "      <th>0</th>\n",
       "      <td>1</td>\n",
       "      <td>0</td>\n",
       "      <td>40191</td>\n",
       "      <td>272.0</td>\n",
       "      <td>3055.050000</td>\n",
       "      <td>3065.150000</td>\n",
       "      <td>220.13</td>\n",
       "      <td>260.13</td>\n",
       "      <td>2.0</td>\n",
       "      <td>0.0</td>\n",
       "      <td>...</td>\n",
       "      <td>6.0</td>\n",
       "      <td>0.0</td>\n",
       "      <td>2.0</td>\n",
       "      <td>12</td>\n",
       "      <td>6</td>\n",
       "      <td>0.0</td>\n",
       "      <td>29.000000</td>\n",
       "      <td>29.000000</td>\n",
       "      <td>0</td>\n",
       "      <td>58</td>\n",
       "    </tr>\n",
       "    <tr>\n",
       "      <th>1</th>\n",
       "      <td>2</td>\n",
       "      <td>1</td>\n",
       "      <td>142291</td>\n",
       "      <td>712.0</td>\n",
       "      <td>12122.000000</td>\n",
       "      <td>12124.750000</td>\n",
       "      <td>3691.26</td>\n",
       "      <td>3691.26</td>\n",
       "      <td>20.0</td>\n",
       "      <td>0.0</td>\n",
       "      <td>...</td>\n",
       "      <td>12.0</td>\n",
       "      <td>0.0</td>\n",
       "      <td>1.0</td>\n",
       "      <td>12</td>\n",
       "      <td>12</td>\n",
       "      <td>0.0</td>\n",
       "      <td>0.000000</td>\n",
       "      <td>0.000000</td>\n",
       "      <td>0</td>\n",
       "      <td>29</td>\n",
       "    </tr>\n",
       "    <tr>\n",
       "      <th>2</th>\n",
       "      <td>3</td>\n",
       "      <td>1</td>\n",
       "      <td>33594</td>\n",
       "      <td>535.0</td>\n",
       "      <td>1398.000000</td>\n",
       "      <td>1398.000000</td>\n",
       "      <td>900.13</td>\n",
       "      <td>900.13</td>\n",
       "      <td>3.0</td>\n",
       "      <td>0.0</td>\n",
       "      <td>...</td>\n",
       "      <td>6.0</td>\n",
       "      <td>0.0</td>\n",
       "      <td>1.0</td>\n",
       "      <td>6</td>\n",
       "      <td>6</td>\n",
       "      <td>0.0</td>\n",
       "      <td>0.000000</td>\n",
       "      <td>0.000000</td>\n",
       "      <td>0</td>\n",
       "      <td>56</td>\n",
       "    </tr>\n",
       "    <tr>\n",
       "      <th>3</th>\n",
       "      <td>4</td>\n",
       "      <td>1</td>\n",
       "      <td>104157</td>\n",
       "      <td>241.0</td>\n",
       "      <td>21.228000</td>\n",
       "      <td>21.228000</td>\n",
       "      <td>159.42</td>\n",
       "      <td>159.42</td>\n",
       "      <td>41.0</td>\n",
       "      <td>0.0</td>\n",
       "      <td>...</td>\n",
       "      <td>6.0</td>\n",
       "      <td>0.0</td>\n",
       "      <td>2.0</td>\n",
       "      <td>12</td>\n",
       "      <td>6</td>\n",
       "      <td>0.0</td>\n",
       "      <td>0.000000</td>\n",
       "      <td>0.000000</td>\n",
       "      <td>0</td>\n",
       "      <td>15</td>\n",
       "    </tr>\n",
       "    <tr>\n",
       "      <th>4</th>\n",
       "      <td>5</td>\n",
       "      <td>1</td>\n",
       "      <td>6910</td>\n",
       "      <td>947.0</td>\n",
       "      <td>150.619333</td>\n",
       "      <td>150.619333</td>\n",
       "      <td>1098.90</td>\n",
       "      <td>1098.90</td>\n",
       "      <td>4.0</td>\n",
       "      <td>0.0</td>\n",
       "      <td>...</td>\n",
       "      <td>6.0</td>\n",
       "      <td>0.0</td>\n",
       "      <td>7.0</td>\n",
       "      <td>42</td>\n",
       "      <td>6</td>\n",
       "      <td>0.0</td>\n",
       "      <td>2.333333</td>\n",
       "      <td>2.333333</td>\n",
       "      <td>0</td>\n",
       "      <td>63</td>\n",
       "    </tr>\n",
       "    <tr>\n",
       "      <th>...</th>\n",
       "      <td>...</td>\n",
       "      <td>...</td>\n",
       "      <td>...</td>\n",
       "      <td>...</td>\n",
       "      <td>...</td>\n",
       "      <td>...</td>\n",
       "      <td>...</td>\n",
       "      <td>...</td>\n",
       "      <td>...</td>\n",
       "      <td>...</td>\n",
       "      <td>...</td>\n",
       "      <td>...</td>\n",
       "      <td>...</td>\n",
       "      <td>...</td>\n",
       "      <td>...</td>\n",
       "      <td>...</td>\n",
       "      <td>...</td>\n",
       "      <td>...</td>\n",
       "      <td>...</td>\n",
       "      <td>...</td>\n",
       "      <td>...</td>\n",
       "    </tr>\n",
       "    <tr>\n",
       "      <th>209588</th>\n",
       "      <td>209589</td>\n",
       "      <td>1</td>\n",
       "      <td>42866</td>\n",
       "      <td>404.0</td>\n",
       "      <td>151.872333</td>\n",
       "      <td>151.872333</td>\n",
       "      <td>1089.19</td>\n",
       "      <td>1089.19</td>\n",
       "      <td>1.0</td>\n",
       "      <td>0.0</td>\n",
       "      <td>...</td>\n",
       "      <td>6.0</td>\n",
       "      <td>0.0</td>\n",
       "      <td>2.0</td>\n",
       "      <td>12</td>\n",
       "      <td>6</td>\n",
       "      <td>0.0</td>\n",
       "      <td>1.000000</td>\n",
       "      <td>1.000000</td>\n",
       "      <td>0</td>\n",
       "      <td>48</td>\n",
       "    </tr>\n",
       "    <tr>\n",
       "      <th>209589</th>\n",
       "      <td>209590</td>\n",
       "      <td>1</td>\n",
       "      <td>178248</td>\n",
       "      <td>1075.0</td>\n",
       "      <td>36.936000</td>\n",
       "      <td>36.936000</td>\n",
       "      <td>1728.36</td>\n",
       "      <td>1728.36</td>\n",
       "      <td>4.0</td>\n",
       "      <td>0.0</td>\n",
       "      <td>...</td>\n",
       "      <td>6.0</td>\n",
       "      <td>0.0</td>\n",
       "      <td>3.0</td>\n",
       "      <td>18</td>\n",
       "      <td>6</td>\n",
       "      <td>0.0</td>\n",
       "      <td>1.000000</td>\n",
       "      <td>1.000000</td>\n",
       "      <td>0</td>\n",
       "      <td>33</td>\n",
       "    </tr>\n",
       "    <tr>\n",
       "      <th>209590</th>\n",
       "      <td>209591</td>\n",
       "      <td>1</td>\n",
       "      <td>53995</td>\n",
       "      <td>1013.0</td>\n",
       "      <td>11843.111670</td>\n",
       "      <td>11904.350000</td>\n",
       "      <td>5861.83</td>\n",
       "      <td>8893.20</td>\n",
       "      <td>3.0</td>\n",
       "      <td>0.0</td>\n",
       "      <td>...</td>\n",
       "      <td>12.0</td>\n",
       "      <td>0.0</td>\n",
       "      <td>6.0</td>\n",
       "      <td>54</td>\n",
       "      <td>12</td>\n",
       "      <td>0.0</td>\n",
       "      <td>4.000000</td>\n",
       "      <td>3.833333</td>\n",
       "      <td>0</td>\n",
       "      <td>78</td>\n",
       "    </tr>\n",
       "    <tr>\n",
       "      <th>209591</th>\n",
       "      <td>209592</td>\n",
       "      <td>1</td>\n",
       "      <td>111388</td>\n",
       "      <td>1732.0</td>\n",
       "      <td>12488.228330</td>\n",
       "      <td>12574.370000</td>\n",
       "      <td>411.83</td>\n",
       "      <td>984.58</td>\n",
       "      <td>2.0</td>\n",
       "      <td>38.0</td>\n",
       "      <td>...</td>\n",
       "      <td>12.0</td>\n",
       "      <td>0.0</td>\n",
       "      <td>3.0</td>\n",
       "      <td>24</td>\n",
       "      <td>12</td>\n",
       "      <td>0.0</td>\n",
       "      <td>0.000000</td>\n",
       "      <td>10.500000</td>\n",
       "      <td>0</td>\n",
       "      <td>70</td>\n",
       "    </tr>\n",
       "    <tr>\n",
       "      <th>209592</th>\n",
       "      <td>209593</td>\n",
       "      <td>1</td>\n",
       "      <td>121263</td>\n",
       "      <td>1581.0</td>\n",
       "      <td>4489.362000</td>\n",
       "      <td>4534.820000</td>\n",
       "      <td>483.92</td>\n",
       "      <td>631.20</td>\n",
       "      <td>13.0</td>\n",
       "      <td>0.0</td>\n",
       "      <td>...</td>\n",
       "      <td>12.0</td>\n",
       "      <td>0.0</td>\n",
       "      <td>2.0</td>\n",
       "      <td>18</td>\n",
       "      <td>12</td>\n",
       "      <td>0.0</td>\n",
       "      <td>0.000000</td>\n",
       "      <td>0.000000</td>\n",
       "      <td>0</td>\n",
       "      <td>19</td>\n",
       "    </tr>\n",
       "  </tbody>\n",
       "</table>\n",
       "<p>209593 rows × 37 columns</p>\n",
       "</div>"
      ],
      "text/plain": [
       "        Unnamed: 0  label  msisdn     aon  daily_decr30  daily_decr90  \\\n",
       "0                1      0   40191   272.0   3055.050000   3065.150000   \n",
       "1                2      1  142291   712.0  12122.000000  12124.750000   \n",
       "2                3      1   33594   535.0   1398.000000   1398.000000   \n",
       "3                4      1  104157   241.0     21.228000     21.228000   \n",
       "4                5      1    6910   947.0    150.619333    150.619333   \n",
       "...            ...    ...     ...     ...           ...           ...   \n",
       "209588      209589      1   42866   404.0    151.872333    151.872333   \n",
       "209589      209590      1  178248  1075.0     36.936000     36.936000   \n",
       "209590      209591      1   53995  1013.0  11843.111670  11904.350000   \n",
       "209591      209592      1  111388  1732.0  12488.228330  12574.370000   \n",
       "209592      209593      1  121263  1581.0   4489.362000   4534.820000   \n",
       "\n",
       "        rental30  rental90  last_rech_date_ma  last_rech_date_da  ...  \\\n",
       "0         220.13    260.13                2.0                0.0  ...   \n",
       "1        3691.26   3691.26               20.0                0.0  ...   \n",
       "2         900.13    900.13                3.0                0.0  ...   \n",
       "3         159.42    159.42               41.0                0.0  ...   \n",
       "4        1098.90   1098.90                4.0                0.0  ...   \n",
       "...          ...       ...                ...                ...  ...   \n",
       "209588   1089.19   1089.19                1.0                0.0  ...   \n",
       "209589   1728.36   1728.36                4.0                0.0  ...   \n",
       "209590   5861.83   8893.20                3.0                0.0  ...   \n",
       "209591    411.83    984.58                2.0               38.0  ...   \n",
       "209592    483.92    631.20               13.0                0.0  ...   \n",
       "\n",
       "        maxamnt_loans30  medianamnt_loans30  cnt_loans90  amnt_loans90  \\\n",
       "0                   6.0                 0.0          2.0            12   \n",
       "1                  12.0                 0.0          1.0            12   \n",
       "2                   6.0                 0.0          1.0             6   \n",
       "3                   6.0                 0.0          2.0            12   \n",
       "4                   6.0                 0.0          7.0            42   \n",
       "...                 ...                 ...          ...           ...   \n",
       "209588              6.0                 0.0          2.0            12   \n",
       "209589              6.0                 0.0          3.0            18   \n",
       "209590             12.0                 0.0          6.0            54   \n",
       "209591             12.0                 0.0          3.0            24   \n",
       "209592             12.0                 0.0          2.0            18   \n",
       "\n",
       "        maxamnt_loans90  medianamnt_loans90  payback30  payback90  pcircle  \\\n",
       "0                     6                 0.0  29.000000  29.000000        0   \n",
       "1                    12                 0.0   0.000000   0.000000        0   \n",
       "2                     6                 0.0   0.000000   0.000000        0   \n",
       "3                     6                 0.0   0.000000   0.000000        0   \n",
       "4                     6                 0.0   2.333333   2.333333        0   \n",
       "...                 ...                 ...        ...        ...      ...   \n",
       "209588                6                 0.0   1.000000   1.000000        0   \n",
       "209589                6                 0.0   1.000000   1.000000        0   \n",
       "209590               12                 0.0   4.000000   3.833333        0   \n",
       "209591               12                 0.0   0.000000  10.500000        0   \n",
       "209592               12                 0.0   0.000000   0.000000        0   \n",
       "\n",
       "        pdate  \n",
       "0          58  \n",
       "1          29  \n",
       "2          56  \n",
       "3          15  \n",
       "4          63  \n",
       "...       ...  \n",
       "209588     48  \n",
       "209589     33  \n",
       "209590     78  \n",
       "209591     70  \n",
       "209592     19  \n",
       "\n",
       "[209593 rows x 37 columns]"
      ]
     },
     "execution_count": 67,
     "metadata": {},
     "output_type": "execute_result"
    }
   ],
   "source": [
    "df"
   ]
  },
  {
   "cell_type": "markdown",
   "metadata": {},
   "source": [
    "remove the outliers."
   ]
  },
  {
   "cell_type": "markdown",
   "metadata": {},
   "source": [
    "# skewness"
   ]
  },
  {
   "cell_type": "code",
   "execution_count": 68,
   "metadata": {},
   "outputs": [],
   "source": [
    "x=df.drop(\"label\",axis=1)\n",
    "y=df[\"label\"]"
   ]
  },
  {
   "cell_type": "code",
   "execution_count": 69,
   "metadata": {},
   "outputs": [
    {
     "data": {
      "text/plain": [
       "Unnamed: 0               0.000000\n",
       "msisdn                   0.000719\n",
       "aon                     10.392949\n",
       "daily_decr30             3.946230\n",
       "daily_decr90             4.252565\n",
       "rental30                 4.521929\n",
       "rental90                 4.437681\n",
       "last_rech_date_ma       14.790974\n",
       "last_rech_date_da       14.814857\n",
       "last_rech_amt_ma         3.781149\n",
       "cnt_ma_rech30            3.283842\n",
       "fr_ma_rech30            14.772833\n",
       "sumamnt_ma_rech30        6.386787\n",
       "medianamnt_ma_rech30     3.512324\n",
       "medianmarechprebal30    14.779875\n",
       "cnt_ma_rech90            3.425254\n",
       "fr_ma_rech90             2.285423\n",
       "sumamnt_ma_rech90        4.897950\n",
       "medianamnt_ma_rech90     3.752706\n",
       "medianmarechprebal90    44.880503\n",
       "cnt_da_rech30           17.818364\n",
       "fr_da_rech30            14.776430\n",
       "cnt_da_rech90           27.267278\n",
       "fr_da_rech90            28.988083\n",
       "cnt_loans30              2.713421\n",
       "amnt_loans30             2.975719\n",
       "maxamnt_loans30         17.658052\n",
       "medianamnt_loans30       4.551043\n",
       "cnt_loans90             16.594408\n",
       "amnt_loans90             3.150006\n",
       "maxamnt_loans90          1.678304\n",
       "medianamnt_loans90       4.895720\n",
       "payback30                8.310695\n",
       "payback90                6.899951\n",
       "pcircle                  0.000000\n",
       "pdate                    0.039421\n",
       "dtype: float64"
      ]
     },
     "execution_count": 69,
     "metadata": {},
     "output_type": "execute_result"
    }
   ],
   "source": [
    "x.skew()"
   ]
  },
  {
   "cell_type": "code",
   "execution_count": 70,
   "metadata": {},
   "outputs": [],
   "source": [
    "from sklearn.preprocessing import power_transform\n",
    "new_df=power_transform(x)\n",
    "\n",
    "new_df=pd.DataFrame(new_df,columns=x.columns)"
   ]
  },
  {
   "cell_type": "code",
   "execution_count": 71,
   "metadata": {},
   "outputs": [
    {
     "data": {
      "text/plain": [
       "Unnamed: 0               -0.291503\n",
       "msisdn                   -0.291511\n",
       "aon                       1.654517\n",
       "daily_decr30             -6.582718\n",
       "daily_decr90             -7.080191\n",
       "rental30                 -1.022844\n",
       "rental90                 -0.962717\n",
       "last_rech_date_ma        -5.362530\n",
       "last_rech_date_da      -106.606657\n",
       "last_rech_amt_ma         -0.061262\n",
       "cnt_ma_rech30            -0.000145\n",
       "fr_ma_rech30              0.165015\n",
       "sumamnt_ma_rech30        -0.291322\n",
       "medianamnt_ma_rech30     -0.189628\n",
       "medianmarechprebal30     -0.119058\n",
       "cnt_ma_rech90            -0.002465\n",
       "fr_ma_rech90              0.142952\n",
       "sumamnt_ma_rech90        -0.192158\n",
       "medianamnt_ma_rech90     -0.044604\n",
       "medianmarechprebal90      7.506286\n",
       "cnt_da_rech30             6.925820\n",
       "fr_da_rech30             11.390665\n",
       "cnt_da_rech90             6.006577\n",
       "fr_da_rech90             15.469700\n",
       "cnt_loans30               0.036243\n",
       "amnt_loans30              0.001948\n",
       "maxamnt_loans30          -1.680107\n",
       "medianamnt_loans30        3.447735\n",
       "cnt_loans90               0.105580\n",
       "amnt_loans90             -0.008988\n",
       "maxamnt_loans90           0.364282\n",
       "medianamnt_loans90        3.779598\n",
       "payback30                 0.298563\n",
       "payback90                 0.210887\n",
       "pcircle                   0.000000\n",
       "pdate                    -0.254833\n",
       "dtype: float64"
      ]
     },
     "execution_count": 71,
     "metadata": {},
     "output_type": "execute_result"
    }
   ],
   "source": [
    "new_df.skew()"
   ]
  },
  {
   "cell_type": "code",
   "execution_count": 72,
   "metadata": {},
   "outputs": [
    {
     "data": {
      "image/png": "[encoded data removed]",
      "text/plain": [
       "<Figure size 1440x1440 with 1 Axes>"
      ]
     },
     "metadata": {
      "needs_background": "light"
     },
     "output_type": "display_data"
    }
   ],
   "source": [
    "x.boxplot(figsize=[20,20])\n",
    "plt.subplots_adjust(bottom=0.25)\n",
    "plt.show()"
   ]
  },
  {
   "cell_type": "markdown",
   "metadata": {},
   "source": [
    "# Handling class imbalance problem by oversampling the minority class"
   ]
  },
  {
   "cell_type": "code",
   "execution_count": 73,
   "metadata": {},
   "outputs": [],
   "source": [
    "from imblearn.over_sampling import SMOTE\n",
    "SM=SMOTE()\n",
    "x_over,y_over=SM.fit_resample(x,y)"
   ]
  },
  {
   "cell_type": "code",
   "execution_count": 74,
   "metadata": {},
   "outputs": [
    {
     "data": {
      "text/plain": [
       "1    183431\n",
       "0    183431\n",
       "Name: label, dtype: int64"
      ]
     },
     "execution_count": 74,
     "metadata": {},
     "output_type": "execute_result"
    }
   ],
   "source": [
    "y_over.value_counts()"
   ]
  },
  {
   "cell_type": "markdown",
   "metadata": {},
   "source": [
    "# Finding best random_state"
   ]
  },
  {
   "cell_type": "code",
   "execution_count": 75,
   "metadata": {},
   "outputs": [],
   "source": [
    "from sklearn.model_selection import train_test_split\n",
    "\n",
    "from sklearn.metrics import accuracy_score\n",
    "from sklearn.naive_bayes import MultinomialNB\n",
    "\n",
    "from sklearn.neighbors import KNeighborsClassifier\n",
    "from sklearn.metrics import accuracy_score,confusion_matrix,classification_report"
   ]
  },
  {
   "cell_type": "code",
   "execution_count": 76,
   "metadata": {},
   "outputs": [],
   "source": [
    "x_train,x_test,y_train,y_test=train_test_split(x,y,test_size=.22,random_state=43)"
   ]
  },
  {
   "cell_type": "code",
   "execution_count": 77,
   "metadata": {},
   "outputs": [
    {
     "name": "stdout",
     "output_type": "stream",
     "text": [
      "0.8630261759666891\n",
      "[[ 1011  4730]\n",
      " [ 1586 38784]]\n",
      "              precision    recall  f1-score   support\n",
      "\n",
      "           0       0.39      0.18      0.24      5741\n",
      "           1       0.89      0.96      0.92     40370\n",
      "\n",
      "    accuracy                           0.86     46111\n",
      "   macro avg       0.64      0.57      0.58     46111\n",
      "weighted avg       0.83      0.86      0.84     46111\n",
      "\n"
     ]
    }
   ],
   "source": [
    "knn=KNeighborsClassifier(n_neighbors=5)\n",
    "knn.fit(x_train,y_train)\n",
    "knn.score(x_train,y_train)\n",
    "predknn=knn.predict(x_test)\n",
    "print(accuracy_score(y_test,predknn))\n",
    "print(confusion_matrix(y_test,predknn))\n",
    "print(classification_report(y_test,predknn))"
   ]
  },
  {
   "cell_type": "code",
   "execution_count": 78,
   "metadata": {},
   "outputs": [
    {
     "data": {
      "text/plain": [
       "LinearSVC(random_state=0, tol=1e-05)"
      ]
     },
     "execution_count": 78,
     "metadata": {},
     "output_type": "execute_result"
    }
   ],
   "source": [
    "from sklearn.svm import LinearSVC\n",
    "\n",
    "clf = LinearSVC(random_state=0, tol=1e-5)\n",
    "\n",
    "clf.fit(x_train, y_train.ravel()) "
   ]
  },
  {
   "cell_type": "code",
   "execution_count": 79,
   "metadata": {},
   "outputs": [
    {
     "name": "stdout",
     "output_type": "stream",
     "text": [
      "0.8777515126542473\n",
      "[[ 3151  2590]\n",
      " [ 3047 37323]]\n",
      "              precision    recall  f1-score   support\n",
      "\n",
      "           0       0.51      0.55      0.53      5741\n",
      "           1       0.94      0.92      0.93     40370\n",
      "\n",
      "    accuracy                           0.88     46111\n",
      "   macro avg       0.72      0.74      0.73     46111\n",
      "weighted avg       0.88      0.88      0.88     46111\n",
      "\n"
     ]
    }
   ],
   "source": [
    "from sklearn.tree import DecisionTreeClassifier\n",
    "dtc=DecisionTreeClassifier()\n",
    "dtc.fit(x_train,y_train)\n",
    "dtc.score(x_train,y_train)\n",
    "preddtc=dtc.predict(x_test)\n",
    "print(accuracy_score(y_test,preddtc))\n",
    "print(confusion_matrix(y_test,preddtc))\n",
    "print(classification_report(y_test,preddtc))"
   ]
  },
  {
   "cell_type": "code",
   "execution_count": 80,
   "metadata": {},
   "outputs": [],
   "source": [
    "from sklearn.ensemble import RandomForestClassifier\n",
    "\n",
    "from sklearn.metrics import classification_report"
   ]
  },
  {
   "cell_type": "code",
   "execution_count": 81,
   "metadata": {},
   "outputs": [
    {
     "name": "stdout",
     "output_type": "stream",
     "text": [
      "0.8777515126542473\n",
      "[[ 3151  2590]\n",
      " [ 3047 37323]]\n",
      "              precision    recall  f1-score   support\n",
      "\n",
      "           0       0.51      0.55      0.53      5741\n",
      "           1       0.94      0.92      0.93     40370\n",
      "\n",
      "    accuracy                           0.88     46111\n",
      "   macro avg       0.72      0.74      0.73     46111\n",
      "weighted avg       0.88      0.88      0.88     46111\n",
      "\n"
     ]
    }
   ],
   "source": [
    "RFC=RandomForestClassifier()\n",
    "RFC.fit(x_train,y_train)\n",
    "pred=RFC.predict(x_test)\n",
    "print(accuracy_score(y_test,preddtc))\n",
    "print(confusion_matrix(y_test,preddtc))\n",
    "print(classification_report(y_test,preddtc))"
   ]
  },
  {
   "cell_type": "code",
   "execution_count": 82,
   "metadata": {},
   "outputs": [
    {
     "name": "stdout",
     "output_type": "stream",
     "text": [
      "0.9048600117108716\n",
      "[[ 1787  3954]\n",
      " [  433 39937]]\n",
      "              precision    recall  f1-score   support\n",
      "\n",
      "           0       0.80      0.31      0.45      5741\n",
      "           1       0.91      0.99      0.95     40370\n",
      "\n",
      "    accuracy                           0.90     46111\n",
      "   macro avg       0.86      0.65      0.70     46111\n",
      "weighted avg       0.90      0.90      0.89     46111\n",
      "\n"
     ]
    }
   ],
   "source": [
    "from sklearn.ensemble import AdaBoostClassifier\n",
    "#AdaBoostClassifier(base_estimator=DecisionTreeClassifier(),n_estimators=50,learning_rate=1.0)\n",
    "ad=AdaBoostClassifier()\n",
    "ad.fit(x_train,y_train)\n",
    "ad_pred=ad.predict(x_test)\n",
    "print(accuracy_score(y_test,ad_pred))\n",
    "print(confusion_matrix(y_test,ad_pred))\n",
    "print(classification_report(y_test,ad_pred))"
   ]
  },
  {
   "cell_type": "code",
   "execution_count": 83,
   "metadata": {},
   "outputs": [],
   "source": [
    "from sklearn.model_selection import cross_val_score"
   ]
  },
  {
   "cell_type": "code",
   "execution_count": 84,
   "metadata": {},
   "outputs": [
    {
     "name": "stdout",
     "output_type": "stream",
     "text": [
      "0.7843387807908802\n"
     ]
    }
   ],
   "source": [
    "print(cross_val_score(dtc,x,y,cv=5).mean())"
   ]
  },
  {
   "cell_type": "code",
   "execution_count": 85,
   "metadata": {},
   "outputs": [
    {
     "name": "stdout",
     "output_type": "stream",
     "text": [
      "0.9184514765611281\n"
     ]
    }
   ],
   "source": [
    "print(cross_val_score(RFC,x,y,cv=5).mean())"
   ]
  },
  {
   "cell_type": "code",
   "execution_count": 86,
   "metadata": {},
   "outputs": [
    {
     "name": "stdout",
     "output_type": "stream",
     "text": [
      "0.7562397196010038\n"
     ]
    }
   ],
   "source": [
    "print(cross_val_score(ad,x,y,cv=5).mean())"
   ]
  },
  {
   "cell_type": "markdown",
   "metadata": {},
   "source": [
    "# AUC-ROC curve"
   ]
  },
  {
   "cell_type": "code",
   "execution_count": 88,
   "metadata": {},
   "outputs": [],
   "source": [
    "from sklearn.metrics import roc_curve\n",
    "from sklearn.metrics import roc_auc_score"
   ]
  },
  {
   "cell_type": "code",
   "execution_count": 89,
   "metadata": {},
   "outputs": [],
   "source": [
    "#Decision Tree Curve\n",
    "y_pred_prob=dtc.predict_proba(x_test)[:,1]"
   ]
  },
  {
   "cell_type": "code",
   "execution_count": 90,
   "metadata": {},
   "outputs": [
    {
     "data": {
      "text/plain": [
       "array([1., 0., 1., ..., 1., 1., 1.])"
      ]
     },
     "execution_count": 90,
     "metadata": {},
     "output_type": "execute_result"
    }
   ],
   "source": [
    "y_pred_prob"
   ]
  },
  {
   "cell_type": "code",
   "execution_count": 91,
   "metadata": {},
   "outputs": [],
   "source": [
    "fpr,tpr,thresholds=roc_curve(y_test,y_pred_prob)"
   ]
  },
  {
   "cell_type": "code",
   "execution_count": 92,
   "metadata": {},
   "outputs": [
    {
     "data": {
      "text/plain": [
       "array([0.        , 0.45114092, 1.        ])"
      ]
     },
     "execution_count": 92,
     "metadata": {},
     "output_type": "execute_result"
    }
   ],
   "source": [
    "fpr"
   ]
  },
  {
   "cell_type": "code",
   "execution_count": 93,
   "metadata": {},
   "outputs": [
    {
     "data": {
      "text/plain": [
       "array([0.        , 0.92452316, 1.        ])"
      ]
     },
     "execution_count": 93,
     "metadata": {},
     "output_type": "execute_result"
    }
   ],
   "source": [
    "tpr"
   ]
  },
  {
   "cell_type": "code",
   "execution_count": 94,
   "metadata": {},
   "outputs": [
    {
     "data": {
      "text/plain": [
       "array([2., 1., 0.])"
      ]
     },
     "execution_count": 94,
     "metadata": {},
     "output_type": "execute_result"
    }
   ],
   "source": [
    "thresholds"
   ]
  },
  {
   "cell_type": "code",
   "execution_count": 95,
   "metadata": {},
   "outputs": [
    {
     "data": {
      "image/png": "[encoded data removed]",
      "text/plain": [
       "<Figure size 432x288 with 1 Axes>"
      ]
     },
     "metadata": {
      "needs_background": "light"
     },
     "output_type": "display_data"
    },
    {
     "data": {
      "text/plain": [
       "0.7366911222731278"
      ]
     },
     "execution_count": 95,
     "metadata": {},
     "output_type": "execute_result"
    }
   ],
   "source": [
    "plt.plot([0,1],[0,1],'k--')\n",
    "plt.plot(fpr,tpr,label='Decision tree classifier')\n",
    "plt.xlabel('False positive rate')\n",
    "plt.ylabel('True positive rate')\n",
    "plt.title('Decision Tree Classifier')\n",
    "plt.show()\n",
    "auc_score=roc_auc_score(y_test,dtc.predict(x_test))\n",
    "auc_score"
   ]
  },
  {
   "cell_type": "markdown",
   "metadata": {},
   "source": [
    "# Hyper parameter tuning"
   ]
  },
  {
   "cell_type": "code",
   "execution_count": 96,
   "metadata": {},
   "outputs": [],
   "source": [
    "from sklearn.model_selection import GridSearchCV"
   ]
  },
  {
   "cell_type": "code",
   "execution_count": 97,
   "metadata": {},
   "outputs": [],
   "source": [
    "parameter = {'max_depth' : np.arange(2,10),\n",
    "              'criterion':['gini','entropy']}"
   ]
  },
  {
   "cell_type": "code",
   "execution_count": 98,
   "metadata": {},
   "outputs": [],
   "source": [
    "GCV=GridSearchCV(DecisionTreeClassifier(),parameter,cv=5)"
   ]
  },
  {
   "cell_type": "code",
   "execution_count": 99,
   "metadata": {},
   "outputs": [
    {
     "data": {
      "text/plain": [
       "GridSearchCV(cv=5, estimator=DecisionTreeClassifier(),\n",
       "             param_grid={'criterion': ['gini', 'entropy'],\n",
       "                         'max_depth': array([2, 3, 4, 5, 6, 7, 8, 9])})"
      ]
     },
     "execution_count": 99,
     "metadata": {},
     "output_type": "execute_result"
    }
   ],
   "source": [
    "GCV.fit(x_train,y_train)"
   ]
  },
  {
   "cell_type": "code",
   "execution_count": 100,
   "metadata": {},
   "outputs": [
    {
     "data": {
      "text/plain": [
       "{'criterion': 'gini', 'max_depth': 9}"
      ]
     },
     "execution_count": 100,
     "metadata": {},
     "output_type": "execute_result"
    }
   ],
   "source": [
    "GCV.best_params_"
   ]
  },
  {
   "cell_type": "code",
   "execution_count": null,
   "metadata": {},
   "outputs": [],
   "source": [
    "Final_mod=DecisionTreeClassifier(criterion='gini', max_depth=7)\n",
    "Final_mod.fit(x_train,y_train)\n",
    "pred=Final_mod.predict(x_test)\n",
    "acc=accuracy_score(y_test,pred)"
   ]
  },
  {
   "cell_type": "markdown",
   "metadata": {},
   "source": [
    "# saving the model"
   ]
  },
  {
   "cell_type": "code",
   "execution_count": null,
   "metadata": {},
   "outputs": [],
   "source": [
    "import joblib\n",
    "joblib.dump(Final_mod, \"FinalModel.pkl\")"
   ]
  }
 ],
 "metadata": {
  "kernelspec": {
   "display_name": "Python 3",
   "language": "python",
   "name": "python3"
  },
  "language_info": {
   "codemirror_mode": {
    "name": "ipython",
    "version": 3
   },
   "file_extension": ".py",
   "mimetype": "text/x-python",
   "name": "python",
   "nbconvert_exporter": "python",
   "pygments_lexer": "ipython3",
   "version": "3.8.5"
  }
 },
 "nbformat": 4,
 "nbformat_minor": 4
}
